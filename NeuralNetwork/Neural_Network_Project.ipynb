{
  "nbformat": 4,
  "nbformat_minor": 0,
  "metadata": {
    "colab": {
      "name": "Neural_Network_Project.ipynb",
      "provenance": []
    },
    "kernelspec": {
      "name": "python3",
      "display_name": "Python 3"
    }
  },
  "cells": [
    {
      "cell_type": "markdown",
      "metadata": {
        "id": "41ukZLLgz04k",
        "colab_type": "text"
      },
      "source": [
        "# **The Problem Description:** \n",
        "\n",
        "---\n",
        "\n",
        "\n",
        "\n",
        "Recognizing multi-digit numbers in photographs captured at street level is an important component of modern-day map making. A classic example of a corpus of such street level photographs is Google’s Street View imagery comprised of hundreds of millions of geo-located 360 degree panoramic images. The ability to automatically transcribe an address number from a geo-located patch of pixels and associate the transcribed number with a known street address helps pinpoint, with a high degree of accuracy, the location of the building it represents. \n",
        "\n",
        "More broadly, recognizing numbers in photographs is a problem of interest to the optical character recognition community. While OCR on constrained domains like document processing is well studied, arbitrary multi-character text recognition in photographs is still highly challenging. This difficulty arises due to the wide variability in the visual appearance of text in the wild on account of a large range of fonts, colours, styles, orientations, and character arrangements. The recognition problem is further complicated by environmental factors such as lighting, shadows, secularities, and occlusions as well as by image acquisition factors such as resolution, motion, and focus blurs. \n",
        "\n",
        "In this project we will use dataset with images centred around a single digit (many of the images do contain some distractors at the sides). Although we are taking a sample of the data which is simpler, it is more complex than MNIST because of the distractors."
      ]
    },
    {
      "cell_type": "markdown",
      "metadata": {
        "id": "XZnmxK5g0Zgw",
        "colab_type": "text"
      },
      "source": [
        "## Data Description:\n",
        "\n",
        "---\n",
        "\n",
        "\n",
        "\n",
        "The Street View House Numbers (SVHN) Dataset SVHN is a real-world image dataset for developing machine learning and object recognition algorithms with minimal requirement on data formatting but comes from a significantly harder, unsolved, real world problem (recognizing digits and numbers in natural scene images). SVHN is obtained from house numbers in Google Street View images. \n",
        "\n",
        "### Link to the dataset: \n",
        "\n",
        "https://drive.google.com/file/d/1L2-WXzguhUsCArrFUc8EEkXcj33pahoS/view?usp=sharing"
      ]
    },
    {
      "cell_type": "markdown",
      "metadata": {
        "id": "3k_AOogshKCB",
        "colab_type": "text"
      },
      "source": [
        "# **Steps and tasks**\n",
        "\n",
        "---\n",
        "\n"
      ]
    },
    {
      "cell_type": "markdown",
      "metadata": {
        "id": "TUl2B0wD1Q2G",
        "colab_type": "text"
      },
      "source": [
        "### 1. Load Dataset\n",
        "### 2. Understand the basic Image Classification pipeline and the data-driven approach (train/predict stages)\n",
        "### 3. Data fetching and understand the train/val/test splits. (15 points)"
      ]
    },
    {
      "cell_type": "code",
      "metadata": {
        "id": "NP05XT2s1TYq",
        "colab_type": "code",
        "colab": {
          "base_uri": "https://localhost:8080/",
          "height": 35
        },
        "outputId": "d71639dc-9722-43da-81e7-5180b85ad084"
      },
      "source": [
        "# Loading necessary libraries \n",
        "import h5py\n",
        "import numpy as np\n",
        "\n",
        "import matplotlib.pyplot as plt\n",
        "%matplotlib inline\n",
        "\n",
        "%tensorflow_version 2.x\n",
        "import tensorflow as tf\n",
        "tf.__version__\n"
      ],
      "execution_count": 1,
      "outputs": [
        {
          "output_type": "execute_result",
          "data": {
            "application/vnd.google.colaboratory.intrinsic": {
              "type": "string"
            },
            "text/plain": [
              "'2.2.0'"
            ]
          },
          "metadata": {
            "tags": []
          },
          "execution_count": 1
        }
      ]
    },
    {
      "cell_type": "code",
      "metadata": {
        "id": "jmTXaarv8HWE",
        "colab_type": "code",
        "colab": {}
      },
      "source": [
        "# Initialize the random number generator\n",
        "import random\n",
        "random.seed(10)\n",
        "\n",
        "# Ignore the warnings\n",
        "import warnings\n",
        "warnings.filterwarnings(\"ignore\")"
      ],
      "execution_count": 2,
      "outputs": []
    },
    {
      "cell_type": "code",
      "metadata": {
        "id": "6CnAHG9N1qUU",
        "colab_type": "code",
        "colab": {
          "base_uri": "https://localhost:8080/",
          "height": 122
        },
        "outputId": "d6715dae-de38-4adc-fcce-9a00e48243ed"
      },
      "source": [
        "#Mounting the google drive \n",
        "\n",
        "from google.colab import drive\n",
        "drive.mount('/gdrive/')"
      ],
      "execution_count": 5,
      "outputs": [
        {
          "output_type": "stream",
          "text": [
            "Go to this URL in a browser: https://accounts.google.com/o/oauth2/auth?client_id=947318989803-6bn6qk8qdgf4n4g3pfee6491hc0brc4i.apps.googleusercontent.com&redirect_uri=urn%3aietf%3awg%3aoauth%3a2.0%3aoob&response_type=code&scope=email%20https%3a%2f%2fwww.googleapis.com%2fauth%2fdocs.test%20https%3a%2f%2fwww.googleapis.com%2fauth%2fdrive%20https%3a%2f%2fwww.googleapis.com%2fauth%2fdrive.photos.readonly%20https%3a%2f%2fwww.googleapis.com%2fauth%2fpeopleapi.readonly\n",
            "\n",
            "Enter your authorization code:\n",
            "··········\n",
            "Mounted at /gdrive/\n"
          ],
          "name": "stdout"
        }
      ]
    },
    {
      "cell_type": "markdown",
      "metadata": {
        "id": "uT6S6twSHxs-",
        "colab_type": "text"
      },
      "source": [
        "### Load the dataset\n",
        "As I am using google colab, I have to mount the google drive to load the data file"
      ]
    },
    {
      "cell_type": "code",
      "metadata": {
        "id": "Q5672CwO2F2t",
        "colab_type": "code",
        "colab": {}
      },
      "source": [
        "filename = \"/gdrive/My Drive/AIML/Labs/NNData/SVHN_single_grey1.h5\"\n",
        "h5f = h5py.File(filename, 'r')"
      ],
      "execution_count": 4,
      "outputs": []
    },
    {
      "cell_type": "code",
      "metadata": {
        "id": "dezW-_IJ3QjW",
        "colab_type": "code",
        "colab": {
          "base_uri": "https://localhost:8080/",
          "height": 34
        },
        "outputId": "d06322a3-c568-42f6-b31c-b58cfe136429"
      },
      "source": [
        "# Listing the contents of H5 file\n",
        "list(h5f)"
      ],
      "execution_count": 5,
      "outputs": [
        {
          "output_type": "execute_result",
          "data": {
            "text/plain": [
              "['X_test', 'X_train', 'X_val', 'y_test', 'y_train', 'y_val']"
            ]
          },
          "metadata": {
            "tags": []
          },
          "execution_count": 5
        }
      ]
    },
    {
      "cell_type": "markdown",
      "metadata": {
        "id": "9HpPxQMYePz9",
        "colab_type": "text"
      },
      "source": [
        "Reference: Train Test validate Data\n",
        "\n",
        "https://www.youtube.com/watch?v=Zi-0rlM4RDs"
      ]
    },
    {
      "cell_type": "code",
      "metadata": {
        "id": "hmc0MHlG3RZa",
        "colab_type": "code",
        "colab": {}
      },
      "source": [
        "# Load the training test and validation set\n",
        "\n",
        "X_train = h5f['X_train'][:]\n",
        "y_train = h5f['y_train'][:]\n",
        "X_test  = h5f['X_test'][:]\n",
        "y_test  = h5f['y_test'][:]\n",
        "\n",
        "X_val   = h5f['X_val'][:]\n",
        "y_val   = h5f['y_val'][:]\n",
        "\n",
        "# Close this file\n",
        "h5f.close()"
      ],
      "execution_count": 6,
      "outputs": []
    },
    {
      "cell_type": "code",
      "metadata": {
        "id": "KDD_pS9x4CrZ",
        "colab_type": "code",
        "colab": {
          "base_uri": "https://localhost:8080/",
          "height": 119
        },
        "outputId": "44bb35fb-6935-4439-bd73-6b43ea8ea55a"
      },
      "source": [
        "#Print the shape of all the datas available.\n",
        "print ('X_train Shape: ', X_train.shape)\n",
        "print ('y_train Shape: ', y_train.shape)\n",
        "print ('X_val Shape: ', X_val.shape)\n",
        "print ('y_val Shape: ', y_val.shape)\n",
        "print ('X_test Shape: ', X_test.shape)\n",
        "print ('y_test Shape: ', y_test.shape)"
      ],
      "execution_count": 7,
      "outputs": [
        {
          "output_type": "stream",
          "text": [
            "X_train Shape:  (42000, 32, 32)\n",
            "y_train Shape:  (42000,)\n",
            "X_val Shape:  (60000, 32, 32)\n",
            "y_val Shape:  (60000,)\n",
            "X_test Shape:  (18000, 32, 32)\n",
            "y_test Shape:  (18000,)\n"
          ],
          "name": "stdout"
        }
      ]
    },
    {
      "cell_type": "markdown",
      "metadata": {
        "id": "dqfiFT_15LLB",
        "colab_type": "text"
      },
      "source": [
        "## Visualizing the dataset\n"
      ]
    },
    {
      "cell_type": "markdown",
      "metadata": {
        "id": "-1-5YsAXhrtL",
        "colab_type": "text"
      },
      "source": [
        "### Training Set"
      ]
    },
    {
      "cell_type": "code",
      "metadata": {
        "id": "XPDNOov261oC",
        "colab_type": "code",
        "colab": {
          "base_uri": "https://localhost:8080/",
          "height": 542
        },
        "outputId": "4620bdb0-8568-4b06-9852-2aa04414ad17"
      },
      "source": [
        "#Print First 5 image from Training Set\n",
        "for i in range(0,5):\n",
        "  plt.figure(figsize=(1, 1))\n",
        "  plt.imshow(X_train[i])\n",
        "  plt.show(True)\n",
        "  print(\"Label for the Image\",y_train[i])"
      ],
      "execution_count": 8,
      "outputs": [
        {
          "output_type": "display_data",
          "data": {
            "image/png": "[encoded data removed]",
            "text/plain": [
              "<Figure size 72x72 with 1 Axes>"
            ]
          },
          "metadata": {
            "tags": [],
            "needs_background": "light"
          }
        },
        {
          "output_type": "stream",
          "text": [
            "Label for the Image 2\n"
          ],
          "name": "stdout"
        },
        {
          "output_type": "display_data",
          "data": {
            "image/png": "[encoded data removed]",
            "text/plain": [
              "<Figure size 72x72 with 1 Axes>"
            ]
          },
          "metadata": {
            "tags": [],
            "needs_background": "light"
          }
        },
        {
          "output_type": "stream",
          "text": [
            "Label for the Image 6\n"
          ],
          "name": "stdout"
        },
        {
          "output_type": "display_data",
          "data": {
            "image/png": "[encoded data removed]",
            "text/plain": [
              "<Figure size 72x72 with 1 Axes>"
            ]
          },
          "metadata": {
            "tags": [],
            "needs_background": "light"
          }
        },
        {
          "output_type": "stream",
          "text": [
            "Label for the Image 7\n"
          ],
          "name": "stdout"
        },
        {
          "output_type": "display_data",
          "data": {
            "image/png": "[encoded data removed]",
            "text/plain": [
              "<Figure size 72x72 with 1 Axes>"
            ]
          },
          "metadata": {
            "tags": [],
            "needs_background": "light"
          }
        },
        {
          "output_type": "stream",
          "text": [
            "Label for the Image 4\n"
          ],
          "name": "stdout"
        },
        {
          "output_type": "display_data",
          "data": {
            "image/png": "[encoded data removed]",
            "text/plain": [
              "<Figure size 72x72 with 1 Axes>"
            ]
          },
          "metadata": {
            "tags": [],
            "needs_background": "light"
          }
        },
        {
          "output_type": "stream",
          "text": [
            "Label for the Image 4\n"
          ],
          "name": "stdout"
        }
      ]
    },
    {
      "cell_type": "markdown",
      "metadata": {
        "id": "wwP5muAmh2NB",
        "colab_type": "text"
      },
      "source": [
        "### Validation Set"
      ]
    },
    {
      "cell_type": "code",
      "metadata": {
        "id": "V978BfMLh36p",
        "colab_type": "code",
        "colab": {
          "base_uri": "https://localhost:8080/",
          "height": 542
        },
        "outputId": "67a74406-9179-40b4-b049-605d8b5a5088"
      },
      "source": [
        "#Print First 5 image from Validation Set\n",
        "for i in range(0,5):\n",
        "  plt.figure(figsize=(1, 1))\n",
        "  plt.imshow(X_val[i])\n",
        "  plt.show(True)\n",
        "  print(\"Label for the Image\",y_val[i])"
      ],
      "execution_count": 9,
      "outputs": [
        {
          "output_type": "display_data",
          "data": {
            "image/png": "[encoded data removed]",
            "text/plain": [
              "<Figure size 72x72 with 1 Axes>"
            ]
          },
          "metadata": {
            "tags": [],
            "needs_background": "light"
          }
        },
        {
          "output_type": "stream",
          "text": [
            "Label for the Image 0\n"
          ],
          "name": "stdout"
        },
        {
          "output_type": "display_data",
          "data": {
            "image/png": "[encoded data removed]",
            "text/plain": [
              "<Figure size 72x72 with 1 Axes>"
            ]
          },
          "metadata": {
            "tags": [],
            "needs_background": "light"
          }
        },
        {
          "output_type": "stream",
          "text": [
            "Label for the Image 0\n"
          ],
          "name": "stdout"
        },
        {
          "output_type": "display_data",
          "data": {
            "image/png": "[encoded data removed]",
            "text/plain": [
              "<Figure size 72x72 with 1 Axes>"
            ]
          },
          "metadata": {
            "tags": [],
            "needs_background": "light"
          }
        },
        {
          "output_type": "stream",
          "text": [
            "Label for the Image 0\n"
          ],
          "name": "stdout"
        },
        {
          "output_type": "display_data",
          "data": {
            "image/png": "[encoded data removed]",
            "text/plain": [
              "<Figure size 72x72 with 1 Axes>"
            ]
          },
          "metadata": {
            "tags": [],
            "needs_background": "light"
          }
        },
        {
          "output_type": "stream",
          "text": [
            "Label for the Image 0\n"
          ],
          "name": "stdout"
        },
        {
          "output_type": "display_data",
          "data": {
            "image/png": "[encoded data removed]",
            "text/plain": [
              "<Figure size 72x72 with 1 Axes>"
            ]
          },
          "metadata": {
            "tags": [],
            "needs_background": "light"
          }
        },
        {
          "output_type": "stream",
          "text": [
            "Label for the Image 0\n"
          ],
          "name": "stdout"
        }
      ]
    },
    {
      "cell_type": "markdown",
      "metadata": {
        "id": "k58LCGixO9Sg",
        "colab_type": "text"
      },
      "source": [
        "## Observation\n",
        "\n",
        "---\n",
        "\n",
        "\n",
        "\n",
        "**Validation Set** images are of same label from 0 to 5, variation is very less, So we need to select the data randomly otherwise it will have data sparseness."
      ]
    },
    {
      "cell_type": "code",
      "metadata": {
        "id": "2n-rQrRgPn6o",
        "colab_type": "code",
        "colab": {
          "base_uri": "https://localhost:8080/",
          "height": 576
        },
        "outputId": "4c1549a6-a759-42bc-998d-c926296ab0f3"
      },
      "source": [
        "import random\n",
        "\n",
        "randomList = []\n",
        "# Set a length of the list to 10\n",
        "for i in range(0, 5):\n",
        "    # any random numbers from 0 to 1000\n",
        "    randomList.append(random.randint(0, 60000))\n",
        "\n",
        "print(\"Printing list of 5 random numbers\")\n",
        "print(randomList)\n",
        "\n",
        "#Print First 5 image from Validation Set\n",
        "for i in randomList:\n",
        "  plt.figure(figsize=(1, 1))\n",
        "  plt.imshow(X_val[i])\n",
        "  plt.show(True)\n",
        "  print(\"Label for the Image\",y_val[i])"
      ],
      "execution_count": 10,
      "outputs": [
        {
          "output_type": "stream",
          "text": [
            "Printing list of 5 random numbers\n",
            "[37447, 2135, 28107, 31625, 37885]\n"
          ],
          "name": "stdout"
        },
        {
          "output_type": "display_data",
          "data": {
            "image/png": "[encoded data removed]",
            "text/plain": [
              "<Figure size 72x72 with 1 Axes>"
            ]
          },
          "metadata": {
            "tags": [],
            "needs_background": "light"
          }
        },
        {
          "output_type": "stream",
          "text": [
            "Label for the Image 9\n"
          ],
          "name": "stdout"
        },
        {
          "output_type": "display_data",
          "data": {
            "image/png": "[encoded data removed]",
            "text/plain": [
              "<Figure size 72x72 with 1 Axes>"
            ]
          },
          "metadata": {
            "tags": [],
            "needs_background": "light"
          }
        },
        {
          "output_type": "stream",
          "text": [
            "Label for the Image 0\n"
          ],
          "name": "stdout"
        },
        {
          "output_type": "display_data",
          "data": {
            "image/png": "[encoded data removed]",
            "text/plain": [
              "<Figure size 72x72 with 1 Axes>"
            ]
          },
          "metadata": {
            "tags": [],
            "needs_background": "light"
          }
        },
        {
          "output_type": "stream",
          "text": [
            "Label for the Image 7\n"
          ],
          "name": "stdout"
        },
        {
          "output_type": "display_data",
          "data": {
            "image/png": "[encoded data removed]",
            "text/plain": [
              "<Figure size 72x72 with 1 Axes>"
            ]
          },
          "metadata": {
            "tags": [],
            "needs_background": "light"
          }
        },
        {
          "output_type": "stream",
          "text": [
            "Label for the Image 7\n"
          ],
          "name": "stdout"
        },
        {
          "output_type": "display_data",
          "data": {
            "image/png": "[encoded data removed]",
            "text/plain": [
              "<Figure size 72x72 with 1 Axes>"
            ]
          },
          "metadata": {
            "tags": [],
            "needs_background": "light"
          }
        },
        {
          "output_type": "stream",
          "text": [
            "Label for the Image 9\n"
          ],
          "name": "stdout"
        }
      ]
    },
    {
      "cell_type": "markdown",
      "metadata": {
        "id": "sRS9z4AZiKB2",
        "colab_type": "text"
      },
      "source": [
        "### Test Set"
      ]
    },
    {
      "cell_type": "code",
      "metadata": {
        "id": "WTNlmO8kiUfk",
        "colab_type": "code",
        "colab": {
          "base_uri": "https://localhost:8080/",
          "height": 542
        },
        "outputId": "2c09e72e-cbf5-4951-dc12-a980a07fbb5c"
      },
      "source": [
        "#Print First 5 image from test Set\n",
        "for i in range(0,5):\n",
        "  plt.figure(figsize=(1, 1))\n",
        "  plt.imshow(X_test[i])\n",
        "  plt.show(True)\n",
        "  print(\"Label for the Image\",y_test[i])"
      ],
      "execution_count": 11,
      "outputs": [
        {
          "output_type": "display_data",
          "data": {
            "image/png": "[encoded data removed]",
            "text/plain": [
              "<Figure size 72x72 with 1 Axes>"
            ]
          },
          "metadata": {
            "tags": [],
            "needs_background": "light"
          }
        },
        {
          "output_type": "stream",
          "text": [
            "Label for the Image 1\n"
          ],
          "name": "stdout"
        },
        {
          "output_type": "display_data",
          "data": {
            "image/png": "[encoded data removed]",
            "text/plain": [
              "<Figure size 72x72 with 1 Axes>"
            ]
          },
          "metadata": {
            "tags": [],
            "needs_background": "light"
          }
        },
        {
          "output_type": "stream",
          "text": [
            "Label for the Image 7\n"
          ],
          "name": "stdout"
        },
        {
          "output_type": "display_data",
          "data": {
            "image/png": "[encoded data removed]",
            "text/plain": [
              "<Figure size 72x72 with 1 Axes>"
            ]
          },
          "metadata": {
            "tags": [],
            "needs_background": "light"
          }
        },
        {
          "output_type": "stream",
          "text": [
            "Label for the Image 2\n"
          ],
          "name": "stdout"
        },
        {
          "output_type": "display_data",
          "data": {
            "image/png": "[encoded data removed]",
            "text/plain": [
              "<Figure size 72x72 with 1 Axes>"
            ]
          },
          "metadata": {
            "tags": [],
            "needs_background": "light"
          }
        },
        {
          "output_type": "stream",
          "text": [
            "Label for the Image 9\n"
          ],
          "name": "stdout"
        },
        {
          "output_type": "display_data",
          "data": {
            "image/png": "[encoded data removed]",
            "text/plain": [
              "<Figure size 72x72 with 1 Axes>"
            ]
          },
          "metadata": {
            "tags": [],
            "needs_background": "light"
          }
        },
        {
          "output_type": "stream",
          "text": [
            "Label for the Image 0\n"
          ],
          "name": "stdout"
        }
      ]
    },
    {
      "cell_type": "markdown",
      "metadata": {
        "id": "RvZz_5auKzLb",
        "colab_type": "text"
      },
      "source": [
        "## Observation:\n",
        "\n",
        "---\n",
        "1. There are 3 Set of Data, Train, Validate and Test Set\n",
        "2. **Training Set** - 42000 Images of 32*32 Pixel are with same no. of Labeld data\n",
        "3. **Validation Set** - 60000 Images of 32*32 Pixel are with same no. of Labeld data\n",
        "4. **Test Set** - 18000 Images of 32*32 Pixel are with same no. of Labeld data\n",
        "5. **Validation Set** Images are in the similar label from 0 to 5 for different ranges, variation is very less, So picked up random sample to verify the vaidation Dataset.\n",
        "\n",
        "\n",
        "\n",
        "\n",
        "\n",
        "\n",
        "\n"
      ]
    },
    {
      "cell_type": "markdown",
      "metadata": {
        "id": "zBUf7clJLFOr",
        "colab_type": "text"
      },
      "source": [
        "### For the basic Image Classification pipeline and the data-driven approach (train/predict stages), Let's use k-Nearest Neighbor (kNN) classifier"
      ]
    },
    {
      "cell_type": "markdown",
      "metadata": {
        "id": "aPcykQbdeNOm",
        "colab_type": "text"
      },
      "source": [
        "First lets convert the 32*32 image to one dimesion of 1024"
      ]
    },
    {
      "cell_type": "code",
      "metadata": {
        "id": "tJcdAWDb-glf",
        "colab_type": "code",
        "colab": {
          "base_uri": "https://localhost:8080/",
          "height": 68
        },
        "outputId": "991638de-7683-41e6-d8f1-e2df8e0ea86e"
      },
      "source": [
        "X_train = X_train.reshape(X_train.shape[0], X_train.shape[1] * X_train.shape[2])\n",
        "print(X_train.shape)\n",
        "X_test = X_test.reshape(X_test.shape[0], X_test.shape[1] * X_test.shape[2])\n",
        "print(X_test.shape)\n",
        "X_val = X_val.reshape(X_val.shape[0], X_val.shape[1] * X_val.shape[2])\n",
        "print(X_val.shape)\n"
      ],
      "execution_count": 12,
      "outputs": [
        {
          "output_type": "stream",
          "text": [
            "(42000, 1024)\n",
            "(18000, 1024)\n",
            "(60000, 1024)\n"
          ],
          "name": "stdout"
        }
      ]
    },
    {
      "cell_type": "markdown",
      "metadata": {
        "id": "MpUdzDlxeXSC",
        "colab_type": "text"
      },
      "source": [
        "Print the shape of the Images after conversion to One Dimesion."
      ]
    },
    {
      "cell_type": "code",
      "metadata": {
        "id": "XAaqF7mXizmK",
        "colab_type": "code",
        "colab": {
          "base_uri": "https://localhost:8080/",
          "height": 119
        },
        "outputId": "c662acb4-bfe4-41c8-b7e8-d28eb1467c1a"
      },
      "source": [
        "print(X_train.shape)\n",
        "print(y_train.shape)\n",
        "print(X_val.shape)\n",
        "print(y_val.shape)\n",
        "print(X_test.shape)\n",
        "print(y_test.shape)"
      ],
      "execution_count": 13,
      "outputs": [
        {
          "output_type": "stream",
          "text": [
            "(42000, 1024)\n",
            "(42000,)\n",
            "(60000, 1024)\n",
            "(60000,)\n",
            "(18000, 1024)\n",
            "(18000,)\n"
          ],
          "name": "stdout"
        }
      ]
    },
    {
      "cell_type": "markdown",
      "metadata": {
        "id": "gWuaDiJa24ID",
        "colab_type": "text"
      },
      "source": [
        "## Observation\n",
        "\n",
        "---\n",
        "\n",
        "\n",
        "\n",
        "**Visualizing the Distribution of Training, Validation and Test Set**, To Ensure there is no class imballance while performing the KNN"
      ]
    },
    {
      "cell_type": "code",
      "metadata": {
        "id": "f0GjJX441ciB",
        "colab_type": "code",
        "colab": {
          "base_uri": "https://localhost:8080/",
          "height": 298
        },
        "outputId": "530f2935-cdda-4614-feaa-1ef922eeda3e"
      },
      "source": [
        "from matplotlib import pyplot as plt \n",
        "import numpy as np  \n",
        "\n",
        "print('Unique Set of Data at Train Set: ',np.unique(y_train))\n",
        "plt.hist(y_train, bins = [0,1,2,3,4,5,6,7,8,9]) \n",
        "plt.title(\"histogram\") \n",
        "plt.show()"
      ],
      "execution_count": 14,
      "outputs": [
        {
          "output_type": "stream",
          "text": [
            "Unique Set of Data at Train Set:  [0 1 2 3 4 5 6 7 8 9]\n"
          ],
          "name": "stdout"
        },
        {
          "output_type": "display_data",
          "data": {
            "image/png": "[encoded data removed]",
            "text/plain": [
              "<Figure size 432x288 with 1 Axes>"
            ]
          },
          "metadata": {
            "tags": [],
            "needs_background": "light"
          }
        }
      ]
    },
    {
      "cell_type": "code",
      "metadata": {
        "id": "TGYFYsmkybzT",
        "colab_type": "code",
        "colab": {
          "base_uri": "https://localhost:8080/",
          "height": 298
        },
        "outputId": "362c829f-2af4-4d02-9bbc-6e9ab0aa2042"
      },
      "source": [
        "from matplotlib import pyplot as plt \n",
        "import numpy as np  \n",
        "print('Unique Set of Data at Test Set: ',np.unique(y_val))\n",
        "plt.hist(y_val, bins = [0,1,2,3,4,5,6,7,8,9],) \n",
        "plt.title(\"histogram\") \n",
        "plt.show()"
      ],
      "execution_count": 15,
      "outputs": [
        {
          "output_type": "stream",
          "text": [
            "Unique Set of Data at Test Set:  [0 1 2 3 4 5 6 7 8 9]\n"
          ],
          "name": "stdout"
        },
        {
          "output_type": "display_data",
          "data": {
            "image/png": "[encoded data removed]",
            "text/plain": [
              "<Figure size 432x288 with 1 Axes>"
            ]
          },
          "metadata": {
            "tags": [],
            "needs_background": "light"
          }
        }
      ]
    },
    {
      "cell_type": "code",
      "metadata": {
        "id": "0W3xcLj213H4",
        "colab_type": "code",
        "colab": {
          "base_uri": "https://localhost:8080/",
          "height": 298
        },
        "outputId": "43cd6c2a-fd0f-4233-acd7-0f115a4edc2b"
      },
      "source": [
        "from matplotlib import pyplot as plt \n",
        "import numpy as np  \n",
        "print('Unique Set of Data at Test Set: ',np.unique(y_test))\n",
        "plt.hist(y_test, bins = [0,1,2,3,4,5,6,7,8,9],) \n",
        "plt.title(\"histogram\") \n",
        "plt.show()"
      ],
      "execution_count": 16,
      "outputs": [
        {
          "output_type": "stream",
          "text": [
            "Unique Set of Data at Test Set:  [0 1 2 3 4 5 6 7 8 9]\n"
          ],
          "name": "stdout"
        },
        {
          "output_type": "display_data",
          "data": {
            "image/png": "[encoded data removed]",
            "text/plain": [
              "<Figure size 432x288 with 1 Axes>"
            ]
          },
          "metadata": {
            "tags": [],
            "needs_background": "light"
          }
        }
      ]
    },
    {
      "cell_type": "markdown",
      "metadata": {
        "id": "7MKonBdEeweP",
        "colab_type": "text"
      },
      "source": [
        "### Observation\n",
        "Almost similar distribution in Train, Test and Validation Set"
      ]
    },
    {
      "cell_type": "markdown",
      "metadata": {
        "id": "JsBLriv5e7kD",
        "colab_type": "text"
      },
      "source": [
        "### Prepare the KNN Model"
      ]
    },
    {
      "cell_type": "code",
      "metadata": {
        "id": "poCcrf-2NijK",
        "colab_type": "code",
        "colab": {}
      },
      "source": [
        "from sklearn.neighbors import KNeighborsClassifier\n",
        "NNH = KNeighborsClassifier(n_neighbors= 3,algorithm='brute')"
      ],
      "execution_count": 17,
      "outputs": []
    },
    {
      "cell_type": "code",
      "metadata": {
        "id": "8dFjxHhDQUZN",
        "colab_type": "code",
        "colab": {
          "base_uri": "https://localhost:8080/",
          "height": 68
        },
        "outputId": "588893a3-f28e-466b-aa08-a3f8f5cfc500"
      },
      "source": [
        "NNH.fit(X_train, y_train)"
      ],
      "execution_count": 18,
      "outputs": [
        {
          "output_type": "execute_result",
          "data": {
            "text/plain": [
              "KNeighborsClassifier(algorithm='brute', leaf_size=30, metric='minkowski',\n",
              "                     metric_params=None, n_jobs=None, n_neighbors=3, p=2,\n",
              "                     weights='uniform')"
            ]
          },
          "metadata": {
            "tags": []
          },
          "execution_count": 18
        }
      ]
    },
    {
      "cell_type": "code",
      "metadata": {
        "id": "vEpIIskDzcyR",
        "colab_type": "code",
        "colab": {
          "base_uri": "https://localhost:8080/",
          "height": 34
        },
        "outputId": "7717a4cb-4528-4fad-eba4-535070bef5ca"
      },
      "source": [
        "# Find the accuracy score for Training data\n",
        "score = NNH.score(X_train, y_train)\n",
        "print(score)"
      ],
      "execution_count": 19,
      "outputs": [
        {
          "output_type": "stream",
          "text": [
            "0.6996904761904762\n"
          ],
          "name": "stdout"
        }
      ]
    },
    {
      "cell_type": "code",
      "metadata": {
        "id": "bUe7FodhRI5v",
        "colab_type": "code",
        "colab": {
          "base_uri": "https://localhost:8080/",
          "height": 34
        },
        "outputId": "ebb60b4a-4c6e-48f7-8660-de32e21c13c7"
      },
      "source": [
        "# Find the accuracy score for val data\n",
        "score = NNH.score(X_val, y_val)\n",
        "print(score)"
      ],
      "execution_count": 20,
      "outputs": [
        {
          "output_type": "stream",
          "text": [
            "0.6283166666666666\n"
          ],
          "name": "stdout"
        }
      ]
    },
    {
      "cell_type": "code",
      "metadata": {
        "id": "FvJqG2mYymo_",
        "colab_type": "code",
        "colab": {}
      },
      "source": [
        "predicted_KNN = NNH.predict(X_val)"
      ],
      "execution_count": 21,
      "outputs": []
    },
    {
      "cell_type": "code",
      "metadata": {
        "id": "mF6y0xCBydgx",
        "colab_type": "code",
        "colab": {
          "base_uri": "https://localhost:8080/",
          "height": 34
        },
        "outputId": "b5cfed57-b841-489d-c89c-3816e4f4dcf7"
      },
      "source": [
        "from sklearn import metrics\n",
        "\n",
        "from sklearn.metrics import accuracy_score, confusion_matrix, recall_score, precision_score, auc, roc_curve\n",
        "\n",
        "metrics.accuracy_score(y_val,predicted_KNN)"
      ],
      "execution_count": 22,
      "outputs": [
        {
          "output_type": "execute_result",
          "data": {
            "text/plain": [
              "0.6283166666666666"
            ]
          },
          "metadata": {
            "tags": []
          },
          "execution_count": 22
        }
      ]
    },
    {
      "cell_type": "markdown",
      "metadata": {
        "id": "UFm888KG1Egm",
        "colab_type": "text"
      },
      "source": [
        "### Print the classification metric report for validation set of KNN Model"
      ]
    },
    {
      "cell_type": "code",
      "metadata": {
        "id": "qykJvcvs1Cqh",
        "colab_type": "code",
        "colab": {
          "base_uri": "https://localhost:8080/",
          "height": 306
        },
        "outputId": "07fa1d7d-923a-43cf-de6a-526d57d4883a"
      },
      "source": [
        "from sklearn.metrics import classification_report\n",
        "\n",
        "target_names = ['0', '1', '2','3','4','5','6','7','8','9']\n",
        "\n",
        "print(classification_report(y_val, predicted_KNN,target_names=target_names))"
      ],
      "execution_count": 23,
      "outputs": [
        {
          "output_type": "stream",
          "text": [
            "              precision    recall  f1-score   support\n",
            "\n",
            "           0       0.47      0.85      0.61      6000\n",
            "           1       0.51      0.85      0.64      6000\n",
            "           2       0.64      0.72      0.67      6000\n",
            "           3       0.57      0.60      0.58      6000\n",
            "           4       0.73      0.69      0.71      6000\n",
            "           5       0.67      0.51      0.58      6000\n",
            "           6       0.69      0.48      0.57      6000\n",
            "           7       0.88      0.67      0.76      6000\n",
            "           8       0.72      0.43      0.54      6000\n",
            "           9       0.80      0.48      0.60      6000\n",
            "\n",
            "    accuracy                           0.63     60000\n",
            "   macro avg       0.67      0.63      0.63     60000\n",
            "weighted avg       0.67      0.63      0.63     60000\n",
            "\n"
          ],
          "name": "stdout"
        }
      ]
    },
    {
      "cell_type": "code",
      "metadata": {
        "id": "74AmW6011nKU",
        "colab_type": "code",
        "colab": {
          "base_uri": "https://localhost:8080/",
          "height": 442
        },
        "outputId": "e1452241-eda1-4cc5-c0d8-5d5c84d22993"
      },
      "source": [
        "#Finding the optimal K\n",
        "from sklearn.model_selection import cross_val_score\n",
        "\n",
        "# creating odd list of K for KNN\n",
        "myList = list(range(1,50))\n",
        "\n",
        "# subsetting just the odd ones\n",
        "neighbors = filter(lambda x: x % 2 != 0, myList)\n",
        "\n",
        "# empty list that will hold cv scores\n",
        "cv_scores = []\n",
        "\n",
        "# perform 3-fold cross validation\n",
        "for k in neighbors:\n",
        "    knn = KNeighborsClassifier(n_neighbors=k,algorithm='brute')\n",
        "    scores = cross_val_score(knn, X_val, y_val, cv=3, scoring='accuracy')\n",
        "    cv_scores.append(scores.mean())\n",
        "    print(\"for k = \",k,\", Accuracy = \",cv_scores[-1])"
      ],
      "execution_count": 24,
      "outputs": [
        {
          "output_type": "stream",
          "text": [
            "for k =  1 , Accuracy =  0.44093333333333334\n",
            "for k =  3 , Accuracy =  0.44461666666666666\n",
            "for k =  5 , Accuracy =  0.4740166666666667\n",
            "for k =  7 , Accuracy =  0.48464999999999997\n",
            "for k =  9 , Accuracy =  0.49219999999999997\n",
            "for k =  11 , Accuracy =  0.49751666666666666\n",
            "for k =  13 , Accuracy =  0.5008833333333333\n",
            "for k =  15 , Accuracy =  0.5055166666666667\n",
            "for k =  17 , Accuracy =  0.5089833333333333\n",
            "for k =  19 , Accuracy =  0.5087833333333334\n",
            "for k =  21 , Accuracy =  0.5102166666666667\n",
            "for k =  23 , Accuracy =  0.511\n",
            "for k =  25 , Accuracy =  0.51105\n",
            "for k =  27 , Accuracy =  0.5110833333333332\n",
            "for k =  29 , Accuracy =  0.5118\n",
            "for k =  31 , Accuracy =  0.51295\n",
            "for k =  33 , Accuracy =  0.5132\n",
            "for k =  35 , Accuracy =  0.5141333333333333\n",
            "for k =  37 , Accuracy =  0.5153500000000001\n",
            "for k =  39 , Accuracy =  0.5146833333333333\n",
            "for k =  41 , Accuracy =  0.5146166666666666\n",
            "for k =  43 , Accuracy =  0.5143833333333333\n",
            "for k =  45 , Accuracy =  0.5130333333333333\n",
            "for k =  47 , Accuracy =  0.5138333333333334\n",
            "for k =  49 , Accuracy =  0.5120833333333333\n"
          ],
          "name": "stdout"
        }
      ]
    },
    {
      "cell_type": "code",
      "metadata": {
        "id": "1g_QcBmQ2Q-i",
        "colab_type": "code",
        "colab": {
          "base_uri": "https://localhost:8080/",
          "height": 296
        },
        "outputId": "3ca8c3d2-f042-49e5-9075-5f235e66da2f"
      },
      "source": [
        "from matplotlib import pyplot as plt\n",
        "# changing to misclassification error\n",
        "MSE = [1 - x for x in cv_scores]\n",
        "\n",
        "lstneighbors = list(filter(lambda x: x % 2 != 0, myList))\n",
        "\n",
        "# determining best k\n",
        "optimal_k = lstneighbors[MSE.index(min(MSE))]\n",
        "print (\"The optimal number of neighbors is %d\" % optimal_k)\n",
        "\n",
        "# plot misclassification error vs k\n",
        "plt.plot(lstneighbors, MSE)\n",
        "plt.xlabel('Number of Neighbors K')\n",
        "plt.ylabel('Misclassification Error')\n",
        "plt.show()"
      ],
      "execution_count": 25,
      "outputs": [
        {
          "output_type": "stream",
          "text": [
            "The optimal number of neighbors is 37\n"
          ],
          "name": "stdout"
        },
        {
          "output_type": "display_data",
          "data": {
            "image/png": "[encoded data removed]",
            "text/plain": [
              "<Figure size 432x288 with 1 Axes>"
            ]
          },
          "metadata": {
            "tags": [],
            "needs_background": "light"
          }
        }
      ]
    },
    {
      "cell_type": "code",
      "metadata": {
        "id": "OZOFFesg27oa",
        "colab_type": "code",
        "colab": {
          "base_uri": "https://localhost:8080/",
          "height": 68
        },
        "outputId": "b43cca23-25bf-481a-ebd4-d4822f87a76c"
      },
      "source": [
        "#Lets build the Knn model with optiomal K \n",
        "\n",
        "neigh = KNeighborsClassifier(n_neighbors=optimal_k,algorithm='brute')\n",
        "neigh.fit(X_train, y_train) "
      ],
      "execution_count": 26,
      "outputs": [
        {
          "output_type": "execute_result",
          "data": {
            "text/plain": [
              "KNeighborsClassifier(algorithm='brute', leaf_size=30, metric='minkowski',\n",
              "                     metric_params=None, n_jobs=None, n_neighbors=37, p=2,\n",
              "                     weights='uniform')"
            ]
          },
          "metadata": {
            "tags": []
          },
          "execution_count": 26
        }
      ]
    },
    {
      "cell_type": "code",
      "metadata": {
        "id": "oEBDAiix3O96",
        "colab_type": "code",
        "colab": {
          "base_uri": "https://localhost:8080/",
          "height": 34
        },
        "outputId": "54b8e044-2fa6-42a8-9b9c-452b71cbcdf1"
      },
      "source": [
        "# Find the accuracy score for Training data\n",
        "score = NNH.score(X_train, y_train)\n",
        "print(score)"
      ],
      "execution_count": 27,
      "outputs": [
        {
          "output_type": "stream",
          "text": [
            "0.6996904761904762\n"
          ],
          "name": "stdout"
        }
      ]
    },
    {
      "cell_type": "code",
      "metadata": {
        "id": "-pUg3dzH3UPN",
        "colab_type": "code",
        "colab": {
          "base_uri": "https://localhost:8080/",
          "height": 34
        },
        "outputId": "63fd9338-0108-4fb6-d807-698dfc02ab8c"
      },
      "source": [
        "# Find the accuracy score for val data\n",
        "score = NNH.score(X_val, y_val)\n",
        "print(score)"
      ],
      "execution_count": 28,
      "outputs": [
        {
          "output_type": "stream",
          "text": [
            "0.6283166666666666\n"
          ],
          "name": "stdout"
        }
      ]
    },
    {
      "cell_type": "code",
      "metadata": {
        "id": "ewIVFE90Bt82",
        "colab_type": "code",
        "colab": {
          "base_uri": "https://localhost:8080/",
          "height": 34
        },
        "outputId": "a51e529f-3124-40a7-d504-7eb970c2d222"
      },
      "source": [
        "#Get the accuracy score for test data\n",
        "NNH.score(X_test, y_test)"
      ],
      "execution_count": 29,
      "outputs": [
        {
          "output_type": "execute_result",
          "data": {
            "text/plain": [
              "0.4617777777777778"
            ]
          },
          "metadata": {
            "tags": []
          },
          "execution_count": 29
        }
      ]
    },
    {
      "cell_type": "code",
      "metadata": {
        "id": "n0Xzlo-l3lYs",
        "colab_type": "code",
        "colab": {}
      },
      "source": [
        "# Predicting only for first 300 data rows to reduce execution time\n",
        "predicted_KNN = NNH.predict(X_test)"
      ],
      "execution_count": 30,
      "outputs": []
    },
    {
      "cell_type": "code",
      "metadata": {
        "id": "0iwV_s2l3sB-",
        "colab_type": "code",
        "colab": {
          "base_uri": "https://localhost:8080/",
          "height": 34
        },
        "outputId": "8eb9edf3-5308-46c3-d6b1-5298b8f946e7"
      },
      "source": [
        "from sklearn import metrics\n",
        "\n",
        "from sklearn.metrics import accuracy_score, confusion_matrix, recall_score, precision_score, auc, roc_curve\n",
        "\n",
        "metrics.accuracy_score(y_test,predicted_KNN)"
      ],
      "execution_count": 31,
      "outputs": [
        {
          "output_type": "execute_result",
          "data": {
            "text/plain": [
              "0.4617777777777778"
            ]
          },
          "metadata": {
            "tags": []
          },
          "execution_count": 31
        }
      ]
    },
    {
      "cell_type": "markdown",
      "metadata": {
        "id": "r8xRQIxK6rXv",
        "colab_type": "text"
      },
      "source": [
        "## Test\n",
        "\n",
        "---\n",
        "\n",
        "**Let's Verify** few Data for Test on Prediction and Actual Before going for Accuracy Score"
      ]
    },
    {
      "cell_type": "code",
      "metadata": {
        "id": "QzTo4dUiwLsj",
        "colab_type": "code",
        "colab": {
          "base_uri": "https://localhost:8080/",
          "height": 34
        },
        "outputId": "ee7c2c82-199c-44d2-8b3b-867e1ae69ab2"
      },
      "source": [
        "#Predicted Data\n",
        "predicted_KNN[0:10]"
      ],
      "execution_count": 32,
      "outputs": [
        {
          "output_type": "execute_result",
          "data": {
            "text/plain": [
              "array([4, 7, 2, 9, 0, 9, 1, 3, 1, 4], dtype=uint8)"
            ]
          },
          "metadata": {
            "tags": []
          },
          "execution_count": 32
        }
      ]
    },
    {
      "cell_type": "code",
      "metadata": {
        "id": "-0bd8OgIwQSx",
        "colab_type": "code",
        "colab": {
          "base_uri": "https://localhost:8080/",
          "height": 34
        },
        "outputId": "e9acf0a7-7145-4363-9920-0192450c1953"
      },
      "source": [
        "#Actual Data\n",
        "y_test[0:10]"
      ],
      "execution_count": 33,
      "outputs": [
        {
          "output_type": "execute_result",
          "data": {
            "text/plain": [
              "array([1, 7, 2, 9, 0, 9, 1, 8, 4, 4], dtype=uint8)"
            ]
          },
          "metadata": {
            "tags": []
          },
          "execution_count": 33
        }
      ]
    },
    {
      "cell_type": "code",
      "metadata": {
        "id": "QS2CiZ_L38_u",
        "colab_type": "code",
        "colab": {
          "base_uri": "https://localhost:8080/",
          "height": 306
        },
        "outputId": "7bb66210-957a-42ba-8baf-fd535d785cb8"
      },
      "source": [
        "from sklearn.metrics import classification_report\n",
        "\n",
        "target_names = ['0', '1', '2','3','4','5','6','7','8','9']\n",
        "\n",
        "print(classification_report(y_test, predicted_KNN,target_names=target_names))"
      ],
      "execution_count": 34,
      "outputs": [
        {
          "output_type": "stream",
          "text": [
            "              precision    recall  f1-score   support\n",
            "\n",
            "           0       0.34      0.68      0.46      1814\n",
            "           1       0.40      0.71      0.52      1828\n",
            "           2       0.49      0.54      0.51      1803\n",
            "           3       0.35      0.38      0.36      1719\n",
            "           4       0.60      0.56      0.58      1812\n",
            "           5       0.45      0.32      0.37      1768\n",
            "           6       0.48      0.31      0.38      1832\n",
            "           7       0.78      0.55      0.64      1808\n",
            "           8       0.45      0.25      0.32      1812\n",
            "           9       0.60      0.32      0.41      1804\n",
            "\n",
            "    accuracy                           0.46     18000\n",
            "   macro avg       0.49      0.46      0.46     18000\n",
            "weighted avg       0.50      0.46      0.46     18000\n",
            "\n"
          ],
          "name": "stdout"
        }
      ]
    },
    {
      "cell_type": "markdown",
      "metadata": {
        "id": "909DesU2wsc5",
        "colab_type": "text"
      },
      "source": [
        "## Observation\n",
        "\n",
        "---\n",
        "\n",
        "1. Overall **Accuracy is very poor 46%** for KNN even started with **K-fold=3 and Optimal K=37 Hyperparameter** set.\n",
        "\n",
        "2. The Data Selected for Train, Validate and Test All are **having image Labeled 0-9**.\n",
        "\n",
        "3. out of 10 test data (***1***, 7, 2, 9, 0, 9, 1, ***8***, ***4***, 4) 7 prediction is Correct (4, 7, 2, 9, 0, 9, 1, 3, 1, 4).\n",
        "\n"
      ]
    },
    {
      "cell_type": "markdown",
      "metadata": {
        "id": "zl3E-8m_7Vnf",
        "colab_type": "text"
      },
      "source": [
        "# 4. Implement and apply a deep neural network classifier including (feedforward neural network, RELU, activations) (25 points)"
      ]
    },
    {
      "cell_type": "markdown",
      "metadata": {
        "id": "8z32X6t5PBc-",
        "colab_type": "text"
      },
      "source": [
        "Reference: https://faroit.com/keras-docs/2.0.6/getting-started/sequential-model-guide/"
      ]
    },
    {
      "cell_type": "code",
      "metadata": {
        "id": "mb-nDzYO80w2",
        "colab_type": "code",
        "colab": {}
      },
      "source": [
        "from keras.models import Sequential, Model \n",
        "from keras.callbacks import EarlyStopping\n",
        "from tensorflow.keras.layers import Dropout, Dense"
      ],
      "execution_count": 91,
      "outputs": []
    },
    {
      "cell_type": "code",
      "metadata": {
        "id": "9DH45SIjEuc_",
        "colab_type": "code",
        "colab": {}
      },
      "source": [
        "filename = \"/gdrive/My Drive/AIML/Labs/NNData/SVHN_single_grey1.h5\"\n",
        "h5f = h5py.File(filename, 'r')\n",
        "\n",
        "X_train = h5f['X_train'][:]\n",
        "y_train = h5f['y_train'][:]\n",
        "X_test  = h5f['X_test'][:]\n",
        "y_test  = h5f['y_test'][:]\n",
        "\n",
        "X_val   = h5f['X_val'][:]\n",
        "y_val   = h5f['y_val'][:]\n",
        "\n",
        "h5f.close();"
      ],
      "execution_count": 92,
      "outputs": []
    },
    {
      "cell_type": "markdown",
      "metadata": {
        "id": "cOQgZdb-5zEU",
        "colab_type": "text"
      },
      "source": [
        "### Print shape of data and number of images\n",
        "- print shape of X_train, X_val, X_test\n",
        "- print number of images in X_train\n",
        "- print number of images in X_val\n",
        "- print number of images in X_test"
      ]
    },
    {
      "cell_type": "code",
      "metadata": {
        "id": "R7NPQCKV56L2",
        "colab_type": "code",
        "colab": {
          "base_uri": "https://localhost:8080/",
          "height": 119
        },
        "outputId": "e9599b55-58a9-4593-b756-f3bfca5aed83"
      },
      "source": [
        "print(\"X_train shape:\", X_train.shape)\n",
        "print(\"X_val shape:\", X_val.shape)\n",
        "print(\"X_test shape:\", X_test.shape)\n",
        "\n",
        "print(\"Images in X_train:\", X_train.shape[0])\n",
        "print(\"Images in X_val:\", X_val.shape[0])\n",
        "print(\"Images in X_test:\", X_test.shape[0])"
      ],
      "execution_count": 110,
      "outputs": [
        {
          "output_type": "stream",
          "text": [
            "X_train shape: (42000, 32, 32)\n",
            "X_val shape: (60000, 32, 32)\n",
            "X_test shape: (18000, 32, 32)\n",
            "Images in X_train: 42000\n",
            "Images in X_val: 60000\n",
            "Images in X_test: 18000\n"
          ],
          "name": "stdout"
        }
      ]
    },
    {
      "cell_type": "markdown",
      "metadata": {
        "id": "SjFGvJRK5XsI",
        "colab_type": "text"
      },
      "source": [
        "### Normalize data\n",
        "- we must normalize our data as it is always required in neural network models\n",
        "- we can achieve this by dividing the RGB codes with 255 (which is the maximum RGB code minus the minimum RGB code)\n",
        "- normalize X_train, X_val and X_test"
      ]
    },
    {
      "cell_type": "code",
      "metadata": {
        "id": "4BIkD7sG5SbG",
        "colab_type": "code",
        "colab": {}
      },
      "source": [
        "## normalize inputs from 0-255 to 0-1\n",
        "X_train = X_train/255.0\n",
        "X_test =X_test /255.0\n",
        "X_val =X_val /255.0"
      ],
      "execution_count": 94,
      "outputs": []
    },
    {
      "cell_type": "markdown",
      "metadata": {
        "id": "wkuVAoL56LKB",
        "colab_type": "text"
      },
      "source": [
        "### One-hot encode the class vector\n",
        "- convert class vectors (integers) to binary class matrix\n",
        "- convert y_train, y_val and y_test\n",
        "- number of classes: 10\n",
        "- we are doing this to use categorical_crossentropy as loss"
      ]
    },
    {
      "cell_type": "code",
      "metadata": {
        "id": "XZsl6W7AEzPg",
        "colab_type": "code",
        "colab": {}
      },
      "source": [
        "from tensorflow.keras.utils import to_categorical\n",
        "\n",
        "# Convering to One Hot Vectors\n",
        "y_train = to_categorical(y_train, num_classes=10)\n",
        "y_val = to_categorical(y_val, num_classes=10)\n",
        "y_test  = to_categorical(y_test, num_classes=10)\n"
      ],
      "execution_count": 95,
      "outputs": []
    },
    {
      "cell_type": "markdown",
      "metadata": {
        "id": "yFofOkdF6pmn",
        "colab_type": "text"
      },
      "source": [
        "### Let's see one example after one-hot encoding"
      ]
    },
    {
      "cell_type": "code",
      "metadata": {
        "id": "eyHlKcGz6xcK",
        "colab_type": "code",
        "colab": {
          "base_uri": "https://localhost:8080/",
          "height": 300
        },
        "outputId": "d7ea06b6-15d2-4fa1-f175-89d2209042af"
      },
      "source": [
        "print(\"Label: \", y_train[0])\n",
        "plt.imshow(X_train[0].reshape(32,32))"
      ],
      "execution_count": 96,
      "outputs": [
        {
          "output_type": "stream",
          "text": [
            "Label:  [0. 0. 1. 0. 0. 0. 0. 0. 0. 0.]\n"
          ],
          "name": "stdout"
        },
        {
          "output_type": "execute_result",
          "data": {
            "text/plain": [
              "<matplotlib.image.AxesImage at 0x7faf79aae978>"
            ]
          },
          "metadata": {
            "tags": []
          },
          "execution_count": 96
        },
        {
          "output_type": "display_data",
          "data": {
            "image/png": "[encoded data removed]",
            "text/plain": [
              "<Figure size 432x288 with 1 Axes>"
            ]
          },
          "metadata": {
            "tags": [],
            "needs_background": "light"
          }
        }
      ]
    },
    {
      "cell_type": "markdown",
      "metadata": {
        "id": "Mw4_O6d17CHn",
        "colab_type": "text"
      },
      "source": [
        "### Building the NN \n",
        "- Define the layers of model for NN Classification"
      ]
    },
    {
      "cell_type": "markdown",
      "metadata": {
        "id": "1d5x3dlq7NL5",
        "colab_type": "text"
      },
      "source": [
        "### Initialize a Sequential model\n",
        "- Define a Sequential model\n",
        "- Add 2 hidden layers of 200 and 100\n",
        "- Add a output layer\n",
        "- Apply SGD with learning rate =.01\n"
      ]
    },
    {
      "cell_type": "code",
      "metadata": {
        "id": "I_cN2V7fVTYh",
        "colab_type": "code",
        "colab": {}
      },
      "source": [
        "#Initialize model, reshape\n",
        "modelNN = tf.keras.models.Sequential()\n",
        "modelNN.add(tf.keras.layers.Reshape((1024,),input_shape=(32,32,)))\n",
        "\n",
        "#Add 1st hidden layer\n",
        "modelNN.add(tf.keras.layers.Dense(200 , activation='relu'))\n",
        "\n",
        "#Add 2nd hidden layer\n",
        "modelNN.add(tf.keras.layers.Dense(100 , activation='relu'))\n",
        "\n",
        "#Add OUTPUT layer\n",
        "modelNN.add(tf.keras.layers.Dense(10 , activation='softmax'))"
      ],
      "execution_count": 97,
      "outputs": []
    },
    {
      "cell_type": "markdown",
      "metadata": {
        "id": "62E0uRyTMlw7",
        "colab_type": "text"
      },
      "source": [
        "### Compile the model\n",
        "- loss: \"categorical_crossentropy\"\n",
        "- metrics: \"accuracy\"\n",
        "- optimizer: \"SGD\""
      ]
    },
    {
      "cell_type": "code",
      "metadata": {
        "id": "B2-9GPFwMlBM",
        "colab_type": "code",
        "colab": {}
      },
      "source": [
        "#Create optimizer with non-default learning rate\n",
        "sgd_optimizer = tf.keras.optimizers.SGD(lr=0.01)\n",
        "\n",
        "#Compile the model\n",
        "modelNN.compile(optimizer=sgd_optimizer, loss='categorical_crossentropy', metrics=['accuracy'])"
      ],
      "execution_count": 98,
      "outputs": []
    },
    {
      "cell_type": "code",
      "metadata": {
        "id": "WNrP5if9WHWJ",
        "colab_type": "code",
        "colab": {
          "base_uri": "https://localhost:8080/",
          "height": 289
        },
        "outputId": "37c2f7cc-ef3b-4063-ffdd-557fcd678ed2"
      },
      "source": [
        "modelNN.summary()"
      ],
      "execution_count": 99,
      "outputs": [
        {
          "output_type": "stream",
          "text": [
            "Model: \"sequential_9\"\n",
            "_________________________________________________________________\n",
            "Layer (type)                 Output Shape              Param #   \n",
            "=================================================================\n",
            "reshape_9 (Reshape)          (None, 1024)              0         \n",
            "_________________________________________________________________\n",
            "dense_27 (Dense)             (None, 200)               205000    \n",
            "_________________________________________________________________\n",
            "dense_28 (Dense)             (None, 100)               20100     \n",
            "_________________________________________________________________\n",
            "dense_29 (Dense)             (None, 10)                1010      \n",
            "=================================================================\n",
            "Total params: 226,110\n",
            "Trainable params: 226,110\n",
            "Non-trainable params: 0\n",
            "_________________________________________________________________\n"
          ],
          "name": "stdout"
        }
      ]
    },
    {
      "cell_type": "markdown",
      "metadata": {
        "id": "J2tGBlrlNXuj",
        "colab_type": "text"
      },
      "source": [
        "### Training the NN "
      ]
    },
    {
      "cell_type": "markdown",
      "metadata": {
        "id": "gjc7cU65Nat9",
        "colab_type": "text"
      },
      "source": [
        "Fit the model to the SVHN dataset\n",
        "- Use early stopping\n",
        "- fit the model\n",
        "    - give train data - training features and labels\n",
        "    - batch size: 32\n",
        "    - epochs: 10\n",
        "    - give validation data - testing features and labels"
      ]
    },
    {
      "cell_type": "code",
      "metadata": {
        "id": "6R1_bQ6fWWwD",
        "colab_type": "code",
        "colab": {
          "base_uri": "https://localhost:8080/",
          "height": 1000
        },
        "outputId": "561c14d5-f645-4818-86cf-ff45e47a35cf"
      },
      "source": [
        "# Use earlystopping\n",
        "callback = tf.keras.callbacks.EarlyStopping(monitor='val_accuracy', patience=2, min_delta=0.001)\n",
        "\n",
        "modelNN_output = modelNN.fit(X_train , y_train, batch_size=200, epochs=100, validation_data=(X_val, y_val), verbose=1, callbacks=[callback])"
      ],
      "execution_count": 100,
      "outputs": [
        {
          "output_type": "stream",
          "text": [
            "Epoch 1/100\n",
            "210/210 [==============================] - 3s 13ms/step - loss: 2.3004 - accuracy: 0.1125 - val_loss: 2.2864 - val_accuracy: 0.1317\n",
            "Epoch 2/100\n",
            "210/210 [==============================] - 3s 13ms/step - loss: 2.2780 - accuracy: 0.1467 - val_loss: 2.2669 - val_accuracy: 0.1632\n",
            "Epoch 3/100\n",
            "210/210 [==============================] - 3s 12ms/step - loss: 2.2577 - accuracy: 0.1838 - val_loss: 2.2446 - val_accuracy: 0.2254\n",
            "Epoch 4/100\n",
            "210/210 [==============================] - 3s 12ms/step - loss: 2.2330 - accuracy: 0.2304 - val_loss: 2.2194 - val_accuracy: 0.2412\n",
            "Epoch 5/100\n",
            "210/210 [==============================] - 3s 13ms/step - loss: 2.2026 - accuracy: 0.2722 - val_loss: 2.1850 - val_accuracy: 0.2933\n",
            "Epoch 6/100\n",
            "210/210 [==============================] - 3s 13ms/step - loss: 2.1660 - accuracy: 0.3125 - val_loss: 2.1440 - val_accuracy: 0.3221\n",
            "Epoch 7/100\n",
            "210/210 [==============================] - 3s 13ms/step - loss: 2.1208 - accuracy: 0.3474 - val_loss: 2.0952 - val_accuracy: 0.3550\n",
            "Epoch 8/100\n",
            "210/210 [==============================] - 3s 13ms/step - loss: 2.0662 - accuracy: 0.3769 - val_loss: 2.0352 - val_accuracy: 0.3736\n",
            "Epoch 9/100\n",
            "210/210 [==============================] - 3s 13ms/step - loss: 2.0035 - accuracy: 0.4049 - val_loss: 1.9677 - val_accuracy: 0.4160\n",
            "Epoch 10/100\n",
            "210/210 [==============================] - 3s 13ms/step - loss: 1.9330 - accuracy: 0.4308 - val_loss: 1.8969 - val_accuracy: 0.4457\n",
            "Epoch 11/100\n",
            "210/210 [==============================] - 3s 13ms/step - loss: 1.8619 - accuracy: 0.4585 - val_loss: 1.8221 - val_accuracy: 0.4600\n",
            "Epoch 12/100\n",
            "210/210 [==============================] - 3s 13ms/step - loss: 1.7914 - accuracy: 0.4800 - val_loss: 1.7529 - val_accuracy: 0.5074\n",
            "Epoch 13/100\n",
            "210/210 [==============================] - 4s 17ms/step - loss: 1.7250 - accuracy: 0.5031 - val_loss: 1.6881 - val_accuracy: 0.5256\n",
            "Epoch 14/100\n",
            "210/210 [==============================] - 3s 15ms/step - loss: 1.6630 - accuracy: 0.5268 - val_loss: 1.6282 - val_accuracy: 0.5413\n",
            "Epoch 15/100\n",
            "210/210 [==============================] - 3s 13ms/step - loss: 1.6058 - accuracy: 0.5441 - val_loss: 1.5792 - val_accuracy: 0.5599\n",
            "Epoch 16/100\n",
            "210/210 [==============================] - 3s 13ms/step - loss: 1.5544 - accuracy: 0.5600 - val_loss: 1.5417 - val_accuracy: 0.5543\n",
            "Epoch 17/100\n",
            "210/210 [==============================] - 3s 13ms/step - loss: 1.5058 - accuracy: 0.5725 - val_loss: 1.4775 - val_accuracy: 0.5855\n",
            "Epoch 18/100\n",
            "210/210 [==============================] - 3s 13ms/step - loss: 1.4628 - accuracy: 0.5826 - val_loss: 1.4512 - val_accuracy: 0.5849\n",
            "Epoch 19/100\n",
            "210/210 [==============================] - 3s 13ms/step - loss: 1.4216 - accuracy: 0.5951 - val_loss: 1.4091 - val_accuracy: 0.5982\n",
            "Epoch 20/100\n",
            "210/210 [==============================] - 3s 12ms/step - loss: 1.3846 - accuracy: 0.6025 - val_loss: 1.3820 - val_accuracy: 0.5964\n",
            "Epoch 21/100\n",
            "210/210 [==============================] - 3s 13ms/step - loss: 1.3501 - accuracy: 0.6126 - val_loss: 1.3457 - val_accuracy: 0.6131\n",
            "Epoch 22/100\n",
            "210/210 [==============================] - 3s 12ms/step - loss: 1.3203 - accuracy: 0.6200 - val_loss: 1.3041 - val_accuracy: 0.6247\n",
            "Epoch 23/100\n",
            "210/210 [==============================] - 3s 13ms/step - loss: 1.2912 - accuracy: 0.6262 - val_loss: 1.2860 - val_accuracy: 0.6260\n",
            "Epoch 24/100\n",
            "210/210 [==============================] - 3s 12ms/step - loss: 1.2656 - accuracy: 0.6332 - val_loss: 1.2493 - val_accuracy: 0.6348\n",
            "Epoch 25/100\n",
            "210/210 [==============================] - 3s 13ms/step - loss: 1.2421 - accuracy: 0.6388 - val_loss: 1.2380 - val_accuracy: 0.6359\n",
            "Epoch 26/100\n",
            "210/210 [==============================] - 3s 12ms/step - loss: 1.2185 - accuracy: 0.6445 - val_loss: 1.2059 - val_accuracy: 0.6532\n",
            "Epoch 27/100\n",
            "210/210 [==============================] - 3s 12ms/step - loss: 1.2007 - accuracy: 0.6493 - val_loss: 1.1973 - val_accuracy: 0.6420\n",
            "Epoch 28/100\n",
            "210/210 [==============================] - 3s 13ms/step - loss: 1.1813 - accuracy: 0.6555 - val_loss: 1.1613 - val_accuracy: 0.6604\n",
            "Epoch 29/100\n",
            "210/210 [==============================] - 3s 13ms/step - loss: 1.1644 - accuracy: 0.6575 - val_loss: 1.1444 - val_accuracy: 0.6708\n",
            "Epoch 30/100\n",
            "210/210 [==============================] - 3s 13ms/step - loss: 1.1466 - accuracy: 0.6643 - val_loss: 1.1362 - val_accuracy: 0.6655\n",
            "Epoch 31/100\n",
            "210/210 [==============================] - 3s 12ms/step - loss: 1.1306 - accuracy: 0.6682 - val_loss: 1.1184 - val_accuracy: 0.6736\n",
            "Epoch 32/100\n",
            "210/210 [==============================] - 3s 12ms/step - loss: 1.1149 - accuracy: 0.6729 - val_loss: 1.1209 - val_accuracy: 0.6697\n",
            "Epoch 33/100\n",
            "210/210 [==============================] - 3s 12ms/step - loss: 1.1012 - accuracy: 0.6773 - val_loss: 1.0919 - val_accuracy: 0.6780\n",
            "Epoch 34/100\n",
            "210/210 [==============================] - 3s 12ms/step - loss: 1.0888 - accuracy: 0.6781 - val_loss: 1.0719 - val_accuracy: 0.6876\n",
            "Epoch 35/100\n",
            "210/210 [==============================] - 3s 12ms/step - loss: 1.0767 - accuracy: 0.6832 - val_loss: 1.0676 - val_accuracy: 0.6851\n",
            "Epoch 36/100\n",
            "210/210 [==============================] - 3s 12ms/step - loss: 1.0625 - accuracy: 0.6875 - val_loss: 1.0526 - val_accuracy: 0.6927\n",
            "Epoch 37/100\n",
            "210/210 [==============================] - 3s 12ms/step - loss: 1.0525 - accuracy: 0.6899 - val_loss: 1.0445 - val_accuracy: 0.6931\n",
            "Epoch 38/100\n",
            "210/210 [==============================] - 3s 12ms/step - loss: 1.0411 - accuracy: 0.6923 - val_loss: 1.0374 - val_accuracy: 0.6908\n"
          ],
          "name": "stdout"
        }
      ]
    },
    {
      "cell_type": "markdown",
      "metadata": {
        "id": "7fCo0ZhcNTip",
        "colab_type": "text"
      },
      "source": [
        "Let's evaluate this model"
      ]
    },
    {
      "cell_type": "code",
      "metadata": {
        "id": "nGxZNiaQWewZ",
        "colab_type": "code",
        "colab": {
          "base_uri": "https://localhost:8080/",
          "height": 68
        },
        "outputId": "ec2b0870-d7b9-4965-aecc-f91c9c8fa078"
      },
      "source": [
        "score = modelNN.evaluate(X_test,y_test, verbose=1)\n",
        "\n",
        "print('Test loss:', score[0])\n",
        "print('Test accuracy:', score[1])"
      ],
      "execution_count": 101,
      "outputs": [
        {
          "output_type": "stream",
          "text": [
            "563/563 [==============================] - 1s 2ms/step - loss: 1.0456 - accuracy: 0.6880\n",
            "Test loss: 1.045609712600708\n",
            "Test accuracy: 0.6880000233650208\n"
          ],
          "name": "stdout"
        }
      ]
    },
    {
      "cell_type": "markdown",
      "metadata": {
        "id": "jUMOHaV6T8lX",
        "colab_type": "text"
      },
      "source": [
        "## Observations:\n",
        "#### With SGD, the accuray of the model for Training Data and Validation data is arround 69%, For Test Data also Test Accuracy is arroung 68.8%, Almost same to Training and Validation. But there should be a scope of improvement.*** Lets implement bacthnormalization***"
      ]
    },
    {
      "cell_type": "markdown",
      "metadata": {
        "id": "ciKKlh5JXENK",
        "colab_type": "text"
      },
      "source": [
        "# 5. Implement batch normalization for training the neural network(10 points)"
      ]
    },
    {
      "cell_type": "code",
      "metadata": {
        "id": "m5gau9tuKaSo",
        "colab_type": "code",
        "colab": {}
      },
      "source": [
        "#Initialize Sequential model\n",
        "modelBNN = tf.keras.models.Sequential()\n",
        "\n",
        "modelBNN.add(tf.keras.layers.Reshape((1024,),input_shape=(32,32,)))\n",
        "\n",
        "#Normalize the data\n",
        "modelBNN.add(tf.keras.layers.BatchNormalization())\n",
        "\n",
        "#Add 1st hidden layer\n",
        "modelBNN.add(tf.keras.layers.Dense(200, activation='relu'))\n",
        "\n",
        "#Normalize the data\n",
        "modelBNN.add(tf.keras.layers.BatchNormalization())\n",
        "#Dropout layer\n",
        "modelBNN.add(tf.keras.layers.Dropout(0.3))\n",
        "\n",
        "#Add 2nd hidden layer\n",
        "modelBNN.add(tf.keras.layers.Dense(100, activation='relu'))\n",
        "\n",
        "#Normalize the data\n",
        "modelBNN.add(tf.keras.layers.BatchNormalization())\n",
        "#Dropout layer\n",
        "modelBNN.add(tf.keras.layers.Dropout(0.3))\n",
        "\n",
        "#Add OUTPUT layer\n",
        "modelBNN.add(tf.keras.layers.Dense(10, activation='softmax'))\n",
        "\n",
        "#Create optimizer with non-default learning rate\n",
        "sgd_optimizer = tf.keras.optimizers.SGD(lr=0.01)\n",
        "\n",
        "#Compile the model\n",
        "modelBNN.compile(optimizer=sgd_optimizer, loss='categorical_crossentropy', metrics=['accuracy'])"
      ],
      "execution_count": 102,
      "outputs": []
    },
    {
      "cell_type": "code",
      "metadata": {
        "colab_type": "code",
        "id": "WmoOtv8GS1aB",
        "colab": {
          "base_uri": "https://localhost:8080/",
          "height": 459
        },
        "outputId": "f236bdf8-7daa-4c3c-942d-d7ff4bc76a1d"
      },
      "source": [
        "modelBNN.summary()"
      ],
      "execution_count": 103,
      "outputs": [
        {
          "output_type": "stream",
          "text": [
            "Model: \"sequential_10\"\n",
            "_________________________________________________________________\n",
            "Layer (type)                 Output Shape              Param #   \n",
            "=================================================================\n",
            "reshape_10 (Reshape)         (None, 1024)              0         \n",
            "_________________________________________________________________\n",
            "batch_normalization_9 (Batch (None, 1024)              4096      \n",
            "_________________________________________________________________\n",
            "dense_30 (Dense)             (None, 200)               205000    \n",
            "_________________________________________________________________\n",
            "batch_normalization_10 (Batc (None, 200)               800       \n",
            "_________________________________________________________________\n",
            "dropout_6 (Dropout)          (None, 200)               0         \n",
            "_________________________________________________________________\n",
            "dense_31 (Dense)             (None, 100)               20100     \n",
            "_________________________________________________________________\n",
            "batch_normalization_11 (Batc (None, 100)               400       \n",
            "_________________________________________________________________\n",
            "dropout_7 (Dropout)          (None, 100)               0         \n",
            "_________________________________________________________________\n",
            "dense_32 (Dense)             (None, 10)                1010      \n",
            "=================================================================\n",
            "Total params: 231,406\n",
            "Trainable params: 228,758\n",
            "Non-trainable params: 2,648\n",
            "_________________________________________________________________\n"
          ],
          "name": "stdout"
        }
      ]
    },
    {
      "cell_type": "code",
      "metadata": {
        "colab_type": "code",
        "id": "n5zkjpfMS1aN",
        "colab": {
          "base_uri": "https://localhost:8080/",
          "height": 1000
        },
        "outputId": "0ffd61fc-3836-4082-f862-d8ba1a3b2325"
      },
      "source": [
        "# Use earlystopping\n",
        "callback = tf.keras.callbacks.EarlyStopping(monitor='val_accuracy', patience=2, min_delta=0.001)\n",
        "\n",
        "modelBNN_output = modelBNN.fit(X_train , y_train, batch_size=200, epochs=100, validation_data=(X_val, y_val), verbose=1, callbacks=[callback])"
      ],
      "execution_count": 104,
      "outputs": [
        {
          "output_type": "stream",
          "text": [
            "Epoch 1/100\n",
            "210/210 [==============================] - 4s 19ms/step - loss: 2.5775 - accuracy: 0.1708 - val_loss: 2.0629 - val_accuracy: 0.3216\n",
            "Epoch 2/100\n",
            "210/210 [==============================] - 4s 19ms/step - loss: 2.0225 - accuracy: 0.3088 - val_loss: 1.5881 - val_accuracy: 0.5293\n",
            "Epoch 3/100\n",
            "210/210 [==============================] - 4s 18ms/step - loss: 1.7468 - accuracy: 0.4063 - val_loss: 1.3493 - val_accuracy: 0.6078\n",
            "Epoch 4/100\n",
            "210/210 [==============================] - 4s 18ms/step - loss: 1.5703 - accuracy: 0.4742 - val_loss: 1.2172 - val_accuracy: 0.6523\n",
            "Epoch 5/100\n",
            "210/210 [==============================] - 4s 19ms/step - loss: 1.4487 - accuracy: 0.5217 - val_loss: 1.1271 - val_accuracy: 0.6788\n",
            "Epoch 6/100\n",
            "210/210 [==============================] - 4s 19ms/step - loss: 1.3632 - accuracy: 0.5540 - val_loss: 1.0629 - val_accuracy: 0.6977\n",
            "Epoch 7/100\n",
            "210/210 [==============================] - 4s 19ms/step - loss: 1.2991 - accuracy: 0.5801 - val_loss: 1.0132 - val_accuracy: 0.7118\n",
            "Epoch 8/100\n",
            "210/210 [==============================] - 4s 19ms/step - loss: 1.2455 - accuracy: 0.6003 - val_loss: 0.9698 - val_accuracy: 0.7230\n",
            "Epoch 9/100\n",
            "210/210 [==============================] - 4s 19ms/step - loss: 1.2018 - accuracy: 0.6133 - val_loss: 0.9417 - val_accuracy: 0.7268\n",
            "Epoch 10/100\n",
            "210/210 [==============================] - 4s 19ms/step - loss: 1.1677 - accuracy: 0.6287 - val_loss: 0.8990 - val_accuracy: 0.7428\n",
            "Epoch 11/100\n",
            "210/210 [==============================] - 4s 19ms/step - loss: 1.1427 - accuracy: 0.6372 - val_loss: 0.8738 - val_accuracy: 0.7470\n",
            "Epoch 12/100\n",
            "210/210 [==============================] - 4s 19ms/step - loss: 1.1079 - accuracy: 0.6463 - val_loss: 0.8498 - val_accuracy: 0.7557\n",
            "Epoch 13/100\n",
            "210/210 [==============================] - 4s 19ms/step - loss: 1.0870 - accuracy: 0.6523 - val_loss: 0.8265 - val_accuracy: 0.7594\n",
            "Epoch 14/100\n",
            "210/210 [==============================] - 4s 19ms/step - loss: 1.0612 - accuracy: 0.6638 - val_loss: 0.8031 - val_accuracy: 0.7671\n",
            "Epoch 15/100\n",
            "210/210 [==============================] - 4s 19ms/step - loss: 1.0379 - accuracy: 0.6720 - val_loss: 0.7873 - val_accuracy: 0.7719\n",
            "Epoch 16/100\n",
            "210/210 [==============================] - 4s 19ms/step - loss: 1.0239 - accuracy: 0.6785 - val_loss: 0.7677 - val_accuracy: 0.7769\n",
            "Epoch 17/100\n",
            "210/210 [==============================] - 4s 19ms/step - loss: 1.0016 - accuracy: 0.6842 - val_loss: 0.7536 - val_accuracy: 0.7825\n",
            "Epoch 18/100\n",
            "210/210 [==============================] - 4s 19ms/step - loss: 0.9823 - accuracy: 0.6928 - val_loss: 0.7347 - val_accuracy: 0.7867\n",
            "Epoch 19/100\n",
            "210/210 [==============================] - 4s 19ms/step - loss: 0.9729 - accuracy: 0.6930 - val_loss: 0.7222 - val_accuracy: 0.7897\n",
            "Epoch 20/100\n",
            "210/210 [==============================] - 4s 19ms/step - loss: 0.9527 - accuracy: 0.7014 - val_loss: 0.7071 - val_accuracy: 0.7950\n",
            "Epoch 21/100\n",
            "210/210 [==============================] - 4s 19ms/step - loss: 0.9435 - accuracy: 0.7033 - val_loss: 0.6923 - val_accuracy: 0.7989\n",
            "Epoch 22/100\n",
            "210/210 [==============================] - 4s 19ms/step - loss: 0.9315 - accuracy: 0.7069 - val_loss: 0.6808 - val_accuracy: 0.8013\n",
            "Epoch 23/100\n",
            "210/210 [==============================] - 4s 19ms/step - loss: 0.9112 - accuracy: 0.7138 - val_loss: 0.6629 - val_accuracy: 0.8090\n",
            "Epoch 24/100\n",
            "210/210 [==============================] - 4s 19ms/step - loss: 0.9015 - accuracy: 0.7162 - val_loss: 0.6632 - val_accuracy: 0.8072\n",
            "Epoch 25/100\n",
            "210/210 [==============================] - 4s 19ms/step - loss: 0.8914 - accuracy: 0.7225 - val_loss: 0.6466 - val_accuracy: 0.8125\n",
            "Epoch 26/100\n",
            "210/210 [==============================] - 4s 18ms/step - loss: 0.8766 - accuracy: 0.7242 - val_loss: 0.6360 - val_accuracy: 0.8156\n",
            "Epoch 27/100\n",
            "210/210 [==============================] - 4s 19ms/step - loss: 0.8732 - accuracy: 0.7243 - val_loss: 0.6264 - val_accuracy: 0.8185\n",
            "Epoch 28/100\n",
            "210/210 [==============================] - 4s 19ms/step - loss: 0.8600 - accuracy: 0.7312 - val_loss: 0.6166 - val_accuracy: 0.8215\n",
            "Epoch 29/100\n",
            "210/210 [==============================] - 4s 19ms/step - loss: 0.8465 - accuracy: 0.7350 - val_loss: 0.6094 - val_accuracy: 0.8243\n",
            "Epoch 30/100\n",
            "210/210 [==============================] - 4s 19ms/step - loss: 0.8415 - accuracy: 0.7344 - val_loss: 0.6056 - val_accuracy: 0.8235\n",
            "Epoch 31/100\n",
            "210/210 [==============================] - 4s 19ms/step - loss: 0.8292 - accuracy: 0.7394 - val_loss: 0.5951 - val_accuracy: 0.8276\n",
            "Epoch 32/100\n",
            "210/210 [==============================] - 4s 19ms/step - loss: 0.8224 - accuracy: 0.7436 - val_loss: 0.5873 - val_accuracy: 0.8301\n",
            "Epoch 33/100\n",
            "210/210 [==============================] - 4s 19ms/step - loss: 0.8163 - accuracy: 0.7454 - val_loss: 0.5839 - val_accuracy: 0.8312\n",
            "Epoch 34/100\n",
            "210/210 [==============================] - 4s 18ms/step - loss: 0.8053 - accuracy: 0.7487 - val_loss: 0.5736 - val_accuracy: 0.8337\n",
            "Epoch 35/100\n",
            "210/210 [==============================] - 4s 19ms/step - loss: 0.8075 - accuracy: 0.7479 - val_loss: 0.5698 - val_accuracy: 0.8335\n",
            "Epoch 36/100\n",
            "210/210 [==============================] - 4s 19ms/step - loss: 0.7961 - accuracy: 0.7525 - val_loss: 0.5661 - val_accuracy: 0.8354\n",
            "Epoch 37/100\n",
            "210/210 [==============================] - 4s 19ms/step - loss: 0.7929 - accuracy: 0.7531 - val_loss: 0.5616 - val_accuracy: 0.8365\n",
            "Epoch 38/100\n",
            "210/210 [==============================] - 4s 19ms/step - loss: 0.7775 - accuracy: 0.7557 - val_loss: 0.5488 - val_accuracy: 0.8413\n",
            "Epoch 39/100\n",
            "210/210 [==============================] - 4s 19ms/step - loss: 0.7750 - accuracy: 0.7575 - val_loss: 0.5497 - val_accuracy: 0.8390\n",
            "Epoch 40/100\n",
            "210/210 [==============================] - 4s 19ms/step - loss: 0.7649 - accuracy: 0.7604 - val_loss: 0.5544 - val_accuracy: 0.8382\n"
          ],
          "name": "stdout"
        }
      ]
    },
    {
      "cell_type": "markdown",
      "metadata": {
        "id": "FPa1KJWl0dTs",
        "colab_type": "text"
      },
      "source": [
        "## Observation\n",
        "\n",
        "After 40 iteration Validation accuracy was not improving, So Callback function terminate the execution of the NN Model , We got the final output after 40 Iteration,\n",
        "\n",
        "1.   Training loss: 0.7649\n",
        "2.   Training accuracy: 0.7604\n",
        "3.   Val loss: 0.5544 \n",
        "4.   Val_accuracy: 0.8382\n"
      ]
    },
    {
      "cell_type": "markdown",
      "metadata": {
        "id": "3nckprc190Jy",
        "colab_type": "text"
      },
      "source": [
        "***Verify the Test Data Loss and Accuracy:***"
      ]
    },
    {
      "cell_type": "code",
      "metadata": {
        "colab_type": "code",
        "id": "t-gButlyS1aV",
        "colab": {
          "base_uri": "https://localhost:8080/",
          "height": 68
        },
        "outputId": "c31e6cd6-9c3c-47ca-efce-2249741eb26e"
      },
      "source": [
        "score = modelBNN.evaluate(X_test,y_test, verbose=1)\n",
        "\n",
        "print('Test loss:', score[0])\n",
        "print('Test accuracy:', score[1])"
      ],
      "execution_count": 105,
      "outputs": [
        {
          "output_type": "stream",
          "text": [
            "563/563 [==============================] - 1s 2ms/step - loss: 0.6106 - accuracy: 0.8209\n",
            "Test loss: 0.610601544380188\n",
            "Test accuracy: 0.8209444284439087\n"
          ],
          "name": "stdout"
        }
      ]
    },
    {
      "cell_type": "markdown",
      "metadata": {
        "id": "wdL9x3WK-GDU",
        "colab_type": "text"
      },
      "source": [
        "## Observation\n",
        "\n",
        "After 40 no of iteration of the NN Model, We got \n",
        "**Test Data loss**: 0.6106\n",
        "**Test Data accuracy**: 0.8209 \n",
        "\n",
        "Which is in between Traing Loss/Accouracy and Validation Loss/Accuracy"
      ]
    },
    {
      "cell_type": "code",
      "metadata": {
        "id": "Tc7_iW5GV-n_",
        "colab_type": "code",
        "colab": {}
      },
      "source": [
        "predictionsBNN = modelBNN.predict(X_test)"
      ],
      "execution_count": 106,
      "outputs": []
    },
    {
      "cell_type": "code",
      "metadata": {
        "colab_type": "code",
        "id": "zX26xpZH4m7b",
        "colab": {
          "base_uri": "https://localhost:8080/",
          "height": 34
        },
        "outputId": "577f3cbe-cdee-4706-c190-52a55e96ea98"
      },
      "source": [
        "#Predicted Data\n",
        "predictionsBNN[0:10].argmax(axis=1)"
      ],
      "execution_count": 107,
      "outputs": [
        {
          "output_type": "execute_result",
          "data": {
            "text/plain": [
              "array([2, 7, 2, 9, 0, 9, 1, 8, 1, 4])"
            ]
          },
          "metadata": {
            "tags": []
          },
          "execution_count": 107
        }
      ]
    },
    {
      "cell_type": "code",
      "metadata": {
        "id": "1nXyHRy_YKsH",
        "colab_type": "code",
        "colab": {
          "base_uri": "https://localhost:8080/",
          "height": 1000
        },
        "outputId": "96effbf4-3336-41f8-befb-01e6a963660a"
      },
      "source": [
        "import random\n",
        "\n",
        "randomList = []\n",
        "# Set a length of the list to 10\n",
        "for i in range(0, 10):\n",
        "    # any random numbers from 0 to 18000(Max of test Data)\n",
        "    randomList.append(random.randint(0, 18000))\n",
        "\n",
        "print(\"Printing list of 10 random numbers\")\n",
        "print(randomList)\n",
        "\n",
        "count=0\n",
        "for i in randomList:\n",
        "  plt.figure(figsize=(1, 1))\n",
        "  plt.imshow(X_test[i])\n",
        "  plt.show(True)\n",
        "  print(\"Label for the Image\",y_test[randomList].argmax(axis=1)[count])\n",
        "  count=count +1"
      ],
      "execution_count": 108,
      "outputs": [
        {
          "output_type": "stream",
          "text": [
            "Printing list of 10 random numbers\n",
            "[1103, 2677, 4393, 10597, 5697, 16291, 219, 1656, 7509, 6226]\n"
          ],
          "name": "stdout"
        },
        {
          "output_type": "display_data",
          "data": {
            "image/png": "[encoded data removed]",
            "text/plain": [
              "<Figure size 72x72 with 1 Axes>"
            ]
          },
          "metadata": {
            "tags": [],
            "needs_background": "light"
          }
        },
        {
          "output_type": "stream",
          "text": [
            "Label for the Image 5\n"
          ],
          "name": "stdout"
        },
        {
          "output_type": "display_data",
          "data": {
            "image/png": "[encoded data removed]",
            "text/plain": [
              "<Figure size 72x72 with 1 Axes>"
            ]
          },
          "metadata": {
            "tags": [],
            "needs_background": "light"
          }
        },
        {
          "output_type": "stream",
          "text": [
            "Label for the Image 6\n"
          ],
          "name": "stdout"
        },
        {
          "output_type": "display_data",
          "data": {
            "image/png": "[encoded data removed]",
            "text/plain": [
              "<Figure size 72x72 with 1 Axes>"
            ]
          },
          "metadata": {
            "tags": [],
            "needs_background": "light"
          }
        },
        {
          "output_type": "stream",
          "text": [
            "Label for the Image 7\n"
          ],
          "name": "stdout"
        },
        {
          "output_type": "display_data",
          "data": {
            "image/png": "[encoded data removed]",
            "text/plain": [
              "<Figure size 72x72 with 1 Axes>"
            ]
          },
          "metadata": {
            "tags": [],
            "needs_background": "light"
          }
        },
        {
          "output_type": "stream",
          "text": [
            "Label for the Image 5\n"
          ],
          "name": "stdout"
        },
        {
          "output_type": "display_data",
          "data": {
            "image/png": "[encoded data removed]",
            "text/plain": [
              "<Figure size 72x72 with 1 Axes>"
            ]
          },
          "metadata": {
            "tags": [],
            "needs_background": "light"
          }
        },
        {
          "output_type": "stream",
          "text": [
            "Label for the Image 7\n"
          ],
          "name": "stdout"
        },
        {
          "output_type": "display_data",
          "data": {
            "image/png": "[encoded data removed]",
            "text/plain": [
              "<Figure size 72x72 with 1 Axes>"
            ]
          },
          "metadata": {
            "tags": [],
            "needs_background": "light"
          }
        },
        {
          "output_type": "stream",
          "text": [
            "Label for the Image 0\n"
          ],
          "name": "stdout"
        },
        {
          "output_type": "display_data",
          "data": {
            "image/png": "[encoded data removed]",
            "text/plain": [
              "<Figure size 72x72 with 1 Axes>"
            ]
          },
          "metadata": {
            "tags": [],
            "needs_background": "light"
          }
        },
        {
          "output_type": "stream",
          "text": [
            "Label for the Image 9\n"
          ],
          "name": "stdout"
        },
        {
          "output_type": "display_data",
          "data": {
            "image/png": "[encoded data removed]",
            "text/plain": [
              "<Figure size 72x72 with 1 Axes>"
            ]
          },
          "metadata": {
            "tags": [],
            "needs_background": "light"
          }
        },
        {
          "output_type": "stream",
          "text": [
            "Label for the Image 8\n"
          ],
          "name": "stdout"
        },
        {
          "output_type": "display_data",
          "data": {
            "image/png": "[encoded data removed]",
            "text/plain": [
              "<Figure size 72x72 with 1 Axes>"
            ]
          },
          "metadata": {
            "tags": [],
            "needs_background": "light"
          }
        },
        {
          "output_type": "stream",
          "text": [
            "Label for the Image 7\n"
          ],
          "name": "stdout"
        },
        {
          "output_type": "display_data",
          "data": {
            "image/png": "[encoded data removed]",
            "text/plain": [
              "<Figure size 72x72 with 1 Axes>"
            ]
          },
          "metadata": {
            "tags": [],
            "needs_background": "light"
          }
        },
        {
          "output_type": "stream",
          "text": [
            "Label for the Image 7\n"
          ],
          "name": "stdout"
        }
      ]
    },
    {
      "cell_type": "markdown",
      "metadata": {
        "id": "R7kUziVH5Eq0",
        "colab_type": "text"
      },
      "source": [
        "**Data Validated**, No Mismatch for the random 10 images taken from Entire Test Data."
      ]
    },
    {
      "cell_type": "markdown",
      "metadata": {
        "id": "9_8MeohZGUhw",
        "colab_type": "text"
      },
      "source": [
        "## 6. Print the classification accuracy metrics (10 points)"
      ]
    },
    {
      "cell_type": "code",
      "metadata": {
        "id": "b_8w9HBjV_fC",
        "colab_type": "code",
        "colab": {
          "base_uri": "https://localhost:8080/",
          "height": 306
        },
        "outputId": "74b342ee-1883-40ff-efd3-b54b3a7a1c85"
      },
      "source": [
        "from sklearn.metrics import classification_report\n",
        "\n",
        "target_names = ['0', '1', '2','3','4','5','6','7','8','9']\n",
        "\n",
        "ClassificationReportBNN = classification_report(y_test.argmax(axis=1), predictionsBNN.argmax(axis=1) ,target_names=target_names)\n",
        "print(ClassificationReportBNN)"
      ],
      "execution_count": 109,
      "outputs": [
        {
          "output_type": "stream",
          "text": [
            "              precision    recall  f1-score   support\n",
            "\n",
            "           0       0.82      0.88      0.85      1814\n",
            "           1       0.80      0.85      0.83      1828\n",
            "           2       0.87      0.83      0.85      1803\n",
            "           3       0.77      0.76      0.77      1719\n",
            "           4       0.86      0.85      0.85      1812\n",
            "           5       0.80      0.80      0.80      1768\n",
            "           6       0.83      0.81      0.82      1832\n",
            "           7       0.87      0.86      0.86      1808\n",
            "           8       0.77      0.78      0.78      1812\n",
            "           9       0.84      0.78      0.81      1804\n",
            "\n",
            "    accuracy                           0.82     18000\n",
            "   macro avg       0.82      0.82      0.82     18000\n",
            "weighted avg       0.82      0.82      0.82     18000\n",
            "\n"
          ],
          "name": "stdout"
        }
      ]
    },
    {
      "cell_type": "markdown",
      "metadata": {
        "id": "n10i0v5fZBJj",
        "colab_type": "text"
      },
      "source": [
        "## Overall Observations & Report:\n",
        "\n",
        "### KNN \n",
        "\n",
        "*   KNN is having very poor accuracy than the Neural Network\n",
        "*   K-NN is time consuming compared to NN.\n",
        "\n",
        "### Deep Neural Network.\n",
        "\n",
        "*   Deep Neural Network yields better results and predict very well, just check the sample output. \n",
        "\n",
        "*   Classification report shows Almost 82% Accuracy with equal Precission and Recall Value.\n"
      ]
    },
    {
      "cell_type": "markdown",
      "metadata": {
        "id": "RlxXiq8rmFuL",
        "colab_type": "text"
      },
      "source": [
        "\n",
        "\n",
        "---\n",
        "\n"
      ]
    }
  ]
}