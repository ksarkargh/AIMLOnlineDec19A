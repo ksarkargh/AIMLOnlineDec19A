{
  "nbformat": 4,
  "nbformat_minor": 0,
  "metadata": {
    "colab": {
      "name": "Neural Network Project.ipynb",
      "provenance": []
    },
    "kernelspec": {
      "name": "python3",
      "display_name": "Python 3"
    }
  },
  "cells": [
    {
      "cell_type": "markdown",
      "metadata": {
        "id": "41ukZLLgz04k",
        "colab_type": "text"
      },
      "source": [
        "# **The Problem Description:** \n",
        "\n",
        "---\n",
        "\n",
        "\n",
        "\n",
        "Recognizing multi-digit numbers in photographs captured at street level is an important component of modern-day map making. A classic example of a corpus of such street level photographs is Google’s Street View imagery comprised of hundreds of millions of geo-located 360 degree panoramic images. The ability to automatically transcribe an address number from a geo-located patch of pixels and associate the transcribed number with a known street address helps pinpoint, with a high degree of accuracy, the location of the building it represents. \n",
        "\n",
        "More broadly, recognizing numbers in photographs is a problem of interest to the optical character recognition community. While OCR on constrained domains like document processing is well studied, arbitrary multi-character text recognition in photographs is still highly challenging. This difficulty arises due to the wide variability in the visual appearance of text in the wild on account of a large range of fonts, colours, styles, orientations, and character arrangements. The recognition problem is further complicated by environmental factors such as lighting, shadows, secularities, and occlusions as well as by image acquisition factors such as resolution, motion, and focus blurs. \n",
        "\n",
        "In this project we will use dataset with images centred around a single digit (many of the images do contain some distractors at the sides). Although we are taking a sample of the data which is simpler, it is more complex than MNIST because of the distractors."
      ]
    },
    {
      "cell_type": "markdown",
      "metadata": {
        "id": "XZnmxK5g0Zgw",
        "colab_type": "text"
      },
      "source": [
        "## Data Description:\n",
        "\n",
        "---\n",
        "\n",
        "\n",
        "\n",
        "The Street View House Numbers (SVHN) Dataset SVHN is a real-world image dataset for developing machine learning and object recognition algorithms with minimal requirement on data formatting but comes from a significantly harder, unsolved, real world problem (recognizing digits and numbers in natural scene images). SVHN is obtained from house numbers in Google Street View images. \n",
        "\n",
        "### Link to the dataset: \n",
        "\n",
        "https://drive.google.com/file/d/1L2-WXzguhUsCArrFUc8EEkXcj33pahoS/view?usp=sharing"
      ]
    },
    {
      "cell_type": "markdown",
      "metadata": {
        "id": "3k_AOogshKCB",
        "colab_type": "text"
      },
      "source": [
        "# **Steps and tasks**\n",
        "\n",
        "---\n",
        "\n"
      ]
    },
    {
      "cell_type": "markdown",
      "metadata": {
        "id": "TUl2B0wD1Q2G",
        "colab_type": "text"
      },
      "source": [
        "### 1. Load Dataset\n",
        "### 2. Understand the basic Image Classification pipeline and the data-driven approach (train/predict stages)\n",
        "### 3. Data fetching and understand the train/val/test splits. (15 points)"
      ]
    },
    {
      "cell_type": "code",
      "metadata": {
        "id": "6CnAHG9N1qUU",
        "colab_type": "code",
        "colab": {
          "base_uri": "https://localhost:8080/",
          "height": 122
        },
        "outputId": "6af25387-08fc-433e-ad67-75bb00a24ecb"
      },
      "source": [
        "#Mounting the google drive \n",
        "\n",
        "from google.colab import drive\n",
        "drive.mount('/gdrive/')"
      ],
      "execution_count": 4,
      "outputs": [
        {
          "output_type": "stream",
          "text": [
            "Go to this URL in a browser: https://accounts.google.com/o/oauth2/auth?client_id=947318989803-6bn6qk8qdgf4n4g3pfee6491hc0brc4i.apps.googleusercontent.com&redirect_uri=urn%3aietf%3awg%3aoauth%3a2.0%3aoob&response_type=code&scope=email%20https%3a%2f%2fwww.googleapis.com%2fauth%2fdocs.test%20https%3a%2f%2fwww.googleapis.com%2fauth%2fdrive%20https%3a%2f%2fwww.googleapis.com%2fauth%2fdrive.photos.readonly%20https%3a%2f%2fwww.googleapis.com%2fauth%2fpeopleapi.readonly\n",
            "\n",
            "Enter your authorization code:\n",
            "··········\n",
            "Mounted at /gdrive/\n"
          ],
          "name": "stdout"
        }
      ]
    },
    {
      "cell_type": "code",
      "metadata": {
        "id": "NP05XT2s1TYq",
        "colab_type": "code",
        "colab": {
          "base_uri": "https://localhost:8080/",
          "height": 35
        },
        "outputId": "1c57278e-189e-4958-ed09-b5ae39b5ace9"
      },
      "source": [
        "# Loading necessary libraries \n",
        "import h5py\n",
        "import numpy as np\n",
        "\n",
        "import matplotlib.pyplot as plt\n",
        "%matplotlib inline\n",
        "\n",
        "%tensorflow_version 2.x\n",
        "import tensorflow as tf\n",
        "tf.__version__\n"
      ],
      "execution_count": 2,
      "outputs": [
        {
          "output_type": "execute_result",
          "data": {
            "application/vnd.google.colaboratory.intrinsic": {
              "type": "string"
            },
            "text/plain": [
              "'2.2.0'"
            ]
          },
          "metadata": {
            "tags": []
          },
          "execution_count": 2
        }
      ]
    },
    {
      "cell_type": "code",
      "metadata": {
        "id": "jmTXaarv8HWE",
        "colab_type": "code",
        "colab": {}
      },
      "source": [
        "import random as rd\n",
        "rd.seed(10)"
      ],
      "execution_count": 3,
      "outputs": []
    },
    {
      "cell_type": "code",
      "metadata": {
        "id": "vo3bksLB8ktx",
        "colab_type": "code",
        "colab": {}
      },
      "source": [
        "import warnings\n",
        "warnings.filterwarnings(\"ignore\")"
      ],
      "execution_count": 4,
      "outputs": []
    },
    {
      "cell_type": "code",
      "metadata": {
        "id": "Q5672CwO2F2t",
        "colab_type": "code",
        "colab": {}
      },
      "source": [
        "filename = \"/gdrive/My Drive/AIML/Labs/NNData/SVHN_single_grey1.h5\"\n",
        "h5f = h5py.File(filename, 'r')"
      ],
      "execution_count": 5,
      "outputs": []
    },
    {
      "cell_type": "code",
      "metadata": {
        "id": "dezW-_IJ3QjW",
        "colab_type": "code",
        "colab": {
          "base_uri": "https://localhost:8080/",
          "height": 34
        },
        "outputId": "ce34bc5e-2fd5-49a3-fc41-a4793c342f98"
      },
      "source": [
        "# Listing the contents of H5 file\n",
        "list(h5f)"
      ],
      "execution_count": 6,
      "outputs": [
        {
          "output_type": "execute_result",
          "data": {
            "text/plain": [
              "['X_test', 'X_train', 'X_val', 'y_test', 'y_train', 'y_val']"
            ]
          },
          "metadata": {
            "tags": []
          },
          "execution_count": 6
        }
      ]
    },
    {
      "cell_type": "markdown",
      "metadata": {
        "id": "9HpPxQMYePz9",
        "colab_type": "text"
      },
      "source": [
        "Reference: Train Test validate Data\n",
        "\n",
        "https://www.youtube.com/watch?v=Zi-0rlM4RDs"
      ]
    },
    {
      "cell_type": "code",
      "metadata": {
        "id": "hmc0MHlG3RZa",
        "colab_type": "code",
        "colab": {}
      },
      "source": [
        "# Load the training test and validation set\n",
        "\n",
        "X_train = h5f['X_train'][:]\n",
        "y_train = h5f['y_train'][:]\n",
        "X_test  = h5f['X_test'][:]\n",
        "y_test  = h5f['y_test'][:]\n",
        "\n",
        "X_val   = h5f['X_val'][:]\n",
        "y_val   = h5f['y_val'][:]\n",
        "\n",
        "# Close this file\n",
        "h5f.close()"
      ],
      "execution_count": 7,
      "outputs": []
    },
    {
      "cell_type": "code",
      "metadata": {
        "id": "KDD_pS9x4CrZ",
        "colab_type": "code",
        "colab": {
          "base_uri": "https://localhost:8080/",
          "height": 119
        },
        "outputId": "8808a13b-c39c-4a2e-a5fd-41ccf92e77a5"
      },
      "source": [
        "#Print the shape of all the datas available.\n",
        "print ('X_train Shape: ', X_train.shape)\n",
        "print ('y_train Shape: ', y_train.shape)\n",
        "print ('X_val Shape: ', X_val.shape)\n",
        "print ('y_val Shape: ', y_val.shape)\n",
        "print ('X_test Shape: ', X_test.shape)\n",
        "print ('y_test Shape: ', y_test.shape)"
      ],
      "execution_count": 8,
      "outputs": [
        {
          "output_type": "stream",
          "text": [
            "X_train Shape:  (42000, 32, 32)\n",
            "y_train Shape:  (42000,)\n",
            "X_val Shape:  (60000, 32, 32)\n",
            "y_val Shape:  (60000,)\n",
            "X_test Shape:  (18000, 32, 32)\n",
            "y_test Shape:  (18000,)\n"
          ],
          "name": "stdout"
        }
      ]
    },
    {
      "cell_type": "markdown",
      "metadata": {
        "id": "dqfiFT_15LLB",
        "colab_type": "text"
      },
      "source": [
        "## Visualizing the dataset\n"
      ]
    },
    {
      "cell_type": "markdown",
      "metadata": {
        "id": "-1-5YsAXhrtL",
        "colab_type": "text"
      },
      "source": [
        "### Training Set"
      ]
    },
    {
      "cell_type": "code",
      "metadata": {
        "id": "XPDNOov261oC",
        "colab_type": "code",
        "colab": {
          "base_uri": "https://localhost:8080/",
          "height": 542
        },
        "outputId": "351431fa-5241-4d85-d1f0-4f4c76e64d9b"
      },
      "source": [
        "#Print First 5 image from Training Set\n",
        "for i in range(0,5):\n",
        "  plt.figure(figsize=(1, 1))\n",
        "  plt.imshow(X_train[i])\n",
        "  plt.show(True)\n",
        "  print(\"Label for the Image\",y_train[i])"
      ],
      "execution_count": 9,
      "outputs": [
        {
          "output_type": "display_data",
          "data": {
            "image/png": "[encoded data removed]",
            "text/plain": [
              "<Figure size 72x72 with 1 Axes>"
            ]
          },
          "metadata": {
            "tags": [],
            "needs_background": "light"
          }
        },
        {
          "output_type": "stream",
          "text": [
            "Label for the Image 2\n"
          ],
          "name": "stdout"
        },
        {
          "output_type": "display_data",
          "data": {
            "image/png": "[encoded data removed]",
            "text/plain": [
              "<Figure size 72x72 with 1 Axes>"
            ]
          },
          "metadata": {
            "tags": [],
            "needs_background": "light"
          }
        },
        {
          "output_type": "stream",
          "text": [
            "Label for the Image 6\n"
          ],
          "name": "stdout"
        },
        {
          "output_type": "display_data",
          "data": {
            "image/png": "[encoded data removed]",
            "text/plain": [
              "<Figure size 72x72 with 1 Axes>"
            ]
          },
          "metadata": {
            "tags": [],
            "needs_background": "light"
          }
        },
        {
          "output_type": "stream",
          "text": [
            "Label for the Image 7\n"
          ],
          "name": "stdout"
        },
        {
          "output_type": "display_data",
          "data": {
            "image/png": "[encoded data removed]",
            "text/plain": [
              "<Figure size 72x72 with 1 Axes>"
            ]
          },
          "metadata": {
            "tags": [],
            "needs_background": "light"
          }
        },
        {
          "output_type": "stream",
          "text": [
            "Label for the Image 4\n"
          ],
          "name": "stdout"
        },
        {
          "output_type": "display_data",
          "data": {
            "image/png": "[encoded data removed]",
            "text/plain": [
              "<Figure size 72x72 with 1 Axes>"
            ]
          },
          "metadata": {
            "tags": [],
            "needs_background": "light"
          }
        },
        {
          "output_type": "stream",
          "text": [
            "Label for the Image 4\n"
          ],
          "name": "stdout"
        }
      ]
    },
    {
      "cell_type": "markdown",
      "metadata": {
        "id": "wwP5muAmh2NB",
        "colab_type": "text"
      },
      "source": [
        "### Validation Set"
      ]
    },
    {
      "cell_type": "code",
      "metadata": {
        "id": "V978BfMLh36p",
        "colab_type": "code",
        "colab": {
          "base_uri": "https://localhost:8080/",
          "height": 542
        },
        "outputId": "cce4e5c0-bae2-44fc-d10a-1634f8b6253b"
      },
      "source": [
        "#Print First 5 image from Validation Set\n",
        "for i in range(0,5):\n",
        "  plt.figure(figsize=(1, 1))\n",
        "  plt.imshow(X_val[i])\n",
        "  plt.show(True)\n",
        "  print(\"Label for the Image\",y_val[i])"
      ],
      "execution_count": 10,
      "outputs": [
        {
          "output_type": "display_data",
          "data": {
            "image/png": "[encoded data removed]",
            "text/plain": [
              "<Figure size 72x72 with 1 Axes>"
            ]
          },
          "metadata": {
            "tags": [],
            "needs_background": "light"
          }
        },
        {
          "output_type": "stream",
          "text": [
            "Label for the Image 0\n"
          ],
          "name": "stdout"
        },
        {
          "output_type": "display_data",
          "data": {
            "image/png": "[encoded data removed]",
            "text/plain": [
              "<Figure size 72x72 with 1 Axes>"
            ]
          },
          "metadata": {
            "tags": [],
            "needs_background": "light"
          }
        },
        {
          "output_type": "stream",
          "text": [
            "Label for the Image 0\n"
          ],
          "name": "stdout"
        },
        {
          "output_type": "display_data",
          "data": {
            "image/png": "[encoded data removed]",
            "text/plain": [
              "<Figure size 72x72 with 1 Axes>"
            ]
          },
          "metadata": {
            "tags": [],
            "needs_background": "light"
          }
        },
        {
          "output_type": "stream",
          "text": [
            "Label for the Image 0\n"
          ],
          "name": "stdout"
        },
        {
          "output_type": "display_data",
          "data": {
            "image/png": "[encoded data removed]",
            "text/plain": [
              "<Figure size 72x72 with 1 Axes>"
            ]
          },
          "metadata": {
            "tags": [],
            "needs_background": "light"
          }
        },
        {
          "output_type": "stream",
          "text": [
            "Label for the Image 0\n"
          ],
          "name": "stdout"
        },
        {
          "output_type": "display_data",
          "data": {
            "image/png": "[encoded data removed]",
            "text/plain": [
              "<Figure size 72x72 with 1 Axes>"
            ]
          },
          "metadata": {
            "tags": [],
            "needs_background": "light"
          }
        },
        {
          "output_type": "stream",
          "text": [
            "Label for the Image 0\n"
          ],
          "name": "stdout"
        }
      ]
    },
    {
      "cell_type": "markdown",
      "metadata": {
        "id": "k58LCGixO9Sg",
        "colab_type": "text"
      },
      "source": [
        "## Observation\n",
        "\n",
        "---\n",
        "\n",
        "\n",
        "\n",
        "**Validation Set** images are of same label from 0 to 5, variation is very less, So we need to select the data randomly otherwise it will have data sparseness."
      ]
    },
    {
      "cell_type": "code",
      "metadata": {
        "id": "2n-rQrRgPn6o",
        "colab_type": "code",
        "colab": {
          "base_uri": "https://localhost:8080/",
          "height": 576
        },
        "outputId": "90a8a2ce-8e95-43ce-ccc6-9e699bc6d4b7"
      },
      "source": [
        "import random\n",
        "\n",
        "randomList = []\n",
        "# Set a length of the list to 10\n",
        "for i in range(0, 5):\n",
        "    # any random numbers from 0 to 1000\n",
        "    randomList.append(random.randint(0, 60000))\n",
        "\n",
        "print(\"Printing list of 5 random numbers\")\n",
        "print(randomList)\n",
        "\n",
        "#Print First 5 image from Validation Set\n",
        "for i in randomList:\n",
        "  plt.figure(figsize=(1, 1))\n",
        "  plt.imshow(X_val[i])\n",
        "  plt.show(True)\n",
        "  print(\"Label for the Image\",y_val[i])"
      ],
      "execution_count": 11,
      "outputs": [
        {
          "output_type": "stream",
          "text": [
            "Printing list of 5 random numbers\n",
            "[37447, 2135, 28107, 31625, 37885]\n"
          ],
          "name": "stdout"
        },
        {
          "output_type": "display_data",
          "data": {
            "image/png": "[encoded data removed]",
            "text/plain": [
              "<Figure size 72x72 with 1 Axes>"
            ]
          },
          "metadata": {
            "tags": [],
            "needs_background": "light"
          }
        },
        {
          "output_type": "stream",
          "text": [
            "Label for the Image 9\n"
          ],
          "name": "stdout"
        },
        {
          "output_type": "display_data",
          "data": {
            "image/png": "[encoded data removed]",
            "text/plain": [
              "<Figure size 72x72 with 1 Axes>"
            ]
          },
          "metadata": {
            "tags": [],
            "needs_background": "light"
          }
        },
        {
          "output_type": "stream",
          "text": [
            "Label for the Image 0\n"
          ],
          "name": "stdout"
        },
        {
          "output_type": "display_data",
          "data": {
            "image/png": "[encoded data removed]",
            "text/plain": [
              "<Figure size 72x72 with 1 Axes>"
            ]
          },
          "metadata": {
            "tags": [],
            "needs_background": "light"
          }
        },
        {
          "output_type": "stream",
          "text": [
            "Label for the Image 7\n"
          ],
          "name": "stdout"
        },
        {
          "output_type": "display_data",
          "data": {
            "image/png": "[encoded data removed]",
            "text/plain": [
              "<Figure size 72x72 with 1 Axes>"
            ]
          },
          "metadata": {
            "tags": [],
            "needs_background": "light"
          }
        },
        {
          "output_type": "stream",
          "text": [
            "Label for the Image 7\n"
          ],
          "name": "stdout"
        },
        {
          "output_type": "display_data",
          "data": {
            "image/png": "[encoded data removed]",
            "text/plain": [
              "<Figure size 72x72 with 1 Axes>"
            ]
          },
          "metadata": {
            "tags": [],
            "needs_background": "light"
          }
        },
        {
          "output_type": "stream",
          "text": [
            "Label for the Image 9\n"
          ],
          "name": "stdout"
        }
      ]
    },
    {
      "cell_type": "markdown",
      "metadata": {
        "id": "sRS9z4AZiKB2",
        "colab_type": "text"
      },
      "source": [
        "### Test Set"
      ]
    },
    {
      "cell_type": "code",
      "metadata": {
        "id": "WTNlmO8kiUfk",
        "colab_type": "code",
        "colab": {
          "base_uri": "https://localhost:8080/",
          "height": 542
        },
        "outputId": "ac63daa5-bfb2-463d-a510-ee53273299dc"
      },
      "source": [
        "#Print First 5 image from test Set\n",
        "for i in range(0,5):\n",
        "  plt.figure(figsize=(1, 1))\n",
        "  plt.imshow(X_test[i])\n",
        "  plt.show(True)\n",
        "  print(\"Label for the Image\",y_test[i])"
      ],
      "execution_count": 12,
      "outputs": [
        {
          "output_type": "display_data",
          "data": {
            "image/png": "[encoded data removed]",
            "text/plain": [
              "<Figure size 72x72 with 1 Axes>"
            ]
          },
          "metadata": {
            "tags": [],
            "needs_background": "light"
          }
        },
        {
          "output_type": "stream",
          "text": [
            "Label for the Image 1\n"
          ],
          "name": "stdout"
        },
        {
          "output_type": "display_data",
          "data": {
            "image/png": "[encoded data removed]",
            "text/plain": [
              "<Figure size 72x72 with 1 Axes>"
            ]
          },
          "metadata": {
            "tags": [],
            "needs_background": "light"
          }
        },
        {
          "output_type": "stream",
          "text": [
            "Label for the Image 7\n"
          ],
          "name": "stdout"
        },
        {
          "output_type": "display_data",
          "data": {
            "image/png": "[encoded data removed]",
            "text/plain": [
              "<Figure size 72x72 with 1 Axes>"
            ]
          },
          "metadata": {
            "tags": [],
            "needs_background": "light"
          }
        },
        {
          "output_type": "stream",
          "text": [
            "Label for the Image 2\n"
          ],
          "name": "stdout"
        },
        {
          "output_type": "display_data",
          "data": {
            "image/png": "[encoded data removed]",
            "text/plain": [
              "<Figure size 72x72 with 1 Axes>"
            ]
          },
          "metadata": {
            "tags": [],
            "needs_background": "light"
          }
        },
        {
          "output_type": "stream",
          "text": [
            "Label for the Image 9\n"
          ],
          "name": "stdout"
        },
        {
          "output_type": "display_data",
          "data": {
            "image/png": "[encoded data removed]",
            "text/plain": [
              "<Figure size 72x72 with 1 Axes>"
            ]
          },
          "metadata": {
            "tags": [],
            "needs_background": "light"
          }
        },
        {
          "output_type": "stream",
          "text": [
            "Label for the Image 0\n"
          ],
          "name": "stdout"
        }
      ]
    },
    {
      "cell_type": "code",
      "metadata": {
        "id": "tJcdAWDb-glf",
        "colab_type": "code",
        "colab": {
          "base_uri": "https://localhost:8080/",
          "height": 68
        },
        "outputId": "5e49393b-724d-4738-f0ca-12acf9b35813"
      },
      "source": [
        "X_train = X_train.reshape(X_train.shape[0], X_train.shape[1] * X_train.shape[2])\n",
        "print(X_train.shape)\n",
        "X_test = X_test.reshape(X_test.shape[0], X_test.shape[1] * X_test.shape[2])\n",
        "print(X_test.shape)\n",
        "X_val = X_val.reshape(X_val.shape[0], X_val.shape[1] * X_val.shape[2])\n",
        "print(X_val.shape)\n"
      ],
      "execution_count": 13,
      "outputs": [
        {
          "output_type": "stream",
          "text": [
            "(42000, 1024)\n",
            "(18000, 1024)\n",
            "(60000, 1024)\n"
          ],
          "name": "stdout"
        }
      ]
    },
    {
      "cell_type": "code",
      "metadata": {
        "id": "VCs2u2CoEw0m",
        "colab_type": "code",
        "colab": {}
      },
      "source": [
        "## normalize inputs from 0-255 to 0-1\n",
        "#X_train = X_train/255.0\n",
        "##X_test =X_test /255.0\n",
        "#X_val =X_val /255.0"
      ],
      "execution_count": 14,
      "outputs": []
    },
    {
      "cell_type": "markdown",
      "metadata": {
        "id": "RvZz_5auKzLb",
        "colab_type": "text"
      },
      "source": [
        "## Observation:\n",
        "\n",
        "---\n",
        "1. There are 3 Set of Data, Train, Validate and Test Set\n",
        "2. **Training Set** - 42000 image of 32*32 Pixel are with same no. of Labeld data\n",
        "3. **Validation Set** - 60000 image of 32*32 Pixel are with same no. of Labeld data\n",
        "4. **Test Set** - 18000 image of 32*32 Pixel are with same no. of Labeld data\n",
        "5. **Validation Set** images are in the similar label from 0 to 5, variation is very less, So we need to re-arrange the data otherwise during sample pickup it will have data sparseness.\n",
        "\n",
        "\n",
        "\n",
        "\n",
        "\n",
        "\n",
        "\n"
      ]
    },
    {
      "cell_type": "markdown",
      "metadata": {
        "id": "zBUf7clJLFOr",
        "colab_type": "text"
      },
      "source": [
        "### For the basic Image Classification pipeline and the data-driven approach (train/predict stages), Let's use k-Nearest Neighbor (kNN) classifier"
      ]
    },
    {
      "cell_type": "code",
      "metadata": {
        "id": "MbQprwwWkFBY",
        "colab_type": "code",
        "colab": {}
      },
      "source": [
        "def getRandList(from_arr, howMany):\n",
        "  randomList = []\n",
        "  for i in range(0, int(howMany)):\n",
        "    randomList.append(random.randint(0, len(from_arr)))\n",
        "  return randomList;"
      ],
      "execution_count": 15,
      "outputs": []
    },
    {
      "cell_type": "code",
      "metadata": {
        "id": "XAaqF7mXizmK",
        "colab_type": "code",
        "colab": {
          "base_uri": "https://localhost:8080/",
          "height": 119
        },
        "outputId": "bcd50d42-cfd6-4f24-d103-a3cd9ce91c76"
      },
      "source": [
        "# Subsample the data for more efficient code execution in this exercise\n",
        "\n",
        "X_train = X_train[np.array(getRandList(X_train,len(X_train)/50))] #840 Train Data\n",
        "y_train = y_train[np.array(getRandList(y_train,len(y_train)/50))]\n",
        "\n",
        "X_test = X_test[np.array(getRandList(X_test,len(X_test)/180))] #100 Test Data\n",
        "y_test = y_test[np.array(getRandList(y_test,len(y_test)/180))]\n",
        "\n",
        "X_val = X_val[np.array(getRandList(X_val,len(X_val)/150))] #400 Validation Data\n",
        "y_val = y_val[np.array(getRandList(y_val,len(y_val)/150))]\n",
        "\n",
        "print(X_train.shape)\n",
        "print(y_train.shape)\n",
        "print(X_val.shape)\n",
        "print(y_val.shape)\n",
        "print(X_test.shape)\n",
        "print(y_test.shape)"
      ],
      "execution_count": 16,
      "outputs": [
        {
          "output_type": "stream",
          "text": [
            "(840, 1024)\n",
            "(840,)\n",
            "(400, 1024)\n",
            "(400,)\n",
            "(100, 1024)\n",
            "(100,)\n"
          ],
          "name": "stdout"
        }
      ]
    },
    {
      "cell_type": "markdown",
      "metadata": {
        "id": "gWuaDiJa24ID",
        "colab_type": "text"
      },
      "source": [
        "## Observation\n",
        "\n",
        "---\n",
        "\n",
        "\n",
        "\n",
        "**Visualizing the Distribution of Training, Validation and Test Set** after the Sub Sample, To Ensure there is no class imballance while secting the Sample Data"
      ]
    },
    {
      "cell_type": "code",
      "metadata": {
        "id": "f0GjJX441ciB",
        "colab_type": "code",
        "colab": {
          "base_uri": "https://localhost:8080/",
          "height": 298
        },
        "outputId": "3649a367-8cdb-4ebf-ed89-e74497d1e4f8"
      },
      "source": [
        "from matplotlib import pyplot as plt \n",
        "import numpy as np  \n",
        "\n",
        "print('Unique Set of Data at Train Set: ',np.unique(y_train))\n",
        "plt.hist(y_train, bins = [0,1,2,3,4,5,6,7,8,9]) \n",
        "plt.title(\"histogram\") \n",
        "plt.show()"
      ],
      "execution_count": 17,
      "outputs": [
        {
          "output_type": "stream",
          "text": [
            "Unique Set of Data at Train Set:  [0 1 2 3 4 5 6 7 8 9]\n"
          ],
          "name": "stdout"
        },
        {
          "output_type": "display_data",
          "data": {
            "image/png": "[encoded data removed]",
            "text/plain": [
              "<Figure size 432x288 with 1 Axes>"
            ]
          },
          "metadata": {
            "tags": [],
            "needs_background": "light"
          }
        }
      ]
    },
    {
      "cell_type": "code",
      "metadata": {
        "id": "TGYFYsmkybzT",
        "colab_type": "code",
        "colab": {
          "base_uri": "https://localhost:8080/",
          "height": 298
        },
        "outputId": "341822bb-05da-46f3-82f9-ddf6b3c16efe"
      },
      "source": [
        "from matplotlib import pyplot as plt \n",
        "import numpy as np  \n",
        "print('Unique Set of Data at Test Set: ',np.unique(y_val))\n",
        "plt.hist(y_val, bins = [0,1,2,3,4,5,6,7,8,9],) \n",
        "plt.title(\"histogram\") \n",
        "plt.show()"
      ],
      "execution_count": 18,
      "outputs": [
        {
          "output_type": "stream",
          "text": [
            "Unique Set of Data at Test Set:  [0 1 2 3 4 5 6 7 8 9]\n"
          ],
          "name": "stdout"
        },
        {
          "output_type": "display_data",
          "data": {
            "image/png": "[encoded data removed]",
            "text/plain": [
              "<Figure size 432x288 with 1 Axes>"
            ]
          },
          "metadata": {
            "tags": [],
            "needs_background": "light"
          }
        }
      ]
    },
    {
      "cell_type": "code",
      "metadata": {
        "id": "0W3xcLj213H4",
        "colab_type": "code",
        "colab": {
          "base_uri": "https://localhost:8080/",
          "height": 298
        },
        "outputId": "4a87fadf-f224-4e33-f855-ce75e45e1795"
      },
      "source": [
        "from matplotlib import pyplot as plt \n",
        "import numpy as np  \n",
        "print('Unique Set of Data at Test Set: ',np.unique(y_test))\n",
        "plt.hist(y_test, bins = [0,1,2,3,4,5,6,7,8,9],) \n",
        "plt.title(\"histogram\") \n",
        "plt.show()"
      ],
      "execution_count": 19,
      "outputs": [
        {
          "output_type": "stream",
          "text": [
            "Unique Set of Data at Test Set:  [0 1 2 3 4 5 6 7 8 9]\n"
          ],
          "name": "stdout"
        },
        {
          "output_type": "display_data",
          "data": {
            "image/png": "[encoded data removed]",
            "text/plain": [
              "<Figure size 432x288 with 1 Axes>"
            ]
          },
          "metadata": {
            "tags": [],
            "needs_background": "light"
          }
        }
      ]
    },
    {
      "cell_type": "code",
      "metadata": {
        "id": "poCcrf-2NijK",
        "colab_type": "code",
        "colab": {}
      },
      "source": [
        "from sklearn.neighbors import KNeighborsClassifier\n",
        "NNH = KNeighborsClassifier(n_neighbors= 3,algorithm='brute')"
      ],
      "execution_count": 20,
      "outputs": []
    },
    {
      "cell_type": "code",
      "metadata": {
        "id": "8dFjxHhDQUZN",
        "colab_type": "code",
        "colab": {
          "base_uri": "https://localhost:8080/",
          "height": 68
        },
        "outputId": "0633782b-54cf-4f59-a26e-642fcc1314f1"
      },
      "source": [
        "NNH.fit(X_train, y_train)"
      ],
      "execution_count": 21,
      "outputs": [
        {
          "output_type": "execute_result",
          "data": {
            "text/plain": [
              "KNeighborsClassifier(algorithm='brute', leaf_size=30, metric='minkowski',\n",
              "                     metric_params=None, n_jobs=None, n_neighbors=3, p=2,\n",
              "                     weights='uniform')"
            ]
          },
          "metadata": {
            "tags": []
          },
          "execution_count": 21
        }
      ]
    },
    {
      "cell_type": "code",
      "metadata": {
        "id": "vEpIIskDzcyR",
        "colab_type": "code",
        "colab": {
          "base_uri": "https://localhost:8080/",
          "height": 34
        },
        "outputId": "673eb6c8-44f9-45cd-f92c-4709855781a7"
      },
      "source": [
        "# Find the accuracy score for Training data\n",
        "score = NNH.score(X_train, y_train)\n",
        "print(score)"
      ],
      "execution_count": 22,
      "outputs": [
        {
          "output_type": "stream",
          "text": [
            "0.4083333333333333\n"
          ],
          "name": "stdout"
        }
      ]
    },
    {
      "cell_type": "code",
      "metadata": {
        "id": "bUe7FodhRI5v",
        "colab_type": "code",
        "colab": {
          "base_uri": "https://localhost:8080/",
          "height": 34
        },
        "outputId": "5e2b3e60-0744-468a-c31f-c07597cdb74b"
      },
      "source": [
        "# Find the accuracy score for val data\n",
        "score = NNH.score(X_val, y_val)\n",
        "print(score)"
      ],
      "execution_count": 23,
      "outputs": [
        {
          "output_type": "stream",
          "text": [
            "0.1075\n"
          ],
          "name": "stdout"
        }
      ]
    },
    {
      "cell_type": "code",
      "metadata": {
        "id": "FvJqG2mYymo_",
        "colab_type": "code",
        "colab": {}
      },
      "source": [
        "# Predicting only for first 300 data rows to reduce execution time\n",
        "predicted_KNN = NNH.predict(X_val)"
      ],
      "execution_count": 24,
      "outputs": []
    },
    {
      "cell_type": "code",
      "metadata": {
        "id": "mF6y0xCBydgx",
        "colab_type": "code",
        "colab": {
          "base_uri": "https://localhost:8080/",
          "height": 34
        },
        "outputId": "c51a7352-90cd-4e6d-bf68-727a7f39ad45"
      },
      "source": [
        "from sklearn import metrics\n",
        "\n",
        "from sklearn.metrics import accuracy_score, confusion_matrix, recall_score, precision_score, auc, roc_curve\n",
        "\n",
        "metrics.accuracy_score(y_val,predicted_KNN)"
      ],
      "execution_count": 25,
      "outputs": [
        {
          "output_type": "execute_result",
          "data": {
            "text/plain": [
              "0.1075"
            ]
          },
          "metadata": {
            "tags": []
          },
          "execution_count": 25
        }
      ]
    },
    {
      "cell_type": "markdown",
      "metadata": {
        "id": "UFm888KG1Egm",
        "colab_type": "text"
      },
      "source": [
        "### Print the classification metric report for KNN Model"
      ]
    },
    {
      "cell_type": "code",
      "metadata": {
        "id": "qykJvcvs1Cqh",
        "colab_type": "code",
        "colab": {
          "base_uri": "https://localhost:8080/",
          "height": 306
        },
        "outputId": "1888c4c9-e0cd-4338-b023-d29b7f2b9809"
      },
      "source": [
        "from sklearn.metrics import classification_report\n",
        "\n",
        "target_names = ['0', '1', '2','3','4','5','6','7','8','9']\n",
        "\n",
        "print(classification_report(y_val, predicted_KNN,target_names=target_names))"
      ],
      "execution_count": 26,
      "outputs": [
        {
          "output_type": "stream",
          "text": [
            "              precision    recall  f1-score   support\n",
            "\n",
            "           0       0.11      0.28      0.16        40\n",
            "           1       0.12      0.21      0.16        38\n",
            "           2       0.08      0.12      0.10        41\n",
            "           3       0.10      0.12      0.11        51\n",
            "           4       0.09      0.09      0.09        32\n",
            "           5       0.13      0.10      0.11        39\n",
            "           6       0.18      0.05      0.08        39\n",
            "           7       0.11      0.05      0.07        40\n",
            "           8       0.09      0.02      0.04        46\n",
            "           9       0.11      0.03      0.05        34\n",
            "\n",
            "    accuracy                           0.11       400\n",
            "   macro avg       0.11      0.11      0.10       400\n",
            "weighted avg       0.11      0.11      0.10       400\n",
            "\n"
          ],
          "name": "stdout"
        }
      ]
    },
    {
      "cell_type": "code",
      "metadata": {
        "id": "74AmW6011nKU",
        "colab_type": "code",
        "colab": {
          "base_uri": "https://localhost:8080/",
          "height": 442
        },
        "outputId": "99c24656-5e3d-4475-c72d-521dc76ce32f"
      },
      "source": [
        "#Finding the optimal K\n",
        "from sklearn.model_selection import cross_val_score\n",
        "\n",
        "# creating odd list of K for KNN\n",
        "myList = list(range(1,50))\n",
        "\n",
        "# subsetting just the odd ones\n",
        "neighbors = filter(lambda x: x % 2 != 0, myList)\n",
        "\n",
        "# empty list that will hold cv scores\n",
        "cv_scores = []\n",
        "\n",
        "# perform 3-fold cross validation\n",
        "for k in neighbors:\n",
        "    knn = KNeighborsClassifier(n_neighbors=k,algorithm='brute')\n",
        "    scores = cross_val_score(knn, X_val, y_val, cv=3, scoring='accuracy')\n",
        "    cv_scores.append(scores.mean())\n",
        "    print(\"for k = \",k,\", Accuracy = \",cv_scores[-1])"
      ],
      "execution_count": 27,
      "outputs": [
        {
          "output_type": "stream",
          "text": [
            "for k =  1 , Accuracy =  0.09746380877567051\n",
            "for k =  3 , Accuracy =  0.1124452923353159\n",
            "for k =  5 , Accuracy =  0.11246399581042156\n",
            "for k =  7 , Accuracy =  0.10995773014626116\n",
            "for k =  9 , Accuracy =  0.1149515579994763\n",
            "for k =  11 , Accuracy =  0.1099390266711555\n",
            "for k =  13 , Accuracy =  0.11248269928552725\n",
            "for k =  15 , Accuracy =  0.11994538585269143\n",
            "for k =  17 , Accuracy =  0.10255115400441402\n",
            "for k =  19 , Accuracy =  0.10505741966857442\n",
            "for k =  21 , Accuracy =  0.10255115400441402\n",
            "for k =  23 , Accuracy =  0.10253245052930833\n",
            "for k =  25 , Accuracy =  0.09248868439756107\n",
            "for k =  27 , Accuracy =  0.10251374705420267\n",
            "for k =  29 , Accuracy =  0.10245763662888564\n",
            "for k =  31 , Accuracy =  0.08747615306924027\n",
            "for k =  33 , Accuracy =  0.10002618486514793\n",
            "for k =  35 , Accuracy =  0.10253245052930833\n",
            "for k =  37 , Accuracy =  0.10000748139004227\n",
            "for k =  39 , Accuracy =  0.11504507537500468\n",
            "for k =  41 , Accuracy =  0.11504507537500468\n",
            "for k =  43 , Accuracy =  0.09751991920098753\n",
            "for k =  45 , Accuracy =  0.09248868439756107\n",
            "for k =  47 , Accuracy =  0.09503235701193281\n",
            "for k =  49 , Accuracy =  0.102495043579097\n"
          ],
          "name": "stdout"
        }
      ]
    },
    {
      "cell_type": "code",
      "metadata": {
        "id": "1g_QcBmQ2Q-i",
        "colab_type": "code",
        "colab": {
          "base_uri": "https://localhost:8080/",
          "height": 296
        },
        "outputId": "3fd8786b-b329-4c79-d338-2cf6360443fa"
      },
      "source": [
        "from matplotlib import pyplot as plt\n",
        "# changing to misclassification error\n",
        "MSE = [1 - x for x in cv_scores]\n",
        "\n",
        "lstneighbors = list(filter(lambda x: x % 2 != 0, myList))\n",
        "\n",
        "# determining best k\n",
        "optimal_k = lstneighbors[MSE.index(min(MSE))]\n",
        "print (\"The optimal number of neighbors is %d\" % optimal_k)\n",
        "\n",
        "# plot misclassification error vs k\n",
        "plt.plot(lstneighbors, MSE)\n",
        "plt.xlabel('Number of Neighbors K')\n",
        "plt.ylabel('Misclassification Error')\n",
        "plt.show()"
      ],
      "execution_count": 28,
      "outputs": [
        {
          "output_type": "stream",
          "text": [
            "The optimal number of neighbors is 15\n"
          ],
          "name": "stdout"
        },
        {
          "output_type": "display_data",
          "data": {
            "image/png": "[encoded data removed]",
            "text/plain": [
              "<Figure size 432x288 with 1 Axes>"
            ]
          },
          "metadata": {
            "tags": [],
            "needs_background": "light"
          }
        }
      ]
    },
    {
      "cell_type": "code",
      "metadata": {
        "id": "OZOFFesg27oa",
        "colab_type": "code",
        "colab": {
          "base_uri": "https://localhost:8080/",
          "height": 68
        },
        "outputId": "59ef570c-ac6b-4dd3-ea5c-2537767f8c9b"
      },
      "source": [
        "#Lets build the Knn model with optiomal K \n",
        "\n",
        "neigh = KNeighborsClassifier(n_neighbors=optimal_k,algorithm='brute')\n",
        "neigh.fit(X_train, y_train) "
      ],
      "execution_count": 29,
      "outputs": [
        {
          "output_type": "execute_result",
          "data": {
            "text/plain": [
              "KNeighborsClassifier(algorithm='brute', leaf_size=30, metric='minkowski',\n",
              "                     metric_params=None, n_jobs=None, n_neighbors=15, p=2,\n",
              "                     weights='uniform')"
            ]
          },
          "metadata": {
            "tags": []
          },
          "execution_count": 29
        }
      ]
    },
    {
      "cell_type": "code",
      "metadata": {
        "id": "oEBDAiix3O96",
        "colab_type": "code",
        "colab": {
          "base_uri": "https://localhost:8080/",
          "height": 34
        },
        "outputId": "15b9d402-bfe8-47ed-8eea-acfb00629726"
      },
      "source": [
        "# Find the accuracy score for Training data\n",
        "score = NNH.score(X_train, y_train)\n",
        "print(score)"
      ],
      "execution_count": 30,
      "outputs": [
        {
          "output_type": "stream",
          "text": [
            "0.4083333333333333\n"
          ],
          "name": "stdout"
        }
      ]
    },
    {
      "cell_type": "code",
      "metadata": {
        "id": "-pUg3dzH3UPN",
        "colab_type": "code",
        "colab": {
          "base_uri": "https://localhost:8080/",
          "height": 34
        },
        "outputId": "c00f0520-9d2f-4669-8032-688ef56031ac"
      },
      "source": [
        "# Find the accuracy score for val data\n",
        "score = NNH.score(X_val, y_val)\n",
        "print(score)"
      ],
      "execution_count": 31,
      "outputs": [
        {
          "output_type": "stream",
          "text": [
            "0.1075\n"
          ],
          "name": "stdout"
        }
      ]
    },
    {
      "cell_type": "code",
      "metadata": {
        "id": "ewIVFE90Bt82",
        "colab_type": "code",
        "colab": {
          "base_uri": "https://localhost:8080/",
          "height": 34
        },
        "outputId": "d37c44e5-cc96-4ae8-eda9-f7d510df3d2d"
      },
      "source": [
        "#Get the accuracy score for test data\n",
        "NNH.score(X_test, y_test)"
      ],
      "execution_count": 32,
      "outputs": [
        {
          "output_type": "execute_result",
          "data": {
            "text/plain": [
              "0.17"
            ]
          },
          "metadata": {
            "tags": []
          },
          "execution_count": 32
        }
      ]
    },
    {
      "cell_type": "code",
      "metadata": {
        "id": "n0Xzlo-l3lYs",
        "colab_type": "code",
        "colab": {}
      },
      "source": [
        "# Predicting only for first 300 data rows to reduce execution time\n",
        "predicted_KNN = NNH.predict(X_test)"
      ],
      "execution_count": 33,
      "outputs": []
    },
    {
      "cell_type": "code",
      "metadata": {
        "id": "0iwV_s2l3sB-",
        "colab_type": "code",
        "colab": {
          "base_uri": "https://localhost:8080/",
          "height": 34
        },
        "outputId": "4d7f80e1-7acd-4629-fc7c-ed789bf7df65"
      },
      "source": [
        "from sklearn import metrics\n",
        "\n",
        "from sklearn.metrics import accuracy_score, confusion_matrix, recall_score, precision_score, auc, roc_curve\n",
        "\n",
        "metrics.accuracy_score(y_test,predicted_KNN)"
      ],
      "execution_count": 34,
      "outputs": [
        {
          "output_type": "execute_result",
          "data": {
            "text/plain": [
              "0.17"
            ]
          },
          "metadata": {
            "tags": []
          },
          "execution_count": 34
        }
      ]
    },
    {
      "cell_type": "markdown",
      "metadata": {
        "id": "r8xRQIxK6rXv",
        "colab_type": "text"
      },
      "source": [
        "## Test\n",
        "\n",
        "---\n",
        "\n",
        "**Let's Verify** few Data for Test on Prediction and Actual Before going for Accuracy Score"
      ]
    },
    {
      "cell_type": "code",
      "metadata": {
        "id": "QzTo4dUiwLsj",
        "colab_type": "code",
        "colab": {
          "base_uri": "https://localhost:8080/",
          "height": 34
        },
        "outputId": "9dafb2ef-49d9-46ec-929e-55a416d97f4b"
      },
      "source": [
        "#Predicted Data\n",
        "predicted_KNN[0:10]"
      ],
      "execution_count": 35,
      "outputs": [
        {
          "output_type": "execute_result",
          "data": {
            "text/plain": [
              "array([5, 1, 2, 2, 7, 8, 1, 1, 3, 4], dtype=uint8)"
            ]
          },
          "metadata": {
            "tags": []
          },
          "execution_count": 35
        }
      ]
    },
    {
      "cell_type": "code",
      "metadata": {
        "id": "-0bd8OgIwQSx",
        "colab_type": "code",
        "colab": {
          "base_uri": "https://localhost:8080/",
          "height": 34
        },
        "outputId": "ece768be-2518-471c-8d5c-aa9b677950ae"
      },
      "source": [
        "#Actual Data\n",
        "y_test[0:10]"
      ],
      "execution_count": 36,
      "outputs": [
        {
          "output_type": "execute_result",
          "data": {
            "text/plain": [
              "array([6, 8, 6, 3, 7, 2, 9, 6, 0, 1], dtype=uint8)"
            ]
          },
          "metadata": {
            "tags": []
          },
          "execution_count": 36
        }
      ]
    },
    {
      "cell_type": "code",
      "metadata": {
        "id": "QS2CiZ_L38_u",
        "colab_type": "code",
        "colab": {
          "base_uri": "https://localhost:8080/",
          "height": 306
        },
        "outputId": "6ca1008e-fd38-49c9-8dd6-76dba3489f60"
      },
      "source": [
        "from sklearn.metrics import classification_report\n",
        "\n",
        "target_names = ['0', '1', '2','3','4','5','6','7','8','9']\n",
        "\n",
        "print(classification_report(y_test, predicted_KNN,target_names=target_names))"
      ],
      "execution_count": 37,
      "outputs": [
        {
          "output_type": "stream",
          "text": [
            "              precision    recall  f1-score   support\n",
            "\n",
            "           0       0.27      0.31      0.29        13\n",
            "           1       0.00      0.00      0.00        11\n",
            "           2       0.19      0.44      0.27         9\n",
            "           3       0.17      0.33      0.22         6\n",
            "           4       0.25      0.22      0.24         9\n",
            "           5       0.17      0.18      0.17        11\n",
            "           6       0.33      0.10      0.15        10\n",
            "           7       0.14      0.09      0.11        11\n",
            "           8       0.00      0.00      0.00         5\n",
            "           9       0.50      0.07      0.12        15\n",
            "\n",
            "    accuracy                           0.17       100\n",
            "   macro avg       0.20      0.17      0.16       100\n",
            "weighted avg       0.23      0.17      0.16       100\n",
            "\n"
          ],
          "name": "stdout"
        }
      ]
    },
    {
      "cell_type": "markdown",
      "metadata": {
        "id": "909DesU2wsc5",
        "colab_type": "text"
      },
      "source": [
        "## Observation\n",
        "\n",
        "---\n",
        "\n",
        "1. Overall **Accuracy is very poor** for KNN even started with **K-fold=3 and Optimal K=15 Hyperparameter** set.\n",
        "\n",
        "2. The Data Selected for Train, Validate and Test All are **having image Labeled 0-9**.\n",
        "\n",
        "3. With Hyper Parameterization Accuracy Score improved from 11% to 17% in Test\n",
        "\n"
      ]
    },
    {
      "cell_type": "markdown",
      "metadata": {
        "id": "zl3E-8m_7Vnf",
        "colab_type": "text"
      },
      "source": [
        "# 4. Implement and apply a deep neural network classifier including (feedforward neural network, RELU, activations) (25 points)"
      ]
    },
    {
      "cell_type": "markdown",
      "metadata": {
        "id": "8z32X6t5PBc-",
        "colab_type": "text"
      },
      "source": [
        "Reference: https://faroit.com/keras-docs/2.0.6/getting-started/sequential-model-guide/"
      ]
    },
    {
      "cell_type": "code",
      "metadata": {
        "id": "LuCU5jV9Zusm",
        "colab_type": "code",
        "colab": {
          "base_uri": "https://localhost:8080/",
          "height": 35
        },
        "outputId": "6cd0d814-45fd-4747-c6f4-2147d8e25852"
      },
      "source": [
        "# Loading necessary libraries \n",
        "import h5py\n",
        "import numpy as np\n",
        "\n",
        "import matplotlib.pyplot as plt\n",
        "%matplotlib inline\n",
        "\n",
        "%tensorflow_version 2.x\n",
        "import tensorflow as tf\n",
        "tf.__version__"
      ],
      "execution_count": 5,
      "outputs": [
        {
          "output_type": "execute_result",
          "data": {
            "application/vnd.google.colaboratory.intrinsic": {
              "type": "string"
            },
            "text/plain": [
              "'2.2.0'"
            ]
          },
          "metadata": {
            "tags": []
          },
          "execution_count": 5
        }
      ]
    },
    {
      "cell_type": "code",
      "metadata": {
        "id": "mb-nDzYO80w2",
        "colab_type": "code",
        "colab": {}
      },
      "source": [
        "from keras import applications\n",
        "from keras.models import Sequential, Model \n",
        "from keras.layers import Dropout, Flatten, Dense\n",
        "from keras import backend as k \n",
        "from keras.callbacks import ModelCheckpoint, EarlyStopping"
      ],
      "execution_count": 6,
      "outputs": []
    },
    {
      "cell_type": "code",
      "metadata": {
        "id": "9DH45SIjEuc_",
        "colab_type": "code",
        "colab": {}
      },
      "source": [
        "filename = \"/gdrive/My Drive/AIML/Labs/NNData/SVHN_single_grey1.h5\"\n",
        "h5f = h5py.File(filename, 'r')\n",
        "\n",
        "X_train = h5f['X_train'][:]\n",
        "y_train = h5f['y_train'][:]\n",
        "X_test  = h5f['X_test'][:]\n",
        "y_test  = h5f['y_test'][:]\n",
        "\n",
        "X_val   = h5f['X_val'][:]\n",
        "y_val   = h5f['y_val'][:]\n",
        "\n",
        "h5f.close();"
      ],
      "execution_count": 7,
      "outputs": []
    },
    {
      "cell_type": "code",
      "metadata": {
        "id": "mVF_9oH-Wwfn",
        "colab_type": "code",
        "colab": {}
      },
      "source": [
        "#Initialize model, reshape\n",
        "modelNN = tf.keras.models.Sequential()\n",
        "modelNN.add(tf.keras.layers.Reshape((1024,),input_shape=(32,32,)))"
      ],
      "execution_count": 8,
      "outputs": []
    },
    {
      "cell_type": "code",
      "metadata": {
        "id": "I_cN2V7fVTYh",
        "colab_type": "code",
        "colab": {}
      },
      "source": [
        "#Add 1st hidden layer\n",
        "modelNN.add(tf.keras.layers.Dense(200 , activation='relu'))\n",
        "\n",
        "#Add 2nd hidden layer\n",
        "modelNN.add(tf.keras.layers.Dense(100 , activation='relu'))\n",
        "\n",
        "#Add 3rd hidden layer\n",
        "#modelNN.add(tf.keras.layers.Dense(50 , activation='relu')) #Commented as Loss was comming nan\n",
        "\n",
        "#Add 4th hidden layer\n",
        "#modelNN.add(tf.keras.layers.Dense(100 , activation='relu')) #Commented as Loss was comming nan\n",
        "\n",
        "#Add OUTPUT layer\n",
        "modelNN.add(tf.keras.layers.Dense(10 , activation='softmax'))\n",
        "\n",
        "#Create optimizer with non-default learning rate\n",
        "sgd_optimizer = tf.keras.optimizers.SGD(lr=0.01)\n",
        "\n",
        "#Compile the model\n",
        "modelNN.compile(optimizer=sgd_optimizer, loss='categorical_crossentropy', metrics=['accuracy'])"
      ],
      "execution_count": 9,
      "outputs": []
    },
    {
      "cell_type": "code",
      "metadata": {
        "id": "WNrP5if9WHWJ",
        "colab_type": "code",
        "colab": {
          "base_uri": "https://localhost:8080/",
          "height": 289
        },
        "outputId": "4525fad4-5691-4eb6-de76-30abce172cd2"
      },
      "source": [
        "modelNN.summary()"
      ],
      "execution_count": 10,
      "outputs": [
        {
          "output_type": "stream",
          "text": [
            "Model: \"sequential\"\n",
            "_________________________________________________________________\n",
            "Layer (type)                 Output Shape              Param #   \n",
            "=================================================================\n",
            "reshape (Reshape)            (None, 1024)              0         \n",
            "_________________________________________________________________\n",
            "dense (Dense)                (None, 200)               205000    \n",
            "_________________________________________________________________\n",
            "dense_1 (Dense)              (None, 100)               20100     \n",
            "_________________________________________________________________\n",
            "dense_2 (Dense)              (None, 10)                1010      \n",
            "=================================================================\n",
            "Total params: 226,110\n",
            "Trainable params: 226,110\n",
            "Non-trainable params: 0\n",
            "_________________________________________________________________\n"
          ],
          "name": "stdout"
        }
      ]
    },
    {
      "cell_type": "code",
      "metadata": {
        "id": "XZsl6W7AEzPg",
        "colab_type": "code",
        "colab": {}
      },
      "source": [
        "# Convering to One Hot Vectors\n",
        "y_train = tf.keras.utils.to_categorical(y_train, num_classes=10)\n",
        "y_val = tf.keras.utils.to_categorical(y_val, num_classes=10)\n",
        "y_test  = tf.keras.utils.to_categorical(y_test, num_classes=10)"
      ],
      "execution_count": 11,
      "outputs": []
    },
    {
      "cell_type": "code",
      "metadata": {
        "id": "6R1_bQ6fWWwD",
        "colab_type": "code",
        "colab": {
          "base_uri": "https://localhost:8080/",
          "height": 3417
        },
        "outputId": "67a5d2cb-f031-4df5-a05b-bb5a1930edc3"
      },
      "source": [
        "modelNN_output = modelNN.fit(X_train , y_train, batch_size=200, epochs=100, validation_data=(X_val, y_val), verbose=1)"
      ],
      "execution_count": 12,
      "outputs": [
        {
          "output_type": "stream",
          "text": [
            "Epoch 1/100\n",
            "210/210 [==============================] - 2s 11ms/step - loss: 520928064.0000 - accuracy: 0.1016 - val_loss: 2.3141 - val_accuracy: 0.1000\n",
            "Epoch 2/100\n",
            "210/210 [==============================] - 2s 10ms/step - loss: 2.3026 - accuracy: 0.1019 - val_loss: 2.3141 - val_accuracy: 0.1000\n",
            "Epoch 3/100\n",
            "210/210 [==============================] - 2s 10ms/step - loss: 2.3026 - accuracy: 0.1019 - val_loss: 2.3141 - val_accuracy: 0.1000\n",
            "Epoch 4/100\n",
            "210/210 [==============================] - 2s 10ms/step - loss: 2.3026 - accuracy: 0.1019 - val_loss: 2.3141 - val_accuracy: 0.1000\n",
            "Epoch 5/100\n",
            "210/210 [==============================] - 2s 10ms/step - loss: 2.3026 - accuracy: 0.1019 - val_loss: 2.3141 - val_accuracy: 0.1000\n",
            "Epoch 6/100\n",
            "210/210 [==============================] - 2s 10ms/step - loss: 2.3026 - accuracy: 0.1019 - val_loss: 2.3141 - val_accuracy: 0.1000\n",
            "Epoch 7/100\n",
            "210/210 [==============================] - 2s 10ms/step - loss: 2.3026 - accuracy: 0.1019 - val_loss: 2.3141 - val_accuracy: 0.1000\n",
            "Epoch 8/100\n",
            "210/210 [==============================] - 2s 10ms/step - loss: 2.3026 - accuracy: 0.1019 - val_loss: 2.3140 - val_accuracy: 0.1000\n",
            "Epoch 9/100\n",
            "210/210 [==============================] - 2s 10ms/step - loss: 2.3026 - accuracy: 0.1019 - val_loss: 2.3140 - val_accuracy: 0.1000\n",
            "Epoch 10/100\n",
            "210/210 [==============================] - 2s 10ms/step - loss: 2.3026 - accuracy: 0.1019 - val_loss: 2.3140 - val_accuracy: 0.1000\n",
            "Epoch 11/100\n",
            "210/210 [==============================] - 2s 10ms/step - loss: 2.3026 - accuracy: 0.1019 - val_loss: 2.3140 - val_accuracy: 0.1000\n",
            "Epoch 12/100\n",
            "210/210 [==============================] - 2s 10ms/step - loss: 2.3026 - accuracy: 0.1019 - val_loss: 2.3140 - val_accuracy: 0.1000\n",
            "Epoch 13/100\n",
            "210/210 [==============================] - 2s 10ms/step - loss: 2.3026 - accuracy: 0.1019 - val_loss: 2.3140 - val_accuracy: 0.1000\n",
            "Epoch 14/100\n",
            "210/210 [==============================] - 2s 10ms/step - loss: 2.3026 - accuracy: 0.1019 - val_loss: 2.3140 - val_accuracy: 0.1000\n",
            "Epoch 15/100\n",
            "210/210 [==============================] - 2s 10ms/step - loss: 2.3026 - accuracy: 0.1019 - val_loss: 2.3140 - val_accuracy: 0.1000\n",
            "Epoch 16/100\n",
            "210/210 [==============================] - 2s 10ms/step - loss: 2.3026 - accuracy: 0.1019 - val_loss: 2.3140 - val_accuracy: 0.1000\n",
            "Epoch 17/100\n",
            "210/210 [==============================] - 2s 10ms/step - loss: 2.3026 - accuracy: 0.1019 - val_loss: 2.3140 - val_accuracy: 0.1000\n",
            "Epoch 18/100\n",
            "210/210 [==============================] - 2s 10ms/step - loss: 2.3026 - accuracy: 0.1019 - val_loss: 2.3140 - val_accuracy: 0.1000\n",
            "Epoch 19/100\n",
            "210/210 [==============================] - 2s 10ms/step - loss: 2.3026 - accuracy: 0.1019 - val_loss: 2.3140 - val_accuracy: 0.1000\n",
            "Epoch 20/100\n",
            "210/210 [==============================] - 2s 10ms/step - loss: 2.3026 - accuracy: 0.1019 - val_loss: 2.3140 - val_accuracy: 0.1000\n",
            "Epoch 21/100\n",
            "210/210 [==============================] - 2s 10ms/step - loss: 2.3026 - accuracy: 0.1019 - val_loss: 2.3140 - val_accuracy: 0.1000\n",
            "Epoch 22/100\n",
            "210/210 [==============================] - 2s 10ms/step - loss: 2.3026 - accuracy: 0.1019 - val_loss: 2.3140 - val_accuracy: 0.1000\n",
            "Epoch 23/100\n",
            "210/210 [==============================] - 2s 10ms/step - loss: 2.3026 - accuracy: 0.1019 - val_loss: 2.3140 - val_accuracy: 0.1000\n",
            "Epoch 24/100\n",
            "210/210 [==============================] - 2s 10ms/step - loss: 2.3026 - accuracy: 0.1019 - val_loss: 2.3140 - val_accuracy: 0.1000\n",
            "Epoch 25/100\n",
            "210/210 [==============================] - 2s 10ms/step - loss: 2.3026 - accuracy: 0.1019 - val_loss: 2.3140 - val_accuracy: 0.1000\n",
            "Epoch 26/100\n",
            "210/210 [==============================] - 2s 10ms/step - loss: 2.3026 - accuracy: 0.1019 - val_loss: 2.3140 - val_accuracy: 0.1000\n",
            "Epoch 27/100\n",
            "210/210 [==============================] - 2s 10ms/step - loss: 2.3026 - accuracy: 0.1019 - val_loss: 2.3140 - val_accuracy: 0.1000\n",
            "Epoch 28/100\n",
            "210/210 [==============================] - 2s 10ms/step - loss: 2.3026 - accuracy: 0.1019 - val_loss: 2.3140 - val_accuracy: 0.1000\n",
            "Epoch 29/100\n",
            "210/210 [==============================] - 2s 10ms/step - loss: 2.3026 - accuracy: 0.1019 - val_loss: 2.3140 - val_accuracy: 0.1000\n",
            "Epoch 30/100\n",
            "210/210 [==============================] - 2s 10ms/step - loss: 2.3026 - accuracy: 0.1019 - val_loss: 2.3140 - val_accuracy: 0.1000\n",
            "Epoch 31/100\n",
            "210/210 [==============================] - 2s 10ms/step - loss: 2.3026 - accuracy: 0.1019 - val_loss: 2.3140 - val_accuracy: 0.1000\n",
            "Epoch 32/100\n",
            "210/210 [==============================] - 2s 10ms/step - loss: 2.3026 - accuracy: 0.1019 - val_loss: 2.3140 - val_accuracy: 0.1000\n",
            "Epoch 33/100\n",
            "210/210 [==============================] - 2s 10ms/step - loss: 2.3026 - accuracy: 0.1019 - val_loss: 2.3140 - val_accuracy: 0.1000\n",
            "Epoch 34/100\n",
            "210/210 [==============================] - 2s 10ms/step - loss: 2.3026 - accuracy: 0.1019 - val_loss: 2.3140 - val_accuracy: 0.1000\n",
            "Epoch 35/100\n",
            "210/210 [==============================] - 2s 10ms/step - loss: 2.3026 - accuracy: 0.1019 - val_loss: 2.3140 - val_accuracy: 0.1000\n",
            "Epoch 36/100\n",
            "210/210 [==============================] - 2s 10ms/step - loss: 2.3026 - accuracy: 0.1019 - val_loss: 2.3140 - val_accuracy: 0.1000\n",
            "Epoch 37/100\n",
            "210/210 [==============================] - 2s 10ms/step - loss: 2.3026 - accuracy: 0.1019 - val_loss: 2.3140 - val_accuracy: 0.1000\n",
            "Epoch 38/100\n",
            "210/210 [==============================] - 2s 10ms/step - loss: 2.3026 - accuracy: 0.1019 - val_loss: 2.3140 - val_accuracy: 0.1000\n",
            "Epoch 39/100\n",
            "210/210 [==============================] - 2s 10ms/step - loss: 2.3026 - accuracy: 0.1019 - val_loss: 2.3140 - val_accuracy: 0.1000\n",
            "Epoch 40/100\n",
            "210/210 [==============================] - 2s 10ms/step - loss: 2.3026 - accuracy: 0.1019 - val_loss: 2.3140 - val_accuracy: 0.1000\n",
            "Epoch 41/100\n",
            "210/210 [==============================] - 2s 10ms/step - loss: 2.3026 - accuracy: 0.1019 - val_loss: 2.3140 - val_accuracy: 0.1000\n",
            "Epoch 42/100\n",
            "210/210 [==============================] - 2s 10ms/step - loss: 2.3026 - accuracy: 0.1019 - val_loss: 2.3140 - val_accuracy: 0.1000\n",
            "Epoch 43/100\n",
            "210/210 [==============================] - 2s 10ms/step - loss: 2.3026 - accuracy: 0.1019 - val_loss: 2.3140 - val_accuracy: 0.1000\n",
            "Epoch 44/100\n",
            "210/210 [==============================] - 2s 10ms/step - loss: 2.3026 - accuracy: 0.1019 - val_loss: 2.3140 - val_accuracy: 0.1000\n",
            "Epoch 45/100\n",
            "210/210 [==============================] - 2s 10ms/step - loss: 2.3026 - accuracy: 0.1019 - val_loss: 2.3140 - val_accuracy: 0.1000\n",
            "Epoch 46/100\n",
            "210/210 [==============================] - 2s 10ms/step - loss: 2.3026 - accuracy: 0.1019 - val_loss: 2.3140 - val_accuracy: 0.1000\n",
            "Epoch 47/100\n",
            "210/210 [==============================] - 2s 10ms/step - loss: 2.3026 - accuracy: 0.1019 - val_loss: 2.3140 - val_accuracy: 0.1000\n",
            "Epoch 48/100\n",
            "210/210 [==============================] - 2s 10ms/step - loss: 2.3026 - accuracy: 0.1019 - val_loss: 2.3140 - val_accuracy: 0.1000\n",
            "Epoch 49/100\n",
            "210/210 [==============================] - 2s 10ms/step - loss: 2.3026 - accuracy: 0.1019 - val_loss: 2.3140 - val_accuracy: 0.1000\n",
            "Epoch 50/100\n",
            "210/210 [==============================] - 2s 10ms/step - loss: 2.3026 - accuracy: 0.1019 - val_loss: 2.3140 - val_accuracy: 0.1000\n",
            "Epoch 51/100\n",
            "210/210 [==============================] - 2s 10ms/step - loss: 2.3026 - accuracy: 0.1019 - val_loss: 2.3140 - val_accuracy: 0.1000\n",
            "Epoch 52/100\n",
            "210/210 [==============================] - 2s 10ms/step - loss: 2.3026 - accuracy: 0.1019 - val_loss: 2.3140 - val_accuracy: 0.1000\n",
            "Epoch 53/100\n",
            "210/210 [==============================] - 2s 11ms/step - loss: 2.3026 - accuracy: 0.1019 - val_loss: 2.3140 - val_accuracy: 0.1000\n",
            "Epoch 54/100\n",
            "210/210 [==============================] - 2s 11ms/step - loss: 2.3026 - accuracy: 0.1019 - val_loss: 2.3140 - val_accuracy: 0.1000\n",
            "Epoch 55/100\n",
            "210/210 [==============================] - 2s 11ms/step - loss: 2.3026 - accuracy: 0.1019 - val_loss: 2.3140 - val_accuracy: 0.1000\n",
            "Epoch 56/100\n",
            "210/210 [==============================] - 2s 11ms/step - loss: 2.3026 - accuracy: 0.1019 - val_loss: 2.3140 - val_accuracy: 0.1000\n",
            "Epoch 57/100\n",
            "210/210 [==============================] - 2s 11ms/step - loss: 2.3026 - accuracy: 0.1019 - val_loss: 2.3140 - val_accuracy: 0.1000\n",
            "Epoch 58/100\n",
            "210/210 [==============================] - 2s 10ms/step - loss: 2.3026 - accuracy: 0.1019 - val_loss: 2.3140 - val_accuracy: 0.1000\n",
            "Epoch 59/100\n",
            "210/210 [==============================] - 2s 10ms/step - loss: 2.3026 - accuracy: 0.1019 - val_loss: 2.3140 - val_accuracy: 0.1000\n",
            "Epoch 60/100\n",
            "210/210 [==============================] - 2s 11ms/step - loss: 2.3026 - accuracy: 0.1019 - val_loss: 2.3140 - val_accuracy: 0.1000\n",
            "Epoch 61/100\n",
            "210/210 [==============================] - 2s 11ms/step - loss: 2.3026 - accuracy: 0.1019 - val_loss: 2.3140 - val_accuracy: 0.1000\n",
            "Epoch 62/100\n",
            "210/210 [==============================] - 2s 10ms/step - loss: 2.3026 - accuracy: 0.1019 - val_loss: 2.3140 - val_accuracy: 0.1000\n",
            "Epoch 63/100\n",
            "210/210 [==============================] - 2s 10ms/step - loss: 2.3026 - accuracy: 0.1019 - val_loss: 2.3140 - val_accuracy: 0.1000\n",
            "Epoch 64/100\n",
            "210/210 [==============================] - 2s 10ms/step - loss: 2.3026 - accuracy: 0.1019 - val_loss: 2.3140 - val_accuracy: 0.1000\n",
            "Epoch 65/100\n",
            "210/210 [==============================] - 2s 10ms/step - loss: 2.3026 - accuracy: 0.1019 - val_loss: 2.3140 - val_accuracy: 0.1000\n",
            "Epoch 66/100\n",
            "210/210 [==============================] - 2s 10ms/step - loss: 2.3026 - accuracy: 0.1019 - val_loss: 2.3140 - val_accuracy: 0.1000\n",
            "Epoch 67/100\n",
            "210/210 [==============================] - 2s 10ms/step - loss: 2.3026 - accuracy: 0.1019 - val_loss: 2.3140 - val_accuracy: 0.1000\n",
            "Epoch 68/100\n",
            "210/210 [==============================] - 2s 10ms/step - loss: 2.3026 - accuracy: 0.1019 - val_loss: 2.3140 - val_accuracy: 0.1000\n",
            "Epoch 69/100\n",
            "210/210 [==============================] - 2s 10ms/step - loss: 2.3026 - accuracy: 0.1019 - val_loss: 2.3140 - val_accuracy: 0.1000\n",
            "Epoch 70/100\n",
            "210/210 [==============================] - 2s 10ms/step - loss: 2.3026 - accuracy: 0.1019 - val_loss: 2.3140 - val_accuracy: 0.1000\n",
            "Epoch 71/100\n",
            "210/210 [==============================] - 2s 10ms/step - loss: 2.3026 - accuracy: 0.1019 - val_loss: 2.3140 - val_accuracy: 0.1000\n",
            "Epoch 72/100\n",
            "210/210 [==============================] - 2s 10ms/step - loss: 2.3026 - accuracy: 0.1019 - val_loss: 2.3140 - val_accuracy: 0.1000\n",
            "Epoch 73/100\n",
            "210/210 [==============================] - 2s 10ms/step - loss: 2.3026 - accuracy: 0.1019 - val_loss: 2.3140 - val_accuracy: 0.1000\n",
            "Epoch 74/100\n",
            "210/210 [==============================] - 2s 10ms/step - loss: 2.3026 - accuracy: 0.1019 - val_loss: 2.3140 - val_accuracy: 0.1000\n",
            "Epoch 75/100\n",
            "210/210 [==============================] - 2s 10ms/step - loss: 2.3026 - accuracy: 0.1019 - val_loss: 2.3140 - val_accuracy: 0.1000\n",
            "Epoch 76/100\n",
            "210/210 [==============================] - 2s 10ms/step - loss: 2.3026 - accuracy: 0.1019 - val_loss: 2.3140 - val_accuracy: 0.1000\n",
            "Epoch 77/100\n",
            "210/210 [==============================] - 2s 10ms/step - loss: 2.3026 - accuracy: 0.1019 - val_loss: 2.3140 - val_accuracy: 0.1000\n",
            "Epoch 78/100\n",
            "210/210 [==============================] - 2s 10ms/step - loss: 2.3026 - accuracy: 0.1019 - val_loss: 2.3140 - val_accuracy: 0.1000\n",
            "Epoch 79/100\n",
            "210/210 [==============================] - 2s 10ms/step - loss: 2.3026 - accuracy: 0.1019 - val_loss: 2.3140 - val_accuracy: 0.1000\n",
            "Epoch 80/100\n",
            "210/210 [==============================] - 2s 10ms/step - loss: 2.3026 - accuracy: 0.1019 - val_loss: 2.3140 - val_accuracy: 0.1000\n",
            "Epoch 81/100\n",
            "210/210 [==============================] - 2s 10ms/step - loss: 2.3026 - accuracy: 0.1019 - val_loss: 2.3140 - val_accuracy: 0.1000\n",
            "Epoch 82/100\n",
            "210/210 [==============================] - 2s 10ms/step - loss: 2.3026 - accuracy: 0.1019 - val_loss: 2.3140 - val_accuracy: 0.1000\n",
            "Epoch 83/100\n",
            "210/210 [==============================] - 2s 10ms/step - loss: 2.3026 - accuracy: 0.1019 - val_loss: 2.3140 - val_accuracy: 0.1000\n",
            "Epoch 84/100\n",
            "210/210 [==============================] - 2s 10ms/step - loss: 2.3026 - accuracy: 0.1019 - val_loss: 2.3140 - val_accuracy: 0.1000\n",
            "Epoch 85/100\n",
            "210/210 [==============================] - 2s 10ms/step - loss: 2.3026 - accuracy: 0.1019 - val_loss: 2.3140 - val_accuracy: 0.1000\n",
            "Epoch 86/100\n",
            "210/210 [==============================] - 2s 10ms/step - loss: 2.3026 - accuracy: 0.1019 - val_loss: 2.3140 - val_accuracy: 0.1000\n",
            "Epoch 87/100\n",
            "210/210 [==============================] - 2s 10ms/step - loss: 2.3026 - accuracy: 0.1019 - val_loss: 2.3140 - val_accuracy: 0.1000\n",
            "Epoch 88/100\n",
            "210/210 [==============================] - 2s 10ms/step - loss: 2.3026 - accuracy: 0.1019 - val_loss: 2.3140 - val_accuracy: 0.1000\n",
            "Epoch 89/100\n",
            "210/210 [==============================] - 2s 10ms/step - loss: 2.3026 - accuracy: 0.1019 - val_loss: 2.3140 - val_accuracy: 0.1000\n",
            "Epoch 90/100\n",
            "210/210 [==============================] - 2s 10ms/step - loss: 2.3026 - accuracy: 0.1019 - val_loss: 2.3140 - val_accuracy: 0.1000\n",
            "Epoch 91/100\n",
            "210/210 [==============================] - 2s 10ms/step - loss: 2.3026 - accuracy: 0.1019 - val_loss: 2.3140 - val_accuracy: 0.1000\n",
            "Epoch 92/100\n",
            "210/210 [==============================] - 2s 10ms/step - loss: 2.3026 - accuracy: 0.1019 - val_loss: 2.3140 - val_accuracy: 0.1000\n",
            "Epoch 93/100\n",
            "210/210 [==============================] - 2s 10ms/step - loss: 2.3026 - accuracy: 0.1019 - val_loss: 2.3140 - val_accuracy: 0.1000\n",
            "Epoch 94/100\n",
            "210/210 [==============================] - 2s 10ms/step - loss: 2.3026 - accuracy: 0.1019 - val_loss: 2.3140 - val_accuracy: 0.1000\n",
            "Epoch 95/100\n",
            "210/210 [==============================] - 2s 10ms/step - loss: 2.3026 - accuracy: 0.1019 - val_loss: 2.3140 - val_accuracy: 0.1000\n",
            "Epoch 96/100\n",
            "210/210 [==============================] - 2s 10ms/step - loss: 2.3026 - accuracy: 0.1019 - val_loss: 2.3140 - val_accuracy: 0.1000\n",
            "Epoch 97/100\n",
            "210/210 [==============================] - 2s 10ms/step - loss: 2.3026 - accuracy: 0.1019 - val_loss: 2.3140 - val_accuracy: 0.1000\n",
            "Epoch 98/100\n",
            "210/210 [==============================] - 2s 10ms/step - loss: 2.3026 - accuracy: 0.1019 - val_loss: 2.3140 - val_accuracy: 0.1000\n",
            "Epoch 99/100\n",
            "210/210 [==============================] - 2s 10ms/step - loss: 2.3026 - accuracy: 0.1019 - val_loss: 2.3140 - val_accuracy: 0.1000\n",
            "Epoch 100/100\n",
            "210/210 [==============================] - 2s 10ms/step - loss: 2.3026 - accuracy: 0.1019 - val_loss: 2.3140 - val_accuracy: 0.1000\n"
          ],
          "name": "stdout"
        }
      ]
    },
    {
      "cell_type": "code",
      "metadata": {
        "id": "nGxZNiaQWewZ",
        "colab_type": "code",
        "colab": {
          "base_uri": "https://localhost:8080/",
          "height": 68
        },
        "outputId": "93e6eb79-bfee-4202-d1dc-b3860b4c35de"
      },
      "source": [
        "score = modelNN.evaluate(X_test,y_test, verbose=1)\n",
        "\n",
        "print('Test loss:', score[0])\n",
        "print('Test accuracy:', score[1])"
      ],
      "execution_count": 13,
      "outputs": [
        {
          "output_type": "stream",
          "text": [
            "563/563 [==============================] - 1s 2ms/step - loss: 2.3408 - accuracy: 0.0955\n",
            "Test loss: 2.3408455848693848\n",
            "Test accuracy: 0.09549999982118607\n"
          ],
          "name": "stdout"
        }
      ]
    },
    {
      "cell_type": "markdown",
      "metadata": {
        "id": "jUMOHaV6T8lX",
        "colab_type": "text"
      },
      "source": [
        "## Observations:\n",
        "#### Even with SGD, the accuray of the model is not increased.*** Lets implement bacthnormalization***"
      ]
    },
    {
      "cell_type": "markdown",
      "metadata": {
        "id": "ciKKlh5JXENK",
        "colab_type": "text"
      },
      "source": [
        "# 5. Implement batch normalization for training the neural network(10 points)"
      ]
    },
    {
      "cell_type": "code",
      "metadata": {
        "id": "jee8t8TFRsp5",
        "colab_type": "code",
        "colab": {}
      },
      "source": [
        "#Initialize Sequential model\n",
        "modelBNN = tf.keras.models.Sequential()\n",
        "\n",
        "modelBNN.add(tf.keras.layers.Reshape((1024,),input_shape=(32,32,)))\n",
        "\n",
        "#Normalize the data\n",
        "modelBNN.add(tf.keras.layers.BatchNormalization())\n",
        "\n",
        "#Add 1st hidden layer\n",
        "modelBNN.add(tf.keras.layers.Dense(200, activation='relu'))\n",
        "\n",
        "#Normalize the data\n",
        "modelBNN.add(tf.keras.layers.BatchNormalization())\n",
        "#Dropout layer\n",
        "modelBNN.add(tf.keras.layers.Dropout(0.5))\n",
        "\n",
        "#Add 2nd hidden layer\n",
        "#modelBNN.add(tf.keras.layers.Dense(150, activation='relu')) #Commented as loss was coming nan\n",
        "\n",
        "#Normalize the data\n",
        "#modelBNN.add(tf.keras.layers.BatchNormalization())\n",
        "#Dropout layer\n",
        "#modelBNN.add(tf.keras.layers.Dropout(0.4))\n",
        "\n",
        "#Add 3rd hidden layer\n",
        "modelBNN.add(tf.keras.layers.Dense(100, activation='relu'))\n",
        "\n",
        "#Normalize the data\n",
        "modelBNN.add(tf.keras.layers.BatchNormalization())\n",
        "#Dropout layer\n",
        "modelBNN.add(tf.keras.layers.Dropout(0.5))\n",
        "\n",
        "\n",
        "#Add 4th hidden layer\n",
        "modelBNN.add(tf.keras.layers.Dense(50, activation='relu'))\n",
        "\n",
        "#Normalize the data\n",
        "modelBNN.add(tf.keras.layers.BatchNormalization())\n",
        "#Dropout layer\n",
        "modelBNN.add(tf.keras.layers.Dropout(0.2))\n",
        "\n",
        "\n",
        "#Add OUTPUT layer\n",
        "modelBNN.add(tf.keras.layers.Dense(10, activation='softmax'))\n",
        "\n",
        "#Create optimizer with non-default learning rate\n",
        "sgd_optimizer = tf.keras.optimizers.SGD(lr=0.03)\n",
        "\n",
        "#Compile the model\n",
        "modelBNN.compile(optimizer=sgd_optimizer, loss='categorical_crossentropy', metrics=['accuracy'])"
      ],
      "execution_count": 17,
      "outputs": []
    },
    {
      "cell_type": "code",
      "metadata": {
        "colab_type": "code",
        "id": "WmoOtv8GS1aB",
        "colab": {
          "base_uri": "https://localhost:8080/",
          "height": 561
        },
        "outputId": "4191cbd4-29fb-4c2e-894d-0589075c09b3"
      },
      "source": [
        "modelBNN.summary()"
      ],
      "execution_count": 18,
      "outputs": [
        {
          "output_type": "stream",
          "text": [
            "Model: \"sequential_2\"\n",
            "_________________________________________________________________\n",
            "Layer (type)                 Output Shape              Param #   \n",
            "=================================================================\n",
            "reshape_2 (Reshape)          (None, 1024)              0         \n",
            "_________________________________________________________________\n",
            "batch_normalization_4 (Batch (None, 1024)              4096      \n",
            "_________________________________________________________________\n",
            "dense_7 (Dense)              (None, 200)               205000    \n",
            "_________________________________________________________________\n",
            "batch_normalization_5 (Batch (None, 200)               800       \n",
            "_________________________________________________________________\n",
            "dropout_3 (Dropout)          (None, 200)               0         \n",
            "_________________________________________________________________\n",
            "dense_8 (Dense)              (None, 100)               20100     \n",
            "_________________________________________________________________\n",
            "batch_normalization_6 (Batch (None, 100)               400       \n",
            "_________________________________________________________________\n",
            "dropout_4 (Dropout)          (None, 100)               0         \n",
            "_________________________________________________________________\n",
            "dense_9 (Dense)              (None, 50)                5050      \n",
            "_________________________________________________________________\n",
            "batch_normalization_7 (Batch (None, 50)                200       \n",
            "_________________________________________________________________\n",
            "dropout_5 (Dropout)          (None, 50)                0         \n",
            "_________________________________________________________________\n",
            "dense_10 (Dense)             (None, 10)                510       \n",
            "=================================================================\n",
            "Total params: 236,156\n",
            "Trainable params: 233,408\n",
            "Non-trainable params: 2,748\n",
            "_________________________________________________________________\n"
          ],
          "name": "stdout"
        }
      ]
    },
    {
      "cell_type": "code",
      "metadata": {
        "colab_type": "code",
        "id": "n5zkjpfMS1aN",
        "colab": {
          "base_uri": "https://localhost:8080/",
          "height": 6817
        },
        "outputId": "78b0b97c-6890-431e-ae21-ca4d54f62b02"
      },
      "source": [
        "modelBNN_output = modelBNN.fit(X_train , y_train, batch_size=200, epochs=200, validation_data=(X_val, y_val), verbose=1)"
      ],
      "execution_count": 19,
      "outputs": [
        {
          "output_type": "stream",
          "text": [
            "Epoch 1/200\n",
            "210/210 [==============================] - 3s 17ms/step - loss: 2.5679 - accuracy: 0.1331 - val_loss: 2.0634 - val_accuracy: 0.3011\n",
            "Epoch 2/200\n",
            "210/210 [==============================] - 3s 16ms/step - loss: 2.1693 - accuracy: 0.2128 - val_loss: 1.8166 - val_accuracy: 0.4351\n",
            "Epoch 3/200\n",
            "210/210 [==============================] - 3s 16ms/step - loss: 1.9658 - accuracy: 0.2926 - val_loss: 1.6357 - val_accuracy: 0.5098\n",
            "Epoch 4/200\n",
            "210/210 [==============================] - 3s 16ms/step - loss: 1.8296 - accuracy: 0.3461 - val_loss: 1.4981 - val_accuracy: 0.5647\n",
            "Epoch 5/200\n",
            "210/210 [==============================] - 3s 16ms/step - loss: 1.7284 - accuracy: 0.3899 - val_loss: 1.3893 - val_accuracy: 0.5975\n",
            "Epoch 6/200\n",
            "210/210 [==============================] - 3s 16ms/step - loss: 1.6412 - accuracy: 0.4256 - val_loss: 1.2905 - val_accuracy: 0.6366\n",
            "Epoch 7/200\n",
            "210/210 [==============================] - 3s 17ms/step - loss: 1.5727 - accuracy: 0.4570 - val_loss: 1.2067 - val_accuracy: 0.6569\n",
            "Epoch 8/200\n",
            "210/210 [==============================] - 3s 16ms/step - loss: 1.5149 - accuracy: 0.4831 - val_loss: 1.1495 - val_accuracy: 0.6723\n",
            "Epoch 9/200\n",
            "210/210 [==============================] - 3s 16ms/step - loss: 1.4625 - accuracy: 0.5071 - val_loss: 1.0889 - val_accuracy: 0.6851\n",
            "Epoch 10/200\n",
            "210/210 [==============================] - 3s 16ms/step - loss: 1.4209 - accuracy: 0.5235 - val_loss: 1.0471 - val_accuracy: 0.6946\n",
            "Epoch 11/200\n",
            "210/210 [==============================] - 3s 16ms/step - loss: 1.3787 - accuracy: 0.5424 - val_loss: 1.0019 - val_accuracy: 0.7077\n",
            "Epoch 12/200\n",
            "210/210 [==============================] - 4s 17ms/step - loss: 1.3500 - accuracy: 0.5498 - val_loss: 0.9674 - val_accuracy: 0.7186\n",
            "Epoch 13/200\n",
            "210/210 [==============================] - 3s 16ms/step - loss: 1.3180 - accuracy: 0.5639 - val_loss: 0.9401 - val_accuracy: 0.7267\n",
            "Epoch 14/200\n",
            "210/210 [==============================] - 3s 16ms/step - loss: 1.2946 - accuracy: 0.5732 - val_loss: 0.9194 - val_accuracy: 0.7322\n",
            "Epoch 15/200\n",
            "210/210 [==============================] - 3s 16ms/step - loss: 1.2666 - accuracy: 0.5843 - val_loss: 0.8951 - val_accuracy: 0.7380\n",
            "Epoch 16/200\n",
            "210/210 [==============================] - 3s 17ms/step - loss: 1.2505 - accuracy: 0.5929 - val_loss: 0.8743 - val_accuracy: 0.7425\n",
            "Epoch 17/200\n",
            "210/210 [==============================] - 4s 17ms/step - loss: 1.2211 - accuracy: 0.6043 - val_loss: 0.8520 - val_accuracy: 0.7512\n",
            "Epoch 18/200\n",
            "210/210 [==============================] - 4s 17ms/step - loss: 1.2055 - accuracy: 0.6128 - val_loss: 0.8229 - val_accuracy: 0.7577\n",
            "Epoch 19/200\n",
            "210/210 [==============================] - 4s 18ms/step - loss: 1.1962 - accuracy: 0.6133 - val_loss: 0.8146 - val_accuracy: 0.7599\n",
            "Epoch 20/200\n",
            "210/210 [==============================] - 4s 18ms/step - loss: 1.1697 - accuracy: 0.6241 - val_loss: 0.7986 - val_accuracy: 0.7644\n",
            "Epoch 21/200\n",
            "210/210 [==============================] - 4s 18ms/step - loss: 1.1541 - accuracy: 0.6294 - val_loss: 0.7849 - val_accuracy: 0.7670\n",
            "Epoch 22/200\n",
            "210/210 [==============================] - 4s 18ms/step - loss: 1.1348 - accuracy: 0.6362 - val_loss: 0.7654 - val_accuracy: 0.7740\n",
            "Epoch 23/200\n",
            "210/210 [==============================] - 4s 18ms/step - loss: 1.1130 - accuracy: 0.6445 - val_loss: 0.7481 - val_accuracy: 0.7789\n",
            "Epoch 24/200\n",
            "210/210 [==============================] - 4s 18ms/step - loss: 1.1123 - accuracy: 0.6453 - val_loss: 0.7443 - val_accuracy: 0.7788\n",
            "Epoch 25/200\n",
            "210/210 [==============================] - 4s 18ms/step - loss: 1.0878 - accuracy: 0.6529 - val_loss: 0.7179 - val_accuracy: 0.7884\n",
            "Epoch 26/200\n",
            "210/210 [==============================] - 4s 18ms/step - loss: 1.0834 - accuracy: 0.6561 - val_loss: 0.7178 - val_accuracy: 0.7882\n",
            "Epoch 27/200\n",
            "210/210 [==============================] - 4s 18ms/step - loss: 1.0638 - accuracy: 0.6622 - val_loss: 0.7061 - val_accuracy: 0.7906\n",
            "Epoch 28/200\n",
            "210/210 [==============================] - 4s 18ms/step - loss: 1.0464 - accuracy: 0.6673 - val_loss: 0.7018 - val_accuracy: 0.7908\n",
            "Epoch 29/200\n",
            "210/210 [==============================] - 4s 18ms/step - loss: 1.0402 - accuracy: 0.6710 - val_loss: 0.6882 - val_accuracy: 0.7962\n",
            "Epoch 30/200\n",
            "210/210 [==============================] - 4s 18ms/step - loss: 1.0344 - accuracy: 0.6719 - val_loss: 0.6823 - val_accuracy: 0.7959\n",
            "Epoch 31/200\n",
            "210/210 [==============================] - 4s 18ms/step - loss: 1.0224 - accuracy: 0.6754 - val_loss: 0.6644 - val_accuracy: 0.8029\n",
            "Epoch 32/200\n",
            "210/210 [==============================] - 4s 18ms/step - loss: 1.0172 - accuracy: 0.6784 - val_loss: 0.6622 - val_accuracy: 0.8045\n",
            "Epoch 33/200\n",
            "210/210 [==============================] - 4s 18ms/step - loss: 1.0041 - accuracy: 0.6824 - val_loss: 0.6527 - val_accuracy: 0.8074\n",
            "Epoch 34/200\n",
            "210/210 [==============================] - 4s 19ms/step - loss: 0.9951 - accuracy: 0.6867 - val_loss: 0.6417 - val_accuracy: 0.8090\n",
            "Epoch 35/200\n",
            "210/210 [==============================] - 4s 18ms/step - loss: 0.9905 - accuracy: 0.6873 - val_loss: 0.6404 - val_accuracy: 0.8093\n",
            "Epoch 36/200\n",
            "210/210 [==============================] - 4s 18ms/step - loss: 0.9788 - accuracy: 0.6928 - val_loss: 0.6397 - val_accuracy: 0.8112\n",
            "Epoch 37/200\n",
            "210/210 [==============================] - 4s 18ms/step - loss: 0.9624 - accuracy: 0.6954 - val_loss: 0.6246 - val_accuracy: 0.8158\n",
            "Epoch 38/200\n",
            "210/210 [==============================] - 4s 17ms/step - loss: 0.9569 - accuracy: 0.6972 - val_loss: 0.6180 - val_accuracy: 0.8185\n",
            "Epoch 39/200\n",
            "210/210 [==============================] - 4s 18ms/step - loss: 0.9590 - accuracy: 0.7025 - val_loss: 0.6130 - val_accuracy: 0.8205\n",
            "Epoch 40/200\n",
            "210/210 [==============================] - 4s 18ms/step - loss: 0.9492 - accuracy: 0.7026 - val_loss: 0.6140 - val_accuracy: 0.8188\n",
            "Epoch 41/200\n",
            "210/210 [==============================] - 4s 17ms/step - loss: 0.9469 - accuracy: 0.7034 - val_loss: 0.6070 - val_accuracy: 0.8195\n",
            "Epoch 42/200\n",
            "210/210 [==============================] - 4s 17ms/step - loss: 0.9359 - accuracy: 0.7084 - val_loss: 0.5979 - val_accuracy: 0.8236\n",
            "Epoch 43/200\n",
            "210/210 [==============================] - 4s 18ms/step - loss: 0.9317 - accuracy: 0.7070 - val_loss: 0.5921 - val_accuracy: 0.8239\n",
            "Epoch 44/200\n",
            "210/210 [==============================] - 4s 18ms/step - loss: 0.9286 - accuracy: 0.7070 - val_loss: 0.5935 - val_accuracy: 0.8243\n",
            "Epoch 45/200\n",
            "210/210 [==============================] - 4s 18ms/step - loss: 0.9248 - accuracy: 0.7099 - val_loss: 0.5852 - val_accuracy: 0.8283\n",
            "Epoch 46/200\n",
            "210/210 [==============================] - 4s 18ms/step - loss: 0.9109 - accuracy: 0.7143 - val_loss: 0.5789 - val_accuracy: 0.8302\n",
            "Epoch 47/200\n",
            "210/210 [==============================] - 4s 18ms/step - loss: 0.9101 - accuracy: 0.7177 - val_loss: 0.5768 - val_accuracy: 0.8299\n",
            "Epoch 48/200\n",
            "210/210 [==============================] - 4s 18ms/step - loss: 0.9035 - accuracy: 0.7185 - val_loss: 0.5728 - val_accuracy: 0.8312\n",
            "Epoch 49/200\n",
            "210/210 [==============================] - 4s 18ms/step - loss: 0.9102 - accuracy: 0.7161 - val_loss: 0.5731 - val_accuracy: 0.8308\n",
            "Epoch 50/200\n",
            "210/210 [==============================] - 4s 18ms/step - loss: 0.8876 - accuracy: 0.7237 - val_loss: 0.5656 - val_accuracy: 0.8336\n",
            "Epoch 51/200\n",
            "210/210 [==============================] - 4s 18ms/step - loss: 0.8911 - accuracy: 0.7226 - val_loss: 0.5660 - val_accuracy: 0.8339\n",
            "Epoch 52/200\n",
            "210/210 [==============================] - 4s 18ms/step - loss: 0.8792 - accuracy: 0.7270 - val_loss: 0.5610 - val_accuracy: 0.8340\n",
            "Epoch 53/200\n",
            "210/210 [==============================] - 4s 18ms/step - loss: 0.8852 - accuracy: 0.7253 - val_loss: 0.5629 - val_accuracy: 0.8345\n",
            "Epoch 54/200\n",
            "210/210 [==============================] - 4s 18ms/step - loss: 0.8776 - accuracy: 0.7225 - val_loss: 0.5541 - val_accuracy: 0.8368\n",
            "Epoch 55/200\n",
            "210/210 [==============================] - 6s 27ms/step - loss: 0.8745 - accuracy: 0.7267 - val_loss: 0.5466 - val_accuracy: 0.8414\n",
            "Epoch 56/200\n",
            "210/210 [==============================] - 5s 25ms/step - loss: 0.8693 - accuracy: 0.7309 - val_loss: 0.5434 - val_accuracy: 0.8411\n",
            "Epoch 57/200\n",
            "210/210 [==============================] - 4s 18ms/step - loss: 0.8612 - accuracy: 0.7319 - val_loss: 0.5408 - val_accuracy: 0.8411\n",
            "Epoch 58/200\n",
            "210/210 [==============================] - 4s 18ms/step - loss: 0.8617 - accuracy: 0.7337 - val_loss: 0.5398 - val_accuracy: 0.8413\n",
            "Epoch 59/200\n",
            "210/210 [==============================] - 4s 18ms/step - loss: 0.8574 - accuracy: 0.7328 - val_loss: 0.5513 - val_accuracy: 0.8359\n",
            "Epoch 60/200\n",
            "210/210 [==============================] - 4s 18ms/step - loss: 0.8512 - accuracy: 0.7360 - val_loss: 0.5347 - val_accuracy: 0.8437\n",
            "Epoch 61/200\n",
            "210/210 [==============================] - 4s 18ms/step - loss: 0.8487 - accuracy: 0.7357 - val_loss: 0.5318 - val_accuracy: 0.8444\n",
            "Epoch 62/200\n",
            "210/210 [==============================] - 4s 19ms/step - loss: 0.8422 - accuracy: 0.7368 - val_loss: 0.5290 - val_accuracy: 0.8440\n",
            "Epoch 63/200\n",
            "210/210 [==============================] - 4s 19ms/step - loss: 0.8476 - accuracy: 0.7374 - val_loss: 0.5276 - val_accuracy: 0.8440\n",
            "Epoch 64/200\n",
            "210/210 [==============================] - 4s 18ms/step - loss: 0.8408 - accuracy: 0.7389 - val_loss: 0.5243 - val_accuracy: 0.8469\n",
            "Epoch 65/200\n",
            "210/210 [==============================] - 4s 18ms/step - loss: 0.8400 - accuracy: 0.7384 - val_loss: 0.5228 - val_accuracy: 0.8462\n",
            "Epoch 66/200\n",
            "210/210 [==============================] - 4s 18ms/step - loss: 0.8386 - accuracy: 0.7399 - val_loss: 0.5208 - val_accuracy: 0.8473\n",
            "Epoch 67/200\n",
            "210/210 [==============================] - 4s 18ms/step - loss: 0.8331 - accuracy: 0.7419 - val_loss: 0.5298 - val_accuracy: 0.8439\n",
            "Epoch 68/200\n",
            "210/210 [==============================] - 4s 18ms/step - loss: 0.8229 - accuracy: 0.7423 - val_loss: 0.5140 - val_accuracy: 0.8486\n",
            "Epoch 69/200\n",
            "210/210 [==============================] - 4s 18ms/step - loss: 0.8251 - accuracy: 0.7435 - val_loss: 0.5149 - val_accuracy: 0.8491\n",
            "Epoch 70/200\n",
            "210/210 [==============================] - 4s 18ms/step - loss: 0.8231 - accuracy: 0.7463 - val_loss: 0.5125 - val_accuracy: 0.8490\n",
            "Epoch 71/200\n",
            "210/210 [==============================] - 4s 17ms/step - loss: 0.8144 - accuracy: 0.7462 - val_loss: 0.5055 - val_accuracy: 0.8515\n",
            "Epoch 72/200\n",
            "210/210 [==============================] - 4s 18ms/step - loss: 0.8154 - accuracy: 0.7452 - val_loss: 0.5101 - val_accuracy: 0.8504\n",
            "Epoch 73/200\n",
            "210/210 [==============================] - 4s 18ms/step - loss: 0.8123 - accuracy: 0.7483 - val_loss: 0.5054 - val_accuracy: 0.8522\n",
            "Epoch 74/200\n",
            "210/210 [==============================] - 4s 18ms/step - loss: 0.8060 - accuracy: 0.7501 - val_loss: 0.5052 - val_accuracy: 0.8516\n",
            "Epoch 75/200\n",
            "210/210 [==============================] - 4s 18ms/step - loss: 0.8038 - accuracy: 0.7507 - val_loss: 0.4996 - val_accuracy: 0.8531\n",
            "Epoch 76/200\n",
            "210/210 [==============================] - 4s 18ms/step - loss: 0.8079 - accuracy: 0.7496 - val_loss: 0.4990 - val_accuracy: 0.8534\n",
            "Epoch 77/200\n",
            "210/210 [==============================] - 4s 19ms/step - loss: 0.8026 - accuracy: 0.7510 - val_loss: 0.4993 - val_accuracy: 0.8528\n",
            "Epoch 78/200\n",
            "210/210 [==============================] - 4s 21ms/step - loss: 0.8002 - accuracy: 0.7521 - val_loss: 0.5003 - val_accuracy: 0.8530\n",
            "Epoch 79/200\n",
            "210/210 [==============================] - 4s 19ms/step - loss: 0.7965 - accuracy: 0.7507 - val_loss: 0.4955 - val_accuracy: 0.8551\n",
            "Epoch 80/200\n",
            "210/210 [==============================] - 4s 19ms/step - loss: 0.7955 - accuracy: 0.7540 - val_loss: 0.4932 - val_accuracy: 0.8551\n",
            "Epoch 81/200\n",
            "210/210 [==============================] - 4s 18ms/step - loss: 0.7990 - accuracy: 0.7541 - val_loss: 0.4889 - val_accuracy: 0.8560\n",
            "Epoch 82/200\n",
            "210/210 [==============================] - 4s 18ms/step - loss: 0.7973 - accuracy: 0.7528 - val_loss: 0.4864 - val_accuracy: 0.8569\n",
            "Epoch 83/200\n",
            "210/210 [==============================] - 4s 19ms/step - loss: 0.7918 - accuracy: 0.7544 - val_loss: 0.4894 - val_accuracy: 0.8560\n",
            "Epoch 84/200\n",
            "210/210 [==============================] - 4s 19ms/step - loss: 0.7925 - accuracy: 0.7555 - val_loss: 0.4886 - val_accuracy: 0.8574\n",
            "Epoch 85/200\n",
            "210/210 [==============================] - 4s 19ms/step - loss: 0.7846 - accuracy: 0.7574 - val_loss: 0.4841 - val_accuracy: 0.8587\n",
            "Epoch 86/200\n",
            "210/210 [==============================] - 4s 20ms/step - loss: 0.7808 - accuracy: 0.7590 - val_loss: 0.4841 - val_accuracy: 0.8586\n",
            "Epoch 87/200\n",
            "210/210 [==============================] - 4s 19ms/step - loss: 0.7881 - accuracy: 0.7553 - val_loss: 0.4780 - val_accuracy: 0.8602\n",
            "Epoch 88/200\n",
            "210/210 [==============================] - 4s 19ms/step - loss: 0.7819 - accuracy: 0.7560 - val_loss: 0.4802 - val_accuracy: 0.8580\n",
            "Epoch 89/200\n",
            "210/210 [==============================] - 4s 19ms/step - loss: 0.7710 - accuracy: 0.7626 - val_loss: 0.4831 - val_accuracy: 0.8576\n",
            "Epoch 90/200\n",
            "210/210 [==============================] - 4s 19ms/step - loss: 0.7770 - accuracy: 0.7593 - val_loss: 0.4760 - val_accuracy: 0.8600\n",
            "Epoch 91/200\n",
            "210/210 [==============================] - 4s 19ms/step - loss: 0.7767 - accuracy: 0.7575 - val_loss: 0.4726 - val_accuracy: 0.8620\n",
            "Epoch 92/200\n",
            "210/210 [==============================] - 4s 19ms/step - loss: 0.7752 - accuracy: 0.7615 - val_loss: 0.4772 - val_accuracy: 0.8605\n",
            "Epoch 93/200\n",
            "210/210 [==============================] - 4s 18ms/step - loss: 0.7723 - accuracy: 0.7630 - val_loss: 0.4734 - val_accuracy: 0.8613\n",
            "Epoch 94/200\n",
            "210/210 [==============================] - 4s 19ms/step - loss: 0.7649 - accuracy: 0.7629 - val_loss: 0.4740 - val_accuracy: 0.8604\n",
            "Epoch 95/200\n",
            "210/210 [==============================] - 4s 18ms/step - loss: 0.7636 - accuracy: 0.7611 - val_loss: 0.4705 - val_accuracy: 0.8607\n",
            "Epoch 96/200\n",
            "210/210 [==============================] - 4s 18ms/step - loss: 0.7636 - accuracy: 0.7628 - val_loss: 0.4658 - val_accuracy: 0.8636\n",
            "Epoch 97/200\n",
            "210/210 [==============================] - 4s 18ms/step - loss: 0.7720 - accuracy: 0.7625 - val_loss: 0.4652 - val_accuracy: 0.8634\n",
            "Epoch 98/200\n",
            "210/210 [==============================] - 4s 18ms/step - loss: 0.7594 - accuracy: 0.7657 - val_loss: 0.4639 - val_accuracy: 0.8643\n",
            "Epoch 99/200\n",
            "210/210 [==============================] - 4s 18ms/step - loss: 0.7667 - accuracy: 0.7634 - val_loss: 0.4677 - val_accuracy: 0.8634\n",
            "Epoch 100/200\n",
            "210/210 [==============================] - 4s 18ms/step - loss: 0.7607 - accuracy: 0.7675 - val_loss: 0.4671 - val_accuracy: 0.8627\n",
            "Epoch 101/200\n",
            "210/210 [==============================] - 4s 18ms/step - loss: 0.7505 - accuracy: 0.7669 - val_loss: 0.4638 - val_accuracy: 0.8639\n",
            "Epoch 102/200\n",
            "210/210 [==============================] - 4s 18ms/step - loss: 0.7541 - accuracy: 0.7675 - val_loss: 0.4593 - val_accuracy: 0.8657\n",
            "Epoch 103/200\n",
            "210/210 [==============================] - 4s 18ms/step - loss: 0.7567 - accuracy: 0.7653 - val_loss: 0.4612 - val_accuracy: 0.8643\n",
            "Epoch 104/200\n",
            "210/210 [==============================] - 4s 18ms/step - loss: 0.7496 - accuracy: 0.7701 - val_loss: 0.4636 - val_accuracy: 0.8634\n",
            "Epoch 105/200\n",
            "210/210 [==============================] - 4s 18ms/step - loss: 0.7482 - accuracy: 0.7673 - val_loss: 0.4581 - val_accuracy: 0.8648\n",
            "Epoch 106/200\n",
            "210/210 [==============================] - 4s 18ms/step - loss: 0.7469 - accuracy: 0.7692 - val_loss: 0.4577 - val_accuracy: 0.8650\n",
            "Epoch 107/200\n",
            "210/210 [==============================] - 4s 18ms/step - loss: 0.7479 - accuracy: 0.7709 - val_loss: 0.4527 - val_accuracy: 0.8672\n",
            "Epoch 108/200\n",
            "210/210 [==============================] - 4s 18ms/step - loss: 0.7394 - accuracy: 0.7727 - val_loss: 0.4517 - val_accuracy: 0.8679\n",
            "Epoch 109/200\n",
            "210/210 [==============================] - 4s 18ms/step - loss: 0.7459 - accuracy: 0.7689 - val_loss: 0.4516 - val_accuracy: 0.8673\n",
            "Epoch 110/200\n",
            "210/210 [==============================] - 4s 18ms/step - loss: 0.7466 - accuracy: 0.7669 - val_loss: 0.4496 - val_accuracy: 0.8681\n",
            "Epoch 111/200\n",
            "210/210 [==============================] - 4s 18ms/step - loss: 0.7452 - accuracy: 0.7685 - val_loss: 0.4535 - val_accuracy: 0.8667\n",
            "Epoch 112/200\n",
            "210/210 [==============================] - 4s 18ms/step - loss: 0.7455 - accuracy: 0.7705 - val_loss: 0.4482 - val_accuracy: 0.8691\n",
            "Epoch 113/200\n",
            "210/210 [==============================] - 4s 18ms/step - loss: 0.7419 - accuracy: 0.7714 - val_loss: 0.4475 - val_accuracy: 0.8691\n",
            "Epoch 114/200\n",
            "210/210 [==============================] - 4s 18ms/step - loss: 0.7478 - accuracy: 0.7675 - val_loss: 0.4439 - val_accuracy: 0.8697\n",
            "Epoch 115/200\n",
            "210/210 [==============================] - 4s 18ms/step - loss: 0.7352 - accuracy: 0.7740 - val_loss: 0.4450 - val_accuracy: 0.8701\n",
            "Epoch 116/200\n",
            "210/210 [==============================] - 4s 18ms/step - loss: 0.7424 - accuracy: 0.7717 - val_loss: 0.4483 - val_accuracy: 0.8687\n",
            "Epoch 117/200\n",
            "210/210 [==============================] - 4s 18ms/step - loss: 0.7397 - accuracy: 0.7696 - val_loss: 0.4416 - val_accuracy: 0.8714\n",
            "Epoch 118/200\n",
            "210/210 [==============================] - 4s 18ms/step - loss: 0.7319 - accuracy: 0.7757 - val_loss: 0.4457 - val_accuracy: 0.8690\n",
            "Epoch 119/200\n",
            "210/210 [==============================] - 4s 18ms/step - loss: 0.7398 - accuracy: 0.7711 - val_loss: 0.4415 - val_accuracy: 0.8707\n",
            "Epoch 120/200\n",
            "210/210 [==============================] - 4s 18ms/step - loss: 0.7273 - accuracy: 0.7759 - val_loss: 0.4387 - val_accuracy: 0.8714\n",
            "Epoch 121/200\n",
            "210/210 [==============================] - 4s 18ms/step - loss: 0.7264 - accuracy: 0.7732 - val_loss: 0.4426 - val_accuracy: 0.8705\n",
            "Epoch 122/200\n",
            "210/210 [==============================] - 4s 18ms/step - loss: 0.7280 - accuracy: 0.7774 - val_loss: 0.4406 - val_accuracy: 0.8719\n",
            "Epoch 123/200\n",
            "210/210 [==============================] - 4s 18ms/step - loss: 0.7282 - accuracy: 0.7742 - val_loss: 0.4415 - val_accuracy: 0.8709\n",
            "Epoch 124/200\n",
            "210/210 [==============================] - 4s 18ms/step - loss: 0.7251 - accuracy: 0.7764 - val_loss: 0.4372 - val_accuracy: 0.8720\n",
            "Epoch 125/200\n",
            "210/210 [==============================] - 4s 18ms/step - loss: 0.7205 - accuracy: 0.7776 - val_loss: 0.4387 - val_accuracy: 0.8718\n",
            "Epoch 126/200\n",
            "210/210 [==============================] - 4s 18ms/step - loss: 0.7214 - accuracy: 0.7759 - val_loss: 0.4399 - val_accuracy: 0.8702\n",
            "Epoch 127/200\n",
            "210/210 [==============================] - 4s 18ms/step - loss: 0.7139 - accuracy: 0.7792 - val_loss: 0.4304 - val_accuracy: 0.8741\n",
            "Epoch 128/200\n",
            "210/210 [==============================] - 4s 18ms/step - loss: 0.7211 - accuracy: 0.7770 - val_loss: 0.4313 - val_accuracy: 0.8734\n",
            "Epoch 129/200\n",
            "210/210 [==============================] - 4s 18ms/step - loss: 0.7241 - accuracy: 0.7760 - val_loss: 0.4298 - val_accuracy: 0.8742\n",
            "Epoch 130/200\n",
            "210/210 [==============================] - 4s 18ms/step - loss: 0.7119 - accuracy: 0.7783 - val_loss: 0.4296 - val_accuracy: 0.8745\n",
            "Epoch 131/200\n",
            "210/210 [==============================] - 4s 18ms/step - loss: 0.7189 - accuracy: 0.7769 - val_loss: 0.4291 - val_accuracy: 0.8748\n",
            "Epoch 132/200\n",
            "210/210 [==============================] - 4s 18ms/step - loss: 0.7156 - accuracy: 0.7778 - val_loss: 0.4295 - val_accuracy: 0.8742\n",
            "Epoch 133/200\n",
            "210/210 [==============================] - 4s 18ms/step - loss: 0.7147 - accuracy: 0.7794 - val_loss: 0.4298 - val_accuracy: 0.8736\n",
            "Epoch 134/200\n",
            "210/210 [==============================] - 4s 18ms/step - loss: 0.7170 - accuracy: 0.7796 - val_loss: 0.4300 - val_accuracy: 0.8730\n",
            "Epoch 135/200\n",
            "210/210 [==============================] - 4s 18ms/step - loss: 0.7130 - accuracy: 0.7822 - val_loss: 0.4281 - val_accuracy: 0.8742\n",
            "Epoch 136/200\n",
            "210/210 [==============================] - 4s 18ms/step - loss: 0.7098 - accuracy: 0.7817 - val_loss: 0.4248 - val_accuracy: 0.8747\n",
            "Epoch 137/200\n",
            "210/210 [==============================] - 4s 18ms/step - loss: 0.7128 - accuracy: 0.7816 - val_loss: 0.4253 - val_accuracy: 0.8752\n",
            "Epoch 138/200\n",
            "210/210 [==============================] - 4s 18ms/step - loss: 0.7095 - accuracy: 0.7816 - val_loss: 0.4326 - val_accuracy: 0.8728\n",
            "Epoch 139/200\n",
            "210/210 [==============================] - 4s 18ms/step - loss: 0.7095 - accuracy: 0.7828 - val_loss: 0.4232 - val_accuracy: 0.8763\n",
            "Epoch 140/200\n",
            "210/210 [==============================] - 4s 18ms/step - loss: 0.7113 - accuracy: 0.7790 - val_loss: 0.4226 - val_accuracy: 0.8753\n",
            "Epoch 141/200\n",
            "210/210 [==============================] - 4s 18ms/step - loss: 0.7086 - accuracy: 0.7777 - val_loss: 0.4191 - val_accuracy: 0.8772\n",
            "Epoch 142/200\n",
            "210/210 [==============================] - 4s 17ms/step - loss: 0.7176 - accuracy: 0.7782 - val_loss: 0.4221 - val_accuracy: 0.8765\n",
            "Epoch 143/200\n",
            "210/210 [==============================] - 4s 17ms/step - loss: 0.7047 - accuracy: 0.7826 - val_loss: 0.4218 - val_accuracy: 0.8755\n",
            "Epoch 144/200\n",
            "210/210 [==============================] - 4s 17ms/step - loss: 0.6998 - accuracy: 0.7839 - val_loss: 0.4201 - val_accuracy: 0.8768\n",
            "Epoch 145/200\n",
            "210/210 [==============================] - 4s 18ms/step - loss: 0.7026 - accuracy: 0.7840 - val_loss: 0.4209 - val_accuracy: 0.8770\n",
            "Epoch 146/200\n",
            "210/210 [==============================] - 4s 18ms/step - loss: 0.6996 - accuracy: 0.7851 - val_loss: 0.4210 - val_accuracy: 0.8747\n",
            "Epoch 147/200\n",
            "210/210 [==============================] - 4s 17ms/step - loss: 0.7026 - accuracy: 0.7829 - val_loss: 0.4200 - val_accuracy: 0.8765\n",
            "Epoch 148/200\n",
            "210/210 [==============================] - 4s 18ms/step - loss: 0.7083 - accuracy: 0.7815 - val_loss: 0.4179 - val_accuracy: 0.8769\n",
            "Epoch 149/200\n",
            "210/210 [==============================] - 4s 17ms/step - loss: 0.7022 - accuracy: 0.7856 - val_loss: 0.4182 - val_accuracy: 0.8784\n",
            "Epoch 150/200\n",
            "210/210 [==============================] - 4s 18ms/step - loss: 0.6996 - accuracy: 0.7849 - val_loss: 0.4185 - val_accuracy: 0.8778\n",
            "Epoch 151/200\n",
            "210/210 [==============================] - 4s 18ms/step - loss: 0.6992 - accuracy: 0.7866 - val_loss: 0.4127 - val_accuracy: 0.8788\n",
            "Epoch 152/200\n",
            "210/210 [==============================] - 4s 17ms/step - loss: 0.6965 - accuracy: 0.7834 - val_loss: 0.4230 - val_accuracy: 0.8751\n",
            "Epoch 153/200\n",
            "210/210 [==============================] - 4s 17ms/step - loss: 0.6993 - accuracy: 0.7819 - val_loss: 0.4171 - val_accuracy: 0.8759\n",
            "Epoch 154/200\n",
            "210/210 [==============================] - 4s 17ms/step - loss: 0.6977 - accuracy: 0.7841 - val_loss: 0.4118 - val_accuracy: 0.8796\n",
            "Epoch 155/200\n",
            "210/210 [==============================] - 4s 17ms/step - loss: 0.6988 - accuracy: 0.7836 - val_loss: 0.4129 - val_accuracy: 0.8793\n",
            "Epoch 156/200\n",
            "210/210 [==============================] - 4s 17ms/step - loss: 0.6971 - accuracy: 0.7839 - val_loss: 0.4131 - val_accuracy: 0.8791\n",
            "Epoch 157/200\n",
            "210/210 [==============================] - 4s 18ms/step - loss: 0.6967 - accuracy: 0.7870 - val_loss: 0.4128 - val_accuracy: 0.8792\n",
            "Epoch 158/200\n",
            "210/210 [==============================] - 4s 18ms/step - loss: 0.6939 - accuracy: 0.7841 - val_loss: 0.4109 - val_accuracy: 0.8795\n",
            "Epoch 159/200\n",
            "210/210 [==============================] - 4s 18ms/step - loss: 0.6900 - accuracy: 0.7859 - val_loss: 0.4173 - val_accuracy: 0.8761\n",
            "Epoch 160/200\n",
            "210/210 [==============================] - 4s 18ms/step - loss: 0.6917 - accuracy: 0.7866 - val_loss: 0.4085 - val_accuracy: 0.8799\n",
            "Epoch 161/200\n",
            "210/210 [==============================] - 4s 18ms/step - loss: 0.6875 - accuracy: 0.7885 - val_loss: 0.4137 - val_accuracy: 0.8785\n",
            "Epoch 162/200\n",
            "210/210 [==============================] - 4s 17ms/step - loss: 0.6880 - accuracy: 0.7875 - val_loss: 0.4086 - val_accuracy: 0.8804\n",
            "Epoch 163/200\n",
            "210/210 [==============================] - 4s 17ms/step - loss: 0.6921 - accuracy: 0.7844 - val_loss: 0.4067 - val_accuracy: 0.8808\n",
            "Epoch 164/200\n",
            "210/210 [==============================] - 4s 18ms/step - loss: 0.6950 - accuracy: 0.7831 - val_loss: 0.4142 - val_accuracy: 0.8785\n",
            "Epoch 165/200\n",
            "210/210 [==============================] - 4s 17ms/step - loss: 0.6958 - accuracy: 0.7841 - val_loss: 0.4100 - val_accuracy: 0.8805\n",
            "Epoch 166/200\n",
            "210/210 [==============================] - 4s 17ms/step - loss: 0.6846 - accuracy: 0.7876 - val_loss: 0.4068 - val_accuracy: 0.8795\n",
            "Epoch 167/200\n",
            "210/210 [==============================] - 4s 17ms/step - loss: 0.6855 - accuracy: 0.7903 - val_loss: 0.4050 - val_accuracy: 0.8809\n",
            "Epoch 168/200\n",
            "210/210 [==============================] - 4s 17ms/step - loss: 0.6853 - accuracy: 0.7878 - val_loss: 0.4064 - val_accuracy: 0.8815\n",
            "Epoch 169/200\n",
            "210/210 [==============================] - 4s 17ms/step - loss: 0.6860 - accuracy: 0.7874 - val_loss: 0.4052 - val_accuracy: 0.8810\n",
            "Epoch 170/200\n",
            "210/210 [==============================] - 4s 17ms/step - loss: 0.6808 - accuracy: 0.7915 - val_loss: 0.4037 - val_accuracy: 0.8821\n",
            "Epoch 171/200\n",
            "210/210 [==============================] - 4s 17ms/step - loss: 0.6808 - accuracy: 0.7884 - val_loss: 0.4061 - val_accuracy: 0.8813\n",
            "Epoch 172/200\n",
            "210/210 [==============================] - 4s 17ms/step - loss: 0.6782 - accuracy: 0.7909 - val_loss: 0.4003 - val_accuracy: 0.8824\n",
            "Epoch 173/200\n",
            "210/210 [==============================] - 4s 17ms/step - loss: 0.6822 - accuracy: 0.7905 - val_loss: 0.4018 - val_accuracy: 0.8827\n",
            "Epoch 174/200\n",
            "210/210 [==============================] - 4s 17ms/step - loss: 0.6781 - accuracy: 0.7902 - val_loss: 0.4009 - val_accuracy: 0.8824\n",
            "Epoch 175/200\n",
            "210/210 [==============================] - 3s 17ms/step - loss: 0.6785 - accuracy: 0.7937 - val_loss: 0.4002 - val_accuracy: 0.8819\n",
            "Epoch 176/200\n",
            "210/210 [==============================] - 4s 17ms/step - loss: 0.6809 - accuracy: 0.7913 - val_loss: 0.4030 - val_accuracy: 0.8816\n",
            "Epoch 177/200\n",
            "210/210 [==============================] - 4s 17ms/step - loss: 0.6828 - accuracy: 0.7885 - val_loss: 0.4015 - val_accuracy: 0.8815\n",
            "Epoch 178/200\n",
            "210/210 [==============================] - 4s 17ms/step - loss: 0.6808 - accuracy: 0.7908 - val_loss: 0.3972 - val_accuracy: 0.8834\n",
            "Epoch 179/200\n",
            "210/210 [==============================] - 4s 17ms/step - loss: 0.6801 - accuracy: 0.7907 - val_loss: 0.3995 - val_accuracy: 0.8839\n",
            "Epoch 180/200\n",
            "210/210 [==============================] - 3s 17ms/step - loss: 0.6823 - accuracy: 0.7903 - val_loss: 0.3980 - val_accuracy: 0.8834\n",
            "Epoch 181/200\n",
            "210/210 [==============================] - 4s 17ms/step - loss: 0.6817 - accuracy: 0.7890 - val_loss: 0.3998 - val_accuracy: 0.8834\n",
            "Epoch 182/200\n",
            "210/210 [==============================] - 4s 17ms/step - loss: 0.6778 - accuracy: 0.7908 - val_loss: 0.3972 - val_accuracy: 0.8844\n",
            "Epoch 183/200\n",
            "210/210 [==============================] - 4s 17ms/step - loss: 0.6784 - accuracy: 0.7905 - val_loss: 0.4007 - val_accuracy: 0.8820\n",
            "Epoch 184/200\n",
            "210/210 [==============================] - 3s 17ms/step - loss: 0.6816 - accuracy: 0.7910 - val_loss: 0.3982 - val_accuracy: 0.8832\n",
            "Epoch 185/200\n",
            "210/210 [==============================] - 4s 17ms/step - loss: 0.6833 - accuracy: 0.7881 - val_loss: 0.3974 - val_accuracy: 0.8835\n",
            "Epoch 186/200\n",
            "210/210 [==============================] - 4s 17ms/step - loss: 0.6789 - accuracy: 0.7922 - val_loss: 0.3987 - val_accuracy: 0.8828\n",
            "Epoch 187/200\n",
            "210/210 [==============================] - 4s 17ms/step - loss: 0.6717 - accuracy: 0.7910 - val_loss: 0.4001 - val_accuracy: 0.8821\n",
            "Epoch 188/200\n",
            "210/210 [==============================] - 3s 16ms/step - loss: 0.6819 - accuracy: 0.7899 - val_loss: 0.4009 - val_accuracy: 0.8813\n",
            "Epoch 189/200\n",
            "210/210 [==============================] - 4s 17ms/step - loss: 0.6661 - accuracy: 0.7955 - val_loss: 0.4008 - val_accuracy: 0.8825\n",
            "Epoch 190/200\n",
            "210/210 [==============================] - 4s 17ms/step - loss: 0.6659 - accuracy: 0.7952 - val_loss: 0.3923 - val_accuracy: 0.8853\n",
            "Epoch 191/200\n",
            "210/210 [==============================] - 3s 16ms/step - loss: 0.6658 - accuracy: 0.7952 - val_loss: 0.3925 - val_accuracy: 0.8851\n",
            "Epoch 192/200\n",
            "210/210 [==============================] - 3s 17ms/step - loss: 0.6716 - accuracy: 0.7929 - val_loss: 0.3932 - val_accuracy: 0.8844\n",
            "Epoch 193/200\n",
            "210/210 [==============================] - 3s 16ms/step - loss: 0.6713 - accuracy: 0.7924 - val_loss: 0.3924 - val_accuracy: 0.8845\n",
            "Epoch 194/200\n",
            "210/210 [==============================] - 3s 17ms/step - loss: 0.6634 - accuracy: 0.7950 - val_loss: 0.3938 - val_accuracy: 0.8852\n",
            "Epoch 195/200\n",
            "210/210 [==============================] - 3s 16ms/step - loss: 0.6757 - accuracy: 0.7914 - val_loss: 0.3946 - val_accuracy: 0.8841\n",
            "Epoch 196/200\n",
            "210/210 [==============================] - 3s 16ms/step - loss: 0.6680 - accuracy: 0.7936 - val_loss: 0.3934 - val_accuracy: 0.8839\n",
            "Epoch 197/200\n",
            "210/210 [==============================] - 3s 16ms/step - loss: 0.6667 - accuracy: 0.7943 - val_loss: 0.3892 - val_accuracy: 0.8857\n",
            "Epoch 198/200\n",
            "210/210 [==============================] - 3s 16ms/step - loss: 0.6622 - accuracy: 0.7931 - val_loss: 0.3928 - val_accuracy: 0.8845\n",
            "Epoch 199/200\n",
            "210/210 [==============================] - 3s 16ms/step - loss: 0.6695 - accuracy: 0.7918 - val_loss: 0.3918 - val_accuracy: 0.8848\n",
            "Epoch 200/200\n",
            "210/210 [==============================] - 4s 17ms/step - loss: 0.6639 - accuracy: 0.7945 - val_loss: 0.3929 - val_accuracy: 0.8845\n"
          ],
          "name": "stdout"
        }
      ]
    },
    {
      "cell_type": "markdown",
      "metadata": {
        "id": "FPa1KJWl0dTs",
        "colab_type": "text"
      },
      "source": [
        "## Observation\n",
        "\n",
        "After 200 of iteration of the NN Model with batch of 200, We got \n",
        "Training loss: 0.6639\n",
        "Training accuracy: 0.7945 \n",
        "val loss: 0.3929 \n",
        "val_accuracy: 0.8845"
      ]
    },
    {
      "cell_type": "markdown",
      "metadata": {
        "id": "3nckprc190Jy",
        "colab_type": "text"
      },
      "source": [
        "***Verify the Test Data Loss and Accuracy:***"
      ]
    },
    {
      "cell_type": "code",
      "metadata": {
        "colab_type": "code",
        "id": "t-gButlyS1aV",
        "colab": {
          "base_uri": "https://localhost:8080/",
          "height": 68
        },
        "outputId": "65b78894-9ed9-480a-8da2-4b79ab41808b"
      },
      "source": [
        "score = modelBNN.evaluate(X_test,y_test, verbose=1)\n",
        "\n",
        "print('Test loss:', score[0])\n",
        "print('Test accuracy:', score[1])"
      ],
      "execution_count": 20,
      "outputs": [
        {
          "output_type": "stream",
          "text": [
            "563/563 [==============================] - 1s 2ms/step - loss: 0.4747 - accuracy: 0.8564\n",
            "Test loss: 0.47471967339515686\n",
            "Test accuracy: 0.8563888669013977\n"
          ],
          "name": "stdout"
        }
      ]
    },
    {
      "cell_type": "markdown",
      "metadata": {
        "id": "wdL9x3WK-GDU",
        "colab_type": "text"
      },
      "source": [
        "## Observation\n",
        "\n",
        "After 200 of iteration of the NN Model with batch of 200, We got \n",
        "**Test Data loss**: 0.4747\n",
        "**Test Data accuracy**: 0.8564 \n",
        "\n",
        "Which is in between Traing Loss/Accouracy and Validation Loss/Accuracy"
      ]
    },
    {
      "cell_type": "code",
      "metadata": {
        "id": "Tc7_iW5GV-n_",
        "colab_type": "code",
        "colab": {}
      },
      "source": [
        "predictionsBNN = modelBNN.predict(X_test)"
      ],
      "execution_count": 21,
      "outputs": []
    },
    {
      "cell_type": "code",
      "metadata": {
        "colab_type": "code",
        "id": "zX26xpZH4m7b",
        "colab": {
          "base_uri": "https://localhost:8080/",
          "height": 34
        },
        "outputId": "0ff231ce-7474-40b4-c8f9-21dd07f758d2"
      },
      "source": [
        "#Predicted Data\n",
        "predictionsBNN[0:10].argmax(axis=1)"
      ],
      "execution_count": 22,
      "outputs": [
        {
          "output_type": "execute_result",
          "data": {
            "text/plain": [
              "array([1, 7, 2, 9, 0, 9, 1, 8, 1, 4])"
            ]
          },
          "metadata": {
            "tags": []
          },
          "execution_count": 22
        }
      ]
    },
    {
      "cell_type": "code",
      "metadata": {
        "id": "1nXyHRy_YKsH",
        "colab_type": "code",
        "colab": {
          "base_uri": "https://localhost:8080/",
          "height": 1101
        },
        "outputId": "4683e84e-e18f-4fd6-981d-f2d60e562489"
      },
      "source": [
        "import random\n",
        "\n",
        "randomList = []\n",
        "# Set a length of the list to 10\n",
        "for i in range(0, 10):\n",
        "    # any random numbers from 0 to 18000(Max of test Data)\n",
        "    randomList.append(random.randint(0, 18000))\n",
        "\n",
        "print(\"Printing list of 10 random numbers\")\n",
        "print(randomList)\n",
        "\n",
        "count=0\n",
        "for i in randomList:\n",
        "  plt.figure(figsize=(1, 1))\n",
        "  plt.imshow(X_test[i])\n",
        "  plt.show(True)\n",
        "  print(\"Label for the Image\",y_test[randomList].argmax(axis=1)[count])\n",
        "  count=count +1"
      ],
      "execution_count": 24,
      "outputs": [
        {
          "output_type": "stream",
          "text": [
            "Printing list of 10 random numbers\n",
            "[5882, 9426, 3496, 15976, 8124, 4038, 15110, 3358, 10341, 5337]\n"
          ],
          "name": "stdout"
        },
        {
          "output_type": "display_data",
          "data": {
            "image/png": "[encoded data removed]",
            "text/plain": [
              "<Figure size 72x72 with 1 Axes>"
            ]
          },
          "metadata": {
            "tags": [],
            "needs_background": "light"
          }
        },
        {
          "output_type": "stream",
          "text": [
            "Label for the Image 6\n"
          ],
          "name": "stdout"
        },
        {
          "output_type": "display_data",
          "data": {
            "image/png": "[encoded data removed]",
            "text/plain": [
              "<Figure size 72x72 with 1 Axes>"
            ]
          },
          "metadata": {
            "tags": [],
            "needs_background": "light"
          }
        },
        {
          "output_type": "stream",
          "text": [
            "Label for the Image 0\n"
          ],
          "name": "stdout"
        },
        {
          "output_type": "display_data",
          "data": {
            "image/png": "[encoded data removed]",
            "text/plain": [
              "<Figure size 72x72 with 1 Axes>"
            ]
          },
          "metadata": {
            "tags": [],
            "needs_background": "light"
          }
        },
        {
          "output_type": "stream",
          "text": [
            "Label for the Image 2\n"
          ],
          "name": "stdout"
        },
        {
          "output_type": "display_data",
          "data": {
            "image/png": "[encoded data removed]",
            "text/plain": [
              "<Figure size 72x72 with 1 Axes>"
            ]
          },
          "metadata": {
            "tags": [],
            "needs_background": "light"
          }
        },
        {
          "output_type": "stream",
          "text": [
            "Label for the Image 7\n"
          ],
          "name": "stdout"
        },
        {
          "output_type": "display_data",
          "data": {
            "image/png": "[encoded data removed]",
            "text/plain": [
              "<Figure size 72x72 with 1 Axes>"
            ]
          },
          "metadata": {
            "tags": [],
            "needs_background": "light"
          }
        },
        {
          "output_type": "stream",
          "text": [
            "Label for the Image 2\n"
          ],
          "name": "stdout"
        },
        {
          "output_type": "display_data",
          "data": {
            "image/png": "[encoded data removed]",
            "text/plain": [
              "<Figure size 72x72 with 1 Axes>"
            ]
          },
          "metadata": {
            "tags": [],
            "needs_background": "light"
          }
        },
        {
          "output_type": "stream",
          "text": [
            "Label for the Image 1\n"
          ],
          "name": "stdout"
        },
        {
          "output_type": "display_data",
          "data": {
            "image/png": "[encoded data removed]",
            "text/plain": [
              "<Figure size 72x72 with 1 Axes>"
            ]
          },
          "metadata": {
            "tags": [],
            "needs_background": "light"
          }
        },
        {
          "output_type": "stream",
          "text": [
            "Label for the Image 2\n"
          ],
          "name": "stdout"
        },
        {
          "output_type": "display_data",
          "data": {
            "image/png": "[encoded data removed]",
            "text/plain": [
              "<Figure size 72x72 with 1 Axes>"
            ]
          },
          "metadata": {
            "tags": [],
            "needs_background": "light"
          }
        },
        {
          "output_type": "stream",
          "text": [
            "Label for the Image 0\n"
          ],
          "name": "stdout"
        },
        {
          "output_type": "display_data",
          "data": {
            "image/png": "[encoded data removed]",
            "text/plain": [
              "<Figure size 72x72 with 1 Axes>"
            ]
          },
          "metadata": {
            "tags": [],
            "needs_background": "light"
          }
        },
        {
          "output_type": "stream",
          "text": [
            "Label for the Image 1\n"
          ],
          "name": "stdout"
        },
        {
          "output_type": "display_data",
          "data": {
            "image/png": "[encoded data removed]",
            "text/plain": [
              "<Figure size 72x72 with 1 Axes>"
            ]
          },
          "metadata": {
            "tags": [],
            "needs_background": "light"
          }
        },
        {
          "output_type": "stream",
          "text": [
            "Label for the Image 1\n"
          ],
          "name": "stdout"
        }
      ]
    },
    {
      "cell_type": "markdown",
      "metadata": {
        "id": "R7kUziVH5Eq0",
        "colab_type": "text"
      },
      "source": [
        "**Data Validated**, No Mismatch for the random 10 images taken from Entire Test Data."
      ]
    },
    {
      "cell_type": "markdown",
      "metadata": {
        "id": "9_8MeohZGUhw",
        "colab_type": "text"
      },
      "source": [
        "## 6. Print the classification accuracy metrics (10 points)"
      ]
    },
    {
      "cell_type": "code",
      "metadata": {
        "id": "b_8w9HBjV_fC",
        "colab_type": "code",
        "colab": {
          "base_uri": "https://localhost:8080/",
          "height": 306
        },
        "outputId": "208d049f-758c-4268-bda9-7c7bda302149"
      },
      "source": [
        "from sklearn.metrics import classification_report\n",
        "\n",
        "target_names = ['0', '1', '2','3','4','5','6','7','8','9']\n",
        "\n",
        "ClassificationReportBNN = classification_report(y_test.argmax(axis=1), predictionsBNN.argmax(axis=1) ,target_names=target_names)\n",
        "print(ClassificationReportBNN)"
      ],
      "execution_count": 25,
      "outputs": [
        {
          "output_type": "stream",
          "text": [
            "              precision    recall  f1-score   support\n",
            "\n",
            "           0       0.89      0.90      0.89      1814\n",
            "           1       0.83      0.87      0.85      1828\n",
            "           2       0.89      0.86      0.87      1803\n",
            "           3       0.83      0.81      0.82      1719\n",
            "           4       0.86      0.88      0.87      1812\n",
            "           5       0.82      0.86      0.84      1768\n",
            "           6       0.88      0.84      0.86      1832\n",
            "           7       0.89      0.88      0.89      1808\n",
            "           8       0.84      0.82      0.83      1812\n",
            "           9       0.85      0.84      0.85      1804\n",
            "\n",
            "    accuracy                           0.86     18000\n",
            "   macro avg       0.86      0.86      0.86     18000\n",
            "weighted avg       0.86      0.86      0.86     18000\n",
            "\n"
          ],
          "name": "stdout"
        }
      ]
    },
    {
      "cell_type": "markdown",
      "metadata": {
        "id": "n10i0v5fZBJj",
        "colab_type": "text"
      },
      "source": [
        "## Overall Observations & Report:\n",
        "\n",
        "### KNN \n",
        "\n",
        "*   KNN is having very poor accuracy than the Neural Network\n",
        "*   K-NN accuracy improved from 11% to 17% with hyperparameter tuning and optimal K value of 15.\n",
        "\n",
        "### Deep Neural Network.\n",
        "\n",
        "*   Deep Neural Network yields better results and predict very well, just check the sample output. \n",
        "\n",
        "*   Classification report shows Almost 86% Accuracy with equal Precission and Recall Value.\n"
      ]
    }
  ]
}