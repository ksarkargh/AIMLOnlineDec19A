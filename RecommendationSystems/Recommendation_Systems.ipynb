{
 "cells": [
  {
   "cell_type": "markdown",
   "metadata": {
    "colab_type": "text",
    "id": "K9fuf5JcEr4e"
   },
   "source": [
    "# Context:\n",
    "#### Online E-commerce websites like Amazon, Flipkart uses different recommendation models to provide different suggestions to different users. Amazon currently uses item-to-item collaborative filtering, which scales to massive data sets and produces high-quality recommendations in real-time.\n",
    "\n",
    "### Attribute Information:\n",
    "- userId : Every user identified with a unique id\n",
    "- productId : Every product identified with a unique id\n",
    "- Rating : Rating of the corresponding product by the corresponding user\n",
    "- timestamp : Time of the rating ( ignore this column for this exercise)\n",
    "\n",
    "## Steps and tasks:\n",
    "1. Read and explore the given dataset. (Rename column/add headers, plot histograms, find data characteristics) - (3 Marks)\n",
    "2. Take a subset of the dataset to make it less sparse/ denser. ( For example, keep the users only who has given 50 or more number of ratings ) - (3 Marks)\n",
    "3. Split the data randomly into train and test dataset. ( For example, split it in 70/30 ratio) - (3 Marks)\n",
    "4. Build Popularity Recommender model. - (20 Marks)\n",
    "5. Build Collaborative Filtering model. - (20 Marks)\n",
    "6. Evaluate both the models. ( Once the model is trained on the training data, it can be used to compute the error (RMSE) on predictions made on the test data.) - (7 Marks)\n",
    "7. Get top - K ( K = 5) recommendations. Since our goal is to recommend new products for each user based on his/her habits, we will recommend 5 new products. - (7 Marks)\n",
    "8. Summarise your insights. - (7 Marks)\n"
   ]
  },
  {
   "cell_type": "markdown",
   "metadata": {
    "colab_type": "text",
    "id": "UGAvenjjEr4m"
   },
   "source": [
    "## <font color=blue>1. Read and explore the dataset. (Rename column, plot histograms, find data characteristics)<font>"
   ]
  },
  {
   "cell_type": "markdown",
   "metadata": {
    "colab_type": "text",
    "id": "NeoS5cGtEr4g"
   },
   "source": [
    "### Import the required Librarries"
   ]
  },
  {
   "cell_type": "code",
   "execution_count": 1,
   "metadata": {
    "colab": {
     "base_uri": "https://localhost:8080/",
     "height": 71
    },
    "colab_type": "code",
    "id": "GYtCy8V1Er4i",
    "outputId": "562310ef-ebf9-4657-de26-eac8f84fcafc"
   },
   "outputs": [],
   "source": [
    "import numpy as np\n",
    "import pandas as pd\n",
    "import seaborn as sns\n",
    "\n",
    "import matplotlib.pyplot as plt\n",
    "%matplotlib inline\n",
    "\n",
    "import random\n",
    "from sklearn.metrics import mean_squared_error\n",
    "from math import sqrt\n",
    "import warnings; warnings.simplefilter('ignore')"
   ]
  },
  {
   "cell_type": "code",
   "execution_count": 2,
   "metadata": {
    "colab": {},
    "colab_type": "code",
    "id": "e6bQSThuEr4m"
   },
   "outputs": [],
   "source": [
    "# Load the dataset from csv file\n",
    "df_ratings = pd.read_csv('ratings_Electronics.csv')"
   ]
  },
  {
   "cell_type": "code",
   "execution_count": null,
   "metadata": {},
   "outputs": [],
   "source": [
    "#For working With Google Colab\n",
    "#import pandas as pd\n",
    "#import io\n",
    "#url = 'http://snap.stanford.edu/data/amazon/productGraph/categoryFiles/ratings_Electronics.csv'\n",
    "#df_ratings = pd.read_csv(url)"
   ]
  },
  {
   "cell_type": "code",
   "execution_count": 3,
   "metadata": {
    "colab": {
     "base_uri": "https://localhost:8080/",
     "height": 204
    },
    "colab_type": "code",
    "id": "SuLJyMP0Er4p",
    "outputId": "7eb85aaa-fe30-42c7-f23e-d5a5085b48a3"
   },
   "outputs": [
    {
     "name": "stdout",
     "output_type": "stream",
     "text": [
      "<class 'pandas.core.frame.DataFrame'>\n",
      "RangeIndex: 7824481 entries, 0 to 7824480\n",
      "Data columns (total 4 columns):\n",
      "AKM1MP6P0OYPR    object\n",
      "0132793040       object\n",
      "5.0              float64\n",
      "1365811200       int64\n",
      "dtypes: float64(1), int64(1), object(2)\n",
      "memory usage: 238.8+ MB\n"
     ]
    }
   ],
   "source": [
    "# Explore the datatsets\n",
    "df_ratings.info()"
   ]
  },
  {
   "cell_type": "code",
   "execution_count": 4,
   "metadata": {
    "colab": {},
    "colab_type": "code",
    "id": "Tnzhs6Y0Er4t"
   },
   "outputs": [],
   "source": [
    "# Rename the columns\n",
    "df_ratings.columns = ['userId', 'productId', 'Rating', 'timestamp']"
   ]
  },
  {
   "cell_type": "code",
   "execution_count": 5,
   "metadata": {
    "colab": {
     "base_uri": "https://localhost:8080/",
     "height": 204
    },
    "colab_type": "code",
    "id": "OroUhf-KEr4w",
    "outputId": "f8adc9e1-1ffe-4358-850b-9335be66ec17"
   },
   "outputs": [
    {
     "data": {
      "text/html": [
       "<div>\n",
       "<style scoped>\n",
       "    .dataframe tbody tr th:only-of-type {\n",
       "        vertical-align: middle;\n",
       "    }\n",
       "\n",
       "    .dataframe tbody tr th {\n",
       "        vertical-align: top;\n",
       "    }\n",
       "\n",
       "    .dataframe thead th {\n",
       "        text-align: right;\n",
       "    }\n",
       "</style>\n",
       "<table border=\"1\" class=\"dataframe\">\n",
       "  <thead>\n",
       "    <tr style=\"text-align: right;\">\n",
       "      <th></th>\n",
       "      <th>userId</th>\n",
       "      <th>productId</th>\n",
       "      <th>Rating</th>\n",
       "      <th>timestamp</th>\n",
       "    </tr>\n",
       "  </thead>\n",
       "  <tbody>\n",
       "    <tr>\n",
       "      <td>0</td>\n",
       "      <td>A2CX7LUOHB2NDG</td>\n",
       "      <td>0321732944</td>\n",
       "      <td>5.0</td>\n",
       "      <td>1341100800</td>\n",
       "    </tr>\n",
       "    <tr>\n",
       "      <td>1</td>\n",
       "      <td>A2NWSAGRHCP8N5</td>\n",
       "      <td>0439886341</td>\n",
       "      <td>1.0</td>\n",
       "      <td>1367193600</td>\n",
       "    </tr>\n",
       "    <tr>\n",
       "      <td>2</td>\n",
       "      <td>A2WNBOD3WNDNKT</td>\n",
       "      <td>0439886341</td>\n",
       "      <td>3.0</td>\n",
       "      <td>1374451200</td>\n",
       "    </tr>\n",
       "    <tr>\n",
       "      <td>3</td>\n",
       "      <td>A1GI0U4ZRJA8WN</td>\n",
       "      <td>0439886341</td>\n",
       "      <td>1.0</td>\n",
       "      <td>1334707200</td>\n",
       "    </tr>\n",
       "    <tr>\n",
       "      <td>4</td>\n",
       "      <td>A1QGNMC6O1VW39</td>\n",
       "      <td>0511189877</td>\n",
       "      <td>5.0</td>\n",
       "      <td>1397433600</td>\n",
       "    </tr>\n",
       "  </tbody>\n",
       "</table>\n",
       "</div>"
      ],
      "text/plain": [
       "           userId   productId  Rating   timestamp\n",
       "0  A2CX7LUOHB2NDG  0321732944     5.0  1341100800\n",
       "1  A2NWSAGRHCP8N5  0439886341     1.0  1367193600\n",
       "2  A2WNBOD3WNDNKT  0439886341     3.0  1374451200\n",
       "3  A1GI0U4ZRJA8WN  0439886341     1.0  1334707200\n",
       "4  A1QGNMC6O1VW39  0511189877     5.0  1397433600"
      ]
     },
     "execution_count": 5,
     "metadata": {},
     "output_type": "execute_result"
    }
   ],
   "source": [
    "#Check the Data after Loading\n",
    "df_ratings.head()"
   ]
  },
  {
   "cell_type": "code",
   "execution_count": 6,
   "metadata": {
    "colab": {
     "base_uri": "https://localhost:8080/",
     "height": 119
    },
    "colab_type": "code",
    "id": "90stHN_DEr40",
    "outputId": "0bcc1aa1-59b1-4c2e-9ec4-43ce933ad234"
   },
   "outputs": [
    {
     "name": "stdout",
     "output_type": "stream",
     "text": [
      "Count of null values in each feature:\n",
      "userId       0\n",
      "productId    0\n",
      "Rating       0\n",
      "timestamp    0\n",
      "dtype: int64\n"
     ]
    }
   ],
   "source": [
    "# Checking for missing value\n",
    "print (\"Count of null values in each feature:\")\n",
    "print(df_ratings.isna().sum())"
   ]
  },
  {
   "cell_type": "markdown",
   "metadata": {
    "colab_type": "text",
    "id": "65q_OmotEr43"
   },
   "source": [
    "#### Observation: There are no missing values for any features"
   ]
  },
  {
   "cell_type": "code",
   "execution_count": 7,
   "metadata": {
    "colab": {
     "base_uri": "https://localhost:8080/",
     "height": 102
    },
    "colab_type": "code",
    "id": "Y5nV22YbEr43",
    "outputId": "68357a9b-ef1e-46f8-998b-5a7cdb4ed0c0"
   },
   "outputs": [
    {
     "name": "stdout",
     "output_type": "stream",
     "text": [
      "userId        object\n",
      "productId     object\n",
      "Rating       float64\n",
      "timestamp      int64\n",
      "dtype: object\n"
     ]
    }
   ],
   "source": [
    "#characteristics of the data\n",
    "print (df_ratings.dtypes)"
   ]
  },
  {
   "cell_type": "code",
   "execution_count": 8,
   "metadata": {
    "colab": {
     "base_uri": "https://localhost:8080/",
     "height": 373
    },
    "colab_type": "code",
    "id": "aolARBjJEr46",
    "outputId": "b80da782-ab3c-43db-a6c9-544dc3064f0f"
   },
   "outputs": [
    {
     "data": {
      "image/png": "[encoded data removed]",
      "text/plain": [
       "<Figure size 540x360 with 1 Axes>"
      ]
     },
     "metadata": {},
     "output_type": "display_data"
    }
   ],
   "source": [
    "# Check the distribution of ratings of original Data\n",
    "mu = round(df_ratings.Rating.describe().loc['mean'], 3) # mean of distribution\n",
    "sigma = round(df_ratings.Rating.describe().loc['std'],3) # standard deviation of distribution\n",
    "with sns.axes_style('white'):\n",
    "    g = sns.factorplot(\"Rating\", data=df_ratings, aspect=1.5,kind='count')\n",
    "    g.set_ylabels(\"Total number of ratings\") \n",
    "    g.fig.suptitle(f\"Sampling Distribution of Rating. \\n \\u03bc = {mu} & StdDev = {sigma}\")"
   ]
  },
  {
   "cell_type": "code",
   "execution_count": 9,
   "metadata": {
    "colab": {
     "base_uri": "https://localhost:8080/",
     "height": 170
    },
    "colab_type": "code",
    "id": "dgszoWWQdoeu",
    "outputId": "8c4cdfce-a47b-4fb4-f749-1cff7e336a36"
   },
   "outputs": [
    {
     "data": {
      "text/plain": [
       "count    7.824481e+06\n",
       "mean     4.012337e+00\n",
       "std      1.380910e+00\n",
       "min      1.000000e+00\n",
       "25%      3.000000e+00\n",
       "50%      5.000000e+00\n",
       "75%      5.000000e+00\n",
       "max      5.000000e+00\n",
       "Name: Rating, dtype: float64"
      ]
     },
     "execution_count": 9,
     "metadata": {},
     "output_type": "execute_result"
    }
   ],
   "source": [
    "#Basic Statistics of the DataSet Given\n",
    "df_ratings['Rating'].describe()"
   ]
  },
  {
   "cell_type": "code",
   "execution_count": 10,
   "metadata": {
    "colab": {
     "base_uri": "https://localhost:8080/",
     "height": 282
    },
    "colab_type": "code",
    "id": "c-LSQDegEr48",
    "outputId": "1f303b34-1e21-4598-a1fb-2a4c1404813f"
   },
   "outputs": [
    {
     "data": {
      "text/plain": [
       "<matplotlib.axes._subplots.AxesSubplot at 0x220bdf61b08>"
      ]
     },
     "execution_count": 10,
     "metadata": {},
     "output_type": "execute_result"
    },
    {
     "data": {
      "image/png": "[encoded data removed]",
      "text/plain": [
       "<Figure size 432x288 with 1 Axes>"
      ]
     },
     "metadata": {
      "needs_background": "light"
     },
     "output_type": "display_data"
    }
   ],
   "source": [
    "sns.boxplot(data=df_ratings['Rating'])"
   ]
  },
  {
   "cell_type": "code",
   "execution_count": 11,
   "metadata": {
    "colab": {
     "base_uri": "https://localhost:8080/",
     "height": 204
    },
    "colab_type": "code",
    "id": "zbWQoD3XEr5D",
    "outputId": "b0cdfc46-dcbb-4854-8563-6fb07328218d"
   },
   "outputs": [
    {
     "data": {
      "text/html": [
       "<div>\n",
       "<style scoped>\n",
       "    .dataframe tbody tr th:only-of-type {\n",
       "        vertical-align: middle;\n",
       "    }\n",
       "\n",
       "    .dataframe tbody tr th {\n",
       "        vertical-align: top;\n",
       "    }\n",
       "\n",
       "    .dataframe thead th {\n",
       "        text-align: right;\n",
       "    }\n",
       "</style>\n",
       "<table border=\"1\" class=\"dataframe\">\n",
       "  <thead>\n",
       "    <tr style=\"text-align: right;\">\n",
       "      <th></th>\n",
       "      <th>Rating</th>\n",
       "      <th>ratecount</th>\n",
       "    </tr>\n",
       "  </thead>\n",
       "  <tbody>\n",
       "    <tr>\n",
       "      <td>0</td>\n",
       "      <td>1.0</td>\n",
       "      <td>901765</td>\n",
       "    </tr>\n",
       "    <tr>\n",
       "      <td>1</td>\n",
       "      <td>2.0</td>\n",
       "      <td>456322</td>\n",
       "    </tr>\n",
       "    <tr>\n",
       "      <td>2</td>\n",
       "      <td>3.0</td>\n",
       "      <td>633073</td>\n",
       "    </tr>\n",
       "    <tr>\n",
       "      <td>3</td>\n",
       "      <td>4.0</td>\n",
       "      <td>1485781</td>\n",
       "    </tr>\n",
       "    <tr>\n",
       "      <td>4</td>\n",
       "      <td>5.0</td>\n",
       "      <td>4347540</td>\n",
       "    </tr>\n",
       "  </tbody>\n",
       "</table>\n",
       "</div>"
      ],
      "text/plain": [
       "   Rating  ratecount\n",
       "0     1.0     901765\n",
       "1     2.0     456322\n",
       "2     3.0     633073\n",
       "3     4.0    1485781\n",
       "4     5.0    4347540"
      ]
     },
     "execution_count": 11,
     "metadata": {},
     "output_type": "execute_result"
    }
   ],
   "source": [
    "# Let us look at the no of 'Rating' given by various user\n",
    "ratings_dist = df_ratings[['Rating','userId']].groupby(['Rating']).count()\n",
    "ratings_dist.reset_index(inplace=True)\n",
    "ratings_dist.columns = ['Rating', 'ratecount']\n",
    "ratings_dist"
   ]
  },
  {
   "cell_type": "code",
   "execution_count": 12,
   "metadata": {
    "colab": {
     "base_uri": "https://localhost:8080/",
     "height": 204
    },
    "colab_type": "code",
    "id": "M239zpdcEr5G",
    "outputId": "0cb4ca6a-499d-4057-8360-6f5d5082b88d"
   },
   "outputs": [
    {
     "data": {
      "text/html": [
       "<div>\n",
       "<style scoped>\n",
       "    .dataframe tbody tr th:only-of-type {\n",
       "        vertical-align: middle;\n",
       "    }\n",
       "\n",
       "    .dataframe tbody tr th {\n",
       "        vertical-align: top;\n",
       "    }\n",
       "\n",
       "    .dataframe thead th {\n",
       "        text-align: right;\n",
       "    }\n",
       "</style>\n",
       "<table border=\"1\" class=\"dataframe\">\n",
       "  <thead>\n",
       "    <tr style=\"text-align: right;\">\n",
       "      <th></th>\n",
       "      <th>Rating</th>\n",
       "      <th>ratecount</th>\n",
       "      <th>proportion</th>\n",
       "    </tr>\n",
       "  </thead>\n",
       "  <tbody>\n",
       "    <tr>\n",
       "      <td>0</td>\n",
       "      <td>1.0</td>\n",
       "      <td>901765</td>\n",
       "      <td>0.115249</td>\n",
       "    </tr>\n",
       "    <tr>\n",
       "      <td>1</td>\n",
       "      <td>2.0</td>\n",
       "      <td>456322</td>\n",
       "      <td>0.058320</td>\n",
       "    </tr>\n",
       "    <tr>\n",
       "      <td>2</td>\n",
       "      <td>3.0</td>\n",
       "      <td>633073</td>\n",
       "      <td>0.080909</td>\n",
       "    </tr>\n",
       "    <tr>\n",
       "      <td>3</td>\n",
       "      <td>4.0</td>\n",
       "      <td>1485781</td>\n",
       "      <td>0.189889</td>\n",
       "    </tr>\n",
       "    <tr>\n",
       "      <td>4</td>\n",
       "      <td>5.0</td>\n",
       "      <td>4347540</td>\n",
       "      <td>0.555633</td>\n",
       "    </tr>\n",
       "  </tbody>\n",
       "</table>\n",
       "</div>"
      ],
      "text/plain": [
       "   Rating  ratecount  proportion\n",
       "0     1.0     901765    0.115249\n",
       "1     2.0     456322    0.058320\n",
       "2     3.0     633073    0.080909\n",
       "3     4.0    1485781    0.189889\n",
       "4     5.0    4347540    0.555633"
      ]
     },
     "execution_count": 12,
     "metadata": {},
     "output_type": "execute_result"
    }
   ],
   "source": [
    "## Calculate the % of Distribution of Rating\n",
    "ratings_dist['proportion'] = ratings_dist['ratecount'] / sum(ratings_dist['ratecount'])\n",
    "ratings_dist"
   ]
  },
  {
   "cell_type": "markdown",
   "metadata": {
    "colab_type": "text",
    "id": "CdvparyKEr5I"
   },
   "source": [
    "### Observation: \n",
    "####    1. Rating has a mean value of 4.01 and Std of 1.38, ranging 1 to 5 and skewed towards higher rating of 4 & 5\n",
    "####    2. Total Number of Entries is very High, Total 7824480 entries\n",
    "####    3. About 55.56% of Data has Rating of 5 and 18.98% of Data has Rating of 4, combindly it is Approx 74.5%\n",
    "####    4. Data is very sparse and Will tend towards Rating of 4/5 if we use this for Recomendation"
   ]
  },
  {
   "cell_type": "markdown",
   "metadata": {
    "colab_type": "text",
    "id": "pdJbDjHnEr5J"
   },
   "source": [
    "## <font color='blue'>2. Take a subset of the dataset to make it less sparse/ denser. ( For example, keep the users only who has given 50 or more number of ratings ) - (3 Marks)</font>"
   ]
  },
  {
   "cell_type": "code",
   "execution_count": 13,
   "metadata": {
    "colab": {
     "base_uri": "https://localhost:8080/",
     "height": 187
    },
    "colab_type": "code",
    "id": "L0JwCqCREr5K",
    "outputId": "fd2493a9-04eb-4e41-842e-7a1509db847b"
   },
   "outputs": [
    {
     "name": "stdout",
     "output_type": "stream",
     "text": [
      "<class 'pandas.core.frame.DataFrame'>\n",
      "RangeIndex: 4201696 entries, 0 to 4201695\n",
      "Data columns (total 3 columns):\n",
      "userId        object\n",
      "ratecount     int64\n",
      "proportion    float64\n",
      "dtypes: float64(1), int64(1), object(1)\n",
      "memory usage: 96.2+ MB\n"
     ]
    }
   ],
   "source": [
    "## Target Variable Rating count w.r.t userId\n",
    "user_rate_dist = df_ratings['userId'].value_counts().to_frame() ## IT need to convert to frame as value_counts return Series \n",
    "user_rate_dist.reset_index(inplace=True)\n",
    "user_rate_dist.columns = [user_rate_dist.columns[1], 'ratecount']\n",
    "user_rate_dist['proportion'] = user_rate_dist['ratecount'] / sum(user_rate_dist['ratecount'])\n",
    "user_rate_dist.info()"
   ]
  },
  {
   "cell_type": "code",
   "execution_count": 14,
   "metadata": {
    "colab": {
     "base_uri": "https://localhost:8080/",
     "height": 187
    },
    "colab_type": "code",
    "id": "zZACJ-WIEr5S",
    "outputId": "3c66789d-10e0-4ee7-baab-79e358f5e168"
   },
   "outputs": [
    {
     "name": "stdout",
     "output_type": "stream",
     "text": [
      "<class 'pandas.core.frame.DataFrame'>\n",
      "Int64Index: 1540 entries, 0 to 1539\n",
      "Data columns (total 3 columns):\n",
      "userId        1540 non-null object\n",
      "ratecount     1540 non-null int64\n",
      "proportion    1540 non-null float64\n",
      "dtypes: float64(1), int64(1), object(1)\n",
      "memory usage: 48.1+ KB\n"
     ]
    }
   ],
   "source": [
    "# Get the users who have rated >= 50 items.\n",
    "user_rate_dist_50 = user_rate_dist[user_rate_dist['ratecount']>= 50]\n",
    "user_rate_dist_50.info()"
   ]
  },
  {
   "cell_type": "markdown",
   "metadata": {
    "colab_type": "text",
    "id": "6CD09aFFcMym"
   },
   "source": [
    "### Observation: \n",
    "#### - From Unique 4201696 users in the Whole Dataset Reduced to 1540 Unique Users who has rated more than or Equal to 50 times"
   ]
  },
  {
   "cell_type": "code",
   "execution_count": 15,
   "metadata": {
    "colab": {
     "base_uri": "https://localhost:8080/",
     "height": 51
    },
    "colab_type": "code",
    "id": "mwlYuLkGEr5V",
    "outputId": "04a8ffd3-5d13-49ba-d34b-07b13e4ded33"
   },
   "outputs": [
    {
     "data": {
      "text/plain": [
       "(125871,)"
      ]
     },
     "execution_count": 15,
     "metadata": {},
     "output_type": "execute_result"
    }
   ],
   "source": [
    "# Gets the filtered Data set from Main Dataset with the Users who has rated more than 50 times.\n",
    "df_ratings_filt=df_ratings.copy() #Best Practice to Make Copy of Original Dataset\n",
    "df_ratings_filt=df_ratings_filt.merge(user_rate_dist_50['userId'], on='userId', how='right')\n",
    "df_ratings_filt['userId'].shape"
   ]
  },
  {
   "cell_type": "code",
   "execution_count": 16,
   "metadata": {
    "colab": {
     "base_uri": "https://localhost:8080/",
     "height": 80
    },
    "colab_type": "code",
    "id": "-euTWEdTEr5e",
    "outputId": "0fcf72e7-5c3b-4d53-e33a-975aa5ff653b"
   },
   "outputs": [
    {
     "data": {
      "text/html": [
       "<div>\n",
       "<style scoped>\n",
       "    .dataframe tbody tr th:only-of-type {\n",
       "        vertical-align: middle;\n",
       "    }\n",
       "\n",
       "    .dataframe tbody tr th {\n",
       "        vertical-align: top;\n",
       "    }\n",
       "\n",
       "    .dataframe thead th {\n",
       "        text-align: right;\n",
       "    }\n",
       "</style>\n",
       "<table border=\"1\" class=\"dataframe\">\n",
       "  <thead>\n",
       "    <tr style=\"text-align: right;\">\n",
       "      <th></th>\n",
       "      <th>userId</th>\n",
       "      <th>productId</th>\n",
       "      <th>Rating</th>\n",
       "      <th>timestamp</th>\n",
       "    </tr>\n",
       "  </thead>\n",
       "  <tbody>\n",
       "    <tr>\n",
       "      <td>0</td>\n",
       "      <td>A2CX7LUOHB2NDG</td>\n",
       "      <td>0321732944</td>\n",
       "      <td>5.0</td>\n",
       "      <td>1341100800</td>\n",
       "    </tr>\n",
       "  </tbody>\n",
       "</table>\n",
       "</div>"
      ],
      "text/plain": [
       "           userId   productId  Rating   timestamp\n",
       "0  A2CX7LUOHB2NDG  0321732944     5.0  1341100800"
      ]
     },
     "execution_count": 16,
     "metadata": {},
     "output_type": "execute_result"
    }
   ],
   "source": [
    "#Checking the Data - Original\n",
    "df_ratings.head(1)"
   ]
  },
  {
   "cell_type": "code",
   "execution_count": 17,
   "metadata": {
    "colab": {
     "base_uri": "https://localhost:8080/",
     "height": 80
    },
    "colab_type": "code",
    "id": "gt1jmuENEr5h",
    "outputId": "e79e85d4-3024-4fab-f173-4e6d54333653"
   },
   "outputs": [
    {
     "data": {
      "text/html": [
       "<div>\n",
       "<style scoped>\n",
       "    .dataframe tbody tr th:only-of-type {\n",
       "        vertical-align: middle;\n",
       "    }\n",
       "\n",
       "    .dataframe tbody tr th {\n",
       "        vertical-align: top;\n",
       "    }\n",
       "\n",
       "    .dataframe thead th {\n",
       "        text-align: right;\n",
       "    }\n",
       "</style>\n",
       "<table border=\"1\" class=\"dataframe\">\n",
       "  <thead>\n",
       "    <tr style=\"text-align: right;\">\n",
       "      <th></th>\n",
       "      <th>userId</th>\n",
       "      <th>productId</th>\n",
       "      <th>Rating</th>\n",
       "      <th>timestamp</th>\n",
       "    </tr>\n",
       "  </thead>\n",
       "  <tbody>\n",
       "    <tr>\n",
       "      <td>0</td>\n",
       "      <td>A3BY5KCNQZXV5U</td>\n",
       "      <td>0594451647</td>\n",
       "      <td>5.0</td>\n",
       "      <td>1390176000</td>\n",
       "    </tr>\n",
       "  </tbody>\n",
       "</table>\n",
       "</div>"
      ],
      "text/plain": [
       "           userId   productId  Rating   timestamp\n",
       "0  A3BY5KCNQZXV5U  0594451647     5.0  1390176000"
      ]
     },
     "execution_count": 17,
     "metadata": {},
     "output_type": "execute_result"
    }
   ],
   "source": [
    "#Checking the Data - Filtered By User Rated >=50\n",
    "df_ratings_filt.head(1)"
   ]
  },
  {
   "cell_type": "code",
   "execution_count": 18,
   "metadata": {},
   "outputs": [
    {
     "data": {
      "image/png": "[encoded data removed]",
      "text/plain": [
       "<Figure size 540x360 with 1 Axes>"
      ]
     },
     "metadata": {},
     "output_type": "display_data"
    }
   ],
   "source": [
    "# Check the distribution of ratings of Data - Filtered By User Rated >=50\n",
    "mu = round(df_ratings_filt.Rating.describe().loc['mean'], 3) # mean of distribution\n",
    "sigma = round(df_ratings_filt.Rating.describe().loc['std'],3) # standard deviation of distribution\n",
    "with sns.axes_style('white'):\n",
    "    g = sns.factorplot(\"Rating\", data=df_ratings_filt, aspect=1.5,kind='count')\n",
    "    g.set_ylabels(\"Total number of ratings\") \n",
    "    g.fig.suptitle(f\"Sampling Distribution of Rating. \\n \\u03bc = {mu} & StdDev = {sigma}\")"
   ]
  },
  {
   "cell_type": "code",
   "execution_count": 19,
   "metadata": {
    "colab": {
     "base_uri": "https://localhost:8080/",
     "height": 297
    },
    "colab_type": "code",
    "id": "JX7ZHngCEr5t",
    "outputId": "51ee550c-cb3c-4236-f9ea-d59c17c54042"
   },
   "outputs": [
    {
     "data": {
      "text/plain": [
       "<matplotlib.axes._subplots.AxesSubplot at 0x22086077348>"
      ]
     },
     "execution_count": 19,
     "metadata": {},
     "output_type": "execute_result"
    },
    {
     "data": {
      "image/png": "[encoded data removed]",
      "text/plain": [
       "<Figure size 432x288 with 1 Axes>"
      ]
     },
     "metadata": {
      "needs_background": "light"
     },
     "output_type": "display_data"
    }
   ],
   "source": [
    "sns.distplot(df_ratings_filt['Rating'],hist = True,bins=6,kde = True,rug = True, label = 'Rating')"
   ]
  },
  {
   "cell_type": "code",
   "execution_count": 20,
   "metadata": {
    "colab": {
     "base_uri": "https://localhost:8080/",
     "height": 170
    },
    "colab_type": "code",
    "id": "24Z7TXIEEr5k",
    "outputId": "75b89a54-0d8d-4744-b886-306c4f4fd046"
   },
   "outputs": [
    {
     "data": {
      "text/plain": [
       "count    125871.000000\n",
       "mean          4.261339\n",
       "std           1.062144\n",
       "min           1.000000\n",
       "25%           4.000000\n",
       "50%           5.000000\n",
       "75%           5.000000\n",
       "max           5.000000\n",
       "Name: Rating, dtype: float64"
      ]
     },
     "execution_count": 20,
     "metadata": {},
     "output_type": "execute_result"
    }
   ],
   "source": [
    "#Basic Statistics Data - Filtered By User Rated >=50\n",
    "df_ratings_filt['Rating'].describe()"
   ]
  },
  {
   "cell_type": "code",
   "execution_count": 21,
   "metadata": {
    "colab": {
     "base_uri": "https://localhost:8080/",
     "height": 282
    },
    "colab_type": "code",
    "id": "iEiTZUgsEr5n",
    "outputId": "16e19ee9-dce3-4156-f5a6-6a4d05bce48c"
   },
   "outputs": [
    {
     "data": {
      "text/plain": [
       "<matplotlib.axes._subplots.AxesSubplot at 0x220a0954a08>"
      ]
     },
     "execution_count": 21,
     "metadata": {},
     "output_type": "execute_result"
    },
    {
     "data": {
      "image/png": "[encoded data removed]",
      "text/plain": [
       "<Figure size 432x288 with 1 Axes>"
      ]
     },
     "metadata": {
      "needs_background": "light"
     },
     "output_type": "display_data"
    }
   ],
   "source": [
    "sns.boxplot(data=df_ratings_filt['Rating'])"
   ]
  },
  {
   "cell_type": "markdown",
   "metadata": {
    "colab_type": "text",
    "id": "97gQ45XOEr5w"
   },
   "source": [
    "### Observation: \n",
    "#### - After Filtering By Rating Count total Data count has reduced to 125871 from earlier 7824480\n",
    "#### - Due to distribution of Rating Data it is showing Outliers for Rating 1 and 2"
   ]
  },
  {
   "cell_type": "code",
   "execution_count": 22,
   "metadata": {
    "colab": {
     "base_uri": "https://localhost:8080/",
     "height": 204
    },
    "colab_type": "code",
    "id": "djmNq_y3Er6T",
    "outputId": "811cf8cf-ef7f-4ee3-eef3-159992af9eff"
   },
   "outputs": [
    {
     "data": {
      "text/html": [
       "<div>\n",
       "<style scoped>\n",
       "    .dataframe tbody tr th:only-of-type {\n",
       "        vertical-align: middle;\n",
       "    }\n",
       "\n",
       "    .dataframe tbody tr th {\n",
       "        vertical-align: top;\n",
       "    }\n",
       "\n",
       "    .dataframe thead th {\n",
       "        text-align: right;\n",
       "    }\n",
       "</style>\n",
       "<table border=\"1\" class=\"dataframe\">\n",
       "  <thead>\n",
       "    <tr style=\"text-align: right;\">\n",
       "      <th></th>\n",
       "      <th>Rating</th>\n",
       "      <th>ratecount</th>\n",
       "      <th>proportion</th>\n",
       "    </tr>\n",
       "  </thead>\n",
       "  <tbody>\n",
       "    <tr>\n",
       "      <td>0</td>\n",
       "      <td>5.0</td>\n",
       "      <td>71034</td>\n",
       "      <td>0.564340</td>\n",
       "    </tr>\n",
       "    <tr>\n",
       "      <td>1</td>\n",
       "      <td>4.0</td>\n",
       "      <td>32295</td>\n",
       "      <td>0.256572</td>\n",
       "    </tr>\n",
       "    <tr>\n",
       "      <td>2</td>\n",
       "      <td>3.0</td>\n",
       "      <td>12060</td>\n",
       "      <td>0.095812</td>\n",
       "    </tr>\n",
       "    <tr>\n",
       "      <td>3</td>\n",
       "      <td>2.0</td>\n",
       "      <td>5367</td>\n",
       "      <td>0.042639</td>\n",
       "    </tr>\n",
       "    <tr>\n",
       "      <td>4</td>\n",
       "      <td>1.0</td>\n",
       "      <td>5115</td>\n",
       "      <td>0.040637</td>\n",
       "    </tr>\n",
       "  </tbody>\n",
       "</table>\n",
       "</div>"
      ],
      "text/plain": [
       "   Rating  ratecount  proportion\n",
       "0     5.0      71034    0.564340\n",
       "1     4.0      32295    0.256572\n",
       "2     3.0      12060    0.095812\n",
       "3     2.0       5367    0.042639\n",
       "4     1.0       5115    0.040637"
      ]
     },
     "execution_count": 22,
     "metadata": {},
     "output_type": "execute_result"
    }
   ],
   "source": [
    "## Target Variable Rating count w.r.t userId who rated >=50\n",
    "sub_ratings_dist = df_ratings_filt['Rating'].value_counts().to_frame()\n",
    "sub_ratings_dist.reset_index(inplace=True)\n",
    "sub_ratings_dist.columns = [sub_ratings_dist.columns[1], 'ratecount']\n",
    "sub_ratings_dist['proportion'] = sub_ratings_dist['ratecount'] / sum(sub_ratings_dist['ratecount'])\n",
    "sub_ratings_dist"
   ]
  },
  {
   "cell_type": "code",
   "execution_count": 23,
   "metadata": {
    "colab": {
     "base_uri": "https://localhost:8080/",
     "height": 34
    },
    "colab_type": "code",
    "id": "mMgHw5fBEr6e",
    "outputId": "a5a89226-078b-400e-f726-5de51121d1f1"
   },
   "outputs": [
    {
     "name": "stdout",
     "output_type": "stream",
     "text": [
      "% of users who have rating count (< 50):  98.39131801729955\n"
     ]
    }
   ],
   "source": [
    "# % of users who have rating count (< 1000)\n",
    "print('% of users who have rating count (< 50): ',((7824480-125871)/7824480)*100)"
   ]
  },
  {
   "cell_type": "markdown",
   "metadata": {
    "colab_type": "text",
    "id": "CKiKKxSVEr6h"
   },
   "source": [
    "## Observations:\n",
    "\n",
    "#### - % of users who have rating count (< 50) 98.39%, which is quite high.\n",
    "#### - Due to Spareness will not consider these users who have rated <50 items.\n",
    "#### - We have reduced no of data 125871 compared to original set of Data of 7824480 by Not Considering them\n",
    "#### - Mean value and Std has also changed, currently mean = 4.26 and Std=1.06\n",
    "#### - High frequency is still towards high rating.\n"
   ]
  },
  {
   "cell_type": "markdown",
   "metadata": {
    "colab_type": "text",
    "id": "40zKGQYBEr6i"
   },
   "source": [
    "## <font color='blue'>3. Split the data randomly into train and test dataset. ( For example, split it in 70/30 ratio) - (3 Marks)</font>"
   ]
  },
  {
   "cell_type": "code",
   "execution_count": 24,
   "metadata": {
    "colab": {},
    "colab_type": "code",
    "id": "Em-EHGybEr6j"
   },
   "outputs": [],
   "source": [
    "# Dropping the timestamp column as we will not be using in our predictions also keep a copy of data without sparseness\n",
    "df_ratings_train_split=df_ratings_filt.copy() #Make a copy of the Filtered Data Where Rating Count >=50 for Further Analysins\n",
    "df_ratings_train_split.drop('timestamp', axis = 1, inplace = True)"
   ]
  },
  {
   "cell_type": "code",
   "execution_count": 25,
   "metadata": {
    "colab": {
     "base_uri": "https://localhost:8080/",
     "height": 187
    },
    "colab_type": "code",
    "id": "7859eqJFEr6k",
    "outputId": "6202eba7-8a14-491f-ece2-85303c938792"
   },
   "outputs": [
    {
     "name": "stdout",
     "output_type": "stream",
     "text": [
      "<class 'pandas.core.frame.DataFrame'>\n",
      "Int64Index: 125871 entries, 0 to 125870\n",
      "Data columns (total 3 columns):\n",
      "userId       125871 non-null object\n",
      "productId    125871 non-null object\n",
      "Rating       125871 non-null float64\n",
      "dtypes: float64(1), object(2)\n",
      "memory usage: 3.8+ MB\n"
     ]
    }
   ],
   "source": [
    "df_ratings_train_split.info()"
   ]
  },
  {
   "cell_type": "code",
   "execution_count": 26,
   "metadata": {
    "colab": {
     "base_uri": "https://localhost:8080/",
     "height": 204
    },
    "colab_type": "code",
    "id": "Fuh5ovwBEr6n",
    "outputId": "7225bbfd-6cfd-4c91-95a6-f2182c0920f2"
   },
   "outputs": [
    {
     "data": {
      "text/html": [
       "<div>\n",
       "<style scoped>\n",
       "    .dataframe tbody tr th:only-of-type {\n",
       "        vertical-align: middle;\n",
       "    }\n",
       "\n",
       "    .dataframe tbody tr th {\n",
       "        vertical-align: top;\n",
       "    }\n",
       "\n",
       "    .dataframe thead th {\n",
       "        text-align: right;\n",
       "    }\n",
       "</style>\n",
       "<table border=\"1\" class=\"dataframe\">\n",
       "  <thead>\n",
       "    <tr style=\"text-align: right;\">\n",
       "      <th></th>\n",
       "      <th>userId</th>\n",
       "      <th>productId</th>\n",
       "      <th>Rating</th>\n",
       "    </tr>\n",
       "  </thead>\n",
       "  <tbody>\n",
       "    <tr>\n",
       "      <td>0</td>\n",
       "      <td>A3BY5KCNQZXV5U</td>\n",
       "      <td>0594451647</td>\n",
       "      <td>5.0</td>\n",
       "    </tr>\n",
       "    <tr>\n",
       "      <td>1</td>\n",
       "      <td>A3BY5KCNQZXV5U</td>\n",
       "      <td>B00000JD4V</td>\n",
       "      <td>4.0</td>\n",
       "    </tr>\n",
       "    <tr>\n",
       "      <td>2</td>\n",
       "      <td>A3BY5KCNQZXV5U</td>\n",
       "      <td>B000063574</td>\n",
       "      <td>5.0</td>\n",
       "    </tr>\n",
       "    <tr>\n",
       "      <td>3</td>\n",
       "      <td>A3BY5KCNQZXV5U</td>\n",
       "      <td>B0000CDJP8</td>\n",
       "      <td>5.0</td>\n",
       "    </tr>\n",
       "    <tr>\n",
       "      <td>4</td>\n",
       "      <td>A3BY5KCNQZXV5U</td>\n",
       "      <td>B0007Y794O</td>\n",
       "      <td>5.0</td>\n",
       "    </tr>\n",
       "  </tbody>\n",
       "</table>\n",
       "</div>"
      ],
      "text/plain": [
       "           userId   productId  Rating\n",
       "0  A3BY5KCNQZXV5U  0594451647     5.0\n",
       "1  A3BY5KCNQZXV5U  B00000JD4V     4.0\n",
       "2  A3BY5KCNQZXV5U  B000063574     5.0\n",
       "3  A3BY5KCNQZXV5U  B0000CDJP8     5.0\n",
       "4  A3BY5KCNQZXV5U  B0007Y794O     5.0"
      ]
     },
     "execution_count": 26,
     "metadata": {},
     "output_type": "execute_result"
    }
   ],
   "source": [
    "df_ratings_train_split.head()"
   ]
  },
  {
   "cell_type": "code",
   "execution_count": 27,
   "metadata": {
    "colab": {},
    "colab_type": "code",
    "id": "IW9qJYZKEr6o"
   },
   "outputs": [],
   "source": [
    "# Now to split the data into Random Train, Test we will use sklearn model selection package here.\n",
    "from sklearn.model_selection import train_test_split\n",
    "\n",
    "train_data, test_data = train_test_split(df_ratings_train_split, test_size = 0.30, random_state=20) #split it in 70/30 ratio\n"
   ]
  },
  {
   "cell_type": "code",
   "execution_count": 28,
   "metadata": {
    "colab": {
     "base_uri": "https://localhost:8080/",
     "height": 51
    },
    "colab_type": "code",
    "id": "9u7dXIdfEr6r",
    "outputId": "abc1a248-9aa1-4a90-ed47-41942d57dbad"
   },
   "outputs": [
    {
     "name": "stdout",
     "output_type": "stream",
     "text": [
      "(88109, 3)\n",
      "(37762, 3)\n"
     ]
    }
   ],
   "source": [
    "print(train_data.shape)\n",
    "print(test_data.shape)"
   ]
  },
  {
   "cell_type": "code",
   "execution_count": 29,
   "metadata": {
    "colab": {
     "base_uri": "https://localhost:8080/",
     "height": 204
    },
    "colab_type": "code",
    "id": "g6dHjoa4Er6s",
    "outputId": "2d9f0890-3cd9-497e-9c9b-c24eebe48f91"
   },
   "outputs": [
    {
     "data": {
      "text/html": [
       "<div>\n",
       "<style scoped>\n",
       "    .dataframe tbody tr th:only-of-type {\n",
       "        vertical-align: middle;\n",
       "    }\n",
       "\n",
       "    .dataframe tbody tr th {\n",
       "        vertical-align: top;\n",
       "    }\n",
       "\n",
       "    .dataframe thead th {\n",
       "        text-align: right;\n",
       "    }\n",
       "</style>\n",
       "<table border=\"1\" class=\"dataframe\">\n",
       "  <thead>\n",
       "    <tr style=\"text-align: right;\">\n",
       "      <th></th>\n",
       "      <th>userId</th>\n",
       "      <th>productId</th>\n",
       "      <th>Rating</th>\n",
       "    </tr>\n",
       "  </thead>\n",
       "  <tbody>\n",
       "    <tr>\n",
       "      <td>61349</td>\n",
       "      <td>A2BUQ240COLAOP</td>\n",
       "      <td>B007SLDF7O</td>\n",
       "      <td>5.0</td>\n",
       "    </tr>\n",
       "    <tr>\n",
       "      <td>21328</td>\n",
       "      <td>A2WDCAMKCCP1UR</td>\n",
       "      <td>B00IDDVLDG</td>\n",
       "      <td>1.0</td>\n",
       "    </tr>\n",
       "    <tr>\n",
       "      <td>24845</td>\n",
       "      <td>A1FF2PLA84KNAE</td>\n",
       "      <td>B001NZ8PHQ</td>\n",
       "      <td>4.0</td>\n",
       "    </tr>\n",
       "    <tr>\n",
       "      <td>47945</td>\n",
       "      <td>AIJQU979J6UFY</td>\n",
       "      <td>B00EPY0QVU</td>\n",
       "      <td>4.0</td>\n",
       "    </tr>\n",
       "    <tr>\n",
       "      <td>104765</td>\n",
       "      <td>A2EN82VBJT44QP</td>\n",
       "      <td>B0096W1OCG</td>\n",
       "      <td>4.0</td>\n",
       "    </tr>\n",
       "  </tbody>\n",
       "</table>\n",
       "</div>"
      ],
      "text/plain": [
       "                userId   productId  Rating\n",
       "61349   A2BUQ240COLAOP  B007SLDF7O     5.0\n",
       "21328   A2WDCAMKCCP1UR  B00IDDVLDG     1.0\n",
       "24845   A1FF2PLA84KNAE  B001NZ8PHQ     4.0\n",
       "47945    AIJQU979J6UFY  B00EPY0QVU     4.0\n",
       "104765  A2EN82VBJT44QP  B0096W1OCG     4.0"
      ]
     },
     "execution_count": 29,
     "metadata": {},
     "output_type": "execute_result"
    }
   ],
   "source": [
    "train_data.head()"
   ]
  },
  {
   "cell_type": "code",
   "execution_count": 30,
   "metadata": {
    "colab": {
     "base_uri": "https://localhost:8080/",
     "height": 204
    },
    "colab_type": "code",
    "id": "5l3lT1X6Er6w",
    "outputId": "df4690bc-2fd2-4491-e860-afdd547511a3"
   },
   "outputs": [
    {
     "data": {
      "text/html": [
       "<div>\n",
       "<style scoped>\n",
       "    .dataframe tbody tr th:only-of-type {\n",
       "        vertical-align: middle;\n",
       "    }\n",
       "\n",
       "    .dataframe tbody tr th {\n",
       "        vertical-align: top;\n",
       "    }\n",
       "\n",
       "    .dataframe thead th {\n",
       "        text-align: right;\n",
       "    }\n",
       "</style>\n",
       "<table border=\"1\" class=\"dataframe\">\n",
       "  <thead>\n",
       "    <tr style=\"text-align: right;\">\n",
       "      <th></th>\n",
       "      <th>userId</th>\n",
       "      <th>productId</th>\n",
       "      <th>Rating</th>\n",
       "    </tr>\n",
       "  </thead>\n",
       "  <tbody>\n",
       "    <tr>\n",
       "      <td>25018</td>\n",
       "      <td>ARTA78TP6H73D</td>\n",
       "      <td>B00F93IOR4</td>\n",
       "      <td>5.0</td>\n",
       "    </tr>\n",
       "    <tr>\n",
       "      <td>67716</td>\n",
       "      <td>A7FDGFK0KN7QG</td>\n",
       "      <td>B00HXE4GZQ</td>\n",
       "      <td>5.0</td>\n",
       "    </tr>\n",
       "    <tr>\n",
       "      <td>41028</td>\n",
       "      <td>A3UW23DBF2KHWC</td>\n",
       "      <td>B007TN0IGM</td>\n",
       "      <td>5.0</td>\n",
       "    </tr>\n",
       "    <tr>\n",
       "      <td>114976</td>\n",
       "      <td>A3VC74TJ06WDDD</td>\n",
       "      <td>B000CC6I5W</td>\n",
       "      <td>1.0</td>\n",
       "    </tr>\n",
       "    <tr>\n",
       "      <td>41148</td>\n",
       "      <td>A3D2VIUT2HWP0Z</td>\n",
       "      <td>B001CHHVCU</td>\n",
       "      <td>5.0</td>\n",
       "    </tr>\n",
       "  </tbody>\n",
       "</table>\n",
       "</div>"
      ],
      "text/plain": [
       "                userId   productId  Rating\n",
       "25018    ARTA78TP6H73D  B00F93IOR4     5.0\n",
       "67716    A7FDGFK0KN7QG  B00HXE4GZQ     5.0\n",
       "41028   A3UW23DBF2KHWC  B007TN0IGM     5.0\n",
       "114976  A3VC74TJ06WDDD  B000CC6I5W     1.0\n",
       "41148   A3D2VIUT2HWP0Z  B001CHHVCU     5.0"
      ]
     },
     "execution_count": 30,
     "metadata": {},
     "output_type": "execute_result"
    }
   ],
   "source": [
    "test_data.head()"
   ]
  },
  {
   "cell_type": "code",
   "execution_count": 31,
   "metadata": {
    "colab": {
     "base_uri": "https://localhost:8080/",
     "height": 102
    },
    "colab_type": "code",
    "id": "LLdQuqUjEr6z",
    "outputId": "718905ae-773e-4eca-88d4-e0a67dc8b02f"
   },
   "outputs": [
    {
     "name": "stdout",
     "output_type": "stream",
     "text": [
      "Count of null values in each feature:\n",
      "userId       0\n",
      "productId    0\n",
      "Rating       0\n",
      "dtype: int64\n"
     ]
    }
   ],
   "source": [
    "# Checking for missing value in Splitted Data\n",
    "print (\"Count of null values in each feature:\")\n",
    "print(train_data.isna().sum())"
   ]
  },
  {
   "cell_type": "code",
   "execution_count": 32,
   "metadata": {
    "colab": {
     "base_uri": "https://localhost:8080/",
     "height": 102
    },
    "colab_type": "code",
    "id": "ZlSwrthsEr64",
    "outputId": "966d3894-6eb2-4528-c333-b77e214caef1"
   },
   "outputs": [
    {
     "name": "stdout",
     "output_type": "stream",
     "text": [
      "Count of null values in each feature:\n",
      "userId       0\n",
      "productId    0\n",
      "Rating       0\n",
      "dtype: int64\n"
     ]
    }
   ],
   "source": [
    "# Checking for missing value\n",
    "print (\"Count of null values in each feature:\")\n",
    "print(test_data.isna().sum())"
   ]
  },
  {
   "cell_type": "markdown",
   "metadata": {
    "colab_type": "text",
    "id": "eHf1Bqk3Er68"
   },
   "source": [
    "### Observation:\n",
    "#### - We have splitted the data into train and test (70:30)\n",
    "#### - Train and Test Data are randomly selected, it is verified with the head and looking into the index no for the selected Data\n",
    "#### - I have used the random_state=20 for making the train/Test data repetative with the same order\n",
    "#### - Test and Train Data do not have any null values"
   ]
  },
  {
   "cell_type": "markdown",
   "metadata": {
    "colab_type": "text",
    "id": "15w92MQXEr68"
   },
   "source": [
    "## <font color='blue'>4. Build Popularity Recommender model. - (20 Marks)</font>"
   ]
  },
  {
   "cell_type": "markdown",
   "metadata": {
    "colab_type": "text",
    "id": "Eu905jKUEr6_"
   },
   "source": [
    "### (Non-personalised)"
   ]
  },
  {
   "cell_type": "code",
   "execution_count": 33,
   "metadata": {
    "colab": {
     "base_uri": "https://localhost:8080/",
     "height": 419
    },
    "colab_type": "code",
    "id": "LSkanFHoEr7A",
    "outputId": "ff0a8a61-f9e1-4a63-911a-ec7f8168c8c2"
   },
   "outputs": [
    {
     "data": {
      "text/html": [
       "<div>\n",
       "<style scoped>\n",
       "    .dataframe tbody tr th:only-of-type {\n",
       "        vertical-align: middle;\n",
       "    }\n",
       "\n",
       "    .dataframe tbody tr th {\n",
       "        vertical-align: top;\n",
       "    }\n",
       "\n",
       "    .dataframe thead th {\n",
       "        text-align: right;\n",
       "    }\n",
       "</style>\n",
       "<table border=\"1\" class=\"dataframe\">\n",
       "  <thead>\n",
       "    <tr style=\"text-align: right;\">\n",
       "      <th></th>\n",
       "      <th>productId</th>\n",
       "      <th>mean_rating</th>\n",
       "    </tr>\n",
       "  </thead>\n",
       "  <tbody>\n",
       "    <tr>\n",
       "      <td>0</td>\n",
       "      <td>0594451647</td>\n",
       "      <td>5.00</td>\n",
       "    </tr>\n",
       "    <tr>\n",
       "      <td>1</td>\n",
       "      <td>0594481813</td>\n",
       "      <td>3.00</td>\n",
       "    </tr>\n",
       "    <tr>\n",
       "      <td>2</td>\n",
       "      <td>0970407998</td>\n",
       "      <td>4.00</td>\n",
       "    </tr>\n",
       "    <tr>\n",
       "      <td>3</td>\n",
       "      <td>0972683275</td>\n",
       "      <td>4.75</td>\n",
       "    </tr>\n",
       "    <tr>\n",
       "      <td>4</td>\n",
       "      <td>1400501466</td>\n",
       "      <td>3.00</td>\n",
       "    </tr>\n",
       "    <tr>\n",
       "      <td>...</td>\n",
       "      <td>...</td>\n",
       "      <td>...</td>\n",
       "    </tr>\n",
       "    <tr>\n",
       "      <td>38260</td>\n",
       "      <td>B00LED02VY</td>\n",
       "      <td>4.00</td>\n",
       "    </tr>\n",
       "    <tr>\n",
       "      <td>38261</td>\n",
       "      <td>B00LGN7Y3G</td>\n",
       "      <td>5.00</td>\n",
       "    </tr>\n",
       "    <tr>\n",
       "      <td>38262</td>\n",
       "      <td>B00LGQ6HL8</td>\n",
       "      <td>5.00</td>\n",
       "    </tr>\n",
       "    <tr>\n",
       "      <td>38263</td>\n",
       "      <td>B00LI4ZZO8</td>\n",
       "      <td>5.00</td>\n",
       "    </tr>\n",
       "    <tr>\n",
       "      <td>38264</td>\n",
       "      <td>B00LKG1MC8</td>\n",
       "      <td>5.00</td>\n",
       "    </tr>\n",
       "  </tbody>\n",
       "</table>\n",
       "<p>38265 rows × 2 columns</p>\n",
       "</div>"
      ],
      "text/plain": [
       "        productId  mean_rating\n",
       "0      0594451647         5.00\n",
       "1      0594481813         3.00\n",
       "2      0970407998         4.00\n",
       "3      0972683275         4.75\n",
       "4      1400501466         3.00\n",
       "...           ...          ...\n",
       "38260  B00LED02VY         4.00\n",
       "38261  B00LGN7Y3G         5.00\n",
       "38262  B00LGQ6HL8         5.00\n",
       "38263  B00LI4ZZO8         5.00\n",
       "38264  B00LKG1MC8         5.00\n",
       "\n",
       "[38265 rows x 2 columns]"
      ]
     },
     "execution_count": 33,
     "metadata": {},
     "output_type": "execute_result"
    }
   ],
   "source": [
    "# Getting mean ratings for each product\n",
    "train_data_mean=train_data.groupby('productId')['Rating'].mean().reset_index()\n",
    "# Renaming it as mean_rating column\n",
    "train_data_mean.rename(columns = {'Rating': 'mean_rating'}, inplace = True)\n",
    "#Resetting the index\n",
    "train_data_mean.reset_index()\n",
    "#See the Data\n",
    "train_data_mean"
   ]
  },
  {
   "cell_type": "code",
   "execution_count": 34,
   "metadata": {
    "colab": {
     "base_uri": "https://localhost:8080/",
     "height": 419
    },
    "colab_type": "code",
    "id": "O5-t3iGrEr7C",
    "outputId": "be7083d5-38ac-4c4a-fcde-58d57f66a23b"
   },
   "outputs": [
    {
     "data": {
      "text/html": [
       "<div>\n",
       "<style scoped>\n",
       "    .dataframe tbody tr th:only-of-type {\n",
       "        vertical-align: middle;\n",
       "    }\n",
       "\n",
       "    .dataframe tbody tr th {\n",
       "        vertical-align: top;\n",
       "    }\n",
       "\n",
       "    .dataframe thead th {\n",
       "        text-align: right;\n",
       "    }\n",
       "</style>\n",
       "<table border=\"1\" class=\"dataframe\">\n",
       "  <thead>\n",
       "    <tr style=\"text-align: right;\">\n",
       "      <th></th>\n",
       "      <th>productId</th>\n",
       "      <th>mean_rating</th>\n",
       "    </tr>\n",
       "  </thead>\n",
       "  <tbody>\n",
       "    <tr>\n",
       "      <td>0</td>\n",
       "      <td>0594451647</td>\n",
       "      <td>5.0</td>\n",
       "    </tr>\n",
       "    <tr>\n",
       "      <td>20671</td>\n",
       "      <td>B003SW13WQ</td>\n",
       "      <td>5.0</td>\n",
       "    </tr>\n",
       "    <tr>\n",
       "      <td>20690</td>\n",
       "      <td>B003SXI1UM</td>\n",
       "      <td>5.0</td>\n",
       "    </tr>\n",
       "    <tr>\n",
       "      <td>20686</td>\n",
       "      <td>B003SX0OU2</td>\n",
       "      <td>5.0</td>\n",
       "    </tr>\n",
       "    <tr>\n",
       "      <td>20685</td>\n",
       "      <td>B003SX0OR0</td>\n",
       "      <td>5.0</td>\n",
       "    </tr>\n",
       "    <tr>\n",
       "      <td>...</td>\n",
       "      <td>...</td>\n",
       "      <td>...</td>\n",
       "    </tr>\n",
       "    <tr>\n",
       "      <td>11575</td>\n",
       "      <td>B0014KRVQQ</td>\n",
       "      <td>5.0</td>\n",
       "    </tr>\n",
       "    <tr>\n",
       "      <td>10885</td>\n",
       "      <td>B0010HGFM4</td>\n",
       "      <td>5.0</td>\n",
       "    </tr>\n",
       "    <tr>\n",
       "      <td>10724</td>\n",
       "      <td>B000YIWR8G</td>\n",
       "      <td>5.0</td>\n",
       "    </tr>\n",
       "    <tr>\n",
       "      <td>10260</td>\n",
       "      <td>B000VVXNZW</td>\n",
       "      <td>5.0</td>\n",
       "    </tr>\n",
       "    <tr>\n",
       "      <td>11760</td>\n",
       "      <td>B0015RCVT0</td>\n",
       "      <td>5.0</td>\n",
       "    </tr>\n",
       "  </tbody>\n",
       "</table>\n",
       "<p>17273 rows × 2 columns</p>\n",
       "</div>"
      ],
      "text/plain": [
       "        productId  mean_rating\n",
       "0      0594451647          5.0\n",
       "20671  B003SW13WQ          5.0\n",
       "20690  B003SXI1UM          5.0\n",
       "20686  B003SX0OU2          5.0\n",
       "20685  B003SX0OR0          5.0\n",
       "...           ...          ...\n",
       "11575  B0014KRVQQ          5.0\n",
       "10885  B0010HGFM4          5.0\n",
       "10724  B000YIWR8G          5.0\n",
       "10260  B000VVXNZW          5.0\n",
       "11760  B0015RCVT0          5.0\n",
       "\n",
       "[17273 rows x 2 columns]"
      ]
     },
     "execution_count": 34,
     "metadata": {},
     "output_type": "execute_result"
    }
   ],
   "source": [
    "#Popularity Recommendation based on mean Rating\n",
    "train_data_mean_reco = train_data_mean.sort_values(by='mean_rating', ascending = False)\n",
    "#Recomending based on Mean Rating of 5\n",
    "train_data_mean_reco[train_data_mean_reco['mean_rating']>=5]"
   ]
  },
  {
   "cell_type": "markdown",
   "metadata": {
    "colab_type": "text",
    "id": "BbR7T_oVEr7F"
   },
   "source": [
    "### Observation:\n",
    "#### - In Popularity ased Recommendation, it is possible to recommend a product based on its highest mean Rating.\n",
    "#### - Concern here is We are not considering the Rating Count given by the Users for each of This Product\n",
    "#### - It Might possible Some Product is recomended by only few users with all 5 and that will appear on top\n",
    "#### - Total no of Product with Mean Rating of 5 is comming 17273, which may change when we do consider the no of rating given\n",
    "#### - We can apply a Score and then rank it based on Highest to Lowest Order of (Mean_rating*No Of Rating) in subsequent steps"
   ]
  },
  {
   "cell_type": "markdown",
   "metadata": {
    "colab_type": "text",
    "id": "oDAZ2ZJhEr7F"
   },
   "source": [
    "## <center>Lets Consider the User Rating Counts Aling with the Rating also to Consider the Recomendation</center>"
   ]
  },
  {
   "cell_type": "code",
   "execution_count": 35,
   "metadata": {
    "colab": {
     "base_uri": "https://localhost:8080/",
     "height": 419
    },
    "colab_type": "code",
    "id": "qufrGhI8Er7F",
    "outputId": "1713618f-2927-45fc-e9e6-cbc8feb46392"
   },
   "outputs": [
    {
     "data": {
      "text/html": [
       "<div>\n",
       "<style scoped>\n",
       "    .dataframe tbody tr th:only-of-type {\n",
       "        vertical-align: middle;\n",
       "    }\n",
       "\n",
       "    .dataframe tbody tr th {\n",
       "        vertical-align: top;\n",
       "    }\n",
       "\n",
       "    .dataframe thead th {\n",
       "        text-align: right;\n",
       "    }\n",
       "</style>\n",
       "<table border=\"1\" class=\"dataframe\">\n",
       "  <thead>\n",
       "    <tr style=\"text-align: right;\">\n",
       "      <th></th>\n",
       "      <th>productId</th>\n",
       "      <th>no_of_rating</th>\n",
       "    </tr>\n",
       "  </thead>\n",
       "  <tbody>\n",
       "    <tr>\n",
       "      <td>0</td>\n",
       "      <td>0594451647</td>\n",
       "      <td>1</td>\n",
       "    </tr>\n",
       "    <tr>\n",
       "      <td>1</td>\n",
       "      <td>0594481813</td>\n",
       "      <td>1</td>\n",
       "    </tr>\n",
       "    <tr>\n",
       "      <td>2</td>\n",
       "      <td>0970407998</td>\n",
       "      <td>1</td>\n",
       "    </tr>\n",
       "    <tr>\n",
       "      <td>3</td>\n",
       "      <td>0972683275</td>\n",
       "      <td>4</td>\n",
       "    </tr>\n",
       "    <tr>\n",
       "      <td>4</td>\n",
       "      <td>1400501466</td>\n",
       "      <td>5</td>\n",
       "    </tr>\n",
       "    <tr>\n",
       "      <td>...</td>\n",
       "      <td>...</td>\n",
       "      <td>...</td>\n",
       "    </tr>\n",
       "    <tr>\n",
       "      <td>38260</td>\n",
       "      <td>B00LED02VY</td>\n",
       "      <td>1</td>\n",
       "    </tr>\n",
       "    <tr>\n",
       "      <td>38261</td>\n",
       "      <td>B00LGN7Y3G</td>\n",
       "      <td>1</td>\n",
       "    </tr>\n",
       "    <tr>\n",
       "      <td>38262</td>\n",
       "      <td>B00LGQ6HL8</td>\n",
       "      <td>3</td>\n",
       "    </tr>\n",
       "    <tr>\n",
       "      <td>38263</td>\n",
       "      <td>B00LI4ZZO8</td>\n",
       "      <td>1</td>\n",
       "    </tr>\n",
       "    <tr>\n",
       "      <td>38264</td>\n",
       "      <td>B00LKG1MC8</td>\n",
       "      <td>1</td>\n",
       "    </tr>\n",
       "  </tbody>\n",
       "</table>\n",
       "<p>38265 rows × 2 columns</p>\n",
       "</div>"
      ],
      "text/plain": [
       "        productId  no_of_rating\n",
       "0      0594451647             1\n",
       "1      0594481813             1\n",
       "2      0970407998             1\n",
       "3      0972683275             4\n",
       "4      1400501466             5\n",
       "...           ...           ...\n",
       "38260  B00LED02VY             1\n",
       "38261  B00LGN7Y3G             1\n",
       "38262  B00LGQ6HL8             3\n",
       "38263  B00LI4ZZO8             1\n",
       "38264  B00LKG1MC8             1\n",
       "\n",
       "[38265 rows x 2 columns]"
      ]
     },
     "execution_count": 35,
     "metadata": {},
     "output_type": "execute_result"
    }
   ],
   "source": [
    "#Get the No of Product Rating Count By User Rated for the Same Product\n",
    "train_data_count=train_data.groupby('productId')['userId'].count()\n",
    "train_data_count=train_data_count.reset_index()\n",
    "#Rename the Column userId as no_of_rating\n",
    "train_data_count.rename(columns = {'userId': 'no_of_rating'}, inplace = True)\n",
    "train_data_count"
   ]
  },
  {
   "cell_type": "code",
   "execution_count": 36,
   "metadata": {
    "colab": {
     "base_uri": "https://localhost:8080/",
     "height": 419
    },
    "colab_type": "code",
    "id": "zHIwFcRpEr7I",
    "outputId": "30489ba8-27fa-4033-90ce-4e083dc27469"
   },
   "outputs": [
    {
     "data": {
      "text/html": [
       "<div>\n",
       "<style scoped>\n",
       "    .dataframe tbody tr th:only-of-type {\n",
       "        vertical-align: middle;\n",
       "    }\n",
       "\n",
       "    .dataframe tbody tr th {\n",
       "        vertical-align: top;\n",
       "    }\n",
       "\n",
       "    .dataframe thead th {\n",
       "        text-align: right;\n",
       "    }\n",
       "</style>\n",
       "<table border=\"1\" class=\"dataframe\">\n",
       "  <thead>\n",
       "    <tr style=\"text-align: right;\">\n",
       "      <th></th>\n",
       "      <th>productId</th>\n",
       "      <th>mean_rating</th>\n",
       "      <th>no_of_rating</th>\n",
       "    </tr>\n",
       "  </thead>\n",
       "  <tbody>\n",
       "    <tr>\n",
       "      <td>0</td>\n",
       "      <td>0594451647</td>\n",
       "      <td>5.00</td>\n",
       "      <td>1</td>\n",
       "    </tr>\n",
       "    <tr>\n",
       "      <td>1</td>\n",
       "      <td>0594481813</td>\n",
       "      <td>3.00</td>\n",
       "      <td>1</td>\n",
       "    </tr>\n",
       "    <tr>\n",
       "      <td>2</td>\n",
       "      <td>0970407998</td>\n",
       "      <td>4.00</td>\n",
       "      <td>1</td>\n",
       "    </tr>\n",
       "    <tr>\n",
       "      <td>3</td>\n",
       "      <td>0972683275</td>\n",
       "      <td>4.75</td>\n",
       "      <td>4</td>\n",
       "    </tr>\n",
       "    <tr>\n",
       "      <td>4</td>\n",
       "      <td>1400501466</td>\n",
       "      <td>3.00</td>\n",
       "      <td>5</td>\n",
       "    </tr>\n",
       "    <tr>\n",
       "      <td>...</td>\n",
       "      <td>...</td>\n",
       "      <td>...</td>\n",
       "      <td>...</td>\n",
       "    </tr>\n",
       "    <tr>\n",
       "      <td>38260</td>\n",
       "      <td>B00LED02VY</td>\n",
       "      <td>4.00</td>\n",
       "      <td>1</td>\n",
       "    </tr>\n",
       "    <tr>\n",
       "      <td>38261</td>\n",
       "      <td>B00LGN7Y3G</td>\n",
       "      <td>5.00</td>\n",
       "      <td>1</td>\n",
       "    </tr>\n",
       "    <tr>\n",
       "      <td>38262</td>\n",
       "      <td>B00LGQ6HL8</td>\n",
       "      <td>5.00</td>\n",
       "      <td>3</td>\n",
       "    </tr>\n",
       "    <tr>\n",
       "      <td>38263</td>\n",
       "      <td>B00LI4ZZO8</td>\n",
       "      <td>5.00</td>\n",
       "      <td>1</td>\n",
       "    </tr>\n",
       "    <tr>\n",
       "      <td>38264</td>\n",
       "      <td>B00LKG1MC8</td>\n",
       "      <td>5.00</td>\n",
       "      <td>1</td>\n",
       "    </tr>\n",
       "  </tbody>\n",
       "</table>\n",
       "<p>38265 rows × 3 columns</p>\n",
       "</div>"
      ],
      "text/plain": [
       "        productId  mean_rating  no_of_rating\n",
       "0      0594451647         5.00             1\n",
       "1      0594481813         3.00             1\n",
       "2      0970407998         4.00             1\n",
       "3      0972683275         4.75             4\n",
       "4      1400501466         3.00             5\n",
       "...           ...          ...           ...\n",
       "38260  B00LED02VY         4.00             1\n",
       "38261  B00LGN7Y3G         5.00             1\n",
       "38262  B00LGQ6HL8         5.00             3\n",
       "38263  B00LI4ZZO8         5.00             1\n",
       "38264  B00LKG1MC8         5.00             1\n",
       "\n",
       "[38265 rows x 3 columns]"
      ]
     },
     "execution_count": 36,
     "metadata": {},
     "output_type": "execute_result"
    }
   ],
   "source": [
    "# merge the data set with Mean Rating and No of Rating based on productId\n",
    "train_data_score=pd.merge(train_data_mean,train_data_count,on='productId',how='inner')\n",
    "train_data_score"
   ]
  },
  {
   "cell_type": "code",
   "execution_count": 37,
   "metadata": {
    "colab": {
     "base_uri": "https://localhost:8080/",
     "height": 419
    },
    "colab_type": "code",
    "id": "9JE5KZwyEr7L",
    "outputId": "f77ba739-c447-4ec1-c8e6-811b7219c2ab"
   },
   "outputs": [
    {
     "data": {
      "text/html": [
       "<div>\n",
       "<style scoped>\n",
       "    .dataframe tbody tr th:only-of-type {\n",
       "        vertical-align: middle;\n",
       "    }\n",
       "\n",
       "    .dataframe tbody tr th {\n",
       "        vertical-align: top;\n",
       "    }\n",
       "\n",
       "    .dataframe thead th {\n",
       "        text-align: right;\n",
       "    }\n",
       "</style>\n",
       "<table border=\"1\" class=\"dataframe\">\n",
       "  <thead>\n",
       "    <tr style=\"text-align: right;\">\n",
       "      <th></th>\n",
       "      <th>productId</th>\n",
       "      <th>mean_rating</th>\n",
       "      <th>no_of_rating</th>\n",
       "      <th>score</th>\n",
       "    </tr>\n",
       "  </thead>\n",
       "  <tbody>\n",
       "    <tr>\n",
       "      <td>0</td>\n",
       "      <td>0594451647</td>\n",
       "      <td>5.00</td>\n",
       "      <td>1</td>\n",
       "      <td>5.0</td>\n",
       "    </tr>\n",
       "    <tr>\n",
       "      <td>1</td>\n",
       "      <td>0594481813</td>\n",
       "      <td>3.00</td>\n",
       "      <td>1</td>\n",
       "      <td>3.0</td>\n",
       "    </tr>\n",
       "    <tr>\n",
       "      <td>2</td>\n",
       "      <td>0970407998</td>\n",
       "      <td>4.00</td>\n",
       "      <td>1</td>\n",
       "      <td>4.0</td>\n",
       "    </tr>\n",
       "    <tr>\n",
       "      <td>3</td>\n",
       "      <td>0972683275</td>\n",
       "      <td>4.75</td>\n",
       "      <td>4</td>\n",
       "      <td>19.0</td>\n",
       "    </tr>\n",
       "    <tr>\n",
       "      <td>4</td>\n",
       "      <td>1400501466</td>\n",
       "      <td>3.00</td>\n",
       "      <td>5</td>\n",
       "      <td>15.0</td>\n",
       "    </tr>\n",
       "    <tr>\n",
       "      <td>...</td>\n",
       "      <td>...</td>\n",
       "      <td>...</td>\n",
       "      <td>...</td>\n",
       "      <td>...</td>\n",
       "    </tr>\n",
       "    <tr>\n",
       "      <td>38260</td>\n",
       "      <td>B00LED02VY</td>\n",
       "      <td>4.00</td>\n",
       "      <td>1</td>\n",
       "      <td>4.0</td>\n",
       "    </tr>\n",
       "    <tr>\n",
       "      <td>38261</td>\n",
       "      <td>B00LGN7Y3G</td>\n",
       "      <td>5.00</td>\n",
       "      <td>1</td>\n",
       "      <td>5.0</td>\n",
       "    </tr>\n",
       "    <tr>\n",
       "      <td>38262</td>\n",
       "      <td>B00LGQ6HL8</td>\n",
       "      <td>5.00</td>\n",
       "      <td>3</td>\n",
       "      <td>15.0</td>\n",
       "    </tr>\n",
       "    <tr>\n",
       "      <td>38263</td>\n",
       "      <td>B00LI4ZZO8</td>\n",
       "      <td>5.00</td>\n",
       "      <td>1</td>\n",
       "      <td>5.0</td>\n",
       "    </tr>\n",
       "    <tr>\n",
       "      <td>38264</td>\n",
       "      <td>B00LKG1MC8</td>\n",
       "      <td>5.00</td>\n",
       "      <td>1</td>\n",
       "      <td>5.0</td>\n",
       "    </tr>\n",
       "  </tbody>\n",
       "</table>\n",
       "<p>38265 rows × 4 columns</p>\n",
       "</div>"
      ],
      "text/plain": [
       "        productId  mean_rating  no_of_rating  score\n",
       "0      0594451647         5.00             1    5.0\n",
       "1      0594481813         3.00             1    3.0\n",
       "2      0970407998         4.00             1    4.0\n",
       "3      0972683275         4.75             4   19.0\n",
       "4      1400501466         3.00             5   15.0\n",
       "...           ...          ...           ...    ...\n",
       "38260  B00LED02VY         4.00             1    4.0\n",
       "38261  B00LGN7Y3G         5.00             1    5.0\n",
       "38262  B00LGQ6HL8         5.00             3   15.0\n",
       "38263  B00LI4ZZO8         5.00             1    5.0\n",
       "38264  B00LKG1MC8         5.00             1    5.0\n",
       "\n",
       "[38265 rows x 4 columns]"
      ]
     },
     "execution_count": 37,
     "metadata": {},
     "output_type": "execute_result"
    }
   ],
   "source": [
    "# Calculate the Score as mean_rating*no_of_rating\n",
    "train_data_score['score'] = train_data_score['mean_rating']*train_data_score['no_of_rating']\n",
    "train_data_score"
   ]
  },
  {
   "cell_type": "code",
   "execution_count": 38,
   "metadata": {
    "colab": {
     "base_uri": "https://localhost:8080/",
     "height": 359
    },
    "colab_type": "code",
    "id": "nK2YSt2dEr7O",
    "outputId": "bc11f1d0-4ad3-4378-c701-e109595f6e72"
   },
   "outputs": [
    {
     "data": {
      "text/html": [
       "<div>\n",
       "<style scoped>\n",
       "    .dataframe tbody tr th:only-of-type {\n",
       "        vertical-align: middle;\n",
       "    }\n",
       "\n",
       "    .dataframe tbody tr th {\n",
       "        vertical-align: top;\n",
       "    }\n",
       "\n",
       "    .dataframe thead th {\n",
       "        text-align: right;\n",
       "    }\n",
       "</style>\n",
       "<table border=\"1\" class=\"dataframe\">\n",
       "  <thead>\n",
       "    <tr style=\"text-align: right;\">\n",
       "      <th></th>\n",
       "      <th>productId</th>\n",
       "      <th>mean_rating</th>\n",
       "      <th>no_of_rating</th>\n",
       "      <th>score</th>\n",
       "      <th>rank</th>\n",
       "    </tr>\n",
       "  </thead>\n",
       "  <tbody>\n",
       "    <tr>\n",
       "      <td>30943</td>\n",
       "      <td>B0088CJT4U</td>\n",
       "      <td>4.234483</td>\n",
       "      <td>145</td>\n",
       "      <td>614.0</td>\n",
       "      <td>1.0</td>\n",
       "    </tr>\n",
       "    <tr>\n",
       "      <td>19698</td>\n",
       "      <td>B003ES5ZUU</td>\n",
       "      <td>4.865079</td>\n",
       "      <td>126</td>\n",
       "      <td>613.0</td>\n",
       "      <td>2.0</td>\n",
       "    </tr>\n",
       "    <tr>\n",
       "      <td>30344</td>\n",
       "      <td>B007WTAJTO</td>\n",
       "      <td>4.738095</td>\n",
       "      <td>126</td>\n",
       "      <td>597.0</td>\n",
       "      <td>3.0</td>\n",
       "    </tr>\n",
       "    <tr>\n",
       "      <td>8741</td>\n",
       "      <td>B000N99BBC</td>\n",
       "      <td>4.754098</td>\n",
       "      <td>122</td>\n",
       "      <td>580.0</td>\n",
       "      <td>4.0</td>\n",
       "    </tr>\n",
       "    <tr>\n",
       "      <td>30635</td>\n",
       "      <td>B00829THK0</td>\n",
       "      <td>4.447619</td>\n",
       "      <td>105</td>\n",
       "      <td>467.0</td>\n",
       "      <td>5.0</td>\n",
       "    </tr>\n",
       "    <tr>\n",
       "      <td>30639</td>\n",
       "      <td>B00829TIEK</td>\n",
       "      <td>4.500000</td>\n",
       "      <td>96</td>\n",
       "      <td>432.0</td>\n",
       "      <td>6.0</td>\n",
       "    </tr>\n",
       "    <tr>\n",
       "      <td>22810</td>\n",
       "      <td>B004CLYEDC</td>\n",
       "      <td>4.626506</td>\n",
       "      <td>83</td>\n",
       "      <td>384.0</td>\n",
       "      <td>7.0</td>\n",
       "    </tr>\n",
       "    <tr>\n",
       "      <td>17797</td>\n",
       "      <td>B002V88HFE</td>\n",
       "      <td>4.725000</td>\n",
       "      <td>80</td>\n",
       "      <td>378.0</td>\n",
       "      <td>8.0</td>\n",
       "    </tr>\n",
       "    <tr>\n",
       "      <td>31202</td>\n",
       "      <td>B008DWCRQW</td>\n",
       "      <td>4.097826</td>\n",
       "      <td>92</td>\n",
       "      <td>377.0</td>\n",
       "      <td>9.0</td>\n",
       "    </tr>\n",
       "    <tr>\n",
       "      <td>17411</td>\n",
       "      <td>B002R5AM7C</td>\n",
       "      <td>4.177778</td>\n",
       "      <td>90</td>\n",
       "      <td>376.0</td>\n",
       "      <td>10.0</td>\n",
       "    </tr>\n",
       "  </tbody>\n",
       "</table>\n",
       "</div>"
      ],
      "text/plain": [
       "        productId  mean_rating  no_of_rating  score  rank\n",
       "30943  B0088CJT4U     4.234483           145  614.0   1.0\n",
       "19698  B003ES5ZUU     4.865079           126  613.0   2.0\n",
       "30344  B007WTAJTO     4.738095           126  597.0   3.0\n",
       "8741   B000N99BBC     4.754098           122  580.0   4.0\n",
       "30635  B00829THK0     4.447619           105  467.0   5.0\n",
       "30639  B00829TIEK     4.500000            96  432.0   6.0\n",
       "22810  B004CLYEDC     4.626506            83  384.0   7.0\n",
       "17797  B002V88HFE     4.725000            80  378.0   8.0\n",
       "31202  B008DWCRQW     4.097826            92  377.0   9.0\n",
       "17411  B002R5AM7C     4.177778            90  376.0  10.0"
      ]
     },
     "execution_count": 38,
     "metadata": {},
     "output_type": "execute_result"
    }
   ],
   "source": [
    "# Calculate the Rank based on Highest Score of (mean_rating*no_of_rating)\n",
    "train_data_score['rank'] = train_data_score['score'].rank(ascending = False, method = 'first')\n",
    "train_data_score = train_data_score.sort_values(by='rank')\n",
    "# Get the top 10 recommendations \n",
    "popularity_recommendations = train_data_score.head(10) \n",
    "popularity_recommendations"
   ]
  },
  {
   "cell_type": "code",
   "execution_count": 39,
   "metadata": {
    "colab": {
     "base_uri": "https://localhost:8080/",
     "height": 34
    },
    "colab_type": "code",
    "id": "3QJEXvgrEr7S",
    "outputId": "bae6be4e-1e45-4ed8-eb96-f2715fb2ca76"
   },
   "outputs": [
    {
     "data": {
      "text/plain": [
       "['A1C47ROOK7BSVL', 'A2DIQTZPF26T1L', 'A19UTUEBWKIZFT']"
      ]
     },
     "execution_count": 39,
     "metadata": {},
     "output_type": "execute_result"
    }
   ],
   "source": [
    "# Lets consider 3 random User to recommend\n",
    "random_3_user=random.choices(test_data['userId'].unique(), k=3)\n",
    "random_3_user"
   ]
  },
  {
   "cell_type": "code",
   "execution_count": 40,
   "metadata": {
    "colab": {},
    "colab_type": "code",
    "id": "eE-i5fzPEr7R"
   },
   "outputs": [],
   "source": [
    "# Use popularity based recommender model to make predictions\n",
    "def recommend(user_id):     \n",
    "    user_recommendations = popularity_recommendations \n",
    "          \n",
    "    #Add user_id column for which the recommendations are being generated \n",
    "    user_recommendations['userId'] = user_id \n",
    "      \n",
    "    #Bring user_id column to the front \n",
    "    cols = user_recommendations.columns.tolist() \n",
    "    cols = cols[-1:] + cols[:-1] \n",
    "    user_recommendations = user_recommendations[cols] \n",
    "          \n",
    "    return user_recommendations "
   ]
  },
  {
   "cell_type": "code",
   "execution_count": 41,
   "metadata": {
    "colab": {
     "base_uri": "https://localhost:8080/",
     "height": 782
    },
    "colab_type": "code",
    "id": "CFdYkdIfEr7U",
    "outputId": "675f4270-c80d-4542-caae-a30a13094471"
   },
   "outputs": [
    {
     "name": "stdout",
     "output_type": "stream",
     "text": [
      "Here is the recommendation for the userId: A1C47ROOK7BSVL\n",
      "\n",
      "               userId   productId  mean_rating  no_of_rating  score  rank\n",
      "30943  A1C47ROOK7BSVL  B0088CJT4U     4.234483           145  614.0   1.0\n",
      "19698  A1C47ROOK7BSVL  B003ES5ZUU     4.865079           126  613.0   2.0\n",
      "30344  A1C47ROOK7BSVL  B007WTAJTO     4.738095           126  597.0   3.0\n",
      "8741   A1C47ROOK7BSVL  B000N99BBC     4.754098           122  580.0   4.0\n",
      "30635  A1C47ROOK7BSVL  B00829THK0     4.447619           105  467.0   5.0\n",
      "30639  A1C47ROOK7BSVL  B00829TIEK     4.500000            96  432.0   6.0\n",
      "22810  A1C47ROOK7BSVL  B004CLYEDC     4.626506            83  384.0   7.0\n",
      "17797  A1C47ROOK7BSVL  B002V88HFE     4.725000            80  378.0   8.0\n",
      "31202  A1C47ROOK7BSVL  B008DWCRQW     4.097826            92  377.0   9.0\n",
      "17411  A1C47ROOK7BSVL  B002R5AM7C     4.177778            90  376.0  10.0\n",
      "\n",
      "\n",
      "Here is the recommendation for the userId: A2DIQTZPF26T1L\n",
      "\n",
      "               userId   productId  mean_rating  no_of_rating  score  rank\n",
      "30943  A2DIQTZPF26T1L  B0088CJT4U     4.234483           145  614.0   1.0\n",
      "19698  A2DIQTZPF26T1L  B003ES5ZUU     4.865079           126  613.0   2.0\n",
      "30344  A2DIQTZPF26T1L  B007WTAJTO     4.738095           126  597.0   3.0\n",
      "8741   A2DIQTZPF26T1L  B000N99BBC     4.754098           122  580.0   4.0\n",
      "30635  A2DIQTZPF26T1L  B00829THK0     4.447619           105  467.0   5.0\n",
      "30639  A2DIQTZPF26T1L  B00829TIEK     4.500000            96  432.0   6.0\n",
      "22810  A2DIQTZPF26T1L  B004CLYEDC     4.626506            83  384.0   7.0\n",
      "17797  A2DIQTZPF26T1L  B002V88HFE     4.725000            80  378.0   8.0\n",
      "31202  A2DIQTZPF26T1L  B008DWCRQW     4.097826            92  377.0   9.0\n",
      "17411  A2DIQTZPF26T1L  B002R5AM7C     4.177778            90  376.0  10.0\n",
      "\n",
      "\n",
      "Here is the recommendation for the userId: A19UTUEBWKIZFT\n",
      "\n",
      "               userId   productId  mean_rating  no_of_rating  score  rank\n",
      "30943  A19UTUEBWKIZFT  B0088CJT4U     4.234483           145  614.0   1.0\n",
      "19698  A19UTUEBWKIZFT  B003ES5ZUU     4.865079           126  613.0   2.0\n",
      "30344  A19UTUEBWKIZFT  B007WTAJTO     4.738095           126  597.0   3.0\n",
      "8741   A19UTUEBWKIZFT  B000N99BBC     4.754098           122  580.0   4.0\n",
      "30635  A19UTUEBWKIZFT  B00829THK0     4.447619           105  467.0   5.0\n",
      "30639  A19UTUEBWKIZFT  B00829TIEK     4.500000            96  432.0   6.0\n",
      "22810  A19UTUEBWKIZFT  B004CLYEDC     4.626506            83  384.0   7.0\n",
      "17797  A19UTUEBWKIZFT  B002V88HFE     4.725000            80  378.0   8.0\n",
      "31202  A19UTUEBWKIZFT  B008DWCRQW     4.097826            92  377.0   9.0\n",
      "17411  A19UTUEBWKIZFT  B002R5AM7C     4.177778            90  376.0  10.0\n",
      "\n",
      "\n"
     ]
    }
   ],
   "source": [
    "find_recom = random_3_user   # This list is user choice.\n",
    "for i in find_recom:\n",
    "    print(\"Here is the recommendation for the userId: %s\\n\" %(i))\n",
    "    print(recommend(i))\n",
    "    print(\"\\n\") "
   ]
  },
  {
   "cell_type": "markdown",
   "metadata": {
    "colab_type": "text",
    "id": "dl5m4zhTEr7W"
   },
   "source": [
    "### Observation:\n",
    "#### - Since this is a popularity-based recommender model, recommendations remain the same for all users\n",
    "\n",
    "#### - We predict the products based on the popularity. It is not personalized to particular user"
   ]
  },
  {
   "cell_type": "markdown",
   "metadata": {
    "colab_type": "text",
    "id": "DGjT0YEbEr7W"
   },
   "source": [
    "#### <font color=orange>Reference: Popularity Recommendation using External class, \"[Recommenders.py](https://github.com/llSourcell/recommender_live/blob/master/Recommenders.py)\" </font>\n",
    "\n",
    "#### <font color=orange> I am Also building the Model here using the Recommenders class [as outlined in this article](https://analyticsindiamag.com/beginners-guide-to-building-a-song-recommender-in-python/) to do the Popularity Based Recomendation </font>\n",
    "\n",
    "#### <font color=orange>Other Popularity recomendation Model I found is [graphlab recommender](https://www.analyticsvidhya.com/blog/2016/06/quick-guide-build-recommendation-engine-python/) functions popularity_recommender, though I am going here with [Recommenders class](https://github.com/llSourcell/recommender_live/blob/master/Recommenders.py)\"</font> "
   ]
  },
  {
   "cell_type": "code",
   "execution_count": 42,
   "metadata": {
    "colab": {},
    "colab_type": "code",
    "id": "-zWTTfqVEr7W"
   },
   "outputs": [],
   "source": [
    "# Dropping the timestamp column as we will not be using in our predictions also keep a copy of data without sparseness\n",
    "df_ratings_train_split=df_ratings_filt.copy()\n",
    "df_ratings_train_split.drop('timestamp', axis = 1, inplace = True)"
   ]
  },
  {
   "cell_type": "code",
   "execution_count": 43,
   "metadata": {
    "colab": {},
    "colab_type": "code",
    "id": "yZbpf4FsEr7Y"
   },
   "outputs": [],
   "source": [
    "# Now to split the data into Random Train, Test we will use sklearn model selection package here.\n",
    "\n",
    "from sklearn.model_selection import train_test_split\n",
    "\n",
    "train_data, test_data = train_test_split(df_ratings_train_split, test_size = 0.30, random_state=20)"
   ]
  },
  {
   "cell_type": "code",
   "execution_count": 44,
   "metadata": {
    "colab": {
     "base_uri": "https://localhost:8080/",
     "height": 697
    },
    "colab_type": "code",
    "id": "pUjcpIGzEr7a",
    "outputId": "e1d60046-1cff-46f0-d2f7-e044c5974f65"
   },
   "outputs": [
    {
     "name": "stdout",
     "output_type": "stream",
     "text": [
      "                userId   productId  Rating\n",
      "61349   A2BUQ240COLAOP  B007SLDF7O     5.0\n",
      "21328   A2WDCAMKCCP1UR  B00IDDVLDG     1.0\n",
      "24845   A1FF2PLA84KNAE  B001NZ8PHQ     4.0\n",
      "47945    AIJQU979J6UFY  B00EPY0QVU     4.0\n",
      "104765  A2EN82VBJT44QP  B0096W1OCG     4.0\n",
      "...                ...         ...     ...\n",
      "88988   A2EHYCA29NSQLU  B00E3FHXYO     4.0\n",
      "23775   A33152QEGO2MZN  B009SYZ8OC     3.0\n",
      "37135   A1ODOGXEYECQQ8  B0002HA7FY     5.0\n",
      "92634   A1987V5OCO6QHS  B009W3WHDO     1.0\n",
      "114019   AWPN47SSWK1JV  B00AR95FP4     4.0\n",
      "\n",
      "[88109 rows x 3 columns]\n",
      "                userId   productId  Rating\n",
      "25018    ARTA78TP6H73D  B00F93IOR4     5.0\n",
      "67716    A7FDGFK0KN7QG  B00HXE4GZQ     5.0\n",
      "41028   A3UW23DBF2KHWC  B007TN0IGM     5.0\n",
      "114976  A3VC74TJ06WDDD  B000CC6I5W     1.0\n",
      "41148   A3D2VIUT2HWP0Z  B001CHHVCU     5.0\n",
      "...                ...         ...     ...\n",
      "35167    A6VPK7X53QNAQ  B000IF51UQ     4.0\n",
      "77680   A213J54E63SYOP  B000I1GZ28     4.0\n",
      "44542    ALDAF4VVLFRHP  B001F7AHOG     5.0\n",
      "28911   A23ONMGKEWDG4M  B00063ZVJQ     5.0\n",
      "92375    AQ2FC1DLKVD8H  B0082E9K7U     5.0\n",
      "\n",
      "[37762 rows x 3 columns]\n"
     ]
    }
   ],
   "source": [
    "print(train_data)\n",
    "print(test_data)"
   ]
  },
  {
   "cell_type": "code",
   "execution_count": 45,
   "metadata": {},
   "outputs": [],
   "source": [
    "# For Working with Google Colab\n",
    "# Link- https://github.com/llSourcell/recommender_live/blob/master/Recommenders.py\n",
    "#! git clone https://github.com/llSourcell/recommender_live\n",
    "#%cd recommender_live "
   ]
  },
  {
   "cell_type": "code",
   "execution_count": 46,
   "metadata": {
    "colab": {
     "base_uri": "https://localhost:8080/",
     "height": 51
    },
    "colab_type": "code",
    "id": "TpGRsd6vEr7c",
    "outputId": "2a5e9c79-1b16-4a16-a831-67303b02a82a"
   },
   "outputs": [],
   "source": [
    "## I have Downloaded Recommenders file into source code directory#\n",
    "\n",
    "# Building a Popularity Based Recommendation Systems\n",
    "import Recommenders as Recommenders\n",
    "pm = Recommenders.popularity_recommender_py()"
   ]
  },
  {
   "cell_type": "code",
   "execution_count": 47,
   "metadata": {
    "colab": {
     "base_uri": "https://localhost:8080/",
     "height": 419
    },
    "colab_type": "code",
    "id": "fnHDYHUCEr7e",
    "outputId": "6abf220e-9807-47e0-b467-fe9e0893eb10"
   },
   "outputs": [
    {
     "data": {
      "text/html": [
       "<div>\n",
       "<style scoped>\n",
       "    .dataframe tbody tr th:only-of-type {\n",
       "        vertical-align: middle;\n",
       "    }\n",
       "\n",
       "    .dataframe tbody tr th {\n",
       "        vertical-align: top;\n",
       "    }\n",
       "\n",
       "    .dataframe thead th {\n",
       "        text-align: right;\n",
       "    }\n",
       "</style>\n",
       "<table border=\"1\" class=\"dataframe\">\n",
       "  <thead>\n",
       "    <tr style=\"text-align: right;\">\n",
       "      <th></th>\n",
       "      <th>user_id</th>\n",
       "      <th>item_id</th>\n",
       "      <th>score</th>\n",
       "    </tr>\n",
       "  </thead>\n",
       "  <tbody>\n",
       "    <tr>\n",
       "      <td>61349</td>\n",
       "      <td>A2BUQ240COLAOP</td>\n",
       "      <td>B007SLDF7O</td>\n",
       "      <td>5.0</td>\n",
       "    </tr>\n",
       "    <tr>\n",
       "      <td>21328</td>\n",
       "      <td>A2WDCAMKCCP1UR</td>\n",
       "      <td>B00IDDVLDG</td>\n",
       "      <td>1.0</td>\n",
       "    </tr>\n",
       "    <tr>\n",
       "      <td>24845</td>\n",
       "      <td>A1FF2PLA84KNAE</td>\n",
       "      <td>B001NZ8PHQ</td>\n",
       "      <td>4.0</td>\n",
       "    </tr>\n",
       "    <tr>\n",
       "      <td>47945</td>\n",
       "      <td>AIJQU979J6UFY</td>\n",
       "      <td>B00EPY0QVU</td>\n",
       "      <td>4.0</td>\n",
       "    </tr>\n",
       "    <tr>\n",
       "      <td>104765</td>\n",
       "      <td>A2EN82VBJT44QP</td>\n",
       "      <td>B0096W1OCG</td>\n",
       "      <td>4.0</td>\n",
       "    </tr>\n",
       "    <tr>\n",
       "      <td>...</td>\n",
       "      <td>...</td>\n",
       "      <td>...</td>\n",
       "      <td>...</td>\n",
       "    </tr>\n",
       "    <tr>\n",
       "      <td>88988</td>\n",
       "      <td>A2EHYCA29NSQLU</td>\n",
       "      <td>B00E3FHXYO</td>\n",
       "      <td>4.0</td>\n",
       "    </tr>\n",
       "    <tr>\n",
       "      <td>23775</td>\n",
       "      <td>A33152QEGO2MZN</td>\n",
       "      <td>B009SYZ8OC</td>\n",
       "      <td>3.0</td>\n",
       "    </tr>\n",
       "    <tr>\n",
       "      <td>37135</td>\n",
       "      <td>A1ODOGXEYECQQ8</td>\n",
       "      <td>B0002HA7FY</td>\n",
       "      <td>5.0</td>\n",
       "    </tr>\n",
       "    <tr>\n",
       "      <td>92634</td>\n",
       "      <td>A1987V5OCO6QHS</td>\n",
       "      <td>B009W3WHDO</td>\n",
       "      <td>1.0</td>\n",
       "    </tr>\n",
       "    <tr>\n",
       "      <td>114019</td>\n",
       "      <td>AWPN47SSWK1JV</td>\n",
       "      <td>B00AR95FP4</td>\n",
       "      <td>4.0</td>\n",
       "    </tr>\n",
       "  </tbody>\n",
       "</table>\n",
       "<p>88109 rows × 3 columns</p>\n",
       "</div>"
      ],
      "text/plain": [
       "               user_id     item_id  score\n",
       "61349   A2BUQ240COLAOP  B007SLDF7O    5.0\n",
       "21328   A2WDCAMKCCP1UR  B00IDDVLDG    1.0\n",
       "24845   A1FF2PLA84KNAE  B001NZ8PHQ    4.0\n",
       "47945    AIJQU979J6UFY  B00EPY0QVU    4.0\n",
       "104765  A2EN82VBJT44QP  B0096W1OCG    4.0\n",
       "...                ...         ...    ...\n",
       "88988   A2EHYCA29NSQLU  B00E3FHXYO    4.0\n",
       "23775   A33152QEGO2MZN  B009SYZ8OC    3.0\n",
       "37135   A1ODOGXEYECQQ8  B0002HA7FY    5.0\n",
       "92634   A1987V5OCO6QHS  B009W3WHDO    1.0\n",
       "114019   AWPN47SSWK1JV  B00AR95FP4    4.0\n",
       "\n",
       "[88109 rows x 3 columns]"
      ]
     },
     "execution_count": 47,
     "metadata": {},
     "output_type": "execute_result"
    }
   ],
   "source": [
    "# Renaming the Column as I want to use the class as it is instead of Modifying the class, being it a External Library\n",
    "train_data.rename(columns = {'Rating': 'score'}, inplace = True)\n",
    "train_data.rename(columns = {'userId': 'user_id'}, inplace = True)\n",
    "train_data.rename(columns = {'productId': 'item_id'}, inplace = True)\n",
    "train_data_sub=train_data[['user_id','item_id','score']]\n",
    "train_data_sub"
   ]
  },
  {
   "cell_type": "code",
   "execution_count": 48,
   "metadata": {
    "colab": {},
    "colab_type": "code",
    "id": "kXL3YC6dEr7h"
   },
   "outputs": [],
   "source": [
    "pm.create(train_data_sub,'user_id','item_id')"
   ]
  },
  {
   "cell_type": "code",
   "execution_count": 49,
   "metadata": {
    "colab": {
     "base_uri": "https://localhost:8080/",
     "height": 68
    },
    "colab_type": "code",
    "id": "KUDQUomXEr7j",
    "outputId": "db524c3e-969c-4285-f15e-a260d51ae5b5"
   },
   "outputs": [
    {
     "data": {
      "text/plain": [
       "(array(['A2BUQ240COLAOP', 'A2WDCAMKCCP1UR', 'A1FF2PLA84KNAE', ...,\n",
       "        'A35HOUWHAYZZN6', 'A4GGT6O0GQNV2', 'A2DF62DP20RIXF'], dtype=object),\n",
       " 1540)"
      ]
     },
     "execution_count": 49,
     "metadata": {},
     "output_type": "execute_result"
    }
   ],
   "source": [
    "users = train_data_sub['user_id'].unique()\n",
    "users,len(users)"
   ]
  },
  {
   "cell_type": "code",
   "execution_count": 50,
   "metadata": {
    "colab": {
     "base_uri": "https://localhost:8080/",
     "height": 359
    },
    "colab_type": "code",
    "id": "01Ga0Ds5Er7k",
    "outputId": "adbf3d34-29d1-49dd-b604-6f1034f84e8a"
   },
   "outputs": [
    {
     "name": "stdout",
     "output_type": "stream",
     "text": [
      "User Id------ A15U64VGUV6RBF\n"
     ]
    },
    {
     "data": {
      "text/html": [
       "<div>\n",
       "<style scoped>\n",
       "    .dataframe tbody tr th:only-of-type {\n",
       "        vertical-align: middle;\n",
       "    }\n",
       "\n",
       "    .dataframe tbody tr th {\n",
       "        vertical-align: top;\n",
       "    }\n",
       "\n",
       "    .dataframe thead th {\n",
       "        text-align: right;\n",
       "    }\n",
       "</style>\n",
       "<table border=\"1\" class=\"dataframe\">\n",
       "  <thead>\n",
       "    <tr style=\"text-align: right;\">\n",
       "      <th></th>\n",
       "      <th>user_id</th>\n",
       "      <th>item_id</th>\n",
       "      <th>score</th>\n",
       "      <th>Rank</th>\n",
       "    </tr>\n",
       "  </thead>\n",
       "  <tbody>\n",
       "    <tr>\n",
       "      <td>30943</td>\n",
       "      <td>A15U64VGUV6RBF</td>\n",
       "      <td>B0088CJT4U</td>\n",
       "      <td>145</td>\n",
       "      <td>1.0</td>\n",
       "    </tr>\n",
       "    <tr>\n",
       "      <td>19698</td>\n",
       "      <td>A15U64VGUV6RBF</td>\n",
       "      <td>B003ES5ZUU</td>\n",
       "      <td>126</td>\n",
       "      <td>2.0</td>\n",
       "    </tr>\n",
       "    <tr>\n",
       "      <td>30344</td>\n",
       "      <td>A15U64VGUV6RBF</td>\n",
       "      <td>B007WTAJTO</td>\n",
       "      <td>126</td>\n",
       "      <td>3.0</td>\n",
       "    </tr>\n",
       "    <tr>\n",
       "      <td>8741</td>\n",
       "      <td>A15U64VGUV6RBF</td>\n",
       "      <td>B000N99BBC</td>\n",
       "      <td>122</td>\n",
       "      <td>4.0</td>\n",
       "    </tr>\n",
       "    <tr>\n",
       "      <td>30635</td>\n",
       "      <td>A15U64VGUV6RBF</td>\n",
       "      <td>B00829THK0</td>\n",
       "      <td>105</td>\n",
       "      <td>5.0</td>\n",
       "    </tr>\n",
       "    <tr>\n",
       "      <td>30639</td>\n",
       "      <td>A15U64VGUV6RBF</td>\n",
       "      <td>B00829TIEK</td>\n",
       "      <td>96</td>\n",
       "      <td>6.0</td>\n",
       "    </tr>\n",
       "    <tr>\n",
       "      <td>31202</td>\n",
       "      <td>A15U64VGUV6RBF</td>\n",
       "      <td>B008DWCRQW</td>\n",
       "      <td>92</td>\n",
       "      <td>7.0</td>\n",
       "    </tr>\n",
       "    <tr>\n",
       "      <td>17411</td>\n",
       "      <td>A15U64VGUV6RBF</td>\n",
       "      <td>B002R5AM7C</td>\n",
       "      <td>90</td>\n",
       "      <td>8.0</td>\n",
       "    </tr>\n",
       "    <tr>\n",
       "      <td>17591</td>\n",
       "      <td>A15U64VGUV6RBF</td>\n",
       "      <td>B002SZEOLG</td>\n",
       "      <td>85</td>\n",
       "      <td>9.0</td>\n",
       "    </tr>\n",
       "    <tr>\n",
       "      <td>22810</td>\n",
       "      <td>A15U64VGUV6RBF</td>\n",
       "      <td>B004CLYEDC</td>\n",
       "      <td>83</td>\n",
       "      <td>10.0</td>\n",
       "    </tr>\n",
       "  </tbody>\n",
       "</table>\n",
       "</div>"
      ],
      "text/plain": [
       "              user_id     item_id  score  Rank\n",
       "30943  A15U64VGUV6RBF  B0088CJT4U    145   1.0\n",
       "19698  A15U64VGUV6RBF  B003ES5ZUU    126   2.0\n",
       "30344  A15U64VGUV6RBF  B007WTAJTO    126   3.0\n",
       "8741   A15U64VGUV6RBF  B000N99BBC    122   4.0\n",
       "30635  A15U64VGUV6RBF  B00829THK0    105   5.0\n",
       "30639  A15U64VGUV6RBF  B00829TIEK     96   6.0\n",
       "31202  A15U64VGUV6RBF  B008DWCRQW     92   7.0\n",
       "17411  A15U64VGUV6RBF  B002R5AM7C     90   8.0\n",
       "17591  A15U64VGUV6RBF  B002SZEOLG     85   9.0\n",
       "22810  A15U64VGUV6RBF  B004CLYEDC     83  10.0"
      ]
     },
     "execution_count": 50,
     "metadata": {},
     "output_type": "execute_result"
    }
   ],
   "source": [
    "# Get the Recomendation for a randomly picked user from User 51\n",
    "user_id = users[51]\n",
    "print('User Id------',user_id)\n",
    "pm.recommend(user_id)"
   ]
  },
  {
   "cell_type": "code",
   "execution_count": 51,
   "metadata": {
    "colab": {
     "base_uri": "https://localhost:8080/",
     "height": 359
    },
    "colab_type": "code",
    "id": "y4YCJ4Y0Er7n",
    "outputId": "0951ea1e-56a9-4ddf-fb38-9c3109ec07a2"
   },
   "outputs": [
    {
     "name": "stdout",
     "output_type": "stream",
     "text": [
      "User Id------ A2WXURU33RBGQS\n"
     ]
    },
    {
     "data": {
      "text/html": [
       "<div>\n",
       "<style scoped>\n",
       "    .dataframe tbody tr th:only-of-type {\n",
       "        vertical-align: middle;\n",
       "    }\n",
       "\n",
       "    .dataframe tbody tr th {\n",
       "        vertical-align: top;\n",
       "    }\n",
       "\n",
       "    .dataframe thead th {\n",
       "        text-align: right;\n",
       "    }\n",
       "</style>\n",
       "<table border=\"1\" class=\"dataframe\">\n",
       "  <thead>\n",
       "    <tr style=\"text-align: right;\">\n",
       "      <th></th>\n",
       "      <th>user_id</th>\n",
       "      <th>item_id</th>\n",
       "      <th>score</th>\n",
       "      <th>Rank</th>\n",
       "    </tr>\n",
       "  </thead>\n",
       "  <tbody>\n",
       "    <tr>\n",
       "      <td>30943</td>\n",
       "      <td>A2WXURU33RBGQS</td>\n",
       "      <td>B0088CJT4U</td>\n",
       "      <td>145</td>\n",
       "      <td>1.0</td>\n",
       "    </tr>\n",
       "    <tr>\n",
       "      <td>19698</td>\n",
       "      <td>A2WXURU33RBGQS</td>\n",
       "      <td>B003ES5ZUU</td>\n",
       "      <td>126</td>\n",
       "      <td>2.0</td>\n",
       "    </tr>\n",
       "    <tr>\n",
       "      <td>30344</td>\n",
       "      <td>A2WXURU33RBGQS</td>\n",
       "      <td>B007WTAJTO</td>\n",
       "      <td>126</td>\n",
       "      <td>3.0</td>\n",
       "    </tr>\n",
       "    <tr>\n",
       "      <td>8741</td>\n",
       "      <td>A2WXURU33RBGQS</td>\n",
       "      <td>B000N99BBC</td>\n",
       "      <td>122</td>\n",
       "      <td>4.0</td>\n",
       "    </tr>\n",
       "    <tr>\n",
       "      <td>30635</td>\n",
       "      <td>A2WXURU33RBGQS</td>\n",
       "      <td>B00829THK0</td>\n",
       "      <td>105</td>\n",
       "      <td>5.0</td>\n",
       "    </tr>\n",
       "    <tr>\n",
       "      <td>30639</td>\n",
       "      <td>A2WXURU33RBGQS</td>\n",
       "      <td>B00829TIEK</td>\n",
       "      <td>96</td>\n",
       "      <td>6.0</td>\n",
       "    </tr>\n",
       "    <tr>\n",
       "      <td>31202</td>\n",
       "      <td>A2WXURU33RBGQS</td>\n",
       "      <td>B008DWCRQW</td>\n",
       "      <td>92</td>\n",
       "      <td>7.0</td>\n",
       "    </tr>\n",
       "    <tr>\n",
       "      <td>17411</td>\n",
       "      <td>A2WXURU33RBGQS</td>\n",
       "      <td>B002R5AM7C</td>\n",
       "      <td>90</td>\n",
       "      <td>8.0</td>\n",
       "    </tr>\n",
       "    <tr>\n",
       "      <td>17591</td>\n",
       "      <td>A2WXURU33RBGQS</td>\n",
       "      <td>B002SZEOLG</td>\n",
       "      <td>85</td>\n",
       "      <td>9.0</td>\n",
       "    </tr>\n",
       "    <tr>\n",
       "      <td>22810</td>\n",
       "      <td>A2WXURU33RBGQS</td>\n",
       "      <td>B004CLYEDC</td>\n",
       "      <td>83</td>\n",
       "      <td>10.0</td>\n",
       "    </tr>\n",
       "  </tbody>\n",
       "</table>\n",
       "</div>"
      ],
      "text/plain": [
       "              user_id     item_id  score  Rank\n",
       "30943  A2WXURU33RBGQS  B0088CJT4U    145   1.0\n",
       "19698  A2WXURU33RBGQS  B003ES5ZUU    126   2.0\n",
       "30344  A2WXURU33RBGQS  B007WTAJTO    126   3.0\n",
       "8741   A2WXURU33RBGQS  B000N99BBC    122   4.0\n",
       "30635  A2WXURU33RBGQS  B00829THK0    105   5.0\n",
       "30639  A2WXURU33RBGQS  B00829TIEK     96   6.0\n",
       "31202  A2WXURU33RBGQS  B008DWCRQW     92   7.0\n",
       "17411  A2WXURU33RBGQS  B002R5AM7C     90   8.0\n",
       "17591  A2WXURU33RBGQS  B002SZEOLG     85   9.0\n",
       "22810  A2WXURU33RBGQS  B004CLYEDC     83  10.0"
      ]
     },
     "execution_count": 51,
     "metadata": {},
     "output_type": "execute_result"
    }
   ],
   "source": [
    "# Get the Recomendation for a randomly picked user from User 71\n",
    "user_id = users[71]\n",
    "print('User Id------',user_id)\n",
    "pm.recommend(user_id)"
   ]
  },
  {
   "cell_type": "code",
   "execution_count": 52,
   "metadata": {
    "colab": {
     "base_uri": "https://localhost:8080/",
     "height": 419
    },
    "colab_type": "code",
    "id": "agP8XqBfEr7q",
    "outputId": "9349a57d-172b-40e9-f2f2-75d40b27813f"
   },
   "outputs": [
    {
     "data": {
      "text/html": [
       "<div>\n",
       "<style scoped>\n",
       "    .dataframe tbody tr th:only-of-type {\n",
       "        vertical-align: middle;\n",
       "    }\n",
       "\n",
       "    .dataframe tbody tr th {\n",
       "        vertical-align: top;\n",
       "    }\n",
       "\n",
       "    .dataframe thead th {\n",
       "        text-align: right;\n",
       "    }\n",
       "</style>\n",
       "<table border=\"1\" class=\"dataframe\">\n",
       "  <thead>\n",
       "    <tr style=\"text-align: right;\">\n",
       "      <th></th>\n",
       "      <th>user_id</th>\n",
       "      <th>item_id</th>\n",
       "      <th>score</th>\n",
       "    </tr>\n",
       "  </thead>\n",
       "  <tbody>\n",
       "    <tr>\n",
       "      <td>25018</td>\n",
       "      <td>ARTA78TP6H73D</td>\n",
       "      <td>B00F93IOR4</td>\n",
       "      <td>5.0</td>\n",
       "    </tr>\n",
       "    <tr>\n",
       "      <td>67716</td>\n",
       "      <td>A7FDGFK0KN7QG</td>\n",
       "      <td>B00HXE4GZQ</td>\n",
       "      <td>5.0</td>\n",
       "    </tr>\n",
       "    <tr>\n",
       "      <td>41028</td>\n",
       "      <td>A3UW23DBF2KHWC</td>\n",
       "      <td>B007TN0IGM</td>\n",
       "      <td>5.0</td>\n",
       "    </tr>\n",
       "    <tr>\n",
       "      <td>114976</td>\n",
       "      <td>A3VC74TJ06WDDD</td>\n",
       "      <td>B000CC6I5W</td>\n",
       "      <td>1.0</td>\n",
       "    </tr>\n",
       "    <tr>\n",
       "      <td>41148</td>\n",
       "      <td>A3D2VIUT2HWP0Z</td>\n",
       "      <td>B001CHHVCU</td>\n",
       "      <td>5.0</td>\n",
       "    </tr>\n",
       "    <tr>\n",
       "      <td>...</td>\n",
       "      <td>...</td>\n",
       "      <td>...</td>\n",
       "      <td>...</td>\n",
       "    </tr>\n",
       "    <tr>\n",
       "      <td>35167</td>\n",
       "      <td>A6VPK7X53QNAQ</td>\n",
       "      <td>B000IF51UQ</td>\n",
       "      <td>4.0</td>\n",
       "    </tr>\n",
       "    <tr>\n",
       "      <td>77680</td>\n",
       "      <td>A213J54E63SYOP</td>\n",
       "      <td>B000I1GZ28</td>\n",
       "      <td>4.0</td>\n",
       "    </tr>\n",
       "    <tr>\n",
       "      <td>44542</td>\n",
       "      <td>ALDAF4VVLFRHP</td>\n",
       "      <td>B001F7AHOG</td>\n",
       "      <td>5.0</td>\n",
       "    </tr>\n",
       "    <tr>\n",
       "      <td>28911</td>\n",
       "      <td>A23ONMGKEWDG4M</td>\n",
       "      <td>B00063ZVJQ</td>\n",
       "      <td>5.0</td>\n",
       "    </tr>\n",
       "    <tr>\n",
       "      <td>92375</td>\n",
       "      <td>AQ2FC1DLKVD8H</td>\n",
       "      <td>B0082E9K7U</td>\n",
       "      <td>5.0</td>\n",
       "    </tr>\n",
       "  </tbody>\n",
       "</table>\n",
       "<p>37762 rows × 3 columns</p>\n",
       "</div>"
      ],
      "text/plain": [
       "               user_id     item_id  score\n",
       "25018    ARTA78TP6H73D  B00F93IOR4    5.0\n",
       "67716    A7FDGFK0KN7QG  B00HXE4GZQ    5.0\n",
       "41028   A3UW23DBF2KHWC  B007TN0IGM    5.0\n",
       "114976  A3VC74TJ06WDDD  B000CC6I5W    1.0\n",
       "41148   A3D2VIUT2HWP0Z  B001CHHVCU    5.0\n",
       "...                ...         ...    ...\n",
       "35167    A6VPK7X53QNAQ  B000IF51UQ    4.0\n",
       "77680   A213J54E63SYOP  B000I1GZ28    4.0\n",
       "44542    ALDAF4VVLFRHP  B001F7AHOG    5.0\n",
       "28911   A23ONMGKEWDG4M  B00063ZVJQ    5.0\n",
       "92375    AQ2FC1DLKVD8H  B0082E9K7U    5.0\n",
       "\n",
       "[37762 rows x 3 columns]"
      ]
     },
     "execution_count": 52,
     "metadata": {},
     "output_type": "execute_result"
    }
   ],
   "source": [
    "# Align the column Name same as Trin Data for Test Data to be used for prediction\n",
    "test_data.rename(columns = {'userId': 'user_id'}, inplace = True)\n",
    "test_data.rename(columns = {'Rating': 'score'}, inplace = True)\n",
    "test_data.rename(columns = {'productId': 'item_id'}, inplace = True)\n",
    "test_data"
   ]
  },
  {
   "cell_type": "code",
   "execution_count": 53,
   "metadata": {
    "colab": {},
    "colab_type": "code",
    "id": "OMhs-zlBEr7s"
   },
   "outputs": [],
   "source": [
    "# Funtion to get mean RMSE for the Popularity Recommender model for random 10 users in test data.\n",
    "def GetpmRMSE():\n",
    "    uuid = test_data['user_id'].unique()\n",
    "    rand_uuid = random.sample(list(uuid), 10)\n",
    "    print('rand_uuid',rand_uuid)\n",
    "    arr_RMSE = []\n",
    "    RMSE = -1\n",
    "    for ruid in rand_uuid:\n",
    "        #print (ruid)\n",
    "        UserPred = pm.recommend(ruid)\n",
    "        #print (\"UIID: \" + str(len(UserPred)))\n",
    "        Actual = test_data[test_data.user_id == ruid]\n",
    "        UserPred = UserPred[UserPred['item_id'].isin(Actual['item_id'].unique())]\n",
    "        Actual = Actual[Actual['item_id'].isin(UserPred['item_id'].unique())]\n",
    "        uiid = Actual['item_id'].unique()\n",
    "        #print (\"UIID: \" + str(len(uiid)))\n",
    "        if len(uiid) > 0:\n",
    "            arr_Actual = []\n",
    "            arr_Pred = []\n",
    "            score = 0\n",
    "            error = 0\n",
    "            for uid in uiid:\n",
    "                score = Actual[Actual.item_id == uid]['score']\n",
    "                arr_Actual.append(score.values[0])\n",
    "                score = UserPred[UserPred.item_id == uid]['score']\n",
    "                arr_Pred.append(score.values[0])\n",
    "                error = sqrt(mean_squared_error(arr_Actual, arr_Pred))\n",
    "                if(error!=np.NaN):\n",
    "                  arr_RMSE.append(error)\n",
    "                  #print ('error',error)\n",
    "    RMSE = np.average(arr_RMSE)\n",
    "    return RMSE"
   ]
  },
  {
   "cell_type": "code",
   "execution_count": 54,
   "metadata": {
    "colab": {
     "base_uri": "https://localhost:8080/",
     "height": 71
    },
    "colab_type": "code",
    "id": "pFVmnysyEr7v",
    "outputId": "0ce404d4-8e3b-4fa9-81a5-366acbc1d1c4"
   },
   "outputs": [
    {
     "name": "stdout",
     "output_type": "stream",
     "text": [
      "rand_uuid ['AKT8TGIT6VVZ5', 'A1CMD08Z49PGKQ', 'A3DWO5RJDA430F', 'A3HXGSMCIOZEW8', 'A4WEZJOIZIV4U', 'AIBRTGBN07D6A', 'A4S2WAQVQR6PI', 'A11YIHB6IW352W', 'A2ROZACRW31PC2', 'A2AFTRU43PY9P5']\n",
      "Popularity Model RMSE:  121.19909133937792\n"
     ]
    }
   ],
   "source": [
    "# Evaluation for Popularity Model.\n",
    "\n",
    "# This function will get the predictions for 100 random users in test dataset and will calculate the RMSE.\n",
    "print(\"Popularity Model RMSE: \", GetpmRMSE())"
   ]
  },
  {
   "cell_type": "markdown",
   "metadata": {
    "colab_type": "text",
    "id": "qjPGre7BEr7w"
   },
   "source": [
    "## <font color=blue>5. Build Collaborative Filtering model. - (20 Marks)</font>"
   ]
  },
  {
   "cell_type": "markdown",
   "metadata": {
    "colab_type": "text",
    "id": "3g9um0t6Er7x"
   },
   "source": [
    "####  <i>Take the subset of the original dataset to make it less sparse/ denser as caluclulated earlier and use the same for Collaborative Filtering Model Also</i>"
   ]
  },
  {
   "cell_type": "markdown",
   "metadata": {
    "colab_type": "text",
    "id": "Fp6Ra6npEr7z"
   },
   "source": [
    "### Model-based Collaborative Filtering: Singular Value Decomposition"
   ]
  },
  {
   "cell_type": "markdown",
   "metadata": {
    "colab_type": "text",
    "id": "5QXDoNxXEr7z"
   },
   "source": [
    "#### <font color=orange>We will use [surprise](http://surpriselib.com/) toolkit is used for Collaborative Filtering model.</font>"
   ]
  },
  {
   "cell_type": "code",
   "execution_count": 55,
   "metadata": {
    "colab": {
     "base_uri": "https://localhost:8080/",
     "height": 102
    },
    "colab_type": "code",
    "id": "oSSNw-RdEr7z",
    "outputId": "ee25efe0-8ed8-4450-aaad-802d3a049ec8"
   },
   "outputs": [
    {
     "name": "stdout",
     "output_type": "stream",
     "text": [
      "Requirement already satisfied: scikit-surprise in c:\\programdata\\anaconda3\\lib\\site-packages (1.1.0)\n",
      "Requirement already satisfied: joblib>=0.11 in c:\\programdata\\anaconda3\\lib\\site-packages (from scikit-surprise) (0.13.2)\n",
      "Requirement already satisfied: numpy>=1.11.2 in c:\\programdata\\anaconda3\\lib\\site-packages (from scikit-surprise) (1.16.5)\n",
      "Requirement already satisfied: scipy>=1.0.0 in c:\\programdata\\anaconda3\\lib\\site-packages (from scikit-surprise) (1.3.1)\n",
      "Requirement already satisfied: six>=1.10.0 in c:\\programdata\\anaconda3\\lib\\site-packages (from scikit-surprise) (1.12.0)\n"
     ]
    }
   ],
   "source": [
    "# Import all the necessary surprise toolkit modules...\n",
    "!pip install scikit-surprise\n",
    "from surprise import KNNWithMeans\n",
    "from surprise import Dataset\n",
    "from surprise import Reader\n",
    "from surprise import accuracy\n",
    "from surprise.model_selection import train_test_split"
   ]
  },
  {
   "cell_type": "code",
   "execution_count": 56,
   "metadata": {
    "colab": {
     "base_uri": "https://localhost:8080/",
     "height": 419
    },
    "colab_type": "code",
    "id": "MzY0GupJEr70",
    "outputId": "11d963f8-40e7-42d1-ada4-6bb651a23031"
   },
   "outputs": [
    {
     "data": {
      "text/html": [
       "<div>\n",
       "<style scoped>\n",
       "    .dataframe tbody tr th:only-of-type {\n",
       "        vertical-align: middle;\n",
       "    }\n",
       "\n",
       "    .dataframe tbody tr th {\n",
       "        vertical-align: top;\n",
       "    }\n",
       "\n",
       "    .dataframe thead th {\n",
       "        text-align: right;\n",
       "    }\n",
       "</style>\n",
       "<table border=\"1\" class=\"dataframe\">\n",
       "  <thead>\n",
       "    <tr style=\"text-align: right;\">\n",
       "      <th></th>\n",
       "      <th>userId</th>\n",
       "      <th>productId</th>\n",
       "      <th>Rating</th>\n",
       "    </tr>\n",
       "  </thead>\n",
       "  <tbody>\n",
       "    <tr>\n",
       "      <td>0</td>\n",
       "      <td>A3BY5KCNQZXV5U</td>\n",
       "      <td>0594451647</td>\n",
       "      <td>5.0</td>\n",
       "    </tr>\n",
       "    <tr>\n",
       "      <td>1</td>\n",
       "      <td>A3BY5KCNQZXV5U</td>\n",
       "      <td>B00000JD4V</td>\n",
       "      <td>4.0</td>\n",
       "    </tr>\n",
       "    <tr>\n",
       "      <td>2</td>\n",
       "      <td>A3BY5KCNQZXV5U</td>\n",
       "      <td>B000063574</td>\n",
       "      <td>5.0</td>\n",
       "    </tr>\n",
       "    <tr>\n",
       "      <td>3</td>\n",
       "      <td>A3BY5KCNQZXV5U</td>\n",
       "      <td>B0000CDJP8</td>\n",
       "      <td>5.0</td>\n",
       "    </tr>\n",
       "    <tr>\n",
       "      <td>4</td>\n",
       "      <td>A3BY5KCNQZXV5U</td>\n",
       "      <td>B0007Y794O</td>\n",
       "      <td>5.0</td>\n",
       "    </tr>\n",
       "    <tr>\n",
       "      <td>...</td>\n",
       "      <td>...</td>\n",
       "      <td>...</td>\n",
       "      <td>...</td>\n",
       "    </tr>\n",
       "    <tr>\n",
       "      <td>125866</td>\n",
       "      <td>A328S9RN3U5M68</td>\n",
       "      <td>B00JGL37FO</td>\n",
       "      <td>5.0</td>\n",
       "    </tr>\n",
       "    <tr>\n",
       "      <td>125867</td>\n",
       "      <td>A328S9RN3U5M68</td>\n",
       "      <td>B00K00FN3O</td>\n",
       "      <td>5.0</td>\n",
       "    </tr>\n",
       "    <tr>\n",
       "      <td>125868</td>\n",
       "      <td>A328S9RN3U5M68</td>\n",
       "      <td>B00L21HC7A</td>\n",
       "      <td>5.0</td>\n",
       "    </tr>\n",
       "    <tr>\n",
       "      <td>125869</td>\n",
       "      <td>A328S9RN3U5M68</td>\n",
       "      <td>B00L2442H0</td>\n",
       "      <td>5.0</td>\n",
       "    </tr>\n",
       "    <tr>\n",
       "      <td>125870</td>\n",
       "      <td>A328S9RN3U5M68</td>\n",
       "      <td>B00L26YDA4</td>\n",
       "      <td>5.0</td>\n",
       "    </tr>\n",
       "  </tbody>\n",
       "</table>\n",
       "<p>125871 rows × 3 columns</p>\n",
       "</div>"
      ],
      "text/plain": [
       "                userId   productId  Rating\n",
       "0       A3BY5KCNQZXV5U  0594451647     5.0\n",
       "1       A3BY5KCNQZXV5U  B00000JD4V     4.0\n",
       "2       A3BY5KCNQZXV5U  B000063574     5.0\n",
       "3       A3BY5KCNQZXV5U  B0000CDJP8     5.0\n",
       "4       A3BY5KCNQZXV5U  B0007Y794O     5.0\n",
       "...                ...         ...     ...\n",
       "125866  A328S9RN3U5M68  B00JGL37FO     5.0\n",
       "125867  A328S9RN3U5M68  B00K00FN3O     5.0\n",
       "125868  A328S9RN3U5M68  B00L21HC7A     5.0\n",
       "125869  A328S9RN3U5M68  B00L2442H0     5.0\n",
       "125870  A328S9RN3U5M68  B00L26YDA4     5.0\n",
       "\n",
       "[125871 rows x 3 columns]"
      ]
     },
     "execution_count": 56,
     "metadata": {},
     "output_type": "execute_result"
    }
   ],
   "source": [
    "df_ratings_train_split=df_ratings_filt.copy() # Get a Copy of Filtered Data of User Rating Count >=50\n",
    "df_ratings_train_split.drop('timestamp', axis = 1, inplace = True)\n",
    "df_ratings_train_split"
   ]
  },
  {
   "cell_type": "code",
   "execution_count": 57,
   "metadata": {
    "colab": {},
    "colab_type": "code",
    "id": "xnP20Tk-Er76"
   },
   "outputs": [],
   "source": [
    "# Lets load the dataset as per the requirement for surprise module\n",
    "reader = Reader(rating_scale = (1,5))\n",
    "data = Dataset.load_from_df(df_ratings_train_split[['userId','productId','Rating']], reader = reader)"
   ]
  },
  {
   "cell_type": "code",
   "execution_count": 58,
   "metadata": {
    "colab": {
     "base_uri": "https://localhost:8080/",
     "height": 51
    },
    "colab_type": "code",
    "id": "FLreAHS8Er79",
    "outputId": "37e5d3da-43e2-4fdf-c1b6-de5f4d40325c"
   },
   "outputs": [
    {
     "name": "stdout",
     "output_type": "stream",
     "text": [
      "trainset 38180\n",
      "testset 37762\n"
     ]
    }
   ],
   "source": [
    "# Lets split the train and test with surprise model functionality\n",
    "trainset, testset = train_test_split(data, test_size=.3, random_state=20)\n",
    "print('trainset',trainset.n_items)\n",
    "print('testset',len(testset))"
   ]
  },
  {
   "cell_type": "markdown",
   "metadata": {
    "colab_type": "text",
    "id": "VBY3UvwoEr7_"
   },
   "source": [
    "### Lets Begin with the famous SVD algorithm."
   ]
  },
  {
   "cell_type": "code",
   "execution_count": 59,
   "metadata": {
    "colab": {
     "base_uri": "https://localhost:8080/",
     "height": 68
    },
    "colab_type": "code",
    "id": "LE945ShJEr7_",
    "outputId": "1911fee8-e547-4ae6-dbe0-5a277a8669cc"
   },
   "outputs": [
    {
     "name": "stdout",
     "output_type": "stream",
     "text": [
      "user: A3D0UM4ZD2CMAW item: B004PGAMJY r_ui = 5.00   est = 4.89   {'was_impossible': False}  And  predictions made 37762\n",
      "RMSE: 0.9823\n",
      "rmse_svd: 0.9823050317068356\n"
     ]
    }
   ],
   "source": [
    "from surprise import SVD\n",
    "\n",
    "algo = SVD()\n",
    "\n",
    "# Train the algorithm on the trainset, and predict ratings for the testset\n",
    "algo.fit(trainset)\n",
    "predictions = algo.test(testset)\n",
    "print(predictions[0],' And ','predictions made',len(predictions))\n",
    "# Then compute RMSE\n",
    "rmse_svd=accuracy.rmse(predictions)\n",
    "print('rmse_svd:',rmse_svd)"
   ]
  },
  {
   "cell_type": "markdown",
   "metadata": {
    "colab_type": "text",
    "id": "C540qq7-Er8B"
   },
   "source": [
    "### Use cross-validation iterators"
   ]
  },
  {
   "cell_type": "code",
   "execution_count": 60,
   "metadata": {
    "colab": {
     "base_uri": "https://localhost:8080/",
     "height": 68
    },
    "colab_type": "code",
    "id": "0dODk7-lEr8B",
    "outputId": "5bfdee89-42ab-4288-ea93-72d56f2dfb6d"
   },
   "outputs": [
    {
     "name": "stdout",
     "output_type": "stream",
     "text": [
      "RMSE: 0.9882\n",
      "RMSE: 0.9829\n",
      "RMSE: 0.9867\n"
     ]
    }
   ],
   "source": [
    "from surprise.model_selection import KFold\n",
    "# define a cross-validation iterator\n",
    "kf = KFold(n_splits=3)\n",
    "algo = SVD()\n",
    "\n",
    "for trainset, testset in kf.split(data):\n",
    "\n",
    "    # train and test algorithm.\n",
    "    algo.fit(trainset)\n",
    "    predictions = algo.test(testset)\n",
    "\n",
    "    # Compute and print Root Mean Squared Error\n",
    "    accuracy.rmse(predictions, verbose=True)"
   ]
  },
  {
   "cell_type": "markdown",
   "metadata": {
    "colab_type": "text",
    "id": "Li4cwf_6Er8D"
   },
   "source": [
    "## Lets go with KNN algorithm"
   ]
  },
  {
   "cell_type": "code",
   "execution_count": 61,
   "metadata": {},
   "outputs": [
    {
     "data": {
      "text/html": [
       "<div>\n",
       "<style scoped>\n",
       "    .dataframe tbody tr th:only-of-type {\n",
       "        vertical-align: middle;\n",
       "    }\n",
       "\n",
       "    .dataframe tbody tr th {\n",
       "        vertical-align: top;\n",
       "    }\n",
       "\n",
       "    .dataframe thead th {\n",
       "        text-align: right;\n",
       "    }\n",
       "</style>\n",
       "<table border=\"1\" class=\"dataframe\">\n",
       "  <thead>\n",
       "    <tr style=\"text-align: right;\">\n",
       "      <th></th>\n",
       "      <th>userId</th>\n",
       "      <th>productId</th>\n",
       "      <th>Rating</th>\n",
       "    </tr>\n",
       "  </thead>\n",
       "  <tbody>\n",
       "    <tr>\n",
       "      <td>0</td>\n",
       "      <td>A3BY5KCNQZXV5U</td>\n",
       "      <td>0594451647</td>\n",
       "      <td>5.0</td>\n",
       "    </tr>\n",
       "    <tr>\n",
       "      <td>1</td>\n",
       "      <td>A3BY5KCNQZXV5U</td>\n",
       "      <td>B00000JD4V</td>\n",
       "      <td>4.0</td>\n",
       "    </tr>\n",
       "    <tr>\n",
       "      <td>2</td>\n",
       "      <td>A3BY5KCNQZXV5U</td>\n",
       "      <td>B000063574</td>\n",
       "      <td>5.0</td>\n",
       "    </tr>\n",
       "    <tr>\n",
       "      <td>3</td>\n",
       "      <td>A3BY5KCNQZXV5U</td>\n",
       "      <td>B0000CDJP8</td>\n",
       "      <td>5.0</td>\n",
       "    </tr>\n",
       "    <tr>\n",
       "      <td>4</td>\n",
       "      <td>A3BY5KCNQZXV5U</td>\n",
       "      <td>B0007Y794O</td>\n",
       "      <td>5.0</td>\n",
       "    </tr>\n",
       "    <tr>\n",
       "      <td>...</td>\n",
       "      <td>...</td>\n",
       "      <td>...</td>\n",
       "      <td>...</td>\n",
       "    </tr>\n",
       "    <tr>\n",
       "      <td>125866</td>\n",
       "      <td>A328S9RN3U5M68</td>\n",
       "      <td>B00JGL37FO</td>\n",
       "      <td>5.0</td>\n",
       "    </tr>\n",
       "    <tr>\n",
       "      <td>125867</td>\n",
       "      <td>A328S9RN3U5M68</td>\n",
       "      <td>B00K00FN3O</td>\n",
       "      <td>5.0</td>\n",
       "    </tr>\n",
       "    <tr>\n",
       "      <td>125868</td>\n",
       "      <td>A328S9RN3U5M68</td>\n",
       "      <td>B00L21HC7A</td>\n",
       "      <td>5.0</td>\n",
       "    </tr>\n",
       "    <tr>\n",
       "      <td>125869</td>\n",
       "      <td>A328S9RN3U5M68</td>\n",
       "      <td>B00L2442H0</td>\n",
       "      <td>5.0</td>\n",
       "    </tr>\n",
       "    <tr>\n",
       "      <td>125870</td>\n",
       "      <td>A328S9RN3U5M68</td>\n",
       "      <td>B00L26YDA4</td>\n",
       "      <td>5.0</td>\n",
       "    </tr>\n",
       "  </tbody>\n",
       "</table>\n",
       "<p>125871 rows × 3 columns</p>\n",
       "</div>"
      ],
      "text/plain": [
       "                userId   productId  Rating\n",
       "0       A3BY5KCNQZXV5U  0594451647     5.0\n",
       "1       A3BY5KCNQZXV5U  B00000JD4V     4.0\n",
       "2       A3BY5KCNQZXV5U  B000063574     5.0\n",
       "3       A3BY5KCNQZXV5U  B0000CDJP8     5.0\n",
       "4       A3BY5KCNQZXV5U  B0007Y794O     5.0\n",
       "...                ...         ...     ...\n",
       "125866  A328S9RN3U5M68  B00JGL37FO     5.0\n",
       "125867  A328S9RN3U5M68  B00K00FN3O     5.0\n",
       "125868  A328S9RN3U5M68  B00L21HC7A     5.0\n",
       "125869  A328S9RN3U5M68  B00L2442H0     5.0\n",
       "125870  A328S9RN3U5M68  B00L26YDA4     5.0\n",
       "\n",
       "[125871 rows x 3 columns]"
      ]
     },
     "execution_count": 61,
     "metadata": {},
     "output_type": "execute_result"
    }
   ],
   "source": [
    "df_ratings_train_split=df_ratings_filt.copy() # Get a Copy of Filtered Data of User Rating Count >=50\n",
    "df_ratings_train_split.drop('timestamp', axis = 1, inplace = True)\n",
    "df_ratings_train_split"
   ]
  },
  {
   "cell_type": "code",
   "execution_count": 62,
   "metadata": {
    "colab": {},
    "colab_type": "code",
    "id": "RxkHc9Ikq_gQ"
   },
   "outputs": [],
   "source": [
    "# Lets load the dataset as per the requirement for surprise module\n",
    "reader = Reader(rating_scale = (1,5))\n",
    "data = Dataset.load_from_df(df_ratings_train_split[['userId','productId','Rating']], reader = reader)"
   ]
  },
  {
   "cell_type": "code",
   "execution_count": 63,
   "metadata": {
    "colab": {
     "base_uri": "https://localhost:8080/",
     "height": 51
    },
    "colab_type": "code",
    "id": "bynHgOdnrDLa",
    "outputId": "98f1120d-6e7b-4ec2-a0c3-34178a3df826"
   },
   "outputs": [
    {
     "name": "stdout",
     "output_type": "stream",
     "text": [
      "trainset 38180\n",
      "testset 37762\n"
     ]
    }
   ],
   "source": [
    "# Lets split the train and test with surprise model functionality\n",
    "trainset, testset = train_test_split(data, test_size=.3, random_state=20)\n",
    "print('trainset',trainset.n_items)\n",
    "print('testset',len(testset))"
   ]
  },
  {
   "cell_type": "markdown",
   "metadata": {
    "colab_type": "text",
    "id": "nYJD2LbCEr8D"
   },
   "source": [
    "### User-Based collaborative filtering"
   ]
  },
  {
   "cell_type": "code",
   "execution_count": 64,
   "metadata": {
    "colab": {
     "base_uri": "https://localhost:8080/",
     "height": 85
    },
    "colab_type": "code",
    "id": "8MV_lsalEr8E",
    "outputId": "54505c34-f575-4c9f-ded5-71bd1de09104"
   },
   "outputs": [
    {
     "name": "stdout",
     "output_type": "stream",
     "text": [
      "Estimating biases using als...\n",
      "Computing the pearson_baseline similarity matrix...\n",
      "Done computing similarity matrix.\n"
     ]
    },
    {
     "data": {
      "text/plain": [
       "<surprise.prediction_algorithms.knns.KNNWithMeans at 0x220a5b57d08>"
      ]
     },
     "execution_count": 64,
     "metadata": {},
     "output_type": "execute_result"
    }
   ],
   "source": [
    "algo = KNNWithMeans(k=50, sim_options={'name': 'pearson_baseline', 'user_based': True})\n",
    "#from surprise import KNNBasic\n",
    "#algo = KNNBasic()\n",
    "# Train the model with train dataset\n",
    "algo.fit(trainset)"
   ]
  },
  {
   "cell_type": "code",
   "execution_count": 65,
   "metadata": {
    "colab": {
     "base_uri": "https://localhost:8080/",
     "height": 102
    },
    "colab_type": "code",
    "id": "rPAzjbWYEr8F",
    "outputId": "5b20bcd4-0aea-4f34-ee88-78f8dfd13a7a"
   },
   "outputs": [
    {
     "data": {
      "text/plain": [
       "[('A3D0UM4ZD2CMAW', 'B004PGAMJY', 5.0),\n",
       " ('A3VI2VETB90ZG5', 'B00DEYHLF6', 3.0),\n",
       " ('A2LB4FLRZG6CUV', 'B0096E3MTC', 5.0),\n",
       " ('A3EX8ZFNVDHGPM', 'B00B1OQUS0', 5.0),\n",
       " ('A1MRPX3RM48T2I', 'B000WL6YY8', 4.0)]"
      ]
     },
     "execution_count": 65,
     "metadata": {},
     "output_type": "execute_result"
    }
   ],
   "source": [
    "testset[0:5]"
   ]
  },
  {
   "cell_type": "code",
   "execution_count": 66,
   "metadata": {
    "colab": {
     "base_uri": "https://localhost:8080/",
     "height": 34
    },
    "colab_type": "code",
    "id": "02T9jVXIEr8G",
    "outputId": "b2ee4be0-0b7f-47c6-ee9e-fe8d5ec2ab2a"
   },
   "outputs": [
    {
     "name": "stdout",
     "output_type": "stream",
     "text": [
      "user: A3EX8ZFNVDHGPM item: B00B1OQUS0 r_ui = None   est = 4.26   {'was_impossible': True, 'reason': 'User and/or item is unkown.'}\n"
     ]
    }
   ],
   "source": [
    "# we can now query for specific predicions lets say for #3rd User\n",
    "uid = str(testset[3][0])  # raw user id\n",
    "iid = str(testset[3][1])  # raw item id\n",
    "# get a prediction for specific users and items.\n",
    "pred = algo.predict(uid, iid, verbose=True)"
   ]
  },
  {
   "cell_type": "code",
   "execution_count": 67,
   "metadata": {
    "colab": {},
    "colab_type": "code",
    "id": "5YfPfBvdEr8H"
   },
   "outputs": [],
   "source": [
    "# run the trained model against the testset\n",
    "test_pred = algo.test(testset)"
   ]
  },
  {
   "cell_type": "code",
   "execution_count": 68,
   "metadata": {
    "colab": {
     "base_uri": "https://localhost:8080/",
     "height": 207
    },
    "colab_type": "code",
    "id": "E6li9yAuEr8J",
    "outputId": "28154548-cdbc-45e1-e884-ac87810471b5"
   },
   "outputs": [
    {
     "data": {
      "text/plain": [
       "[Prediction(uid='A3D0UM4ZD2CMAW', iid='B004PGAMJY', r_ui=5.0, est=4.260041539456809, details={'was_impossible': True, 'reason': 'User and/or item is unkown.'}),\n",
       " Prediction(uid='A3VI2VETB90ZG5', iid='B00DEYHLF6', r_ui=3.0, est=4.396825396825397, details={'actual_k': 0, 'was_impossible': False}),\n",
       " Prediction(uid='A2LB4FLRZG6CUV', iid='B0096E3MTC', r_ui=5.0, est=4.260041539456809, details={'was_impossible': True, 'reason': 'User and/or item is unkown.'}),\n",
       " Prediction(uid='A3EX8ZFNVDHGPM', iid='B00B1OQUS0', r_ui=5.0, est=4.260041539456809, details={'was_impossible': True, 'reason': 'User and/or item is unkown.'}),\n",
       " Prediction(uid='A1MRPX3RM48T2I', iid='B000WL6YY8', r_ui=4.0, est=4.4361702127659575, details={'actual_k': 0, 'was_impossible': False}),\n",
       " Prediction(uid='A3ER6ARJ23CIN8', iid='B007HISGRW', r_ui=3.0, est=4.260041539456809, details={'was_impossible': True, 'reason': 'User and/or item is unkown.'}),\n",
       " Prediction(uid='A2L9OPJAAEK08Q', iid='B000E6G9RI', r_ui=3.0, est=3.576923076923077, details={'actual_k': 0, 'was_impossible': False}),\n",
       " Prediction(uid='A1V3TRGWOMA8LC', iid='B00DLKE8C2', r_ui=5.0, est=4.903911854133887, details={'actual_k': 3, 'was_impossible': False}),\n",
       " Prediction(uid='A1JWSDDIH5Z7DV', iid='B0002OG6PM', r_ui=5.0, est=4.260041539456809, details={'was_impossible': True, 'reason': 'User and/or item is unkown.'}),\n",
       " Prediction(uid='A22MANL4US4RMY', iid='B00144PH1S', r_ui=5.0, est=4.554216867469879, details={'actual_k': 0, 'was_impossible': False})]"
      ]
     },
     "execution_count": 68,
     "metadata": {},
     "output_type": "execute_result"
    }
   ],
   "source": [
    "#Checking of the Data\n",
    "test_pred[0:10]"
   ]
  },
  {
   "cell_type": "code",
   "execution_count": 69,
   "metadata": {
    "colab": {
     "base_uri": "https://localhost:8080/",
     "height": 68
    },
    "colab_type": "code",
    "id": "bClQgNyYEr8L",
    "outputId": "52caa42a-4980-4059-8c27-4359709f4e84"
   },
   "outputs": [
    {
     "name": "stdout",
     "output_type": "stream",
     "text": [
      "RMSE: 1.0579\n",
      "RMSE with User/User Based Colab Filtering: 1.0578935580447755\n"
     ]
    }
   ],
   "source": [
    "# get RMSE\n",
    "rmse_user_user_colab=accuracy.rmse(test_pred, verbose=True)\n",
    "print('RMSE with User/User Based Colab Filtering:',rmse_user_user_colab)"
   ]
  },
  {
   "cell_type": "markdown",
   "metadata": {
    "colab_type": "text",
    "id": "jmRELbMgEr8M"
   },
   "source": [
    "### Item-Based collaborative filtering"
   ]
  },
  {
   "cell_type": "code",
   "execution_count": 70,
   "metadata": {
    "colab": {
     "base_uri": "https://localhost:8080/",
     "height": 419
    },
    "colab_type": "code",
    "id": "Qh1M9GddsQh7",
    "outputId": "81c8a285-7d76-472b-960e-83708bff2ee4"
   },
   "outputs": [
    {
     "data": {
      "text/html": [
       "<div>\n",
       "<style scoped>\n",
       "    .dataframe tbody tr th:only-of-type {\n",
       "        vertical-align: middle;\n",
       "    }\n",
       "\n",
       "    .dataframe tbody tr th {\n",
       "        vertical-align: top;\n",
       "    }\n",
       "\n",
       "    .dataframe thead th {\n",
       "        text-align: right;\n",
       "    }\n",
       "</style>\n",
       "<table border=\"1\" class=\"dataframe\">\n",
       "  <thead>\n",
       "    <tr style=\"text-align: right;\">\n",
       "      <th></th>\n",
       "      <th>userId</th>\n",
       "      <th>productId</th>\n",
       "      <th>Rating</th>\n",
       "    </tr>\n",
       "  </thead>\n",
       "  <tbody>\n",
       "    <tr>\n",
       "      <td>0</td>\n",
       "      <td>A3BY5KCNQZXV5U</td>\n",
       "      <td>0594451647</td>\n",
       "      <td>5.0</td>\n",
       "    </tr>\n",
       "    <tr>\n",
       "      <td>1</td>\n",
       "      <td>A3BY5KCNQZXV5U</td>\n",
       "      <td>B00000JD4V</td>\n",
       "      <td>4.0</td>\n",
       "    </tr>\n",
       "    <tr>\n",
       "      <td>2</td>\n",
       "      <td>A3BY5KCNQZXV5U</td>\n",
       "      <td>B000063574</td>\n",
       "      <td>5.0</td>\n",
       "    </tr>\n",
       "    <tr>\n",
       "      <td>3</td>\n",
       "      <td>A3BY5KCNQZXV5U</td>\n",
       "      <td>B0000CDJP8</td>\n",
       "      <td>5.0</td>\n",
       "    </tr>\n",
       "    <tr>\n",
       "      <td>4</td>\n",
       "      <td>A3BY5KCNQZXV5U</td>\n",
       "      <td>B0007Y794O</td>\n",
       "      <td>5.0</td>\n",
       "    </tr>\n",
       "    <tr>\n",
       "      <td>...</td>\n",
       "      <td>...</td>\n",
       "      <td>...</td>\n",
       "      <td>...</td>\n",
       "    </tr>\n",
       "    <tr>\n",
       "      <td>125866</td>\n",
       "      <td>A328S9RN3U5M68</td>\n",
       "      <td>B00JGL37FO</td>\n",
       "      <td>5.0</td>\n",
       "    </tr>\n",
       "    <tr>\n",
       "      <td>125867</td>\n",
       "      <td>A328S9RN3U5M68</td>\n",
       "      <td>B00K00FN3O</td>\n",
       "      <td>5.0</td>\n",
       "    </tr>\n",
       "    <tr>\n",
       "      <td>125868</td>\n",
       "      <td>A328S9RN3U5M68</td>\n",
       "      <td>B00L21HC7A</td>\n",
       "      <td>5.0</td>\n",
       "    </tr>\n",
       "    <tr>\n",
       "      <td>125869</td>\n",
       "      <td>A328S9RN3U5M68</td>\n",
       "      <td>B00L2442H0</td>\n",
       "      <td>5.0</td>\n",
       "    </tr>\n",
       "    <tr>\n",
       "      <td>125870</td>\n",
       "      <td>A328S9RN3U5M68</td>\n",
       "      <td>B00L26YDA4</td>\n",
       "      <td>5.0</td>\n",
       "    </tr>\n",
       "  </tbody>\n",
       "</table>\n",
       "<p>125871 rows × 3 columns</p>\n",
       "</div>"
      ],
      "text/plain": [
       "                userId   productId  Rating\n",
       "0       A3BY5KCNQZXV5U  0594451647     5.0\n",
       "1       A3BY5KCNQZXV5U  B00000JD4V     4.0\n",
       "2       A3BY5KCNQZXV5U  B000063574     5.0\n",
       "3       A3BY5KCNQZXV5U  B0000CDJP8     5.0\n",
       "4       A3BY5KCNQZXV5U  B0007Y794O     5.0\n",
       "...                ...         ...     ...\n",
       "125866  A328S9RN3U5M68  B00JGL37FO     5.0\n",
       "125867  A328S9RN3U5M68  B00K00FN3O     5.0\n",
       "125868  A328S9RN3U5M68  B00L21HC7A     5.0\n",
       "125869  A328S9RN3U5M68  B00L2442H0     5.0\n",
       "125870  A328S9RN3U5M68  B00L26YDA4     5.0\n",
       "\n",
       "[125871 rows x 3 columns]"
      ]
     },
     "execution_count": 70,
     "metadata": {},
     "output_type": "execute_result"
    }
   ],
   "source": [
    "df_ratings_train_split=df_ratings_filt.copy() # Get a Copy of Filtered Data of User Rating Count >=50\n",
    "df_ratings_train_split.drop('timestamp', axis = 1, inplace = True)\n",
    "df_ratings_train_split"
   ]
  },
  {
   "cell_type": "markdown",
   "metadata": {},
   "source": [
    "### <font color=orange>After Trying with Rating Count of 50 and Above, due to More number of Combination to do the Item-Item Filtering Model and System crashed showing Low Memory, Even Trying with Google Colab Failed.</font>\n",
    "#### <font color=orange>After a Number of Iteration, I am considering the Rating Count of More than 150 for item - item Filtering and Trying with Colab as well as My System, it did not collapse.</font>"
   ]
  },
  {
   "cell_type": "code",
   "execution_count": 71,
   "metadata": {
    "colab": {
     "base_uri": "https://localhost:8080/",
     "height": 187
    },
    "colab_type": "code",
    "id": "GSd2qhacEr72",
    "outputId": "973b379b-0a02-426e-dfa5-3165fbd29c6b"
   },
   "outputs": [
    {
     "name": "stdout",
     "output_type": "stream",
     "text": [
      "<class 'pandas.core.frame.DataFrame'>\n",
      "Int64Index: 99 entries, 0 to 98\n",
      "Data columns (total 3 columns):\n",
      "userId        99 non-null object\n",
      "ratecount     99 non-null int64\n",
      "proportion    99 non-null float64\n",
      "dtypes: float64(1), int64(1), object(1)\n",
      "memory usage: 3.1+ KB\n"
     ]
    }
   ],
   "source": [
    "# Get the users who have rated >= 150 items.\n",
    "user_rate_dist_150 = user_rate_dist[user_rate_dist['ratecount']>= 150]\n",
    "user_rate_dist_150.info()"
   ]
  },
  {
   "cell_type": "code",
   "execution_count": 72,
   "metadata": {
    "colab": {
     "base_uri": "https://localhost:8080/",
     "height": 34
    },
    "colab_type": "code",
    "id": "_nydl1AztuKY",
    "outputId": "da58eb1a-08c2-4cef-f6f4-cee56ec579c6"
   },
   "outputs": [
    {
     "data": {
      "text/plain": [
       "21960"
      ]
     },
     "execution_count": 72,
     "metadata": {},
     "output_type": "execute_result"
    }
   ],
   "source": [
    "# Gets the filtered Data set with the Users who has rated more than 50 times.\n",
    "df_ratings_filt_150=df_ratings.copy()\n",
    "df_ratings_filt_150=df_ratings_filt_150.merge(user_rate_dist_150['userId'], on='userId', how='right')\n",
    "len(df_ratings_filt_150['userId'])"
   ]
  },
  {
   "cell_type": "code",
   "execution_count": 73,
   "metadata": {
    "colab": {},
    "colab_type": "code",
    "id": "GfkFm4KDuORs"
   },
   "outputs": [],
   "source": [
    "# Lets load the dataset as per the requirement for surprise module\n",
    "reader = Reader(rating_scale = (1,5))\n",
    "data = Dataset.load_from_df(df_ratings_filt_150[['userId','productId','Rating']], reader = reader)"
   ]
  },
  {
   "cell_type": "code",
   "execution_count": 74,
   "metadata": {
    "colab": {
     "base_uri": "https://localhost:8080/",
     "height": 51
    },
    "colab_type": "code",
    "id": "UyyYTH4_uW25",
    "outputId": "8fe51a6f-a997-4a99-b33f-db59cfa25fb3"
   },
   "outputs": [
    {
     "name": "stdout",
     "output_type": "stream",
     "text": [
      "trainset 10344\n",
      "testset 6588\n"
     ]
    }
   ],
   "source": [
    "# Lets split the train and test with surprise model functionality\n",
    "trainset, testset = train_test_split(data, test_size=.3, random_state=20)\n",
    "print('trainset',trainset.n_items)\n",
    "print('testset',len(testset))"
   ]
  },
  {
   "cell_type": "code",
   "execution_count": 75,
   "metadata": {
    "colab": {
     "base_uri": "https://localhost:8080/",
     "height": 85
    },
    "colab_type": "code",
    "id": "-xJ1VjNcEr8N",
    "outputId": "991ea9a2-aa38-42b9-b08c-a3254f24aa2b"
   },
   "outputs": [
    {
     "name": "stdout",
     "output_type": "stream",
     "text": [
      "Estimating biases using als...\n",
      "Computing the pearson_baseline similarity matrix...\n",
      "Done computing similarity matrix.\n"
     ]
    },
    {
     "data": {
      "text/plain": [
       "<surprise.prediction_algorithms.knns.KNNWithMeans at 0x220a3844788>"
      ]
     },
     "execution_count": 75,
     "metadata": {},
     "output_type": "execute_result"
    }
   ],
   "source": [
    "#from surprise import KNNBasic\n",
    "#algo = KNNBasic() # Not Cosidering the KNNBasic Rather Trying with KNNMeans\n",
    "algo = KNNWithMeans(k=50, sim_options={'name': 'pearson_baseline', 'user_based': False}) #Already Imported Library\n",
    "# Train the model with train dataset\n",
    "algo.fit(trainset)"
   ]
  },
  {
   "cell_type": "code",
   "execution_count": 76,
   "metadata": {
    "colab": {},
    "colab_type": "code",
    "id": "QFlSnsYnvNE6"
   },
   "outputs": [],
   "source": [
    "#from google.colab import drive\n",
    "#drive.mount('/content/drive')"
   ]
  },
  {
   "cell_type": "code",
   "execution_count": 77,
   "metadata": {
    "colab": {
     "base_uri": "https://localhost:8080/",
     "height": 102
    },
    "colab_type": "code",
    "id": "Va7n3NdCEr8O",
    "outputId": "fce1fab4-b744-41f0-b658-abb9ff355dde"
   },
   "outputs": [
    {
     "data": {
      "text/plain": [
       "[('A25C2M3QF9G7OQ', 'B001CE5LNY', 5.0),\n",
       " ('ADLVFFE4VBT8', 'B0041BT21M', 5.0),\n",
       " ('A2NB2E5DXE319Z', 'B008HO9DIG', 5.0),\n",
       " ('A22CW0ZHY3NJH8', 'B00IEUCW6S', 4.0),\n",
       " ('A4WEZJOIZIV4U', 'B003UE52ME', 5.0)]"
      ]
     },
     "execution_count": 77,
     "metadata": {},
     "output_type": "execute_result"
    }
   ],
   "source": [
    "testset[0:5]"
   ]
  },
  {
   "cell_type": "code",
   "execution_count": 78,
   "metadata": {
    "colab": {
     "base_uri": "https://localhost:8080/",
     "height": 34
    },
    "colab_type": "code",
    "id": "jPBfJdN7Er8Q",
    "outputId": "8f07c509-08ea-4903-f859-ce739b38d990"
   },
   "outputs": [
    {
     "name": "stdout",
     "output_type": "stream",
     "text": [
      "user: A22CW0ZHY3NJH8 item: B00IEUCW6S r_ui = None   est = 4.35   {'actual_k': 2, 'was_impossible': False}\n"
     ]
    }
   ],
   "source": [
    "# we can now query for specific predicions lets say for #3rd User\n",
    "uid = str(testset[3][0])  # raw user id\n",
    "iid = str(testset[3][1])  # raw item id\n",
    "# get a prediction for specific users and items.\n",
    "pred = algo.predict(uid, iid, verbose=True)"
   ]
  },
  {
   "cell_type": "code",
   "execution_count": 79,
   "metadata": {
    "colab": {},
    "colab_type": "code",
    "id": "huQqPO0mEr8S"
   },
   "outputs": [],
   "source": [
    "# run the trained model against the testset\n",
    "test_pred = algo.test(testset)"
   ]
  },
  {
   "cell_type": "code",
   "execution_count": 80,
   "metadata": {
    "colab": {
     "base_uri": "https://localhost:8080/",
     "height": 207
    },
    "colab_type": "code",
    "id": "3ZYtVbKwEr8Y",
    "outputId": "a7ded91a-482a-4ef5-95a7-559961a4b384"
   },
   "outputs": [
    {
     "data": {
      "text/plain": [
       "[Prediction(uid='A25C2M3QF9G7OQ', iid='B001CE5LNY', r_ui=5.0, est=4.31928181108509, details={'was_impossible': True, 'reason': 'User and/or item is unkown.'}),\n",
       " Prediction(uid='ADLVFFE4VBT8', iid='B0041BT21M', r_ui=5.0, est=4.31928181108509, details={'was_impossible': True, 'reason': 'User and/or item is unkown.'}),\n",
       " Prediction(uid='A2NB2E5DXE319Z', iid='B008HO9DIG', r_ui=5.0, est=4.31928181108509, details={'was_impossible': True, 'reason': 'User and/or item is unkown.'}),\n",
       " Prediction(uid='A22CW0ZHY3NJH8', iid='B00IEUCW6S', r_ui=4.0, est=4.354161611416041, details={'actual_k': 2, 'was_impossible': False}),\n",
       " Prediction(uid='A4WEZJOIZIV4U', iid='B003UE52ME', r_ui=5.0, est=5, details={'actual_k': 3, 'was_impossible': False}),\n",
       " Prediction(uid='A2XRMQA6PJ5ZJ8', iid='B0000AW0QQ', r_ui=5.0, est=4.31928181108509, details={'was_impossible': True, 'reason': 'User and/or item is unkown.'}),\n",
       " Prediction(uid='AT28RL25Q2OLK', iid='B000EXHYKW', r_ui=5.0, est=4.31928181108509, details={'was_impossible': True, 'reason': 'User and/or item is unkown.'}),\n",
       " Prediction(uid='A2NB2E5DXE319Z', iid='B0023NVS30', r_ui=5.0, est=3.5, details={'actual_k': 0, 'was_impossible': False}),\n",
       " Prediction(uid='A1ODOGXEYECQQ8', iid='B004TF3OWI', r_ui=4.0, est=4.954545454545454, details={'actual_k': 1, 'was_impossible': False}),\n",
       " Prediction(uid='A2UOHALGF2X77Q', iid='B00CF030S2', r_ui=3.0, est=4.31928181108509, details={'was_impossible': True, 'reason': 'User and/or item is unkown.'})]"
      ]
     },
     "execution_count": 80,
     "metadata": {},
     "output_type": "execute_result"
    }
   ],
   "source": [
    "# Checking of the Data\n",
    "test_pred[0:10]"
   ]
  },
  {
   "cell_type": "code",
   "execution_count": 81,
   "metadata": {
    "colab": {
     "base_uri": "https://localhost:8080/",
     "height": 68
    },
    "colab_type": "code",
    "id": "bxO3SB6FEr8Z",
    "outputId": "dac91a04-72c9-4eb1-e231-1629f439656d"
   },
   "outputs": [
    {
     "name": "stdout",
     "output_type": "stream",
     "text": [
      "RMSE: 1.0503\n",
      "RMSE with Item/Item Based Based Colab Filtering: 1.0503424557973395\n"
     ]
    }
   ],
   "source": [
    "# get RMSE\n",
    "rmse_item_item_colab=accuracy.rmse(test_pred, verbose=True)\n",
    "print('RMSE with Item/Item Based Based Colab Filtering:',rmse_item_item_colab)"
   ]
  },
  {
   "cell_type": "markdown",
   "metadata": {
    "colab_type": "text",
    "id": "8-xeJL3TEr8b"
   },
   "source": [
    "## <font color=blue>6. Evaluate both the models. (Once the model is trained on the training data, it can be used to compute the error (RMSE) on predictions made on the test data.) - (7 Marks)</font>"
   ]
  },
  {
   "cell_type": "code",
   "execution_count": 82,
   "metadata": {
    "colab": {
     "base_uri": "https://localhost:8080/",
     "height": 71
    },
    "colab_type": "code",
    "id": "DZlGE5dsEr8c",
    "outputId": "167ff7f7-c982-4bf8-e531-aca42c85e7fb"
   },
   "outputs": [
    {
     "name": "stdout",
     "output_type": "stream",
     "text": [
      "rand_uuid ['A3F3B1JPACN215', 'A3Q4TYJVAM4IRM', 'A22S7D0LP8GRDH', 'A2KOV8XWZOZ0FQ', 'A30UP2KKD5IQEP', 'A30KPB2ILF6K6J', 'A2DXENZNO2JT4F', 'AI2AOCTC8BQVZ', 'A2YEOR4XJ8N3QE', 'AVU1ILDDYW301']\n",
      "RMSE with Popularity Model :  115.35066849384927\n"
     ]
    }
   ],
   "source": [
    "# Evaluation for Popularity Model.\n",
    "\n",
    "# This function will get the predictions for 10 random users in test dataset and will calculate the RMSE.\n",
    "print(\"RMSE with Popularity Model : \", GetpmRMSE())"
   ]
  },
  {
   "cell_type": "code",
   "execution_count": 83,
   "metadata": {
    "colab": {
     "base_uri": "https://localhost:8080/",
     "height": 68
    },
    "colab_type": "code",
    "id": "chwyOq0REr8d",
    "outputId": "cf364fa3-8fcc-40ad-b90a-521a995c8c95"
   },
   "outputs": [
    {
     "name": "stdout",
     "output_type": "stream",
     "text": [
      "RMSE with SVD: 0.9823050317068356\n",
      "RMSE with User/User Based Colab Filtering: 1.0578935580447755\n",
      "RMSE with Item/Item Based Colab Filtering: 1.0503424557973395\n"
     ]
    }
   ],
   "source": [
    "# Evaluation for Collaborative Filtering Model.\n",
    "print('RMSE with SVD:',rmse_svd)\n",
    "print('RMSE with User/User Based Colab Filtering:',rmse_user_user_colab)\n",
    "print('RMSE with Item/Item Based Colab Filtering:',rmse_item_item_colab)"
   ]
  },
  {
   "cell_type": "markdown",
   "metadata": {
    "colab_type": "text",
    "id": "mUgO7dNnEr8f"
   },
   "source": [
    "## Observations:\n",
    "\n",
    "#### - Collaborative model have given the better accuracy (less error) than Popularity Model.\n",
    "#### - In Collaborative model SVD is having low RMSE compared to user/user or item/item Filtering.\n",
    "#### - Item/Item is more resource intensive compared to user/user filtering, Couldnot run with ratecount of 50 or More no of data with the resources I have on my Laptop as well as in Google Colab.\n",
    "#### - Item/Item is comparatively gives better prediction than User/User Filtering."
   ]
  },
  {
   "cell_type": "markdown",
   "metadata": {
    "colab_type": "text",
    "id": "M2oe64YMEr8f"
   },
   "source": [
    "## <font color=blue>7. Get top - K (K = 5) recommendations. Since our goal is to recommend new products to each user based on his/her habits,we will recommend 5 new products. - ( 7 Marks)</font>"
   ]
  },
  {
   "cell_type": "markdown",
   "metadata": {
    "colab_type": "text",
    "id": "rXiNnNO1CvXc"
   },
   "source": [
    "#### <font color=orange>Source Ref: https://surprise.readthedocs.io/en/stable/FAQ.html#how-to-get-the-top-n-recommendations-for-each-user</font>\n"
   ]
  },
  {
   "cell_type": "code",
   "execution_count": 84,
   "metadata": {
    "colab": {},
    "colab_type": "code",
    "id": "rPIrm7jB79kt"
   },
   "outputs": [],
   "source": [
    "from collections import defaultdict\n",
    "#Using Top Recomendation By Surprise\n",
    "def get_top_n(predictions, n):\n",
    "    '''Return the top-N recommendation for each user from a set of predictions.\n",
    "\n",
    "    Args:\n",
    "        predictions(list of Prediction objects): The list of predictions, as\n",
    "            returned by the test method of an algorithm.\n",
    "        n(int): The number of recommendation to output for each user. Default\n",
    "            is 10.\n",
    "\n",
    "    Returns:\n",
    "    A dict where keys are user (raw) ids and values are lists of tuples:\n",
    "        [(raw item id, rating estimation), ...] of size n.\n",
    "    '''\n",
    "\n",
    "    # First map the predictions to each user.\n",
    "    top_n = defaultdict(list)\n",
    "    for uid, iid, true_r, est, _ in predictions:\n",
    "#        print(uid, iid, true_r, est, _)\n",
    "        top_n[uid].append((iid, est))\n",
    "#    print(top_n)\n",
    "    # Then sort the predictions for each user and retrieve the k highest ones.\n",
    "    for uid, user_ratings in top_n.items():\n",
    "        user_ratings.sort(key=lambda x: x[1], reverse=True)\n",
    "        top_n[uid] = user_ratings[:n]\n",
    "\n",
    "    return top_n"
   ]
  },
  {
   "cell_type": "code",
   "execution_count": 85,
   "metadata": {
    "colab": {
     "base_uri": "https://localhost:8080/",
     "height": 419
    },
    "colab_type": "code",
    "id": "-_dv3H80Er8f",
    "outputId": "3383b13b-1020-428c-fca1-8e7fb9a2b4f6"
   },
   "outputs": [
    {
     "data": {
      "text/html": [
       "<div>\n",
       "<style scoped>\n",
       "    .dataframe tbody tr th:only-of-type {\n",
       "        vertical-align: middle;\n",
       "    }\n",
       "\n",
       "    .dataframe tbody tr th {\n",
       "        vertical-align: top;\n",
       "    }\n",
       "\n",
       "    .dataframe thead th {\n",
       "        text-align: right;\n",
       "    }\n",
       "</style>\n",
       "<table border=\"1\" class=\"dataframe\">\n",
       "  <thead>\n",
       "    <tr style=\"text-align: right;\">\n",
       "      <th></th>\n",
       "      <th>0</th>\n",
       "      <th>1</th>\n",
       "      <th>2</th>\n",
       "      <th>3</th>\n",
       "      <th>4</th>\n",
       "    </tr>\n",
       "  </thead>\n",
       "  <tbody>\n",
       "    <tr>\n",
       "      <td>A25C2M3QF9G7OQ</td>\n",
       "      <td>(B002WE6D44, 5)</td>\n",
       "      <td>(B007ZZ6OW6, 5)</td>\n",
       "      <td>(B00KCXRMKG, 5)</td>\n",
       "      <td>(B00A48ZCVA, 5)</td>\n",
       "      <td>(B00009XVCZ, 5)</td>\n",
       "    </tr>\n",
       "    <tr>\n",
       "      <td>ADLVFFE4VBT8</td>\n",
       "      <td>(B0014Z29OU, 5)</td>\n",
       "      <td>(B003ES5ZSW, 5)</td>\n",
       "      <td>(B005KQ2O26, 5)</td>\n",
       "      <td>(B00FSDKBYY, 5)</td>\n",
       "      <td>(B005EWB37S, 5)</td>\n",
       "    </tr>\n",
       "    <tr>\n",
       "      <td>A2NB2E5DXE319Z</td>\n",
       "      <td>(B002WE6D44, 5)</td>\n",
       "      <td>(B004TS2AOS, 5)</td>\n",
       "      <td>(B000WR3Z3A, 5)</td>\n",
       "      <td>(B008JJLW4M, 5)</td>\n",
       "      <td>(B005EWB37S, 5)</td>\n",
       "    </tr>\n",
       "    <tr>\n",
       "      <td>A22CW0ZHY3NJH8</td>\n",
       "      <td>(B00CRGJJHU, 5)</td>\n",
       "      <td>(B000QWEN5K, 5)</td>\n",
       "      <td>(B000M2TAN4, 5)</td>\n",
       "      <td>(B0002KKIUA, 5)</td>\n",
       "      <td>(B00GJYJFKM, 5)</td>\n",
       "    </tr>\n",
       "    <tr>\n",
       "      <td>A4WEZJOIZIV4U</td>\n",
       "      <td>(B003UE52ME, 5)</td>\n",
       "      <td>(B00019OWU4, 5)</td>\n",
       "      <td>(B008OZF9SQ, 5)</td>\n",
       "      <td>(B0052L77QW, 5)</td>\n",
       "      <td>(B0002XQJFA, 5)</td>\n",
       "    </tr>\n",
       "    <tr>\n",
       "      <td>...</td>\n",
       "      <td>...</td>\n",
       "      <td>...</td>\n",
       "      <td>...</td>\n",
       "      <td>...</td>\n",
       "      <td>...</td>\n",
       "    </tr>\n",
       "    <tr>\n",
       "      <td>A3V7D0LH8L7BG0</td>\n",
       "      <td>(B0025VKUQQ, 5)</td>\n",
       "      <td>(B000YOLUPG, 5)</td>\n",
       "      <td>(B001CCLBSA, 5)</td>\n",
       "      <td>(B000QWEN5K, 5)</td>\n",
       "      <td>(B00BOHNYTW, 5)</td>\n",
       "    </tr>\n",
       "    <tr>\n",
       "      <td>A36K2N527TXXJN</td>\n",
       "      <td>(B008X9Z44M, 5)</td>\n",
       "      <td>(B00F6E4HXG, 5)</td>\n",
       "      <td>(B00104XCVO, 5)</td>\n",
       "      <td>(B008ULPAT2, 5)</td>\n",
       "      <td>(B0047ZH0B6, 5)</td>\n",
       "    </tr>\n",
       "    <tr>\n",
       "      <td>AT6CZDCP4TRGA</td>\n",
       "      <td>(B0002KVQBA, 5)</td>\n",
       "      <td>(B0023FTRUO, 5)</td>\n",
       "      <td>(B009NB8WR0, 5)</td>\n",
       "      <td>(B00E0EY7Z6, 5)</td>\n",
       "      <td>(B003ES5ZUU, 5)</td>\n",
       "    </tr>\n",
       "    <tr>\n",
       "      <td>A1T1YSCDW0PD25</td>\n",
       "      <td>(B00JWXTOIA, 5)</td>\n",
       "      <td>(B00JTU88Y2, 5)</td>\n",
       "      <td>(B00007IFED, 5)</td>\n",
       "      <td>(B00A0ABQLM, 5)</td>\n",
       "      <td>(B00008AWKZ, 5)</td>\n",
       "    </tr>\n",
       "    <tr>\n",
       "      <td>A1X1CEGHTHMBL1</td>\n",
       "      <td>(B000WI9CIG, 5)</td>\n",
       "      <td>(B00AYQ433U, 5)</td>\n",
       "      <td>(B002RCNX8K, 5)</td>\n",
       "      <td>(B00005V619, 5)</td>\n",
       "      <td>(B00064BTEQ, 5)</td>\n",
       "    </tr>\n",
       "  </tbody>\n",
       "</table>\n",
       "<p>99 rows × 5 columns</p>\n",
       "</div>"
      ],
      "text/plain": [
       "                              0                1                2  \\\n",
       "A25C2M3QF9G7OQ  (B002WE6D44, 5)  (B007ZZ6OW6, 5)  (B00KCXRMKG, 5)   \n",
       "ADLVFFE4VBT8    (B0014Z29OU, 5)  (B003ES5ZSW, 5)  (B005KQ2O26, 5)   \n",
       "A2NB2E5DXE319Z  (B002WE6D44, 5)  (B004TS2AOS, 5)  (B000WR3Z3A, 5)   \n",
       "A22CW0ZHY3NJH8  (B00CRGJJHU, 5)  (B000QWEN5K, 5)  (B000M2TAN4, 5)   \n",
       "A4WEZJOIZIV4U   (B003UE52ME, 5)  (B00019OWU4, 5)  (B008OZF9SQ, 5)   \n",
       "...                         ...              ...              ...   \n",
       "A3V7D0LH8L7BG0  (B0025VKUQQ, 5)  (B000YOLUPG, 5)  (B001CCLBSA, 5)   \n",
       "A36K2N527TXXJN  (B008X9Z44M, 5)  (B00F6E4HXG, 5)  (B00104XCVO, 5)   \n",
       "AT6CZDCP4TRGA   (B0002KVQBA, 5)  (B0023FTRUO, 5)  (B009NB8WR0, 5)   \n",
       "A1T1YSCDW0PD25  (B00JWXTOIA, 5)  (B00JTU88Y2, 5)  (B00007IFED, 5)   \n",
       "A1X1CEGHTHMBL1  (B000WI9CIG, 5)  (B00AYQ433U, 5)  (B002RCNX8K, 5)   \n",
       "\n",
       "                              3                4  \n",
       "A25C2M3QF9G7OQ  (B00A48ZCVA, 5)  (B00009XVCZ, 5)  \n",
       "ADLVFFE4VBT8    (B00FSDKBYY, 5)  (B005EWB37S, 5)  \n",
       "A2NB2E5DXE319Z  (B008JJLW4M, 5)  (B005EWB37S, 5)  \n",
       "A22CW0ZHY3NJH8  (B0002KKIUA, 5)  (B00GJYJFKM, 5)  \n",
       "A4WEZJOIZIV4U   (B0052L77QW, 5)  (B0002XQJFA, 5)  \n",
       "...                         ...              ...  \n",
       "A3V7D0LH8L7BG0  (B000QWEN5K, 5)  (B00BOHNYTW, 5)  \n",
       "A36K2N527TXXJN  (B008ULPAT2, 5)  (B0047ZH0B6, 5)  \n",
       "AT6CZDCP4TRGA   (B00E0EY7Z6, 5)  (B003ES5ZUU, 5)  \n",
       "A1T1YSCDW0PD25  (B00A0ABQLM, 5)  (B00008AWKZ, 5)  \n",
       "A1X1CEGHTHMBL1  (B00005V619, 5)  (B00064BTEQ, 5)  \n",
       "\n",
       "[99 rows x 5 columns]"
      ]
     },
     "execution_count": 85,
     "metadata": {},
     "output_type": "execute_result"
    }
   ],
   "source": [
    "# convert results to dataframe\n",
    "k=5\n",
    "top_5=get_top_n(test_pred, k)\n",
    "recomended_df=pd.DataFrame(top_5).T\n",
    "#recomended_df.index='userId'\n",
    "recomended_df"
   ]
  },
  {
   "cell_type": "code",
   "execution_count": 86,
   "metadata": {
    "colab": {
     "base_uri": "https://localhost:8080/",
     "height": 1000
    },
    "colab_type": "code",
    "id": "Lm4eUfWfEO6h",
    "outputId": "90710a6a-413a-4db0-f4ec-8188a8f7962e"
   },
   "outputs": [
    {
     "name": "stdout",
     "output_type": "stream",
     "text": [
      "Print only first 3 from recomended_df, Change the Value of C to print More or All Users Recomended Product\n",
      "\n",
      "Recomendation For User:  A25C2M3QF9G7OQ\n",
      "With Product :  B002WE6D44  Rating:  5\n",
      "With Product :  B007ZZ6OW6  Rating:  5\n",
      "With Product :  B00KCXRMKG  Rating:  5\n",
      "With Product :  B00A48ZCVA  Rating:  5\n",
      "With Product :  B00009XVCZ  Rating:  5\n",
      "\n",
      "\n",
      "Recomendation For User:  ADLVFFE4VBT8\n",
      "With Product :  B0014Z29OU  Rating:  5\n",
      "With Product :  B003ES5ZSW  Rating:  5\n",
      "With Product :  B005KQ2O26  Rating:  5\n",
      "With Product :  B00FSDKBYY  Rating:  5\n",
      "With Product :  B005EWB37S  Rating:  5\n",
      "\n",
      "\n",
      "Recomendation For User:  A2NB2E5DXE319Z\n",
      "With Product :  B002WE6D44  Rating:  5\n",
      "With Product :  B004TS2AOS  Rating:  5\n",
      "With Product :  B000WR3Z3A  Rating:  5\n",
      "With Product :  B008JJLW4M  Rating:  5\n",
      "With Product :  B005EWB37S  Rating:  5\n",
      "\n",
      "\n"
     ]
    }
   ],
   "source": [
    "# Printing the Data Userwise Recommended Product and Their Rating in Text Format from the recomended data frame\n",
    "C=3  #Print only 3 from recomended_df list change the value to recomended_df.shape[0] if you want to print for al User\n",
    "i=0\n",
    "print('Print only first 3 from recomended_df, Change the Value of C to print More or All Users Recomended Product\\n')\n",
    "for data in top_5:\n",
    "  i=i+1\n",
    "  if(i<=C):\n",
    "      print('Recomendation For User: ',data)\n",
    "      data_dict = top_5[data]\n",
    "      data_list = list(data_dict)\n",
    "      for listi in data_list:\n",
    "        tupl=listi\n",
    "        print('With Product : ',tupl[0], ' Rating: ',tupl[1])\n",
    "      print('\\n')\n"
   ]
  },
  {
   "cell_type": "markdown",
   "metadata": {
    "colab_type": "text",
    "id": "qZYee26pEr8j"
   },
   "source": [
    "## <font color=blue>8. Summarize your insights. - (7 Marks)</font>"
   ]
  },
  {
   "cell_type": "markdown",
   "metadata": {
    "colab_type": "text",
    "id": "A-3T8xfoEr8j"
   },
   "source": [
    "### - Popularity Model gives similar recommendation to all users.\n",
    "### - It is based on popularity of the items rather than user specific.\n",
    "### - Collaborative model have given the better accuracy (less error) than Popularity Model.\n",
    "### - Collaborative Model gives user specific recommendations as it is based on user-user(Similar Minded User)  or item-item(A User Likes an Item will prefer similar Item) characteristics to recommend similar products.\n",
    "### - So Collaborative Filtering model will give precise recommendation than Popularity Model. It was evident with the RMSE scores of each models.\n",
    "### - In Collaborative model SVD is having low RMSE compared to user/user or item/item Filtering.\n",
    "### - Item/Item is more resource intensive compared to user/user filtering, Couldnot run with more no of data with the resources I have on my PC as well as in Google Colab.\n",
    "### - Item/Item is comparatively gives better prediction than User/User Filtering."
   ]
  }
 ],
 "metadata": {
  "colab": {
   "name": "Recommendation Systems.ipynb",
   "provenance": []
  },
  "kernelspec": {
   "display_name": "Python 3",
   "language": "python",
   "name": "python3"
  },
  "language_info": {
   "codemirror_mode": {
    "name": "ipython",
    "version": 3
   },
   "file_extension": ".py",
   "mimetype": "text/x-python",
   "name": "python",
   "nbconvert_exporter": "python",
   "pygments_lexer": "ipython3",
   "version": "3.7.4"
  }
 },
 "nbformat": 4,
 "nbformat_minor": 4
}
