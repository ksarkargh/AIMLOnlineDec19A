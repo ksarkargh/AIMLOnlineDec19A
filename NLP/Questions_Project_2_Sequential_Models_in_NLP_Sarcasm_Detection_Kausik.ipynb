{
  "nbformat": 4,
  "nbformat_minor": 0,
  "metadata": {
    "colab": {
      "name": "Questions - Project 2 - Sequential Models in NLP - Sarcasm Detection-Kausik.ipynb",
      "provenance": [],
      "collapsed_sections": []
    },
    "kernelspec": {
      "display_name": "Python 3",
      "language": "python",
      "name": "python3"
    },
    "language_info": {
      "codemirror_mode": {
        "name": "ipython",
        "version": 3
      },
      "file_extension": ".py",
      "mimetype": "text/x-python",
      "name": "python",
      "nbconvert_exporter": "python",
      "pygments_lexer": "ipython3",
      "version": "3.7.3"
    },
    "accelerator": "GPU"
  },
  "cells": [
    {
      "cell_type": "markdown",
      "metadata": {
        "id": "bI7SIeJ_oZMU"
      },
      "source": [
        "![alt text](https://drive.google.com/uc?export=view&id=1UXScsVx_Wni_JuDdB8LeTnM6jsPfIwkW)\n",
        "\n",
        "Proprietary content. © Great Learning. All Rights Reserved. Unauthorized use or distribution prohibited."
      ]
    },
    {
      "cell_type": "markdown",
      "metadata": {
        "id": "pp68FAQf9aMN"
      },
      "source": [
        "# Sarcasm Detection"
      ]
    },
    {
      "cell_type": "markdown",
      "metadata": {
        "id": "bEahVPtWX5ve"
      },
      "source": [
        "### **Description**\n",
        "Past studies in Sarcasm Detection mostly make use of Twitter datasets collected using hashtag based supervision but such datasets are noisy in terms of labels and language. Furthermore, many tweets are replies to other tweets and detecting sarcasm in these requires the availability of contextual tweets.\n",
        "\n",
        "In this hands-on project, **the goal is to build a model** ***to detect whether a sentence is sarcastic or not***, using **Bidirectional LSTMs**.\n",
        "\n",
        "\n",
        "### **Dataset**\n",
        "#### **News Headlines dataset for Sarcasm Detection**\n",
        "The dataset is collected from two news websites, **theonion.com** and **huffingtonpost.com**. \n",
        "\n",
        "This new dataset has the following advantages over the existing Twitter datasets:\n",
        "  Since news headlines are written by professionals in a formal manner, there are no spelling mistakes and informal usage. This reduces the sparsity and also increases the chance of finding pre-trained embeddings. Furthermore, since the sole purpose of TheOnion is to publish sarcastic news, we get high-quality labels with much less noise as compared to Twitter datasets.\n",
        "\n",
        "Unlike tweets that reply to other tweets, the news headlines obtained are self-contained. This would help us in teasing apart the real sarcastic elements\n",
        "\n",
        "#### **Content**\n",
        "**Each record consists** of three attributes:\n",
        "  1. **is_sarcastic: 1 if the record is sarcastic otherwise 0**\n",
        "  2. **headline**: the headline of the news article\n",
        "  3. ***article_link***: link to the original news article. Useful in collecting supplementary data\n",
        "\n",
        "#### **Reference**\n",
        "https://github.com/rishabhmisra/News-Headlines-Dataset-For-Sarcasm-Detection\n",
        "\n",
        "\n",
        "#### **Acknowledgement**\n",
        "Misra, Rishabh, and Prahal Arora. \"Sarcasm Detection using Hybrid Neural Network.\" arXiv preprint arXiv:1908.07414 (2019).\n",
        "\n",
        "**Required Files given in below link.**\n",
        "\n",
        "https://drive.google.com/drive/folders/1xUnF35naPGU63xwRDVGc-DkZ3M8V5mMk"
      ]
    },
    {
      "cell_type": "markdown",
      "metadata": {
        "id": "Eukag7wEoPZu"
      },
      "source": [
        "### Package Version:\n",
        "- tensorflow==2.2.0\n",
        "- pandas==1.0.5\n",
        "- numpy==1.18.5\n",
        "- google==2.0.3"
      ]
    },
    {
      "cell_type": "markdown",
      "metadata": {
        "id": "vAk6BRUh8CqL"
      },
      "source": [
        "### Load Data (3 Marks)"
      ]
    },
    {
      "cell_type": "code",
      "metadata": {
        "id": "v8-PQsV0DrAZ",
        "outputId": "77a28d8a-606d-4c4c-c532-cb932a89e844",
        "colab": {
          "base_uri": "https://localhost:8080/",
          "height": 34
        }
      },
      "source": [
        "from google.colab import drive\n",
        "drive.mount('/content/drive')"
      ],
      "execution_count": 2,
      "outputs": [
        {
          "output_type": "stream",
          "text": [
            "Drive already mounted at /content/drive; to attempt to forcibly remount, call drive.mount(\"/content/drive\", force_remount=True).\n"
          ],
          "name": "stdout"
        }
      ]
    },
    {
      "cell_type": "markdown",
      "metadata": {
        "id": "Z1adWKB2FbCm"
      },
      "source": [
        "**Mapping My Google Drive, Where Sarcasm Data is Stored**"
      ]
    },
    {
      "cell_type": "code",
      "metadata": {
        "id": "hw3k3SUPY7ZH"
      },
      "source": [
        "data_path = \"/content/drive/My Drive/AIML/Labs/NLP/Sarcasm Detection/\""
      ],
      "execution_count": 3,
      "outputs": []
    },
    {
      "cell_type": "markdown",
      "metadata": {
        "id": "PfGex0yOFxXE"
      },
      "source": [
        "**Loading Data from the Google Drive and Checking the top 5 data rows**"
      ]
    },
    {
      "cell_type": "code",
      "metadata": {
        "id": "zlWn34_0aM4I",
        "outputId": "19dee57e-1e6e-494d-d595-d60abedb7124",
        "colab": {
          "base_uri": "https://localhost:8080/",
          "height": 204
        }
      },
      "source": [
        "import pandas as pd\n",
        "\n",
        "df = pd.read_json(data_path + 'Sarcasm_Headlines_Dataset.json', lines=True)\n",
        "df.head(5)"
      ],
      "execution_count": 4,
      "outputs": [
        {
          "output_type": "execute_result",
          "data": {
            "text/html": [
              "<div>\n",
              "<style scoped>\n",
              "    .dataframe tbody tr th:only-of-type {\n",
              "        vertical-align: middle;\n",
              "    }\n",
              "\n",
              "    .dataframe tbody tr th {\n",
              "        vertical-align: top;\n",
              "    }\n",
              "\n",
              "    .dataframe thead th {\n",
              "        text-align: right;\n",
              "    }\n",
              "</style>\n",
              "<table border=\"1\" class=\"dataframe\">\n",
              "  <thead>\n",
              "    <tr style=\"text-align: right;\">\n",
              "      <th></th>\n",
              "      <th>article_link</th>\n",
              "      <th>headline</th>\n",
              "      <th>is_sarcastic</th>\n",
              "    </tr>\n",
              "  </thead>\n",
              "  <tbody>\n",
              "    <tr>\n",
              "      <th>0</th>\n",
              "      <td>https://www.huffingtonpost.com/entry/versace-b...</td>\n",
              "      <td>former versace store clerk sues over secret 'b...</td>\n",
              "      <td>0</td>\n",
              "    </tr>\n",
              "    <tr>\n",
              "      <th>1</th>\n",
              "      <td>https://www.huffingtonpost.com/entry/roseanne-...</td>\n",
              "      <td>the 'roseanne' revival catches up to our thorn...</td>\n",
              "      <td>0</td>\n",
              "    </tr>\n",
              "    <tr>\n",
              "      <th>2</th>\n",
              "      <td>https://local.theonion.com/mom-starting-to-fea...</td>\n",
              "      <td>mom starting to fear son's web series closest ...</td>\n",
              "      <td>1</td>\n",
              "    </tr>\n",
              "    <tr>\n",
              "      <th>3</th>\n",
              "      <td>https://politics.theonion.com/boehner-just-wan...</td>\n",
              "      <td>boehner just wants wife to listen, not come up...</td>\n",
              "      <td>1</td>\n",
              "    </tr>\n",
              "    <tr>\n",
              "      <th>4</th>\n",
              "      <td>https://www.huffingtonpost.com/entry/jk-rowlin...</td>\n",
              "      <td>j.k. rowling wishes snape happy birthday in th...</td>\n",
              "      <td>0</td>\n",
              "    </tr>\n",
              "  </tbody>\n",
              "</table>\n",
              "</div>"
            ],
            "text/plain": [
              "                                        article_link  ... is_sarcastic\n",
              "0  https://www.huffingtonpost.com/entry/versace-b...  ...            0\n",
              "1  https://www.huffingtonpost.com/entry/roseanne-...  ...            0\n",
              "2  https://local.theonion.com/mom-starting-to-fea...  ...            1\n",
              "3  https://politics.theonion.com/boehner-just-wan...  ...            1\n",
              "4  https://www.huffingtonpost.com/entry/jk-rowlin...  ...            0\n",
              "\n",
              "[5 rows x 3 columns]"
            ]
          },
          "metadata": {
            "tags": []
          },
          "execution_count": 4
        }
      ]
    },
    {
      "cell_type": "markdown",
      "metadata": {
        "id": "z6pXf7A78E2H"
      },
      "source": [
        "### Drop **`article_link`** from dataset (3 Marks)"
      ]
    },
    {
      "cell_type": "markdown",
      "metadata": {
        "id": "9QR02sm7Gcb3"
      },
      "source": [
        "**Deleting the column article_Link as it will not be used for sarcastic detection**"
      ]
    },
    {
      "cell_type": "code",
      "metadata": {
        "id": "-WUNHq5zEV0n",
        "outputId": "3b21cbd9-52e6-45a0-ec1b-81b94e67df97",
        "colab": {
          "base_uri": "https://localhost:8080/",
          "height": 204
        }
      },
      "source": [
        "del df['article_link']\n",
        "df.head(5)"
      ],
      "execution_count": 5,
      "outputs": [
        {
          "output_type": "execute_result",
          "data": {
            "text/html": [
              "<div>\n",
              "<style scoped>\n",
              "    .dataframe tbody tr th:only-of-type {\n",
              "        vertical-align: middle;\n",
              "    }\n",
              "\n",
              "    .dataframe tbody tr th {\n",
              "        vertical-align: top;\n",
              "    }\n",
              "\n",
              "    .dataframe thead th {\n",
              "        text-align: right;\n",
              "    }\n",
              "</style>\n",
              "<table border=\"1\" class=\"dataframe\">\n",
              "  <thead>\n",
              "    <tr style=\"text-align: right;\">\n",
              "      <th></th>\n",
              "      <th>headline</th>\n",
              "      <th>is_sarcastic</th>\n",
              "    </tr>\n",
              "  </thead>\n",
              "  <tbody>\n",
              "    <tr>\n",
              "      <th>0</th>\n",
              "      <td>former versace store clerk sues over secret 'b...</td>\n",
              "      <td>0</td>\n",
              "    </tr>\n",
              "    <tr>\n",
              "      <th>1</th>\n",
              "      <td>the 'roseanne' revival catches up to our thorn...</td>\n",
              "      <td>0</td>\n",
              "    </tr>\n",
              "    <tr>\n",
              "      <th>2</th>\n",
              "      <td>mom starting to fear son's web series closest ...</td>\n",
              "      <td>1</td>\n",
              "    </tr>\n",
              "    <tr>\n",
              "      <th>3</th>\n",
              "      <td>boehner just wants wife to listen, not come up...</td>\n",
              "      <td>1</td>\n",
              "    </tr>\n",
              "    <tr>\n",
              "      <th>4</th>\n",
              "      <td>j.k. rowling wishes snape happy birthday in th...</td>\n",
              "      <td>0</td>\n",
              "    </tr>\n",
              "  </tbody>\n",
              "</table>\n",
              "</div>"
            ],
            "text/plain": [
              "                                            headline  is_sarcastic\n",
              "0  former versace store clerk sues over secret 'b...             0\n",
              "1  the 'roseanne' revival catches up to our thorn...             0\n",
              "2  mom starting to fear son's web series closest ...             1\n",
              "3  boehner just wants wife to listen, not come up...             1\n",
              "4  j.k. rowling wishes snape happy birthday in th...             0"
            ]
          },
          "metadata": {
            "tags": []
          },
          "execution_count": 5
        }
      ]
    },
    {
      "cell_type": "markdown",
      "metadata": {
        "id": "irv6qbKOG1Xk"
      },
      "source": [
        "**Let's Review the distribution of the Data to verify data sparsity, also if any missing values in the Data**"
      ]
    },
    {
      "cell_type": "markdown",
      "metadata": {
        "id": "pOzokr22HsNV"
      },
      "source": [
        "***Checking for NaN values:***"
      ]
    },
    {
      "cell_type": "code",
      "metadata": {
        "id": "zk3mfRKfHgig",
        "outputId": "b4a91de9-4838-41fb-fa10-33ec03c20210",
        "colab": {
          "base_uri": "https://localhost:8080/",
          "height": 68
        }
      },
      "source": [
        "df.isna().sum()"
      ],
      "execution_count": 6,
      "outputs": [
        {
          "output_type": "execute_result",
          "data": {
            "text/plain": [
              "headline        0\n",
              "is_sarcastic    0\n",
              "dtype: int64"
            ]
          },
          "metadata": {
            "tags": []
          },
          "execution_count": 6
        }
      ]
    },
    {
      "cell_type": "markdown",
      "metadata": {
        "id": "pjh1PmIMH_dk"
      },
      "source": [
        "## Observation: No NULL Values in the dataset"
      ]
    },
    {
      "cell_type": "code",
      "metadata": {
        "id": "0fpHxF2eHCZC",
        "outputId": "5037baad-c649-4790-efa3-3d6066bff068",
        "colab": {
          "base_uri": "https://localhost:8080/",
          "height": 297
        }
      },
      "source": [
        "import seaborn as sns\n",
        "import matplotlib.pyplot as plt\n",
        "\n",
        "sns.countplot(data=df, x=\"is_sarcastic\")"
      ],
      "execution_count": 7,
      "outputs": [
        {
          "output_type": "execute_result",
          "data": {
            "text/plain": [
              "<matplotlib.axes._subplots.AxesSubplot at 0x7f22fd5561d0>"
            ]
          },
          "metadata": {
            "tags": []
          },
          "execution_count": 7
        },
        {
          "output_type": "display_data",
          "data": {
            "image/png": "[encoded data removed]",
            "text/plain": [
              "<Figure size 432x288 with 1 Axes>"
            ]
          },
          "metadata": {
            "tags": [],
            "needs_background": "light"
          }
        }
      ]
    },
    {
      "cell_type": "code",
      "metadata": {
        "id": "2QiXin-5Kx1o",
        "outputId": "84ac4aba-95b5-4289-8b20-b22239b55f6a",
        "colab": {
          "base_uri": "https://localhost:8080/",
          "height": 68
        }
      },
      "source": [
        "df['is_sarcastic'].value_counts() "
      ],
      "execution_count": 8,
      "outputs": [
        {
          "output_type": "execute_result",
          "data": {
            "text/plain": [
              "0    14985\n",
              "1    11724\n",
              "Name: is_sarcastic, dtype: int64"
            ]
          },
          "metadata": {
            "tags": []
          },
          "execution_count": 8
        }
      ]
    },
    {
      "cell_type": "code",
      "metadata": {
        "id": "S49LFjNWvgwC",
        "outputId": "16dfb114-92e3-42b0-a9e9-178a06af96fd",
        "colab": {
          "base_uri": "https://localhost:8080/",
          "height": 34
        }
      },
      "source": [
        "df.shape"
      ],
      "execution_count": 9,
      "outputs": [
        {
          "output_type": "execute_result",
          "data": {
            "text/plain": [
              "(26709, 2)"
            ]
          },
          "metadata": {
            "tags": []
          },
          "execution_count": 9
        }
      ]
    },
    {
      "cell_type": "markdown",
      "metadata": {
        "id": "kDifNZeAK_Mz"
      },
      "source": [
        "## Observation\n",
        "There are **14895 False** sarcasm and **11724 True** sarcasm in the Data set **out of Total 26709 Headlines**, Also, from the Countplot, we can visualize the distribution of the Sarcasm, from which We can say **Dataset is Balanced.**"
      ]
    },
    {
      "cell_type": "markdown",
      "metadata": {
        "id": "D0h6IOxU8OdH"
      },
      "source": [
        "### Get length of each headline and add a column for that (3 Marks)"
      ]
    },
    {
      "cell_type": "markdown",
      "metadata": {
        "id": "K12FW7HgMncj"
      },
      "source": [
        "Adding a Column **headline_length** at the end of DataFrame with values of **Total No of Words for each headline**."
      ]
    },
    {
      "cell_type": "code",
      "metadata": {
        "id": "MLpiBRDmEV2l",
        "outputId": "d723ca08-c8ef-485f-bc1d-312d50395c81",
        "colab": {
          "base_uri": "https://localhost:8080/",
          "height": 204
        }
      },
      "source": [
        "df['headline_length']=df['headline'].str.len()\n",
        "df.head(5)"
      ],
      "execution_count": 10,
      "outputs": [
        {
          "output_type": "execute_result",
          "data": {
            "text/html": [
              "<div>\n",
              "<style scoped>\n",
              "    .dataframe tbody tr th:only-of-type {\n",
              "        vertical-align: middle;\n",
              "    }\n",
              "\n",
              "    .dataframe tbody tr th {\n",
              "        vertical-align: top;\n",
              "    }\n",
              "\n",
              "    .dataframe thead th {\n",
              "        text-align: right;\n",
              "    }\n",
              "</style>\n",
              "<table border=\"1\" class=\"dataframe\">\n",
              "  <thead>\n",
              "    <tr style=\"text-align: right;\">\n",
              "      <th></th>\n",
              "      <th>headline</th>\n",
              "      <th>is_sarcastic</th>\n",
              "      <th>headline_length</th>\n",
              "    </tr>\n",
              "  </thead>\n",
              "  <tbody>\n",
              "    <tr>\n",
              "      <th>0</th>\n",
              "      <td>former versace store clerk sues over secret 'b...</td>\n",
              "      <td>0</td>\n",
              "      <td>78</td>\n",
              "    </tr>\n",
              "    <tr>\n",
              "      <th>1</th>\n",
              "      <td>the 'roseanne' revival catches up to our thorn...</td>\n",
              "      <td>0</td>\n",
              "      <td>84</td>\n",
              "    </tr>\n",
              "    <tr>\n",
              "      <th>2</th>\n",
              "      <td>mom starting to fear son's web series closest ...</td>\n",
              "      <td>1</td>\n",
              "      <td>79</td>\n",
              "    </tr>\n",
              "    <tr>\n",
              "      <th>3</th>\n",
              "      <td>boehner just wants wife to listen, not come up...</td>\n",
              "      <td>1</td>\n",
              "      <td>84</td>\n",
              "    </tr>\n",
              "    <tr>\n",
              "      <th>4</th>\n",
              "      <td>j.k. rowling wishes snape happy birthday in th...</td>\n",
              "      <td>0</td>\n",
              "      <td>64</td>\n",
              "    </tr>\n",
              "  </tbody>\n",
              "</table>\n",
              "</div>"
            ],
            "text/plain": [
              "                                            headline  ...  headline_length\n",
              "0  former versace store clerk sues over secret 'b...  ...               78\n",
              "1  the 'roseanne' revival catches up to our thorn...  ...               84\n",
              "2  mom starting to fear son's web series closest ...  ...               79\n",
              "3  boehner just wants wife to listen, not come up...  ...               84\n",
              "4  j.k. rowling wishes snape happy birthday in th...  ...               64\n",
              "\n",
              "[5 rows x 3 columns]"
            ]
          },
          "metadata": {
            "tags": []
          },
          "execution_count": 10
        }
      ]
    },
    {
      "cell_type": "markdown",
      "metadata": {
        "id": "XWvv3rRA3QXS"
      },
      "source": [
        "## Visualize the distribution of word length in a each headline text using histplot"
      ]
    },
    {
      "cell_type": "code",
      "metadata": {
        "id": "qeRDCqL369OL",
        "outputId": "a9d8e1f4-2729-446b-9d5b-3cc456c20270",
        "colab": {
          "base_uri": "https://localhost:8080/",
          "height": 221
        }
      },
      "source": [
        "df['headline_length'][df['is_sarcastic']==1].value_counts(ascending=False)"
      ],
      "execution_count": 11,
      "outputs": [
        {
          "output_type": "execute_result",
          "data": {
            "text/plain": [
              "62     255\n",
              "55     234\n",
              "52     231\n",
              "58     226\n",
              "50     222\n",
              "      ... \n",
              "237      1\n",
              "190      1\n",
              "238      1\n",
              "254      1\n",
              "199      1\n",
              "Name: headline_length, Length: 133, dtype: int64"
            ]
          },
          "metadata": {
            "tags": []
          },
          "execution_count": 11
        }
      ]
    },
    {
      "cell_type": "code",
      "metadata": {
        "id": "QDvFyadN4hGC",
        "outputId": "ef2eceac-3209-4d46-86a0-1aa30a368366",
        "colab": {
          "base_uri": "https://localhost:8080/",
          "height": 544
        }
      },
      "source": [
        "boxplot = df.boxplot(column='headline_length', by='is_sarcastic', figsize=(12,8), fontsize='12')"
      ],
      "execution_count": 12,
      "outputs": [
        {
          "output_type": "display_data",
          "data": {
            "image/png": "[encoded data removed]",
            "text/plain": [
              "<Figure size 864x576 with 1 Axes>"
            ]
          },
          "metadata": {
            "tags": [],
            "needs_background": "light"
          }
        }
      ]
    },
    {
      "cell_type": "markdown",
      "metadata": {
        "id": "84wgAzE1I6Iu"
      },
      "source": [
        "### Observation:\n",
        "1. **Headlines with sarcastic=1(True) has less outlier compared to sarcastic=0(False)**\n",
        "2. **Median No of Words count is Approximately 60-65**\n",
        "3. **Outliers treatment is not considered here, considering it will be padded with the 0 at the time of embedding.**"
      ]
    },
    {
      "cell_type": "markdown",
      "metadata": {
        "id": "RKBHI1UrKb79"
      },
      "source": [
        "### Visualizing the distribution of the No of Words in Each Headline"
      ]
    },
    {
      "cell_type": "code",
      "metadata": {
        "id": "FB-BwFoZ2DZe",
        "outputId": "5711ae73-e3e8-4f28-bc06-ed8db697c648",
        "colab": {
          "base_uri": "https://localhost:8080/",
          "height": 449
        }
      },
      "source": [
        "import warnings\n",
        "warnings.filterwarnings(\"ignore\")\n",
        "\n",
        "fig,(ax1,ax2)=plt.subplots(1,2,figsize=(16,6))\n",
        "\n",
        "sns.distplot(df['headline_length'][df['is_sarcastic']==1],ax=ax1,color='red')\n",
        "ax1.set_title('Sarcastic text')\n",
        "\n",
        "sns.distplot(df['headline_length'][df['is_sarcastic']==0],ax=ax2,color='green')\n",
        "ax2.set_title('Not Sarcastic text')\n",
        "\n",
        "fig.suptitle('No of word length in each text')"
      ],
      "execution_count": 13,
      "outputs": [
        {
          "output_type": "execute_result",
          "data": {
            "text/plain": [
              "Text(0.5, 0.98, 'No of word length in each text')"
            ]
          },
          "metadata": {
            "tags": []
          },
          "execution_count": 13
        },
        {
          "output_type": "display_data",
          "data": {
            "image/png": "[encoded data removed]",
            "text/plain": [
              "<Figure size 1152x432 with 2 Axes>"
            ]
          },
          "metadata": {
            "tags": [],
            "needs_background": "light"
          }
        }
      ]
    },
    {
      "cell_type": "markdown",
      "metadata": {
        "id": "SMF-wjJ2aMwm"
      },
      "source": [
        "### Initialize parameter values\n",
        "- Set values for **max_features, maxlen, & embedding_size**\n",
        "- **max_features**: Number of words to take from tokenizer(most frequent words)\n",
        "- **maxlen**: Maximum length of each sentence to be limited to 25\n",
        "- **embedding_size**: size of embedding vector"
      ]
    },
    {
      "cell_type": "code",
      "metadata": {
        "id": "jPw9gAN_EV6m"
      },
      "source": [
        "max_features = 10000\n",
        "maxlen = 25\n",
        "embedding_size = 200"
      ],
      "execution_count": 14,
      "outputs": []
    },
    {
      "cell_type": "markdown",
      "metadata": {
        "id": "9abSe-bM8fn9"
      },
      "source": [
        "### Apply `tensorflow.keras` Tokenizer and get indices for words (3 Marks)\n",
        "- **Initialize Tokenizer object with number of words as 10000**\n",
        "- **Fit the tokenizer object** on headline column\n",
        "- **Convert the text to sequence**\n"
      ]
    },
    {
      "cell_type": "code",
      "metadata": {
        "id": "y8g4l0KfF3eh"
      },
      "source": [
        "from keras.preprocessing.text import Tokenizer\n",
        "# create the tokenizer with number of words as 10000\n",
        "tokenizer = Tokenizer(num_words=max_features)\n",
        "\n",
        "# Fit the tokenizer object on headline column\n",
        "tokenizer.fit_on_texts(df.headline)\n",
        "\n",
        "# Convert the text to sequence\n",
        "tokenizer_seq = tokenizer.texts_to_sequences(df.headline)"
      ],
      "execution_count": 15,
      "outputs": []
    },
    {
      "cell_type": "markdown",
      "metadata": {
        "id": "URBOYglVNYqB"
      },
      "source": [
        "**Let's Review The number of unique words in the text corpus dictionary**"
      ]
    },
    {
      "cell_type": "code",
      "metadata": {
        "id": "Gc92S_0eNWr-",
        "outputId": "fdb00b13-4123-4d07-e35f-320fe31f6d39",
        "colab": {
          "base_uri": "https://localhost:8080/",
          "height": 34
        }
      },
      "source": [
        "print(\"The number of unique words in the text corpus dictionary : {}\".format(len(tokenizer.word_index)))  "
      ],
      "execution_count": 16,
      "outputs": [
        {
          "output_type": "stream",
          "text": [
            "The number of unique words in the text corpus dictionary : 29656\n"
          ],
          "name": "stdout"
        }
      ]
    },
    {
      "cell_type": "markdown",
      "metadata": {
        "id": "IhKWJtm1NOq_"
      },
      "source": [
        "**Let's View Some of the Sample Data from the word_index**"
      ]
    },
    {
      "cell_type": "code",
      "metadata": {
        "id": "ZEPtDCORyHbb",
        "outputId": "7c61d022-f4a4-4b6a-ba3a-ef8288009a83",
        "colab": {
          "base_uri": "https://localhost:8080/",
          "height": 34
        }
      },
      "source": [
        "# Initialize limit\n",
        "S=3000\n",
        "N = 5\n",
        "    \n",
        "# Print first N items in dictionary from S position\n",
        "out = dict(list(tokenizer.word_index.items())[S: S+N])  \n",
        "        \n",
        "# printing result   \n",
        "print(\"sample word_index Dictionary items are : \" + str(out))  "
      ],
      "execution_count": 17,
      "outputs": [
        {
          "output_type": "stream",
          "text": [
            "sample word_index Dictionary items are : {'lasting': 3001, 'newest': 3002, 'worldwide': 3003, 'gates': 3004, 'drives': 3005}\n"
          ],
          "name": "stdout"
        }
      ]
    },
    {
      "cell_type": "markdown",
      "metadata": {
        "id": "8FrtePGGOBqe"
      },
      "source": [
        "**A Sample Tokenized Sequence Before Padding**"
      ]
    },
    {
      "cell_type": "code",
      "metadata": {
        "id": "itSBvEBPOP86",
        "outputId": "7c1ce16f-6180-4e7f-dbe7-50eecbab40ac",
        "colab": {
          "base_uri": "https://localhost:8080/",
          "height": 34
        }
      },
      "source": [
        "tokenizer_seq[0]"
      ],
      "execution_count": 18,
      "outputs": [
        {
          "output_type": "execute_result",
          "data": {
            "text/plain": [
              "[307, 678, 3336, 2297, 47, 381, 2575, 5, 2576, 8433]"
            ]
          },
          "metadata": {
            "tags": []
          },
          "execution_count": 18
        }
      ]
    },
    {
      "cell_type": "markdown",
      "metadata": {
        "id": "O0-g-RvniSD8"
      },
      "source": [
        "**Corresponsing headline for the above tokenizer_seq**"
      ]
    },
    {
      "cell_type": "code",
      "metadata": {
        "id": "9RI0XSVEOaW7",
        "outputId": "e167b874-5ecb-48b3-d647-a518ff9346d9",
        "colab": {
          "base_uri": "https://localhost:8080/",
          "height": 35
        }
      },
      "source": [
        "df['headline'][0]"
      ],
      "execution_count": 19,
      "outputs": [
        {
          "output_type": "execute_result",
          "data": {
            "application/vnd.google.colaboratory.intrinsic+json": {
              "type": "string"
            },
            "text/plain": [
              "\"former versace store clerk sues over secret 'black code' for minority shoppers\""
            ]
          },
          "metadata": {
            "tags": []
          },
          "execution_count": 19
        }
      ]
    },
    {
      "cell_type": "markdown",
      "metadata": {
        "id": "IYbHcJpnicj0"
      },
      "source": [
        "## Observation:\n",
        "**tokenizer_seq[0] is showing 10 sequence No, But in Actual headline[0] there are 12 words**, So, Something is missing here, **Lets verify what is missing?**"
      ]
    },
    {
      "cell_type": "code",
      "metadata": {
        "id": "-Y1xtBmjgSEQ",
        "outputId": "3751d330-390a-4ea3-a68a-483bfc4022df",
        "colab": {
          "base_uri": "https://localhost:8080/",
          "height": 221
        }
      },
      "source": [
        "for i in (df['headline'][0]).split():\n",
        "  print(i, tokenizer.word_index.get(i))"
      ],
      "execution_count": 20,
      "outputs": [
        {
          "output_type": "stream",
          "text": [
            "former 307\n",
            "versace 15114\n",
            "store 678\n",
            "clerk 3336\n",
            "sues 2297\n",
            "over 47\n",
            "secret 381\n",
            "'black 2575\n",
            "code' 15115\n",
            "for 5\n",
            "minority 2576\n",
            "shoppers 8433\n"
          ],
          "name": "stdout"
        }
      ]
    },
    {
      "cell_type": "markdown",
      "metadata": {
        "id": "K1Xp-l-Rhhl5"
      },
      "source": [
        "## Observation:\n",
        "**versace(15114) and code'(15115) is beyond max_features of 10000 So, these 2 words index is not present in the tokenizer_seq**"
      ]
    },
    {
      "cell_type": "markdown",
      "metadata": {
        "id": "xeZpwPO4bOkZ"
      },
      "source": [
        "### Pad sequences (3 Marks)\n",
        "- Pad each example with a maximum length\n",
        "- Convert target column into numpy array"
      ]
    },
    {
      "cell_type": "code",
      "metadata": {
        "id": "qV0K70E5c9Xl",
        "outputId": "175dcfff-efac-410c-d71c-f0b2aec1a4ea",
        "colab": {
          "base_uri": "https://localhost:8080/",
          "height": 51
        }
      },
      "source": [
        "from keras.preprocessing import sequence\n",
        "from keras.utils import to_categorical\n",
        "\n",
        "X_train = sequence.pad_sequences(tokenizer_seq, maxlen = maxlen, padding='post')\n",
        "Y_train=to_categorical(df[\"is_sarcastic\"].values)\n",
        "\n",
        "print(\"The shape of the trainable data : {}\".format(X_train.shape))\n",
        "print(\"The shape of the labels for the data is : {}\".format(Y_train.shape))"
      ],
      "execution_count": 21,
      "outputs": [
        {
          "output_type": "stream",
          "text": [
            "The shape of the trainable data : (26709, 25)\n",
            "The shape of the labels for the data is : (26709, 2)\n"
          ],
          "name": "stdout"
        }
      ]
    },
    {
      "cell_type": "markdown",
      "metadata": {
        "id": "GlayfX6Ej5XG"
      },
      "source": [
        "**Lets Review the first item after the padding**"
      ]
    },
    {
      "cell_type": "code",
      "metadata": {
        "id": "wzYvJVK_KE0U",
        "outputId": "525db676-bfd8-4c42-a91d-f891a16ce5aa",
        "colab": {
          "base_uri": "https://localhost:8080/",
          "height": 68
        }
      },
      "source": [
        "X_train[0]"
      ],
      "execution_count": 22,
      "outputs": [
        {
          "output_type": "execute_result",
          "data": {
            "text/plain": [
              "array([ 307,  678, 3336, 2297,   47,  381, 2575,    5, 2576, 8433,    0,\n",
              "          0,    0,    0,    0,    0,    0,    0,    0,    0,    0,    0,\n",
              "          0,    0,    0], dtype=int32)"
            ]
          },
          "metadata": {
            "tags": []
          },
          "execution_count": 22
        }
      ]
    },
    {
      "cell_type": "markdown",
      "metadata": {
        "id": "ttxrwIThkD3P"
      },
      "source": [
        "## Observation:\n",
        "**Padding successfull with max length of 25**"
      ]
    },
    {
      "cell_type": "markdown",
      "metadata": {
        "id": "WJLyKg-98rH_"
      },
      "source": [
        "### Vocab mapping\n",
        "**- There is no word for 0th index**"
      ]
    },
    {
      "cell_type": "code",
      "metadata": {
        "id": "FOzNUOCbkjmq",
        "outputId": "65734318-06dd-4a8d-e583-0d7756446fa9",
        "colab": {
          "base_uri": "https://localhost:8080/",
          "height": 34
        }
      },
      "source": [
        "dict(list(tokenizer.word_index.items())[0:1])"
      ],
      "execution_count": 23,
      "outputs": [
        {
          "output_type": "execute_result",
          "data": {
            "text/plain": [
              "{'to': 1}"
            ]
          },
          "metadata": {
            "tags": []
          },
          "execution_count": 23
        }
      ]
    },
    {
      "cell_type": "markdown",
      "metadata": {
        "id": "VRiNX58Rb3oJ"
      },
      "source": [
        "### Set number of words\n",
        "- Since the above 0th index doesn't have a word, add 1 to the length of the vocabulary\n",
        "***Embedding Layer creates one more vector for \"UNKNOWN\" words, or padded words (0s). This Vector is filled with zeros.***"
      ]
    },
    {
      "cell_type": "markdown",
      "metadata": {
        "id": "qSTvEVvKtXN1"
      },
      "source": [
        "\n",
        "\n"
      ]
    },
    {
      "cell_type": "code",
      "metadata": {
        "id": "Dfwq6ou8ck2f",
        "outputId": "dd2cbbc1-51fd-44fb-8180-7c416df900ce",
        "colab": {
          "base_uri": "https://localhost:8080/",
          "height": 34
        }
      },
      "source": [
        "num_words = len(tokenizer.word_index) + 1\n",
        "print('num_words',num_words)"
      ],
      "execution_count": 24,
      "outputs": [
        {
          "output_type": "stream",
          "text": [
            "num_words 29657\n"
          ],
          "name": "stdout"
        }
      ]
    },
    {
      "cell_type": "markdown",
      "metadata": {
        "id": "bUF1TuQa8ux0"
      },
      "source": [
        "### Load Glove Word Embeddings (3 Marks)"
      ]
    },
    {
      "cell_type": "code",
      "metadata": {
        "id": "vq5AIfRtMeZh"
      },
      "source": [
        "from zipfile import ZipFile\n",
        "with ZipFile(data_path + \"/\" + 'glove.6B.zip', 'r') as z:\n",
        "  z.extractall()"
      ],
      "execution_count": 25,
      "outputs": []
    },
    {
      "cell_type": "markdown",
      "metadata": {
        "id": "83zad0UdnyKX"
      },
      "source": [
        "**About:** GloVe is an unsupervised learning algorithm for obtaining vector representations for words. Training is performed on aggregated global word-word co-occurrence statistics from a corpus, and the resulting representations showcase interesting linear substructures of the word vector space. Reference Link: https://nlp.stanford.edu/projects/glove/\n",
        "\n",
        "\n",
        "## Output:\n",
        "Glove Word Embedding extracted on my Google Drive, it has the following embedding files,\n",
        "\n",
        "\n",
        "1.   glove.6B.50d.txt\n",
        "2.   glove.6B.100d.txt\n",
        "3.   glove.6B.200d.txt\n",
        "4.   glove.6B.300d.txt\n",
        "\n",
        "\n",
        "\n"
      ]
    },
    {
      "cell_type": "markdown",
      "metadata": {
        "id": "prHSzdQUcZhm"
      },
      "source": [
        "### Create embedding matrix"
      ]
    },
    {
      "cell_type": "code",
      "metadata": {
        "id": "elZ-T5aFGZmZ"
      },
      "source": [
        "import numpy as np\n",
        "\n",
        "EMBEDDING_FILE = data_path + \"/\" +'glove.6B.200d.txt'\n",
        "\n",
        "embeddings = {}\n",
        "for o in open(EMBEDDING_FILE):\n",
        "    word = o.split(\" \")[0]\n",
        "    # print(word)\n",
        "    embd = o.split(\" \")[1:]\n",
        "    embd = np.asarray(embd, dtype='float32')\n",
        "    # print(embd)\n",
        "    embeddings[word] = embd\n",
        "\n",
        "# create a weight matrix for words in training docs\n",
        "embedding_matrix = np.zeros((num_words, embedding_size))\n",
        "\n",
        "for word, i in tokenizer.word_index.items():\n",
        "  embedding_vector = embeddings.get(word)\n",
        "  if embedding_vector is not None:\n",
        "    embedding_matrix[i] = embedding_vector"
      ],
      "execution_count": 26,
      "outputs": []
    },
    {
      "cell_type": "markdown",
      "metadata": {
        "id": "BM4NC4sxKuMz"
      },
      "source": [
        "**Shape of Created Matrix**"
      ]
    },
    {
      "cell_type": "code",
      "metadata": {
        "id": "-M6WuyJjuThp",
        "outputId": "e727f25a-d712-409f-9184-5238a27f6cf3",
        "colab": {
          "base_uri": "https://localhost:8080/",
          "height": 34
        }
      },
      "source": [
        "embedding_matrix.shape"
      ],
      "execution_count": 27,
      "outputs": [
        {
          "output_type": "execute_result",
          "data": {
            "text/plain": [
              "(29657, 200)"
            ]
          },
          "metadata": {
            "tags": []
          },
          "execution_count": 27
        }
      ]
    },
    {
      "cell_type": "markdown",
      "metadata": {
        "id": "u7IbWuEX82Ra"
      },
      "source": [
        "## Define model (5 Marks)\n"
      ]
    },
    {
      "cell_type": "markdown",
      "metadata": {
        "id": "IVHmDVMk1GW7"
      },
      "source": [
        "**The below Sequence is Used for Model Preparation**\n",
        "\n",
        "1.   **Add a Sequential model instance** \n",
        "2.   **Add Embedding layer, From Pre-Trained Glove Weight Matrix**\n",
        "3.   **Bidirectional(LSTM) layer, return_sequences=True, dropout=0.2**\n",
        "4.   **Flatten the Layer Before Adding the Dense Layer**\n",
        "5.   **Add Dense(With 50 hidden Layer)**\n",
        "6.   **Add Dropout layers**\n",
        "7.   **In the end Add a Final Dense Layer with Sigmoid Activation for binary classification.**"
      ]
    },
    {
      "cell_type": "code",
      "metadata": {
        "id": "4tv168Gmc3PY"
      },
      "source": [
        "#Building the model\n",
        "from keras.models import Sequential\n",
        "from keras.layers import Embedding\n",
        "from keras.layers import Dense, Flatten, Dropout, LSTM, Bidirectional \n",
        "\n",
        "model=Sequential()\n",
        "model.add(Embedding(num_words, embedding_size, input_length=maxlen, weights=[embedding_matrix], trainable=False))\n",
        "model.add(Bidirectional(LSTM(200,return_sequences=True, dropout=0.2)))\n",
        "model.add(Flatten())\n",
        "model.add(Dense(50,activation=\"relu\"))\n",
        "model.add(Dropout(0.5))\n",
        "model.add(Dense(2,activation=\"sigmoid\"))"
      ],
      "execution_count": 28,
      "outputs": []
    },
    {
      "cell_type": "markdown",
      "metadata": {
        "id": "zPrN37yJ3DFt"
      },
      "source": [
        "### Visualising the summary of the network used"
      ]
    },
    {
      "cell_type": "code",
      "metadata": {
        "id": "YKt11fjINoPV",
        "outputId": "8dbb843b-fe46-46b8-c24c-518224bc8ba0",
        "colab": {
          "base_uri": "https://localhost:8080/",
          "height": 357
        }
      },
      "source": [
        "model.summary()"
      ],
      "execution_count": 29,
      "outputs": [
        {
          "output_type": "stream",
          "text": [
            "Model: \"sequential\"\n",
            "_________________________________________________________________\n",
            "Layer (type)                 Output Shape              Param #   \n",
            "=================================================================\n",
            "embedding (Embedding)        (None, 25, 200)           5931400   \n",
            "_________________________________________________________________\n",
            "bidirectional (Bidirectional (None, 25, 400)           641600    \n",
            "_________________________________________________________________\n",
            "flatten (Flatten)            (None, 10000)             0         \n",
            "_________________________________________________________________\n",
            "dense (Dense)                (None, 50)                500050    \n",
            "_________________________________________________________________\n",
            "dropout (Dropout)            (None, 50)                0         \n",
            "_________________________________________________________________\n",
            "dense_1 (Dense)              (None, 2)                 102       \n",
            "=================================================================\n",
            "Total params: 7,073,152\n",
            "Trainable params: 1,141,752\n",
            "Non-trainable params: 5,931,400\n",
            "_________________________________________________________________\n"
          ],
          "name": "stdout"
        }
      ]
    },
    {
      "cell_type": "markdown",
      "metadata": {
        "id": "xoI7_8Y1cqTj"
      },
      "source": [
        "### Compile the model (3 Marks)"
      ]
    },
    {
      "cell_type": "markdown",
      "metadata": {
        "id": "n9ZSDet921Yb"
      },
      "source": [
        "1. **Use Optimizer as Adam**\n",
        "2. **Use Binary Crossentropy as loss**\n",
        "3. **Use Accuracy as metrics**"
      ]
    },
    {
      "cell_type": "code",
      "metadata": {
        "id": "-jJiPHeNoJ3U"
      },
      "source": [
        "model.compile(loss=\"binary_crossentropy\",optimizer=\"adam\",metrics=[\"accuracy\"])"
      ],
      "execution_count": 30,
      "outputs": []
    },
    {
      "cell_type": "markdown",
      "metadata": {
        "id": "7s4nmqcecw3a"
      },
      "source": [
        "### Fit the model (4 Marks)"
      ]
    },
    {
      "cell_type": "markdown",
      "metadata": {
        "id": "8l1v0fUB3SxF"
      },
      "source": [
        "### Splittting the data into training and testing sets before fitting the model Using a 70% - 30% split for the data"
      ]
    },
    {
      "cell_type": "code",
      "metadata": {
        "id": "NN789zNnJ5PL"
      },
      "source": [
        "from sklearn.model_selection import train_test_split\n",
        "x_train,x_test,y_train,y_test=train_test_split(X_train,Y_train,test_size=0.3)"
      ],
      "execution_count": 96,
      "outputs": []
    },
    {
      "cell_type": "markdown",
      "metadata": {
        "id": "XQ-sGNX_3i8k"
      },
      "source": [
        "### Fit the Model\n",
        "1. **Lets Use 30% of Training Data as Validation Data**\n",
        "2. **Use EarlyStopping with monitoring validation loss of 0.001**"
      ]
    },
    {
      "cell_type": "code",
      "metadata": {
        "id": "fjdz_2nCON72",
        "outputId": "1d43afcd-7393-41f6-ba03-79637ddb82ab",
        "colab": {
          "base_uri": "https://localhost:8080/",
          "height": 102
        }
      },
      "source": [
        "from keras.callbacks import EarlyStopping\n",
        "\n",
        "earlystop = EarlyStopping(monitor='val_loss', min_delta=0.001, verbose=1, mode='auto')\n",
        "callbacks_list = [earlystop]\n",
        "# Returns the loss value & metrics values for the model in test mode.\n",
        "history = model.fit(x_train, y_train, batch_size=128, epochs=5, validation_split=0.3, callbacks=callbacks_list) "
      ],
      "execution_count": 98,
      "outputs": [
        {
          "output_type": "stream",
          "text": [
            "Epoch 1/5\n",
            "103/103 [==============================] - 1s 13ms/step - loss: 0.0357 - accuracy: 0.9866 - val_loss: 0.1354 - val_accuracy: 0.9692\n",
            "Epoch 2/5\n",
            "103/103 [==============================] - 1s 12ms/step - loss: 0.0259 - accuracy: 0.9901 - val_loss: 0.1528 - val_accuracy: 0.9679\n",
            "Epoch 00002: early stopping\n"
          ],
          "name": "stdout"
        }
      ]
    },
    {
      "cell_type": "markdown",
      "metadata": {
        "id": "6_h2-ipW32Oi"
      },
      "source": [
        "### Evaluate the Model"
      ]
    },
    {
      "cell_type": "code",
      "metadata": {
        "id": "ubUyMyzVPhJf",
        "outputId": "3367c6e5-edb5-4787-b010-01fd9f7dd057",
        "colab": {
          "base_uri": "https://localhost:8080/",
          "height": 119
        }
      },
      "source": [
        "train_performance=model.evaluate(x_train,y_train)\n",
        "print(\"The loss of the model on Training Data is - \" , train_performance[0]*100)\n",
        "print(\"Accuracy of the model on Training Data is - \" , train_performance[1]*100)\n",
        "\n",
        "test_performance=model.evaluate(x_test,y_test)\n",
        "print(\"The loss of the model on the test set : {}%\".format(test_performance[0]*100))\n",
        "print(\"The accuracy of the model on the test set : {}%\".format(test_performance[1]*100))"
      ],
      "execution_count": 99,
      "outputs": [
        {
          "output_type": "stream",
          "text": [
            "585/585 [==============================] - 2s 4ms/step - loss: 0.0486 - accuracy: 0.9895\n",
            "The loss of the model on Training Data is -  4.858778789639473\n",
            "Accuracy of the model on Training Data is -  98.95164966583252\n",
            "251/251 [==============================] - 1s 4ms/step - loss: 0.1474 - accuracy: 0.9668\n",
            "The loss of the model on the test set : 14.740018546581268%\n",
            "The accuracy of the model on the test set : 96.68039679527283%\n"
          ],
          "name": "stdout"
        }
      ]
    },
    {
      "cell_type": "markdown",
      "metadata": {
        "id": "Ya8XL203w00Z"
      },
      "source": [
        "### Observation:\n",
        " **Accuracy of the model on Test Data is -  96.68% with 14.74% of Loss with 97% which gives a high confidence on the Model**\n"
      ]
    },
    {
      "cell_type": "markdown",
      "metadata": {
        "id": "gqVApCDMxwP9"
      },
      "source": [
        "### Plot the Training and Testing Accuracy With Loss"
      ]
    },
    {
      "cell_type": "code",
      "metadata": {
        "id": "Zdj5vS9Ho46P",
        "outputId": "535744b2-6fe8-4cf9-9e4b-921be4db1426",
        "colab": {
          "base_uri": "https://localhost:8080/",
          "height": 621
        }
      },
      "source": [
        "epochs = [i for i in range(2)]\n",
        "fig , ax = plt.subplots(1,2)\n",
        "train_acc = history.history['accuracy']\n",
        "train_loss = history.history['loss']\n",
        "val_acc = history.history['val_accuracy']\n",
        "val_loss = history.history['val_loss']\n",
        "fig.set_size_inches(20,10)\n",
        "\n",
        "ax[0].plot(epochs , train_acc , 'go-' , label = 'Training Accuracy')\n",
        "ax[0].plot(epochs , val_acc , 'ro-' , label = 'Testing Accuracy')\n",
        "ax[0].set_title('Training & Testing Accuracy')\n",
        "ax[0].legend()\n",
        "ax[0].set_xlabel(\"Epochs\")\n",
        "ax[0].set_ylabel(\"Accuracy\")\n",
        "\n",
        "ax[1].plot(epochs , train_loss , 'go-' , label = 'Training Loss')\n",
        "ax[1].plot(epochs , val_loss , 'ro-' , label = 'Testing Loss')\n",
        "ax[1].set_title('Training & Testing Loss')\n",
        "ax[1].legend()\n",
        "ax[1].set_xlabel(\"Epochs\")\n",
        "ax[1].set_ylabel(\"Loss\")\n",
        "plt.show()"
      ],
      "execution_count": 102,
      "outputs": [
        {
          "output_type": "display_data",
          "data": {
            "image/png": "[encoded data removed]",
            "text/plain": [
              "<Figure size 1440x720 with 2 Axes>"
            ]
          },
          "metadata": {
            "tags": [],
            "needs_background": "light"
          }
        }
      ]
    },
    {
      "cell_type": "markdown",
      "metadata": {
        "id": "lWjgD9gHnVmn"
      },
      "source": [
        "## Predict the Model with one sample"
      ]
    },
    {
      "cell_type": "code",
      "metadata": {
        "id": "pbc7lGdonkSG",
        "outputId": "a0613f30-d43b-4586-9854-12d5431e0aa1",
        "colab": {
          "base_uri": "https://localhost:8080/",
          "height": 68
        }
      },
      "source": [
        "#Lets Consider it is x_test[[100]]\n",
        "x_test[[100]]"
      ],
      "execution_count": 133,
      "outputs": [
        {
          "output_type": "execute_result",
          "data": {
            "text/plain": [
              "array([[  24,  652,   78,  477, 2719,  267,    1,    3,   40,  434,   79,\n",
              "         145,    1,  143,   94,    0,    0,    0,    0,    0,    0,    0,\n",
              "           0,    0,    0]], dtype=int32)"
            ]
          },
          "metadata": {
            "tags": []
          },
          "execution_count": 133
        }
      ]
    },
    {
      "cell_type": "code",
      "metadata": {
        "id": "lO1aCG1w6CUo",
        "outputId": "546de329-9f51-492b-868b-c7c3ba1fdf59",
        "colab": {
          "base_uri": "https://localhost:8080/",
          "height": 272
        }
      },
      "source": [
        "#Actual Words that contains in x_test[[100]]\n",
        "for i in (x_test[100]):\n",
        "  for k, v in tokenizer.word_index.items():  # for name, age in dictionary.iteritems():  (for Python 2.x)\n",
        "    if v == i:\n",
        "        print(k)"
      ],
      "execution_count": 131,
      "outputs": [
        {
          "output_type": "stream",
          "text": [
            "how\n",
            "following\n",
            "my\n",
            "heart\n",
            "led\n",
            "me\n",
            "to\n",
            "the\n",
            "one\n",
            "person\n",
            "i\n",
            "need\n",
            "to\n",
            "love\n",
            "most\n"
          ],
          "name": "stdout"
        }
      ]
    },
    {
      "cell_type": "markdown",
      "metadata": {
        "id": "wSbf5QQj8uZc"
      },
      "source": [
        "**Reference:** https://www.huffpost.com/entry/love-after-divorce_n_5242852\n",
        "\n",
        "**Actual Headline:** Following My Heart Led Me To The One Person I Need To Love Most -- Myself"
      ]
    },
    {
      "cell_type": "code",
      "metadata": {
        "id": "z03TewVCndCH",
        "outputId": "98e8dc69-aec3-425b-8b57-a2f7600ea6b0",
        "colab": {
          "base_uri": "https://localhost:8080/",
          "height": 102
        }
      },
      "source": [
        "#Predict whether it is a sarcasm or Not?\n",
        "\n",
        "print(\"Predicting for the headline: \",x_test[[100]],'\\n')\n",
        "y_pred = model.predict(x_test[[100]])\n",
        "print(y_pred[0])\n",
        "#get the actual int value 0 or 1 , As Y Has 2 value 0 and 1, always tking it from 1st indices, \n",
        "#which contains the relevant value of sarcasm other indices is the vice versa of the first one.\n",
        "\n",
        "pred=int(y_pred[0][0])\n",
        "\n",
        "if(pred == 1):\n",
        "  print(\"headline is : sarcastic (\", pred,')') \n",
        "else:\n",
        "  print(\"Mheadline is : non-sarcastic (\", pred,')') "
      ],
      "execution_count": 147,
      "outputs": [
        {
          "output_type": "stream",
          "text": [
            "Predicting for the headline:  [[  24  652   78  477 2719  267    1    3   40  434   79  145    1  143\n",
            "    94    0    0    0    0    0    0    0    0    0    0]] \n",
            "\n",
            "[1.0000000e+00 4.5605436e-13]\n",
            "headline is : sarcastic ( 1 )\n"
          ],
          "name": "stdout"
        }
      ]
    }
  ]
}